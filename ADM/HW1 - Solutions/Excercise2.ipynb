{
 "cells": [
  {
   "cell_type": "markdown",
   "metadata": {},
   "source": [
    "### 1- Birthday Cake Candles"
   ]
  },
  {
   "cell_type": "code",
   "execution_count": 45,
   "metadata": {},
   "outputs": [
    {
     "name": "stdout",
     "output_type": "stream",
     "text": [
      "3 3 4 4 4\n",
      "3\n"
     ]
    }
   ],
   "source": [
    "#This Python function, birthdayCakeCandles, takes a list of integers representing the heights of candles as input.\n",
    "#It then determines the count of the tallest candles (candles with the maximum height) and returns this count\n",
    "\n",
    "def birthdayCakeCandles(candles):\n",
    "    # Initialize a counter for the tallest candles\n",
    "    sum1 = 1\n",
    "    \n",
    "    # Sort the list of candles in ascending order\n",
    "    a = sorted(candles)\n",
    "    \n",
    "    # Pop the maximum value from the sorted list\n",
    "    max1 = a.pop()\n",
    "    \n",
    "    try:\n",
    "        # Loop while the next value is equal to the maximum value\n",
    "        while a[-1] == max1:\n",
    "            # Increment the counter\n",
    "            sum1 += 1\n",
    "            # Pop the next value\n",
    "            max1 = a.pop()\n",
    "    except:\n",
    "        pass\n",
    "\n",
    "    # Return the count of the tallest candles\n",
    "    return sum1\n",
    "\n",
    "# Take user input for a list of integers representing candle heights\n",
    "candles = list(map(int, input().rstrip().split()))\n",
    "\n",
    "# Call the birthdayCakeCandles function with the input list and store the result\n",
    "result = birthdayCakeCandles(candles)\n",
    "\n",
    "# Print the result (count of the tallest candles)\n",
    "print(result)"
   ]
  },
  {
   "cell_type": "markdown",
   "metadata": {},
   "source": [
    "### 2- Number Line Jumps - kangaroo"
   ]
  },
  {
   "cell_type": "code",
   "execution_count": null,
   "metadata": {},
   "outputs": [],
   "source": [
    "def kangaroo(x1, v1, x2, v2):\n",
    "    \n",
    "    step = 1\n",
    "    if x1 > x2 and v1 > v2:             #in this situation kangaroo1 is faster and ahead of kangaroo 2 and 1 never reach kangaroo2\n",
    "        return 'NO'\n",
    "    elif x2 > x1 and v2 > v1:           # and vise versa\n",
    "        return 'No'\n",
    "    \n",
    "    else:\n",
    "    \n",
    "        for i in range(10000):            #we check for 10000 step \n",
    "            k1 = x1 + v1 * step          # position for kangaroo 1\n",
    "            k2 = x2 + v2 * step          #position for kangaroo 2 \n",
    "\n",
    "            x1 = k1\n",
    "            x2 = k2\n",
    "\n",
    "            if k1 == k2:                 #if position the same return yes and finish \n",
    "                return 'YES'\n",
    "                break\n",
    "            else:\n",
    "                pass\n",
    "        else:\n",
    "            return 'NO'\n",
    "\n",
    "\n",
    "first_multiple_input = input().rstrip().split()\n",
    "\n",
    "x1 = int(first_multiple_input[0])\n",
    "\n",
    "v1 = int(first_multiple_input[1])\n",
    "\n",
    "x2 = int(first_multiple_input[2])\n",
    "\n",
    "v2 = int(first_multiple_input[3])\n",
    "\n",
    "result = kangaroo(x1, v1, x2, v2)\n",
    "\n",
    "\n",
    "print(result)"
   ]
  },
  {
   "cell_type": "markdown",
   "metadata": {},
   "source": [
    "### 3- strange - advertising "
   ]
  },
  {
   "cell_type": "code",
   "execution_count": null,
   "metadata": {},
   "outputs": [],
   "source": [
    "import math\n",
    "\n",
    "# Function to simulate viral advertising\n",
    "def viralAdvertising(n):\n",
    "    # Initialize variables\n",
    "    cum_liked = 2    # Cumulative number of people who liked the advertisement\n",
    "    prev_day_like = 2  # Number of people who liked the advertisement on the previous day\n",
    "    \n",
    "    # Loop through each day\n",
    "    while n > 1:\n",
    "        # Calculate the number of people who share the advertisement on the current day\n",
    "        shared = prev_day_like * 3\n",
    "        \n",
    "        # Calculate the number of people who like the advertisement on the current day\n",
    "        new_like = math.floor(shared / 2)\n",
    "        \n",
    "        # Update the number of people who liked the advertisement on the previous day\n",
    "        prev_day_like = new_like\n",
    "        \n",
    "        # Update the cumulative number of people who liked the advertisement\n",
    "        cum_liked += new_like\n",
    "        \n",
    "        # Decrement the number of remaining days\n",
    "        n -= 1\n",
    "    \n",
    "    # Return the total number of people who liked the advertisement over the specified number of days\n",
    "    return cum_liked\n",
    "\n",
    "\n",
    "# Take user input for the number of days\n",
    "n = int(input().strip())\n",
    "\n",
    "# Call the viralAdvertising function with the input number of days\n",
    "result = viralAdvertising(n)\n",
    "\n",
    "# Print the result\n",
    "print(result)"
   ]
  },
  {
   "cell_type": "markdown",
   "metadata": {},
   "source": [
    "### 4 - Recursive Digit Sum"
   ]
  },
  {
   "cell_type": "code",
   "execution_count": null,
   "metadata": {},
   "outputs": [],
   "source": [
    "#This Python script defines a function superDigit that calculates the super digit of a given number n repeated k times. \n",
    "#The super digit is calculated as the sum of the digits of the number until a single-digit number is obtained.\n",
    "\n",
    "def superDigit(n, k):\n",
    "    # Repeat the number 'n' 'k' times\n",
    "    p = n * k\n",
    "    \n",
    "    # Calculate the sum of the digits of the repeated number\n",
    "    number = sum([int(i) for i in p])\n",
    "    \n",
    "    # Continue the process until a single-digit number is obtained\n",
    "    while number > 10:\n",
    "        number = str(number)\n",
    "        num = sum([int(i) for i in number])\n",
    "        number = num\n",
    "\n",
    "    # Return the super digit\n",
    "    return number\n",
    "\n",
    "# Take user input for 'n' and 'k'\n",
    "first_multiple_input = input().rstrip().split()\n",
    "n = first_multiple_input[0]\n",
    "k = int(first_multiple_input[1])\n",
    "\n",
    "# Call the superDigit function with the input values\n",
    "result = superDigit(n, k)\n",
    "\n",
    "\n",
    "print(result)"
   ]
  },
  {
   "cell_type": "markdown",
   "metadata": {},
   "source": [
    "### 5- Insertion Sort - Part 1"
   ]
  },
  {
   "cell_type": "code",
   "execution_count": 3,
   "metadata": {
    "scrolled": true
   },
   "outputs": [
    {
     "name": "stdout",
     "output_type": "stream",
     "text": [
      "5\n",
      "3 4 5 6 2\n",
      "3 4 5 6 6\n",
      "3 4 5 5 6\n",
      "3 4 4 5 6\n",
      "3 3 4 5 6\n",
      "2 3 4 5 6\n"
     ]
    }
   ],
   "source": [
    "\n",
    "def insertionSort1(n, arr):\n",
    "    # Extract the last element to be inserted\n",
    "    num = arr[n - 1]\n",
    "    \n",
    "    i = 1\n",
    "    \n",
    "    # Iterate through the sorted part of the array\n",
    "    while i < n:\n",
    "        # Compare the last element with the elements in the sorted part\n",
    "        if num < arr[n - i - 1]:\n",
    "            # Shift elements to the right to make space for the new element\n",
    "            arr[n - i] = arr[n - i - 1]\n",
    "            \n",
    "            # Print the intermediate step of the array\n",
    "            print(' '.join(map(str, arr)))\n",
    "            \n",
    "            i += 1\n",
    "        else:\n",
    "            # Insert the new element at the correct position\n",
    "            arr[n - i] = num\n",
    "            # Print the intermediate step of the array\n",
    "            print(' '.join(map(str, arr)))\n",
    "            \n",
    "            # Break out of the loop\n",
    "            break\n",
    "            i += 1  # This line will not be reached due to the 'break' statement\n",
    "        \n",
    "    # If the new element is smaller than all elements in the sorted part, insert it at the beginning\n",
    "    if num < arr[n - i]:\n",
    "        arr[n - i] = num\n",
    "        print(' '.join(map(str, arr)))\n",
    "\n",
    "# Take user input for the length of the array\n",
    "n = int(input().strip())\n",
    "\n",
    "# Take user input for the array\n",
    "arr = list(map(int, input().rstrip().split()))\n",
    "\n",
    "# Call the insertionSort1 function with the input values\n",
    "insertionSort1(n, arr)"
   ]
  },
  {
   "cell_type": "markdown",
   "metadata": {},
   "source": [
    "### 6- Insertion Sort - Part 2"
   ]
  },
  {
   "cell_type": "code",
   "execution_count": null,
   "metadata": {},
   "outputs": [],
   "source": [
    "def insertionSort2(n, arr):\n",
    "    # Iterate through the array starting from the second element\n",
    "    for i in range(1, n):\n",
    "        # Store the current element to be inserted\n",
    "        key = arr[i]\n",
    "        \n",
    "        # Start comparing with the previous elements in the sorted part\n",
    "        j = i - 1\n",
    "        \n",
    "        # Move elements greater than key to one position ahead\n",
    "        while j >= 0 and key < arr[j]:\n",
    "            arr[j + 1] = arr[j]\n",
    "            j -= 1\n",
    "        \n",
    "        # Insert the key at its correct position in the sorted part\n",
    "        arr[j + 1] = key\n",
    "        \n",
    "        # Print the intermediate step of the array\n",
    "        print(\" \".join(map(str, arr)))\n",
    "\n",
    "# Take user input for the length of the array\n",
    "n = int(input().strip())\n",
    "\n",
    "# Take user input for the array\n",
    "arr = list(map(int, input().rstrip().split()))\n",
    "\n",
    "# Call the insertionSort2 function with the input values\n",
    "insertionSort2(n, arr)"
   ]
  }
 ],
 "metadata": {
  "kernelspec": {
   "display_name": "Python 3",
   "language": "python",
   "name": "python3"
  },
  "language_info": {
   "codemirror_mode": {
    "name": "ipython",
    "version": 3
   },
   "file_extension": ".py",
   "mimetype": "text/x-python",
   "name": "python",
   "nbconvert_exporter": "python",
   "pygments_lexer": "ipython3",
   "version": "3.8.5"
  }
 },
 "nbformat": 4,
 "nbformat_minor": 4
}
