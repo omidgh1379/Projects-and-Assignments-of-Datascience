{
 "cells": [
  {
   "cell_type": "markdown",
   "metadata": {},
   "source": [
    "# Introduction "
   ]
  },
  {
   "cell_type": "markdown",
   "metadata": {},
   "source": [
    "1 - Say \"Hello, World!\" With Python"
   ]
  },
  {
   "cell_type": "code",
   "execution_count": 89,
   "metadata": {
    "scrolled": true
   },
   "outputs": [
    {
     "name": "stdout",
     "output_type": "stream",
     "text": [
      "Hello, World!\n"
     ]
    }
   ],
   "source": [
    "if __name__ == '__main__':\n",
    "    print(\"Hello, World!\")\n"
   ]
  },
  {
   "cell_type": "markdown",
   "metadata": {},
   "source": [
    "2 - Python If-Else"
   ]
  },
  {
   "cell_type": "code",
   "execution_count": 90,
   "metadata": {},
   "outputs": [
    {
     "name": "stdout",
     "output_type": "stream",
     "text": [
      "5\n",
      "Weird\n"
     ]
    }
   ],
   "source": [
    "#!/bin/python3\n",
    "\n",
    "import math\n",
    "import os\n",
    "import random\n",
    "import re\n",
    "import sys\n",
    "\n",
    "\n",
    "\n",
    "if __name__ == '__main__':\n",
    "    n = int(input().strip())\n",
    "\n",
    "\n",
    "if n%2 == 1:\n",
    "    print('Weird')\n",
    "    \n",
    "else:\n",
    "    if 2<=n<=5:\n",
    "        print('Not Weird')\n",
    "    \n",
    "    elif 6<=n<=20:\n",
    "        print('Weird')\n",
    "    \n",
    "    elif n>20:\n",
    "        print('Not Weird')\n",
    "        \n",
    "        "
   ]
  },
  {
   "cell_type": "markdown",
   "metadata": {},
   "source": [
    "3 - Arithmetic Operators"
   ]
  },
  {
   "cell_type": "code",
   "execution_count": null,
   "metadata": {},
   "outputs": [],
   "source": [
    "if __name__ == '__main__':\n",
    "    a = int(input())\n",
    "    b = int(input())\n",
    "    \n",
    "    \n",
    "print(a + b)           #the sum of a and b\n",
    "print(a - b)           #the substitude of a and b\n",
    "print(a * b)           #the multitude of a and b\n"
   ]
  },
  {
   "cell_type": "markdown",
   "metadata": {},
   "source": [
    "4 - Python: Division"
   ]
  },
  {
   "cell_type": "code",
   "execution_count": 92,
   "metadata": {},
   "outputs": [
    {
     "name": "stdout",
     "output_type": "stream",
     "text": [
      "1\n",
      "2\n",
      "0\n",
      "0.5\n"
     ]
    }
   ],
   "source": [
    "if __name__ == '__main__':\n",
    "    a = int(input())\n",
    "    b = int(input())\n",
    "    \n",
    "\n",
    "print(a//b)      #this will return and integer\n",
    "print(a/b)       #return float number\n"
   ]
  },
  {
   "cell_type": "markdown",
   "metadata": {},
   "source": [
    "5 - loops"
   ]
  },
  {
   "cell_type": "code",
   "execution_count": null,
   "metadata": {},
   "outputs": [],
   "source": [
    "if __name__ == '__main__':\n",
    "    # Take user input for an integer 'n'\n",
    "    n = int(input())\n",
    "\n",
    "# Create a list using list comprehension to store the square of each number from 0 to n-1\n",
    "l = [i**2 for i in range(n)]\n",
    "\n",
    "# Iterate through the list and print each element (the square of the corresponding number)\n",
    "for i in l:\n",
    "    print(i)"
   ]
  },
  {
   "cell_type": "markdown",
   "metadata": {},
   "source": [
    "6 - Write a function"
   ]
  },
  {
   "cell_type": "code",
   "execution_count": 93,
   "metadata": {},
   "outputs": [
    {
     "name": "stdout",
     "output_type": "stream",
     "text": [
      "2000\n",
      "True\n"
     ]
    }
   ],
   "source": [
    "def is_leap(year):\n",
    "    # Initialize a boolean variable 'leap' to False\n",
    "    leap = False\n",
    "    \n",
    "    # Check if the year is divisible by 4 and not divisible by 100\n",
    "    if year % 4 == 0 and year % 100 != 0:\n",
    "        leap = True\n",
    "    \n",
    "    # Check if the year is divisible by 4 and also divisible by 400\n",
    "    if year % 4 == 0 and year % 400 == 0:\n",
    "        leap = True\n",
    "    \n",
    "    # Return the value of 'leap'\n",
    "    return leap\n",
    "\n",
    "# Take user input for a year and convert it to an integer\n",
    "year = int(input())\n",
    "\n",
    "# Call the is_leap function with the input year and print the result\n",
    "print(is_leap(year))"
   ]
  },
  {
   "cell_type": "markdown",
   "metadata": {},
   "source": [
    "7 - Print Function"
   ]
  },
  {
   "cell_type": "code",
   "execution_count": 94,
   "metadata": {},
   "outputs": [
    {
     "name": "stdout",
     "output_type": "stream",
     "text": [
      "4\n",
      "1234"
     ]
    }
   ],
   "source": [
    "if __name__ == '__main__':\n",
    "    # Take user input for an integer 'n'\n",
    "    n = int(input())\n",
    "\n",
    "# Loop through the range from 0 to n-1 (inclusive)\n",
    "for i in range(n):\n",
    "    # Print each number with a space instead of a new line\n",
    "    print(i+1, end='')"
   ]
  },
  {
   "cell_type": "markdown",
   "metadata": {},
   "source": [
    "# Data Types"
   ]
  },
  {
   "cell_type": "markdown",
   "metadata": {},
   "source": [
    "1 - Lists"
   ]
  },
  {
   "cell_type": "code",
   "execution_count": 98,
   "metadata": {},
   "outputs": [
    {
     "name": "stdout",
     "output_type": "stream",
     "text": [
      "5\n",
      "append 2\n",
      "print\n",
      "[2]\n",
      "reverse\n",
      "insert 3 0\n",
      "insert 3 1\n"
     ]
    }
   ],
   "source": [
    "if __name__ == '__main__':\n",
    "    # Take user input for an integer 'N'\n",
    "    N = int(input())\n",
    "  \n",
    "    # Initialize an empty list 'L'\n",
    "    L = []  \n",
    "    \n",
    "    # Loop through N iterations to process commands\n",
    "    for _ in range(N):\n",
    "        # Take user input and split it into a list\n",
    "        a = input().split()\n",
    "        \n",
    "        # Extract the command from the input\n",
    "        command = a[0]\n",
    "        \n",
    "        # Check the command and perform the corresponding operation on the list 'L'\n",
    "        if command == 'insert':\n",
    "            L.insert(int(a[1]), int(a[2]))\n",
    "        elif command == 'append':\n",
    "            L.append(int(a[1]))\n",
    "        elif command == 'remove':\n",
    "            L.remove(int(a[1]))\n",
    "        elif command == 'pop':\n",
    "            L.pop()\n",
    "        elif command == 'sort':\n",
    "            L.sort()\n",
    "        elif command == 'reverse':\n",
    "            L.reverse()\n",
    "        elif command == 'print':\n",
    "            # Print the current state of the list 'L'\n",
    "            print(L)"
   ]
  },
  {
   "cell_type": "markdown",
   "metadata": {},
   "source": [
    "2 - Tuples"
   ]
  },
  {
   "cell_type": "code",
   "execution_count": null,
   "metadata": {},
   "outputs": [],
   "source": [
    "if __name__ == '__main__':\n",
    "    # Take user input for an integer 'n'\n",
    "    n = int(input())\n",
    "    \n",
    "    # Take user input for a space-separated list of integers, convert them to integers, and create a map object\n",
    "    integer_list = map(int, input().split())\n",
    "    \n",
    "# Convert the map object to a tuple\n",
    "t = tuple(integer_list)\n",
    "\n",
    "# Print the hash value of the tuple\n",
    "print(hash(t))"
   ]
  },
  {
   "cell_type": "markdown",
   "metadata": {},
   "source": [
    "3 - List Comprehensions"
   ]
  },
  {
   "cell_type": "code",
   "execution_count": 115,
   "metadata": {},
   "outputs": [
    {
     "name": "stdout",
     "output_type": "stream",
     "text": [
      "2\n",
      "2\n",
      "2\n",
      "2\n",
      "[[0, 0, 0], [0, 0, 1], [0, 1, 0], [0, 1, 2], [0, 2, 1], [0, 2, 2], [1, 0, 0], [1, 0, 2], [1, 1, 1], [1, 1, 2], [1, 2, 0], [1, 2, 1], [1, 2, 2], [2, 0, 1], [2, 0, 2], [2, 1, 0], [2, 1, 1], [2, 1, 2], [2, 2, 0], [2, 2, 1], [2, 2, 2]]\n"
     ]
    }
   ],
   "source": [
    "#I have looked at the solution of this problem and learned how to write this problem \n",
    "\n",
    "X = int(input())\n",
    "Y = int(input())\n",
    "Z = int(input())\n",
    "n = int(input())\n",
    "\n",
    "l = [[x, y, z] for x in range(X+1) for y in range(Y+1) for z in range(Z+1) if x + y + z != n]\n",
    "print(l)\n",
    "\n",
    "#The resulting list 'l' contains all combinations of x, y, and z that satisfy the condition x + y + z ≠ n."
   ]
  },
  {
   "cell_type": "markdown",
   "metadata": {},
   "source": [
    "4 - Finding the percentage"
   ]
  },
  {
   "cell_type": "code",
   "execution_count": null,
   "metadata": {},
   "outputs": [],
   "source": [
    "#I have looked at the solution of this problem and learned how to write this problem \n",
    "\n",
    "if __name__ == '__main__':\n",
    "    n = int(input())\n",
    "    student_marks = {}\n",
    "    for _ in range(n):\n",
    "        name, *line = input().split()\n",
    "        scores = list(map(float, line))\n",
    "        student_marks[name] = scores\n",
    "    query_name = input()\n",
    "    \n",
    "    \n",
    "    print(\"{:.2f}\".format(sum(student_marks[query_name]) / len(student_marks[query_name])))\n"
   ]
  },
  {
   "cell_type": "markdown",
   "metadata": {},
   "source": [
    "5 - Find the Runner-Up Score!"
   ]
  },
  {
   "cell_type": "code",
   "execution_count": 119,
   "metadata": {},
   "outputs": [
    {
     "name": "stdout",
     "output_type": "stream",
     "text": [
      "5\n",
      "6 6 6 5 2\n",
      "5\n"
     ]
    }
   ],
   "source": [
    "if __name__ == '__main__':\n",
    "    # Take user input for the length of the list\n",
    "    n = int(input())\n",
    "    \n",
    "    # Take user input for the list of integers\n",
    "    arr = map(int, input().split())\n",
    "    \n",
    "    # Sort the list in ascending order\n",
    "    l = list(sorted(arr))\n",
    "    \n",
    "    # Get the highest element\n",
    "    a = l[-1]\n",
    "    \n",
    "    # Initialize an index to iterate from the second-last element\n",
    "    i = -2\n",
    "    \n",
    "    # Iterate through the sorted list to find the second-highest element\n",
    "    for _ in l:\n",
    "        if l[i] != a:\n",
    "            # Print the second-highest element and break out of the loop\n",
    "            print(l[i])\n",
    "            break\n",
    "        else:\n",
    "            # Move to the next element\n",
    "            i -= 1\n",
    "    \n"
   ]
  },
  {
   "cell_type": "markdown",
   "metadata": {},
   "source": [
    "6 - Nested Lists"
   ]
  },
  {
   "cell_type": "code",
   "execution_count": 1,
   "metadata": {
    "scrolled": true
   },
   "outputs": [
    {
     "ename": "KeyboardInterrupt",
     "evalue": "Interrupted by user",
     "output_type": "error",
     "traceback": [
      "\u001b[1;31m---------------------------------------------------------------------------\u001b[0m",
      "\u001b[1;31mKeyboardInterrupt\u001b[0m                         Traceback (most recent call last)",
      "\u001b[1;32m<ipython-input-1-063b395adfd4>\u001b[0m in \u001b[0;36m<module>\u001b[1;34m\u001b[0m\n\u001b[0;32m      2\u001b[0m \u001b[1;33m\u001b[0m\u001b[0m\n\u001b[0;32m      3\u001b[0m     \u001b[0ml\u001b[0m \u001b[1;33m=\u001b[0m \u001b[1;33m[\u001b[0m\u001b[1;33m]\u001b[0m\u001b[1;33m\u001b[0m\u001b[1;33m\u001b[0m\u001b[0m\n\u001b[1;32m----> 4\u001b[1;33m     \u001b[1;32mfor\u001b[0m \u001b[0m_\u001b[0m \u001b[1;32min\u001b[0m \u001b[0mrange\u001b[0m\u001b[1;33m(\u001b[0m\u001b[0mint\u001b[0m\u001b[1;33m(\u001b[0m\u001b[0minput\u001b[0m\u001b[1;33m(\u001b[0m\u001b[1;33m)\u001b[0m\u001b[1;33m)\u001b[0m\u001b[1;33m)\u001b[0m\u001b[1;33m:\u001b[0m\u001b[1;33m\u001b[0m\u001b[1;33m\u001b[0m\u001b[0m\n\u001b[0m\u001b[0;32m      5\u001b[0m         \u001b[0mname\u001b[0m \u001b[1;33m=\u001b[0m \u001b[0minput\u001b[0m\u001b[1;33m(\u001b[0m\u001b[1;33m)\u001b[0m\u001b[1;33m\u001b[0m\u001b[1;33m\u001b[0m\u001b[0m\n\u001b[0;32m      6\u001b[0m         \u001b[0mscore\u001b[0m \u001b[1;33m=\u001b[0m \u001b[0mfloat\u001b[0m\u001b[1;33m(\u001b[0m\u001b[0minput\u001b[0m\u001b[1;33m(\u001b[0m\u001b[1;33m)\u001b[0m\u001b[1;33m)\u001b[0m\u001b[1;33m\u001b[0m\u001b[1;33m\u001b[0m\u001b[0m\n",
      "\u001b[1;32m~\\anaconda3\\lib\\site-packages\\ipykernel\\kernelbase.py\u001b[0m in \u001b[0;36mraw_input\u001b[1;34m(self, prompt)\u001b[0m\n\u001b[0;32m    858\u001b[0m                 \u001b[1;34m\"raw_input was called, but this frontend does not support input requests.\"\u001b[0m\u001b[1;33m\u001b[0m\u001b[1;33m\u001b[0m\u001b[0m\n\u001b[0;32m    859\u001b[0m             )\n\u001b[1;32m--> 860\u001b[1;33m         return self._input_request(str(prompt),\n\u001b[0m\u001b[0;32m    861\u001b[0m             \u001b[0mself\u001b[0m\u001b[1;33m.\u001b[0m\u001b[0m_parent_ident\u001b[0m\u001b[1;33m,\u001b[0m\u001b[1;33m\u001b[0m\u001b[1;33m\u001b[0m\u001b[0m\n\u001b[0;32m    862\u001b[0m             \u001b[0mself\u001b[0m\u001b[1;33m.\u001b[0m\u001b[0m_parent_header\u001b[0m\u001b[1;33m,\u001b[0m\u001b[1;33m\u001b[0m\u001b[1;33m\u001b[0m\u001b[0m\n",
      "\u001b[1;32m~\\anaconda3\\lib\\site-packages\\ipykernel\\kernelbase.py\u001b[0m in \u001b[0;36m_input_request\u001b[1;34m(self, prompt, ident, parent, password)\u001b[0m\n\u001b[0;32m    902\u001b[0m             \u001b[1;32mexcept\u001b[0m \u001b[0mKeyboardInterrupt\u001b[0m\u001b[1;33m:\u001b[0m\u001b[1;33m\u001b[0m\u001b[1;33m\u001b[0m\u001b[0m\n\u001b[0;32m    903\u001b[0m                 \u001b[1;31m# re-raise KeyboardInterrupt, to truncate traceback\u001b[0m\u001b[1;33m\u001b[0m\u001b[1;33m\u001b[0m\u001b[1;33m\u001b[0m\u001b[0m\n\u001b[1;32m--> 904\u001b[1;33m                 \u001b[1;32mraise\u001b[0m \u001b[0mKeyboardInterrupt\u001b[0m\u001b[1;33m(\u001b[0m\u001b[1;34m\"Interrupted by user\"\u001b[0m\u001b[1;33m)\u001b[0m \u001b[1;32mfrom\u001b[0m \u001b[1;32mNone\u001b[0m\u001b[1;33m\u001b[0m\u001b[1;33m\u001b[0m\u001b[0m\n\u001b[0m\u001b[0;32m    905\u001b[0m             \u001b[1;32mexcept\u001b[0m \u001b[0mException\u001b[0m \u001b[1;32mas\u001b[0m \u001b[0me\u001b[0m\u001b[1;33m:\u001b[0m\u001b[1;33m\u001b[0m\u001b[1;33m\u001b[0m\u001b[0m\n\u001b[0;32m    906\u001b[0m                 \u001b[0mself\u001b[0m\u001b[1;33m.\u001b[0m\u001b[0mlog\u001b[0m\u001b[1;33m.\u001b[0m\u001b[0mwarning\u001b[0m\u001b[1;33m(\u001b[0m\u001b[1;34m\"Invalid Message:\"\u001b[0m\u001b[1;33m,\u001b[0m \u001b[0mexc_info\u001b[0m\u001b[1;33m=\u001b[0m\u001b[1;32mTrue\u001b[0m\u001b[1;33m)\u001b[0m\u001b[1;33m\u001b[0m\u001b[1;33m\u001b[0m\u001b[0m\n",
      "\u001b[1;31mKeyboardInterrupt\u001b[0m: Interrupted by user"
     ]
    }
   ],
   "source": [
    "if __name__ == '__main__':\n",
    "    \n",
    "    l = []\n",
    "    for _ in range(int(input())):\n",
    "        name = input()\n",
    "        score = float(input())\n",
    "        \n",
    "        student = [name , score]\n",
    "        \n",
    "        l.append(student)\n",
    "l.sort(key = lambda x : (x[1] , x[0]))                   #sort first base on numbers and then base on names\n",
    " \n",
    "lowest = l[0][1]                                        #lowest number\n",
    "\n",
    "\n",
    "for i in l:                                            #find the second lowest number\n",
    "    if i[1] != lowest:\n",
    "        second_lowest = i[1]\n",
    "        break\n",
    "\n",
    "for i in l:                            \n",
    "    if i[1] == second_lowest:               #when reach second lowest grade , print the student name\n",
    "        print(i[0])\n",
    " "
   ]
  },
  {
   "cell_type": "markdown",
   "metadata": {},
   "source": [
    "# String"
   ]
  },
  {
   "cell_type": "markdown",
   "metadata": {},
   "source": [
    "1 - sWAP cASE"
   ]
  },
  {
   "cell_type": "code",
   "execution_count": null,
   "metadata": {},
   "outputs": [],
   "source": [
    "def swap_case(s):\n",
    "    # Swap the case of each character in the string\n",
    "    s = s.swapcase()\n",
    "    return s\n",
    "\n",
    "# Check if the script is being run as the main program\n",
    "if __name__ == '__main__':\n",
    "    # Take user input for a string\n",
    "    s = input()\n",
    "    \n",
    "    # Call the swap_case function with the input string\n",
    "    result = swap_case(s)\n",
    "    \n",
    "    # Print the result (string with swapped case)\n",
    "    print(result)\n"
   ]
  },
  {
   "cell_type": "markdown",
   "metadata": {},
   "source": [
    "2 - string Split and Join"
   ]
  },
  {
   "cell_type": "code",
   "execution_count": 148,
   "metadata": {},
   "outputs": [
    {
     "name": "stdout",
     "output_type": "stream",
     "text": [
      "omid is a boy \n",
      "omid-is-a-boy\n"
     ]
    }
   ],
   "source": [
    "def split_and_join(line):\n",
    "    # Split the string into a list of words\n",
    "    a = line.split()\n",
    "    \n",
    "    # Join the words using a hyphen\n",
    "    b = '-'.join(a)\n",
    "    \n",
    "    # Return the result\n",
    "    return b\n",
    "\n",
    "# Check if the script is being run as the main program\n",
    "if __name__ == '__main__':\n",
    "    # Take user input for a string\n",
    "    line = input()\n",
    "    \n",
    "    # Call the split_and_join function with the input string\n",
    "    result = split_and_join(line)\n",
    "    \n",
    "    # Print the result (string with words joined by a hyphen)\n",
    "    print(result)"
   ]
  },
  {
   "cell_type": "markdown",
   "metadata": {},
   "source": [
    "3 - What's Your Name?"
   ]
  },
  {
   "cell_type": "code",
   "execution_count": 150,
   "metadata": {},
   "outputs": [
    {
     "name": "stdout",
     "output_type": "stream",
     "text": [
      "omid\n",
      "ghorbani\n",
      "Hello omid ghorbani! You just delved into python.\n"
     ]
    }
   ],
   "source": [
    "def print_full_name(first, last):\n",
    "    # Format the full name message\n",
    "    full = 'Hello {} {}! You just delved into python.'.format(first, last)\n",
    "    \n",
    "    # Print the formatted message\n",
    "    print(full)\n",
    "\n",
    "\n",
    "if __name__ == '__main__':\n",
    "    # Take user input for the first name\n",
    "    first_name = input()\n",
    "    \n",
    "    # Take user input for the last name\n",
    "    last_name = input()\n",
    "    \n",
    "    # Call the print_full_name function with the input names\n",
    "    print_full_name(first_name, last_name)\n"
   ]
  },
  {
   "cell_type": "markdown",
   "metadata": {},
   "source": [
    "4 - Mutations"
   ]
  },
  {
   "cell_type": "code",
   "execution_count": null,
   "metadata": {},
   "outputs": [],
   "source": [
    "def mutate_string(string, position, character):\n",
    "    \n",
    "    l = list(string)              #make list from every character of the string\n",
    "\n",
    "    l[position] = character       #put new charachter in the position especified\n",
    "    \n",
    "    string = ''.join(l)           #turned this to string \n",
    "    \n",
    "    return  string                # return the output\n",
    "\n",
    "if __name__ == '__main__':\n",
    "    s = input()\n",
    "    i, c = input().split()\n",
    "    s_new = mutate_string(s, int(i), c)\n",
    "    print(s_new)"
   ]
  },
  {
   "cell_type": "markdown",
   "metadata": {},
   "source": [
    "5 - Find a string"
   ]
  },
  {
   "cell_type": "code",
   "execution_count": 151,
   "metadata": {},
   "outputs": [
    {
     "name": "stdout",
     "output_type": "stream",
     "text": [
      "avdgdfdfddddeee\n",
      "dd\n",
      "3\n"
     ]
    }
   ],
   "source": [
    "def count_substring(string, sub_string):\n",
    "    j = len(sub_string)\n",
    "    sum1 = 0\n",
    "    i = 0\n",
    "    while i < len(string):                     #continue until we reach to the end of the string \n",
    "   \n",
    "    \n",
    "        if sub_string in string[i: j]:         #check whether subtring is in string  \n",
    "        \n",
    "            sum1+=1                             #if exist add one to sum1 variable\n",
    "            i += 1                              #change the slice index\n",
    "            j += 1 \n",
    "        else:                                  #do the same if its not exist \n",
    "            i +=1 \n",
    "            j += 1\n",
    "        \n",
    "    return sum1\n",
    "\n",
    "if __name__ == '__main__':\n",
    "    string = input().strip()\n",
    "    sub_string = input().strip()\n",
    "    \n",
    "    count = count_substring(string, sub_string)\n",
    "    print(count)"
   ]
  },
  {
   "cell_type": "markdown",
   "metadata": {},
   "source": [
    "6 - Text Alignment"
   ]
  },
  {
   "cell_type": "code",
   "execution_count": 164,
   "metadata": {
    "scrolled": true
   },
   "outputs": [
    {
     "name": "stdout",
     "output_type": "stream",
     "text": [
      "5\n",
      "    H    \n",
      "   HHH   \n",
      "  HHHHH  \n",
      " HHHHHHH \n",
      "HHHHHHHHH\n",
      "  HHHHH               HHHHH             \n",
      "  HHHHH               HHHHH             \n",
      "  HHHHH               HHHHH             \n",
      "  HHHHH               HHHHH             \n",
      "  HHHHH               HHHHH             \n",
      "  HHHHH               HHHHH             \n",
      "  HHHHHHHHHHHHHHHHHHHHHHHHH   \n",
      "  HHHHHHHHHHHHHHHHHHHHHHHHH   \n",
      "  HHHHHHHHHHHHHHHHHHHHHHHHH   \n",
      "  HHHHH               HHHHH             \n",
      "  HHHHH               HHHHH             \n",
      "  HHHHH               HHHHH             \n",
      "  HHHHH               HHHHH             \n",
      "  HHHHH               HHHHH             \n",
      "  HHHHH               HHHHH             \n",
      "                    HHHHHHHHH \n",
      "                     HHHHHHH  \n",
      "                      HHHHH   \n",
      "                       HHH    \n",
      "                        H     \n"
     ]
    }
   ],
   "source": [
    "#this problem solved with the help of chatgpt\n",
    "\n",
    "# Replace the blank (______) with rjust, ljust or center.\n",
    "\n",
    "def print_hackerrank_logo(thickness):\n",
    "    c = 'H'\n",
    "\n",
    "    # Top Cone\n",
    "    for i in range(thickness):\n",
    "        print((c * i).rjust(thickness - 1) + c + (c * i).ljust(thickness - 1))\n",
    "\n",
    "    # Top Pillars\n",
    "    for i in range(thickness + 1):\n",
    "        print((c * thickness).center(thickness * 2) + (c * thickness).center(thickness * 6))\n",
    "\n",
    "    # Middle Belt\n",
    "    for i in range((thickness + 1) // 2):\n",
    "        print((c * thickness * 5).center(thickness * 6))\n",
    "\n",
    "    # Bottom Pillars\n",
    "    for i in range(thickness + 1):\n",
    "        print((c * thickness).center(thickness * 2) + (c * thickness).center(thickness * 6))\n",
    "\n",
    "    # Bottom Cone\n",
    "    for i in range(thickness):\n",
    "        print(((c * (thickness - i - 1)).rjust(thickness) + c + (c * (thickness - i - 1)).ljust(thickness)).rjust(thickness * 6))\n",
    "\n",
    "if __name__ == '__main__':\n",
    "    thickness = int(input())\n",
    "    print_hackerrank_logo(thickness)\n"
   ]
  },
  {
   "cell_type": "markdown",
   "metadata": {},
   "source": [
    "7 - Text Wrap"
   ]
  },
  {
   "cell_type": "code",
   "execution_count": 171,
   "metadata": {},
   "outputs": [
    {
     "name": "stdout",
     "output_type": "stream",
     "text": [
      "ABCDEFGHIJKLIMNOQRSTUVWXYZ\n",
      "4\n",
      "ABCD\n",
      "EFGH\n",
      "IJKL\n",
      "IMNO\n",
      "QRST\n",
      "UVWX\n",
      "YZ\n"
     ]
    }
   ],
   "source": [
    "\n",
    "import textwrap\n",
    "\n",
    "def wrap(string, max_width):\n",
    "    \n",
    "    wrapper = textwrap.TextWrapper(width = max_width)\n",
    "    \n",
    "    word_list = wrapper.wrap(text = string)\n",
    "    \n",
    "    \n",
    "        \n",
    "    return '\\n'.join(word_list)\n",
    "\n",
    "if __name__ == '__main__':\n",
    "    string, max_width = input(), int(input())\n",
    "    result = wrap(string, max_width)\n",
    "    print(result)"
   ]
  },
  {
   "cell_type": "markdown",
   "metadata": {},
   "source": [
    "8 - Designer Door Mat "
   ]
  },
  {
   "cell_type": "code",
   "execution_count": 173,
   "metadata": {
    "scrolled": true
   },
   "outputs": [
    {
     "name": "stdout",
     "output_type": "stream",
     "text": [
      "10 30\n",
      "-------------.|.--------------\n",
      "----------.|..|..|.-----------\n",
      "-------.|..|..|..|..|.--------\n",
      "----.|..|..|..|..|..|..|.-----\n",
      "-.|..|..|..|..|..|..|..|..|.--\n",
      "-----------WELCOME------------\n",
      "-.|..|..|..|..|..|..|..|..|.--\n",
      "----.|..|..|..|..|..|..|.-----\n",
      "-------.|..|..|..|..|.--------\n",
      "----------.|..|..|.-----------\n",
      "-------------.|.--------------\n"
     ]
    }
   ],
   "source": [
    "\n",
    "#this problem solved with the help of chatgpt\n",
    "\n",
    "def print_door_mat(rows, cols):\n",
    "    pattern = [('.|.' * (2 * i + 1)).center(cols, '-') for i in range(rows // 2)]\n",
    "    welcome_line = 'WELCOME'.center(cols, '-')\n",
    "    door_mat = pattern + [welcome_line] + pattern[::-1]\n",
    "    \n",
    "    for line in door_mat:\n",
    "        print(line)\n",
    "\n",
    "if __name__ == \"__main__\":\n",
    "    n, m = map(int, input().split())\n",
    "    print_door_mat(n, m)"
   ]
  },
  {
   "cell_type": "markdown",
   "metadata": {},
   "source": [
    "9 - String Formating "
   ]
  },
  {
   "cell_type": "code",
   "execution_count": 192,
   "metadata": {},
   "outputs": [
    {
     "name": "stdout",
     "output_type": "stream",
     "text": [
      "5\n",
      "  1   1   1   1\n",
      "  2   2   2  10\n",
      "  3   3   3  11\n",
      "  4   4   4 100\n",
      "  5   5   5 101\n"
     ]
    }
   ],
   "source": [
    "def print_formatted(n):\n",
    "    width = len(bin(n)[2:])  \n",
    "    \n",
    "    for i in range(1, n + 1):\n",
    "        decimal = i\n",
    "        hexadecimal = hex(i)[2:].upper()\n",
    "        octal = oct(i)[2:]\n",
    "        binary = bin(i)[2:]\n",
    "        \n",
    "        \n",
    "        print(f\"{decimal:>{width}} {octal:>{width}} {hexadecimal:>{width}} {binary:>{width}}\")\n",
    "        \n",
    "if __name__ == '__main__':\n",
    "    n = int(input())\n",
    "    print_formatted(n)"
   ]
  },
  {
   "cell_type": "markdown",
   "metadata": {},
   "source": [
    "10 - Alphabet Rangoli"
   ]
  },
  {
   "cell_type": "code",
   "execution_count": 220,
   "metadata": {},
   "outputs": [
    {
     "name": "stdout",
     "output_type": "stream",
     "text": [
      "5\n",
      "--------e--------\n",
      "------e-d-e------\n",
      "----e-d-c-d-e----\n",
      "--e-d-c-b-c-d-e--\n",
      "e-d-c-b-a-b-c-d-e\n",
      "--e-d-c-b-c-d-e--\n",
      "----e-d-c-d-e----\n",
      "------e-d-e------\n",
      "--------e--------\n"
     ]
    }
   ],
   "source": [
    "\n",
    "def print_rangoli(size):\n",
    "    \n",
    "    asci = 'abcdefghijklmnopqrstuvwxyz'\n",
    "    lines= []\n",
    "    for i in range(size):\n",
    "        b = '-'.join(asci[size-1:i:-1] + asci[i:size])\n",
    "        \n",
    "        line = (b.center(size * 4 - 3, '-'))\n",
    "        lines.append(line)\n",
    "    \n",
    "    print('\\n'.join(lines[::-1] + lines[1:]))\n",
    "    \n",
    "    \n",
    "\n",
    "\n",
    "if __name__ == '__main__':\n",
    "    n = int(input())\n",
    "    print_rangoli(n)"
   ]
  },
  {
   "cell_type": "markdown",
   "metadata": {},
   "source": [
    "11 - Capitalize!"
   ]
  },
  {
   "cell_type": "code",
   "execution_count": 236,
   "metadata": {},
   "outputs": [
    {
     "data": {
      "text/plain": [
       "'132 456 Wq  M E'"
      ]
     },
     "execution_count": 236,
     "metadata": {},
     "output_type": "execute_result"
    }
   ],
   "source": [
    "def solve(s):\n",
    "    \n",
    "    result = s.split(\" \")\n",
    "\n",
    "\n",
    "    return ' '.join([i.capitalize() for i in result])\n",
    "\n",
    "\n",
    "solve('132 456 Wq  m e')"
   ]
  },
  {
   "cell_type": "markdown",
   "metadata": {},
   "source": [
    "12 - The Minion Game\n"
   ]
  },
  {
   "cell_type": "code",
   "execution_count": 275,
   "metadata": {},
   "outputs": [
    {
     "name": "stdout",
     "output_type": "stream",
     "text": [
      "BANANA\n",
      "Stuart 12\n"
     ]
    }
   ],
   "source": [
    "def minion_game(string):\n",
    "    # your code goes here\n",
    "    vowels = 'AEOUI'\n",
    "    sum_stuart, sum_kevin = 0, 0\n",
    "    for i in range(len(string)):\n",
    "        if string[i] in vowels:\n",
    "            sum_kevin += len(string) - i\n",
    "        else:\n",
    "            sum_stuart += len(string) - i\n",
    "    if sum_kevin > sum_stuart :\n",
    "        print(\"Kevin\",sum_kevin)\n",
    "    elif sum_stuart > sum_kevin:\n",
    "        print(\"Stuart\",sum_stuart)\n",
    "    else:\n",
    "        print(\"Draw\")                \n",
    "\n",
    "\n",
    "\n",
    "if __name__ == '__main__':\n",
    "    s = input()\n",
    "    minion_game(s)"
   ]
  },
  {
   "cell_type": "markdown",
   "metadata": {},
   "source": [
    "13 - Merge the Tools!"
   ]
  },
  {
   "cell_type": "code",
   "execution_count": null,
   "metadata": {
    "scrolled": false
   },
   "outputs": [],
   "source": [
    "#I coudnyt get the score of this problem in hackerRank\n",
    "def merge_the_tools(string, k):\n",
    "    \n",
    "    n = len(string)\n",
    "    \n",
    "    n_split = int(n/k)\n",
    "    \n",
    "    l = [string[i : i + n_split] for i in range(0,len(string)  , n_split)]\n",
    "    \n",
    "    distinct_list = [''.join(set(chunk)) for chunk in l]\n",
    "        \n",
    "    print('\\n'.join(distinct_list))\n",
    "    \n",
    "\n",
    "if __name__ == '__main__':\n",
    "    string, k = input(), int(input())\n",
    "    merge_the_tools(string, k)"
   ]
  },
  {
   "cell_type": "markdown",
   "metadata": {},
   "source": [
    "14 - String Validators"
   ]
  },
  {
   "cell_type": "code",
   "execution_count": 300,
   "metadata": {
    "scrolled": true
   },
   "outputs": [
    {
     "name": "stdout",
     "output_type": "stream",
     "text": [
      "q2A\n",
      "True\n",
      "True\n",
      "True\n",
      "True\n",
      "True\n"
     ]
    }
   ],
   "source": [
    "def check(s):\n",
    "    # Check if any character is alphanumeric\n",
    "    print(any(char.isalnum() for char in s))\n",
    "    \n",
    "    # Check if any character is alphabetic\n",
    "    print(any(char.isalpha() for char in s))\n",
    "    \n",
    "    # Check if any character is a digit\n",
    "    print(any(char.isdigit() for char in s))\n",
    "    \n",
    "    # Check if any character is lowercase\n",
    "    print(any(char.islower() for char in s))\n",
    "    \n",
    "    # Check if any character is uppercase\n",
    "    print(any(char.isupper() for char in s))\n",
    "\n",
    "if __name__ == \"__main__\":\n",
    "    # Take user input for a string\n",
    "    s = input()\n",
    "    \n",
    "    # Call the check function with the input string\n",
    "    check(s)"
   ]
  },
  {
   "cell_type": "markdown",
   "metadata": {},
   "source": [
    "# Set"
   ]
  },
  {
   "cell_type": "markdown",
   "metadata": {},
   "source": [
    "1 - Set .union() Operation"
   ]
  },
  {
   "cell_type": "code",
   "execution_count": null,
   "metadata": {},
   "outputs": [],
   "source": [
    "n = int(input())\n",
    "\n",
    "set1 = set(input().split())\n",
    "\n",
    "b = int(input())\n",
    "\n",
    "set2 = set(input().split())\n",
    "\n",
    "final = set1.union(set2)\n",
    "\n",
    "print(len(final))\n"
   ]
  },
  {
   "cell_type": "markdown",
   "metadata": {},
   "source": [
    "2 - Set .intersection() Operation"
   ]
  },
  {
   "cell_type": "code",
   "execution_count": 302,
   "metadata": {},
   "outputs": [
    {
     "name": "stdout",
     "output_type": "stream",
     "text": [
      "2\n",
      "2 3\n",
      "4\n",
      "1 2 3 4\n",
      "2\n"
     ]
    }
   ],
   "source": [
    "\n",
    "n = int(input())\n",
    "\n",
    "set1 = set(input().split())\n",
    "\n",
    "n1 = int(input())\n",
    "\n",
    "set2 = set(input().split())\n",
    "\n",
    "final = set1.intersection(set2)\n",
    "\n",
    "print(len(final ))\n"
   ]
  },
  {
   "cell_type": "markdown",
   "metadata": {},
   "source": [
    "3 - Set .difference() Operation"
   ]
  },
  {
   "cell_type": "code",
   "execution_count": null,
   "metadata": {},
   "outputs": [],
   "source": [
    "n = int(input())\n",
    "set1  =  set(input().split())\n",
    "\n",
    "\n",
    "n1 = int(input())\n",
    "set2  =  set(input().split())\n",
    "\n",
    "set3 = set1.difference(set2) \n",
    "\n",
    "\n",
    "print(len(set3))\n"
   ]
  },
  {
   "cell_type": "markdown",
   "metadata": {},
   "source": [
    "4 -Set .symmetric_difference() Operation"
   ]
  },
  {
   "cell_type": "code",
   "execution_count": null,
   "metadata": {},
   "outputs": [],
   "source": [
    "n = int(input())\n",
    "\n",
    "set1 = set(input().split())\n",
    "\n",
    "n1 = int(input())\n",
    "\n",
    "set2 = set(input().split())\n",
    "\n",
    "set3 = set1.symmetric_difference(set2)\n",
    "\n",
    "print(len(set3))\n"
   ]
  },
  {
   "cell_type": "markdown",
   "metadata": {},
   "source": [
    "5 - Set Mutations"
   ]
  },
  {
   "cell_type": "code",
   "execution_count": null,
   "metadata": {},
   "outputs": [],
   "source": [
    "# Take user input for the size of the set and create the set\n",
    "n = int(input())\n",
    "s = set(map(int, input().split()))\n",
    "\n",
    "# Process a series of commands\n",
    "for _ in range(int(input())):\n",
    "    # Take user input for the command and the set\n",
    "    cmd, n = input().split()\n",
    "    sub = set(map(int, input().split()))\n",
    "    \n",
    "    # Execute the command using the exec function\n",
    "    exec('s.' + cmd + '(sub)')\n",
    "\n",
    "# Print the sum of the elements in the modified set\n",
    "print(sum(s))"
   ]
  },
  {
   "cell_type": "markdown",
   "metadata": {},
   "source": [
    "6- Introduction to Sets "
   ]
  },
  {
   "cell_type": "code",
   "execution_count": 310,
   "metadata": {},
   "outputs": [
    {
     "name": "stdout",
     "output_type": "stream",
     "text": [
      "10\n",
      "161 182 161 154 176 170 167 171 170 174\n",
      "169.375\n"
     ]
    }
   ],
   "source": [
    "def average(array):\n",
    "    # Convert the list to a set to remove duplicates\n",
    "    arr = set(array)\n",
    "    \n",
    "    # Calculate the average of the unique elements\n",
    "    return sum(arr) / len(arr)\n",
    "\n",
    "# Check if the script is being run as the main program\n",
    "if __name__ == '__main__':\n",
    "    # Take user input for the size of the list\n",
    "    n = int(input())\n",
    "    \n",
    "    # Take user input for the list of integers\n",
    "    arr = list(map(int, input().split()))\n",
    "    \n",
    "    # Call the average function with the input list\n",
    "    result = average(arr)\n",
    "    \n",
    "    # Print the result (average of unique elements)\n",
    "    print(result)"
   ]
  },
  {
   "cell_type": "markdown",
   "metadata": {},
   "source": [
    "7 - Symmetric Difference"
   ]
  },
  {
   "cell_type": "code",
   "execution_count": null,
   "metadata": {},
   "outputs": [],
   "source": [
    "def symmetric_difference(set1, set2):\n",
    "    # Compute the symmetric difference and sort the result\n",
    "    result = sorted(set(set1) ^ set(set2))\n",
    "    \n",
    "    # Print each element in the sorted result\n",
    "    for num in result:\n",
    "        print(num)\n",
    "\n",
    "# Check if the script is being run as the main program\n",
    "if __name__ == \"__main__\":\n",
    "    # Take user input for the size of the first set and its elements\n",
    "    m = int(input())\n",
    "    set1 = map(int, input().split())\n",
    "    \n",
    "    # Take user input for the size of the second set and its elements\n",
    "    n = int(input())\n",
    "    set2 = map(int, input().split())\n",
    "    \n",
    "    # Call the symmetric_difference function with the input sets\n",
    "    symmetric_difference(set1, set2)\n"
   ]
  },
  {
   "cell_type": "markdown",
   "metadata": {},
   "source": [
    "8 - No Idea!"
   ]
  },
  {
   "cell_type": "code",
   "execution_count": 318,
   "metadata": {},
   "outputs": [
    {
     "name": "stdout",
     "output_type": "stream",
     "text": [
      "3 3\n",
      "1 3 5\n",
      "1 3 5\n",
      "7 8 9\n",
      "3\n"
     ]
    }
   ],
   "source": [
    "def happiness(base, A, B):\n",
    "    happ = 0\n",
    "    for i in base:\n",
    "        # If the element is in set A, increment happiness\n",
    "        if i in A:\n",
    "            happ += 1\n",
    "        # If the element is in set B, decrement happiness\n",
    "        elif i in B:\n",
    "            happ -= 1\n",
    "        # If the element is not in A or B, leave happiness unchanged\n",
    "        else:\n",
    "            pass\n",
    "    return happ\n",
    "\n",
    "if __name__ == \"__main__\":\n",
    "    # Take user input for the sizes of the list and sets\n",
    "    n, m = map(int, input().split())\n",
    "    \n",
    "    # Take user input for the elements of the list\n",
    "    base = list(map(int, input().split()))\n",
    "    \n",
    "    # Take user input for the elements of set A\n",
    "    A = set(map(int, input().split()))\n",
    "    \n",
    "    # Take user input for the elements of set B\n",
    "    B = set(map(int, input().split()))\n",
    "    \n",
    "    # Call the happiness function with the input values\n",
    "    result = happiness(base, A, B)\n",
    "    \n",
    "    # Print the result (happiness score)\n",
    "    print(result)\n"
   ]
  },
  {
   "cell_type": "markdown",
   "metadata": {},
   "source": [
    "9 - Set .add()"
   ]
  },
  {
   "cell_type": "code",
   "execution_count": 322,
   "metadata": {},
   "outputs": [
    {
     "name": "stdout",
     "output_type": "stream",
     "text": [
      "3\n",
      "ali\n",
      "ali\n",
      "mmd\n",
      "2\n"
     ]
    }
   ],
   "source": [
    "def count_distinct_stamps():\n",
    "       \n",
    "        \n",
    "    n= int(input())         #get the total number of countries\n",
    "    country_stamps = []\n",
    "\n",
    "    # Get the names of the country stamps\n",
    "    for _ in range(n):\n",
    "        country_stamp = input(\"\")\n",
    "        country_stamps.append(country_stamp)\n",
    "        \n",
    "    distinct_stamps = set(country_stamps)\n",
    "\n",
    "\n",
    "    print(len(distinct_stamps))\n",
    "\n",
    "if __name__ == \"__main__\":\n",
    " \n",
    "  \n",
    "    # Call the function with inputs\n",
    "    count_distinct_stamps()"
   ]
  },
  {
   "cell_type": "markdown",
   "metadata": {},
   "source": [
    "10 - Set .discard(), .remove() & .pop()"
   ]
  },
  {
   "cell_type": "code",
   "execution_count": 325,
   "metadata": {},
   "outputs": [
    {
     "name": "stdout",
     "output_type": "stream",
     "text": [
      "10\n",
      "0 1 2 3 4 5 6 7 8 9\n",
      "15\n",
      "remove 1\n",
      "pop\n",
      "pop\n",
      "discard 2\n",
      "discard 3\n",
      "discard 4\n",
      "discard 1\n",
      "remove 5\n",
      "pop\n",
      "discard 6\n",
      "discard 1\n",
      "discard 8\n",
      "discard 0\n",
      "discard 9\n",
      "pop\n",
      "0\n"
     ]
    }
   ],
   "source": [
    "def process_commands(elements, commands):\n",
    "    s = set(elements)\n",
    "    for command in commands:\n",
    "        # Split the command into parts\n",
    "        parts = command.split()\n",
    "\n",
    "        # Execute the command based on its type\n",
    "        if parts[0] == \"pop\":\n",
    "            s.pop()\n",
    "        elif parts[0] == \"remove\":\n",
    "            s.remove(int(parts[1]))\n",
    "        elif parts[0] == \"discard\":\n",
    "            s.discard(int(parts[1]))\n",
    "\n",
    "    # Print the sum of the elements of the set\n",
    "    print(sum(s))\n",
    "\n",
    "\n",
    "    # Get the number of elements in the set\n",
    "n = int(input())\n",
    "    \n",
    "    # Get the elements of the set\n",
    "elements = list(map(int, input().split()))\n",
    "\n",
    "    # Get the number of commands\n",
    "num_commands = int(input())\n",
    "\n",
    "    # Get the commands\n",
    "commands = [input() for _ in range(num_commands)]\n",
    "\n",
    "    # Process the commands and print the result\n",
    "process_commands(elements, commands)"
   ]
  },
  {
   "cell_type": "markdown",
   "metadata": {},
   "source": [
    "11 - The Captain's Room"
   ]
  },
  {
   "cell_type": "code",
   "execution_count": 335,
   "metadata": {},
   "outputs": [
    {
     "name": "stdout",
     "output_type": "stream",
     "text": [
      "5\n",
      "1 2 3 6 5 4 4 2 5 3 6 1 6 5 3 2 4 1 2 5 1 4 3 6 8 4 3 1 5 6 2\n",
      "8\n"
     ]
    }
   ],
   "source": [
    "K = int(input())\n",
    "\n",
    "tourist = list(map(int , input().split()))\n",
    "\n",
    "dic = {}\n",
    "\n",
    "# Count occurrences of each number\n",
    "for num in tourist:\n",
    "    \n",
    "    dic[num] = dic.get(num , 0) + 1\n",
    "    \n",
    "# Find the number that occurs only once\n",
    "for num, count in dic.items():\n",
    "        if count == 1:\n",
    "            print(num)\n",
    "        "
   ]
  },
  {
   "cell_type": "markdown",
   "metadata": {},
   "source": [
    "12 - Check Subset"
   ]
  },
  {
   "cell_type": "code",
   "execution_count": null,
   "metadata": {},
   "outputs": [],
   "source": [
    "def is_subset_of_set():\n",
    "    # Get the number of test cases\n",
    "    num_test_cases = int(input())\n",
    "\n",
    "    for _ in range(num_test_cases):\n",
    "        # Get the elements of set A\n",
    "        len_a = int(input())\n",
    "        set_a = set(map(int, input().split()))\n",
    "\n",
    "        # Get the elements of set B\n",
    "        len_b = int(input())\n",
    "        set_b = set(map(int, input().split()))\n",
    "\n",
    "        # Check if set A is a subset of set B\n",
    "        if set_a.issubset(set_b):\n",
    "            print(\"True\")\n",
    "        else:\n",
    "            print(\"False\")\n",
    "\n",
    "if __name__ == \"__main__\":\n",
    "    is_subset_of_set()"
   ]
  },
  {
   "cell_type": "markdown",
   "metadata": {},
   "source": [
    "13 - Check Strict Superset"
   ]
  },
  {
   "cell_type": "code",
   "execution_count": 340,
   "metadata": {},
   "outputs": [
    {
     "name": "stdout",
     "output_type": "stream",
     "text": [
      "1 2 3 4 5 6 7 8 9 10 11 12 23 45 84 78\n",
      "2\n",
      "1 2 3 4 5\n",
      "100 11 12\n"
     ]
    }
   ],
   "source": [
    "A = set(map ( int , input().split()))\n",
    "\n",
    "\n",
    "n= int(input())\n",
    "\n",
    "l = []\n",
    "for _ in range(n):                                 #number of other set get the input set\n",
    "\n",
    "    other = set(map ( int , input().split()))\n",
    "    \n",
    "    if (other.issubset(A) and A!=other):            #check strinct superset\n",
    "        l.append(True)\n",
    "    else:\n",
    "        l.append(False)\n",
    "        \n",
    "print(all(l))                                      #if all the subset is superset then return true elser false\n",
    "    \n",
    "\n"
   ]
  },
  {
   "cell_type": "markdown",
   "metadata": {},
   "source": [
    "# Collections"
   ]
  },
  {
   "cell_type": "markdown",
   "metadata": {},
   "source": [
    "1 - collections.Counter()"
   ]
  },
  {
   "cell_type": "code",
   "execution_count": 343,
   "metadata": {},
   "outputs": [],
   "source": [
    "from collections import Counter"
   ]
  },
  {
   "cell_type": "code",
   "execution_count": null,
   "metadata": {},
   "outputs": [],
   "source": [
    "#The provided code appears to be a program that calculates \n",
    "#the total money earned by selling shoes to customers based on the available shoe sizes and their prices.\n",
    "#Here's a commented explanation:\n",
    "\n",
    "from collections import Counter\n",
    "\n",
    "# Take user input for the number of available shoes\n",
    "num_shoes = int(input())\n",
    "\n",
    "# Take user input for the sizes of the available shoes\n",
    "shoe_sizes = map(int, input().split())\n",
    "\n",
    "# Count the occurrences of each shoe size\n",
    "counter = dict(Counter(shoe_sizes))\n",
    "\n",
    "# Take user input for the number of customers\n",
    "N_cus = int(input())\n",
    "\n",
    "# Initialize the total money earned\n",
    "sum1 = 0\n",
    "\n",
    "# Iterate through each customer\n",
    "for _ in range(N_cus):\n",
    "    # Take user input for the shoe size and the amount of money the customer is willing to pay\n",
    "    shoe_size, money = input().split()\n",
    "    money, shoe_size = int(money), int(shoe_size)\n",
    "\n",
    "    # Check if the requested shoe size is available\n",
    "    if counter.get(shoe_size) is not None:\n",
    "        # Check if there are available shoes of the requested size\n",
    "        if counter.get(shoe_size) != 0:\n",
    "            # Add the money to the total and reduce the available count of the shoe size\n",
    "            sum1 += money\n",
    "            counter[shoe_size] -= 1\n",
    "        else:\n",
    "            # If no available shoes of the requested size, do nothing\n",
    "            pass\n",
    "    else:\n",
    "        # If the requested size is not available, do nothing\n",
    "        pass\n",
    "\n",
    "# Print the total money earned\n",
    "print(sum1)"
   ]
  },
  {
   "cell_type": "markdown",
   "metadata": {},
   "source": [
    "2-Collections.deque()"
   ]
  },
  {
   "cell_type": "code",
   "execution_count": 6,
   "metadata": {},
   "outputs": [
    {
     "name": "stdout",
     "output_type": "stream",
     "text": [
      "5\n",
      "append 1\n",
      "appendleft 2\n",
      "pop\n",
      "popleft\n",
      "append 6\n",
      "6\n"
     ]
    }
   ],
   "source": [
    "from collections import deque\n",
    "# Create an empty deque\n",
    "num_operations = int(input())\n",
    "\n",
    "d = deque()\n",
    "\n",
    "# Perform operations on the deque\n",
    "for _ in range(num_operations):\n",
    "    operation = input().split()\n",
    "    \n",
    "    if operation[0] == \"append\":\n",
    "        d.append(int(operation[1]))\n",
    "    elif operation[0] == \"appendleft\":\n",
    "        d.appendleft(int(operation[1]))\n",
    "    elif operation[0] == \"pop\":\n",
    "        d.pop()\n",
    "    elif operation[0] == \"popleft\":\n",
    "        d.popleft()\n",
    "\n",
    "# Print the elements of the deque\n",
    "print(*d)\n"
   ]
  },
  {
   "cell_type": "markdown",
   "metadata": {},
   "source": [
    "3- Collections.namedtuple()"
   ]
  },
  {
   "cell_type": "code",
   "execution_count": null,
   "metadata": {},
   "outputs": [],
   "source": [
    "\n",
    "The provided code uses the namedtuple from the collections module to create a named tuple type called Student. It then takes user input to determine the number of students (N) and the attributes of the Student named tuple. After that, it iterates through the input for each student, creates a Student named tuple for each row, and calculates the average of the MARKS attribute for all students.\n",
    "\n",
    "Here's a commented explanation:\n",
    "\n",
    "python\n",
    "Copy code\n",
    "from collections import namedtuple\n",
    "\n",
    "# Take user input for the number of students\n",
    "N = int(input())\n",
    "\n",
    "# Create a named tuple type called Student with attributes specified by user input\n",
    "Student = namedtuple(\"Student\", input())\n",
    "\n",
    "# Initialize a variable to store the sum of marks\n",
    "sum1 = 0\n",
    "\n",
    "# Iterate through each student\n",
    "for i in range(N):\n",
    "    # Take user input for the attributes of the current student and split the input\n",
    "    row = input().split()\n",
    "    \n",
    "    # Create a Student named tuple using the input attributes\n",
    "    student = Student(*row)\n",
    "    \n",
    "    # Add the marks of the current student to the sum\n",
    "    sum1 += int(student.MARKS)\n",
    "\n",
    "# Print the average marks of all students\n",
    "print(sum1 / N)"
   ]
  },
  {
   "cell_type": "markdown",
   "metadata": {},
   "source": [
    "4 - Collections.OrderedDict()"
   ]
  },
  {
   "cell_type": "code",
   "execution_count": 10,
   "metadata": {},
   "outputs": [
    {
     "name": "stdout",
     "output_type": "stream",
     "text": [
      "3\n",
      "BANANA FRIES 12\n",
      "POTATO CHIPS 30\n",
      "APPLE JUICE 10\n",
      "BANANA FRIES 12\n",
      "POTATO CHIPS 30\n",
      "APPLE JUICE 10\n"
     ]
    }
   ],
   "source": [
    "from collections import OrderedDict\n",
    "\n",
    "def calculate_net_price(items):\n",
    "    # Initialize an ordered dictionary to store net prices for each item\n",
    "    net_prices = OrderedDict()\n",
    "\n",
    "    # Iterate through each item in the list\n",
    "    for item in items:\n",
    "        # Split the item string into name and price\n",
    "        l = item.rsplit(\" \", 1)\n",
    "        name, price = l[0], l[1]\n",
    "\n",
    "        # Convert the price to an integer\n",
    "        net_price = int(price)\n",
    "\n",
    "        # Update the net price in the dictionary\n",
    "        net_prices[name] = net_prices.get(name, 0) + net_price\n",
    "\n",
    "    # Return the dictionary containing net prices\n",
    "    return net_prices\n",
    "\n",
    "if __name__ == \"__main__\":\n",
    "    # Take user input for the number of items\n",
    "    n = int(input())\n",
    "\n",
    "    # Take user input for the items and store them in a list\n",
    "    items = [input() for _ in range(n)]\n",
    "\n",
    "    # Call the calculate_net_price function with the input items\n",
    "    net_prices = calculate_net_price(items)\n",
    "\n",
    "    # Iterate through the dictionary and print item names and net prices\n",
    "    for item_name, net_price in net_prices.items():\n",
    "        print(item_name, net_price)\n",
    "\n",
    "\n"
   ]
  },
  {
   "cell_type": "markdown",
   "metadata": {},
   "source": [
    "5 - Word Order"
   ]
  },
  {
   "cell_type": "code",
   "execution_count": null,
   "metadata": {},
   "outputs": [],
   "source": [
    "from collections import OrderedDict\n",
    "\n",
    "if __name__ == \"__main__\":\n",
    "    n = int(input())\n",
    "    words = [input().strip() for _ in range(n)]\n",
    "\n",
    "    word_count = OrderedDict()\n",
    "\n",
    "    for word in words:\n",
    "        if word in word_count:\n",
    "            word_count[word] += 1\n",
    "        else:\n",
    "            word_count[word] = 1\n",
    "\n",
    "    # Output the number of distinct words\n",
    "    print(len(word_count))\n",
    "\n",
    "    # Output the count of occurrences for each distinct word\n",
    "    print(*word_count.values())"
   ]
  },
  {
   "cell_type": "markdown",
   "metadata": {},
   "source": [
    "6 - defaultdict"
   ]
  },
  {
   "cell_type": "code",
   "execution_count": null,
   "metadata": {},
   "outputs": [],
   "source": [
    "# Enter your code here. Read input from STDIN. Print output to STDOUT\n",
    "from collections import defaultdict\n",
    "\n",
    "# Take user input for the number of sentences and queries\n",
    "num_sentences, num_queries = map(int, input().split())\n",
    "\n",
    "# Create a defaultdict with lists as default values\n",
    "sentence_dict = defaultdict(list)\n",
    "\n",
    "# Populate the dictionary with sentence positions\n",
    "for i in range(1, num_sentences + 1):\n",
    "    sentence = input()\n",
    "    sentence_dict[sentence].append(str(i))\n",
    "\n",
    "# Process queries\n",
    "for _ in range(num_queries):\n",
    "    # Take user input for the query sentence\n",
    "    query = input()\n",
    "\n",
    "    # Get the positions where the query sentence occurs, or ['-1'] if not present\n",
    "    result = ' '.join(sentence_dict.get(query, ['-1']))\n",
    "\n",
    "    # Print the result\n",
    "    print(result if result != '-1' else -1)\n"
   ]
  },
  {
   "cell_type": "markdown",
   "metadata": {},
   "source": [
    "# Date and Time"
   ]
  },
  {
   "cell_type": "markdown",
   "metadata": {},
   "source": [
    "1 - Calendar Module"
   ]
  },
  {
   "cell_type": "code",
   "execution_count": 11,
   "metadata": {},
   "outputs": [],
   "source": [
    "import calendar"
   ]
  },
  {
   "cell_type": "code",
   "execution_count": 24,
   "metadata": {},
   "outputs": [
    {
     "name": "stdout",
     "output_type": "stream",
     "text": [
      "08 05 2015\n"
     ]
    },
    {
     "data": {
      "text/plain": [
       "'WEDNESDAY'"
      ]
     },
     "execution_count": 24,
     "metadata": {},
     "output_type": "execute_result"
    }
   ],
   "source": [
    "def day_of_the_week():\n",
    "    \n",
    "    \n",
    "    month , day , year = map(int , input().split() )\n",
    "    \n",
    "    \n",
    "    day = calendar.weekday(year , month , day)\n",
    "    \n",
    "    print( calendar.day_name[day].upper())\n",
    "\n",
    "day_of_the_week()"
   ]
  },
  {
   "cell_type": "markdown",
   "metadata": {},
   "source": [
    "2 - Time Delta"
   ]
  },
  {
   "cell_type": "code",
   "execution_count": 31,
   "metadata": {},
   "outputs": [],
   "source": [
    "import datetime\n",
    "import pytz"
   ]
  },
  {
   "cell_type": "code",
   "execution_count": 54,
   "metadata": {},
   "outputs": [],
   "source": [
    "#!/bin/python3\n",
    "\n",
    "import math\n",
    "import os\n",
    "import random\n",
    "import re\n",
    "import sys\n",
    "import datetime\n",
    "\n",
    "# Complete the time_delta function below.\n",
    "def time_delta(t1, t2):\n",
    "    \n",
    "    time_format = \"%a %d %b %Y %H:%M:%S %z\"\n",
    "    dt1 = datetime.datetime.strptime(t1, time_format)\n",
    "    dt2 = datetime.datetime.strptime(t2, time_format)\n",
    "    \n",
    "               \n",
    "    \n",
    "    time_difference = abs(int((dt1 - dt2).total_seconds()))\n",
    "\n",
    "    return time_difference\n",
    "\n",
    "\n",
    "\n"
   ]
  },
  {
   "cell_type": "markdown",
   "metadata": {},
   "source": [
    "# Exceptions"
   ]
  },
  {
   "cell_type": "markdown",
   "metadata": {},
   "source": [
    "1 -Exceptions"
   ]
  },
  {
   "cell_type": "code",
   "execution_count": 2,
   "metadata": {},
   "outputs": [
    {
     "ename": "KeyboardInterrupt",
     "evalue": "Interrupted by user",
     "output_type": "error",
     "traceback": [
      "\u001b[1;31m---------------------------------------------------------------------------\u001b[0m",
      "\u001b[1;31mKeyboardInterrupt\u001b[0m                         Traceback (most recent call last)",
      "\u001b[1;32m<ipython-input-2-f8ee21069f49>\u001b[0m in \u001b[0;36m<module>\u001b[1;34m\u001b[0m\n\u001b[1;32m----> 1\u001b[1;33m \u001b[0mt\u001b[0m \u001b[1;33m=\u001b[0m \u001b[0mint\u001b[0m\u001b[1;33m(\u001b[0m\u001b[0minput\u001b[0m\u001b[1;33m(\u001b[0m\u001b[1;33m)\u001b[0m\u001b[1;33m)\u001b[0m\u001b[1;33m\u001b[0m\u001b[1;33m\u001b[0m\u001b[0m\n\u001b[0m\u001b[0;32m      2\u001b[0m \u001b[1;33m\u001b[0m\u001b[0m\n\u001b[0;32m      3\u001b[0m \u001b[1;32mfor\u001b[0m \u001b[0m_\u001b[0m \u001b[1;32min\u001b[0m \u001b[0mrange\u001b[0m\u001b[1;33m(\u001b[0m\u001b[0mt\u001b[0m\u001b[1;33m)\u001b[0m\u001b[1;33m:\u001b[0m\u001b[1;33m\u001b[0m\u001b[1;33m\u001b[0m\u001b[0m\n\u001b[0;32m      4\u001b[0m \u001b[1;33m\u001b[0m\u001b[0m\n\u001b[0;32m      5\u001b[0m     \u001b[0ma\u001b[0m \u001b[1;33m,\u001b[0m \u001b[0mb\u001b[0m  \u001b[1;33m=\u001b[0m  \u001b[0minput\u001b[0m\u001b[1;33m(\u001b[0m\u001b[1;33m)\u001b[0m\u001b[1;33m.\u001b[0m\u001b[0msplit\u001b[0m\u001b[1;33m(\u001b[0m\u001b[1;33m)\u001b[0m\u001b[1;33m\u001b[0m\u001b[1;33m\u001b[0m\u001b[0m\n",
      "\u001b[1;32m~\\anaconda3\\lib\\site-packages\\ipykernel\\kernelbase.py\u001b[0m in \u001b[0;36mraw_input\u001b[1;34m(self, prompt)\u001b[0m\n\u001b[0;32m    858\u001b[0m                 \u001b[1;34m\"raw_input was called, but this frontend does not support input requests.\"\u001b[0m\u001b[1;33m\u001b[0m\u001b[1;33m\u001b[0m\u001b[0m\n\u001b[0;32m    859\u001b[0m             )\n\u001b[1;32m--> 860\u001b[1;33m         return self._input_request(str(prompt),\n\u001b[0m\u001b[0;32m    861\u001b[0m             \u001b[0mself\u001b[0m\u001b[1;33m.\u001b[0m\u001b[0m_parent_ident\u001b[0m\u001b[1;33m,\u001b[0m\u001b[1;33m\u001b[0m\u001b[1;33m\u001b[0m\u001b[0m\n\u001b[0;32m    862\u001b[0m             \u001b[0mself\u001b[0m\u001b[1;33m.\u001b[0m\u001b[0m_parent_header\u001b[0m\u001b[1;33m,\u001b[0m\u001b[1;33m\u001b[0m\u001b[1;33m\u001b[0m\u001b[0m\n",
      "\u001b[1;32m~\\anaconda3\\lib\\site-packages\\ipykernel\\kernelbase.py\u001b[0m in \u001b[0;36m_input_request\u001b[1;34m(self, prompt, ident, parent, password)\u001b[0m\n\u001b[0;32m    902\u001b[0m             \u001b[1;32mexcept\u001b[0m \u001b[0mKeyboardInterrupt\u001b[0m\u001b[1;33m:\u001b[0m\u001b[1;33m\u001b[0m\u001b[1;33m\u001b[0m\u001b[0m\n\u001b[0;32m    903\u001b[0m                 \u001b[1;31m# re-raise KeyboardInterrupt, to truncate traceback\u001b[0m\u001b[1;33m\u001b[0m\u001b[1;33m\u001b[0m\u001b[1;33m\u001b[0m\u001b[0m\n\u001b[1;32m--> 904\u001b[1;33m                 \u001b[1;32mraise\u001b[0m \u001b[0mKeyboardInterrupt\u001b[0m\u001b[1;33m(\u001b[0m\u001b[1;34m\"Interrupted by user\"\u001b[0m\u001b[1;33m)\u001b[0m \u001b[1;32mfrom\u001b[0m \u001b[1;32mNone\u001b[0m\u001b[1;33m\u001b[0m\u001b[1;33m\u001b[0m\u001b[0m\n\u001b[0m\u001b[0;32m    905\u001b[0m             \u001b[1;32mexcept\u001b[0m \u001b[0mException\u001b[0m \u001b[1;32mas\u001b[0m \u001b[0me\u001b[0m\u001b[1;33m:\u001b[0m\u001b[1;33m\u001b[0m\u001b[1;33m\u001b[0m\u001b[0m\n\u001b[0;32m    906\u001b[0m                 \u001b[0mself\u001b[0m\u001b[1;33m.\u001b[0m\u001b[0mlog\u001b[0m\u001b[1;33m.\u001b[0m\u001b[0mwarning\u001b[0m\u001b[1;33m(\u001b[0m\u001b[1;34m\"Invalid Message:\"\u001b[0m\u001b[1;33m,\u001b[0m \u001b[0mexc_info\u001b[0m\u001b[1;33m=\u001b[0m\u001b[1;32mTrue\u001b[0m\u001b[1;33m)\u001b[0m\u001b[1;33m\u001b[0m\u001b[1;33m\u001b[0m\u001b[0m\n",
      "\u001b[1;31mKeyboardInterrupt\u001b[0m: Interrupted by user"
     ]
    }
   ],
   "source": [
    "t = int(input())  # Read the number of test cases\n",
    "\n",
    "for _ in range(t):\n",
    "    a, b = input().split()  # Read two space-separated values for each test case\n",
    "\n",
    "    try:\n",
    "        result = int(a) // int(b)  # Attempt integer division\n",
    "        print(result)  # Print the result if successful\n",
    "\n",
    "    except ZeroDivisionError as e:\n",
    "        # Handle ZeroDivisionError, print an error message\n",
    "        print(\"Error Code:\", e)\n",
    "\n",
    "    except ValueError as f:\n",
    "        # Handle ValueError, print an error message\n",
    "        print(\"Error Code:\", f)"
   ]
  },
  {
   "cell_type": "markdown",
   "metadata": {},
   "source": [
    "# Built-ins"
   ]
  },
  {
   "cell_type": "markdown",
   "metadata": {},
   "source": [
    "1 - Zipped"
   ]
  },
  {
   "cell_type": "code",
   "execution_count": null,
   "metadata": {},
   "outputs": [],
   "source": [
    "\n",
    "n, x = map(int, input().split())\n",
    "\n",
    "# Use a list comprehension to read scores directly\n",
    "scores = [list(map(float, input().split())) for _ in range(x)]\n",
    "\n",
    "# Use the zip function to transpose the list of scores and calculate the average for each column\n",
    "averages = [sum(column) / len(column) for column in zip(*scores)]\n",
    "\n",
    "# Print the averages\n",
    "for avg in averages:\n",
    "    print(avg)"
   ]
  },
  {
   "cell_type": "markdown",
   "metadata": {},
   "source": [
    "2 - Athlete Sort"
   ]
  },
  {
   "cell_type": "code",
   "execution_count": 135,
   "metadata": {
    "scrolled": true
   },
   "outputs": [
    {
     "name": "stdout",
     "output_type": "stream",
     "text": [
      "3 3\n",
      "1 3 4\n",
      "4 5 6\n",
      "7 6 4\n",
      "1\n",
      "1 3 4\n",
      "4 5 6\n",
      "7 6 4\n"
     ]
    }
   ],
   "source": [
    "\n",
    "import math\n",
    "import os\n",
    "import random\n",
    "import re\n",
    "import sys\n",
    "\n",
    "\n",
    "\n",
    "if __name__ == '__main__':\n",
    "    nm = input().split()\n",
    "\n",
    "    n = int(nm[0])\n",
    "\n",
    "    m = int(nm[1])\n",
    "\n",
    "    arr = []\n",
    "\n",
    "    for _ in range(n):\n",
    "        arr.append(list(map(int, input().rstrip().split())))\n",
    "        \n",
    "\n",
    "    k = int(input())\n",
    "    \n",
    "    \n",
    "    arr  = sorted(arr , key = lambda x : x[k])\n",
    "    \n",
    "    for elem in arr:\n",
    "        \n",
    "        print(' '.join(map(str , elem)))"
   ]
  },
  {
   "cell_type": "markdown",
   "metadata": {},
   "source": [
    "3 - ginortS"
   ]
  },
  {
   "cell_type": "code",
   "execution_count": null,
   "metadata": {},
   "outputs": [],
   "source": [
    "s = input()  # Take user input for a string\n",
    "\n",
    "l = []  # List to store lowercase letters\n",
    "g = []  # List to store uppercase letters\n",
    "b_even = []  # List to store even digits\n",
    "b_odd = []  # List to store odd digits\n",
    "\n",
    "# Separate characters into different groups\n",
    "for i in s:\n",
    "    if i.islower():\n",
    "        l.append(i)  # Append lowercase letters to the 'l' list\n",
    "\n",
    "for i in s:\n",
    "    if i.isupper():\n",
    "        g.append(i)  # Append uppercase letters to the 'g' list\n",
    "\n",
    "for i in s:\n",
    "    if i.isdigit():\n",
    "        if int(i) % 2 == 1:\n",
    "            b_odd.append(i)  # Append odd digits to the 'b_odd' list\n",
    "        else:\n",
    "            b_even.append(i)  # Append even digits to the 'b_even' list\n",
    "\n",
    "# Sort each group alphabetically or numerically\n",
    "g = sorted(g)\n",
    "l = sorted(l)\n",
    "b_even = sorted(b_even)\n",
    "b_odd = sorted(b_odd)\n",
    "\n",
    "# Concatenate the sorted groups to form the final string\n",
    "total = l + g + b_odd + b_even\n",
    "\n",
    "# Print the final string\n",
    "print(''.join(total))"
   ]
  },
  {
   "cell_type": "markdown",
   "metadata": {},
   "source": [
    "# Python Functionals"
   ]
  },
  {
   "cell_type": "markdown",
   "metadata": {},
   "source": [
    "1 - Map and Lambda Function"
   ]
  },
  {
   "cell_type": "code",
   "execution_count": 168,
   "metadata": {},
   "outputs": [
    {
     "data": {
      "text/plain": [
       "[0, 1, 1, 2, 3]"
      ]
     },
     "execution_count": 168,
     "metadata": {},
     "output_type": "execute_result"
    }
   ],
   "source": [
    "cube = lambda x: x ** 3 \n",
    "\n",
    "\n",
    "def fibonacci(n):\n",
    "    \n",
    "    fib_list = []\n",
    "    a, b = 0, 1\n",
    "    for _ in range(n):\n",
    "        fib_list.append(a)\n",
    "        a, b = b, a + b\n",
    "    return fib_list\n",
    "\n",
    "if __name__ == '__main__':\n",
    "    n = int(input())\n",
    "    print(list(map(cube, fibonacci(n))))"
   ]
  },
  {
   "cell_type": "markdown",
   "metadata": {},
   "source": [
    "# XML"
   ]
  },
  {
   "cell_type": "markdown",
   "metadata": {},
   "source": [
    "1 -XML 1 - Find the Score"
   ]
  },
  {
   "cell_type": "code",
   "execution_count": null,
   "metadata": {},
   "outputs": [],
   "source": [
    "import sys\n",
    "import xml.etree.ElementTree as etree\n",
    "\n",
    "def get_attr_number(node):\n",
    "    # your code goes here\n",
    "    sum1 = len(node.attrib)\n",
    "    for i in node:\n",
    "        sum1 += get_attr_number(i)\n",
    "    return count\n",
    "\n",
    "\n",
    "if __name__ == '__main__':\n",
    "    sys.stdin.readline()\n",
    "    xml = sys.stdin.read()\n",
    "    tree = etree.ElementTree(etree.fromstring(xml))\n",
    "    root = tree.getroot()\n",
    "    print(get_attr_number(root))"
   ]
  },
  {
   "cell_type": "markdown",
   "metadata": {},
   "source": [
    "# Closures and Decorators"
   ]
  },
  {
   "cell_type": "markdown",
   "metadata": {},
   "source": [
    "1 - Standardize Mobile Number Using Decorators"
   ]
  },
  {
   "cell_type": "code",
   "execution_count": null,
   "metadata": {},
   "outputs": [],
   "source": [
    "def wrapper(f):\n",
    "    v = []  # Initialize an empty list to store formatted phone numbers\n",
    "    \n",
    "    def fun(l):\n",
    "        for num in l:\n",
    "            # Format the phone number by adding the country code and separating into groups\n",
    "            number = '+91' + ' ' + num[-10: -5] + ' ' + num[-5:]\n",
    "            v.append(number)  # Append the formatted phone number to the list v\n",
    "        f(v)  # Call the original function f with the list of formatted phone numbers\n",
    "    \n",
    "    return fun\n",
    "\n",
    "@wrapper\n",
    "def sort_phone(l):\n",
    "    # Print the sorted list of formatted phone numbers\n",
    "    print(*sorted(l), sep='\\n')\n",
    "\n",
    "if __name__ == '__main__':\n",
    "    # Take user input for the number of phone numbers and the phone numbers themselves\n",
    "    l = [input() for _ in range(int(input()))]\n",
    "    \n",
    "    # Call the decorated function sort_phone\n",
    "    sort_phone(l)\n"
   ]
  },
  {
   "cell_type": "markdown",
   "metadata": {},
   "source": [
    "Decorators 2 - Name Directory"
   ]
  },
  {
   "cell_type": "code",
   "execution_count": 3,
   "metadata": {},
   "outputs": [
    {
     "ename": "KeyboardInterrupt",
     "evalue": "Interrupted by user",
     "output_type": "error",
     "traceback": [
      "\u001b[1;31m---------------------------------------------------------------------------\u001b[0m",
      "\u001b[1;31mKeyboardInterrupt\u001b[0m                         Traceback (most recent call last)",
      "\u001b[1;32m<ipython-input-3-c17293645936>\u001b[0m in \u001b[0;36m<module>\u001b[1;34m\u001b[0m\n\u001b[0;32m     18\u001b[0m \u001b[1;32mif\u001b[0m \u001b[0m__name__\u001b[0m \u001b[1;33m==\u001b[0m \u001b[1;34m'__main__'\u001b[0m\u001b[1;33m:\u001b[0m\u001b[1;33m\u001b[0m\u001b[1;33m\u001b[0m\u001b[0m\n\u001b[0;32m     19\u001b[0m     \u001b[1;31m# Take user input for the number of people and their details\u001b[0m\u001b[1;33m\u001b[0m\u001b[1;33m\u001b[0m\u001b[1;33m\u001b[0m\u001b[0m\n\u001b[1;32m---> 20\u001b[1;33m     \u001b[0mpeople\u001b[0m \u001b[1;33m=\u001b[0m \u001b[1;33m[\u001b[0m\u001b[0minput\u001b[0m\u001b[1;33m(\u001b[0m\u001b[1;33m)\u001b[0m\u001b[1;33m.\u001b[0m\u001b[0msplit\u001b[0m\u001b[1;33m(\u001b[0m\u001b[1;33m)\u001b[0m \u001b[1;32mfor\u001b[0m \u001b[0mi\u001b[0m \u001b[1;32min\u001b[0m \u001b[0mrange\u001b[0m\u001b[1;33m(\u001b[0m\u001b[0mint\u001b[0m\u001b[1;33m(\u001b[0m\u001b[0minput\u001b[0m\u001b[1;33m(\u001b[0m\u001b[1;33m)\u001b[0m\u001b[1;33m)\u001b[0m\u001b[1;33m)\u001b[0m\u001b[1;33m]\u001b[0m\u001b[1;33m\u001b[0m\u001b[1;33m\u001b[0m\u001b[0m\n\u001b[0m\u001b[0;32m     21\u001b[0m \u001b[1;33m\u001b[0m\u001b[0m\n\u001b[0;32m     22\u001b[0m     \u001b[1;31m# Call the decorated function name_format and print the formatted names\u001b[0m\u001b[1;33m\u001b[0m\u001b[1;33m\u001b[0m\u001b[1;33m\u001b[0m\u001b[0m\n",
      "\u001b[1;32m~\\anaconda3\\lib\\site-packages\\ipykernel\\kernelbase.py\u001b[0m in \u001b[0;36mraw_input\u001b[1;34m(self, prompt)\u001b[0m\n\u001b[0;32m    858\u001b[0m                 \u001b[1;34m\"raw_input was called, but this frontend does not support input requests.\"\u001b[0m\u001b[1;33m\u001b[0m\u001b[1;33m\u001b[0m\u001b[0m\n\u001b[0;32m    859\u001b[0m             )\n\u001b[1;32m--> 860\u001b[1;33m         return self._input_request(str(prompt),\n\u001b[0m\u001b[0;32m    861\u001b[0m             \u001b[0mself\u001b[0m\u001b[1;33m.\u001b[0m\u001b[0m_parent_ident\u001b[0m\u001b[1;33m,\u001b[0m\u001b[1;33m\u001b[0m\u001b[1;33m\u001b[0m\u001b[0m\n\u001b[0;32m    862\u001b[0m             \u001b[0mself\u001b[0m\u001b[1;33m.\u001b[0m\u001b[0m_parent_header\u001b[0m\u001b[1;33m,\u001b[0m\u001b[1;33m\u001b[0m\u001b[1;33m\u001b[0m\u001b[0m\n",
      "\u001b[1;32m~\\anaconda3\\lib\\site-packages\\ipykernel\\kernelbase.py\u001b[0m in \u001b[0;36m_input_request\u001b[1;34m(self, prompt, ident, parent, password)\u001b[0m\n\u001b[0;32m    902\u001b[0m             \u001b[1;32mexcept\u001b[0m \u001b[0mKeyboardInterrupt\u001b[0m\u001b[1;33m:\u001b[0m\u001b[1;33m\u001b[0m\u001b[1;33m\u001b[0m\u001b[0m\n\u001b[0;32m    903\u001b[0m                 \u001b[1;31m# re-raise KeyboardInterrupt, to truncate traceback\u001b[0m\u001b[1;33m\u001b[0m\u001b[1;33m\u001b[0m\u001b[1;33m\u001b[0m\u001b[0m\n\u001b[1;32m--> 904\u001b[1;33m                 \u001b[1;32mraise\u001b[0m \u001b[0mKeyboardInterrupt\u001b[0m\u001b[1;33m(\u001b[0m\u001b[1;34m\"Interrupted by user\"\u001b[0m\u001b[1;33m)\u001b[0m \u001b[1;32mfrom\u001b[0m \u001b[1;32mNone\u001b[0m\u001b[1;33m\u001b[0m\u001b[1;33m\u001b[0m\u001b[0m\n\u001b[0m\u001b[0;32m    905\u001b[0m             \u001b[1;32mexcept\u001b[0m \u001b[0mException\u001b[0m \u001b[1;32mas\u001b[0m \u001b[0me\u001b[0m\u001b[1;33m:\u001b[0m\u001b[1;33m\u001b[0m\u001b[1;33m\u001b[0m\u001b[0m\n\u001b[0;32m    906\u001b[0m                 \u001b[0mself\u001b[0m\u001b[1;33m.\u001b[0m\u001b[0mlog\u001b[0m\u001b[1;33m.\u001b[0m\u001b[0mwarning\u001b[0m\u001b[1;33m(\u001b[0m\u001b[1;34m\"Invalid Message:\"\u001b[0m\u001b[1;33m,\u001b[0m \u001b[0mexc_info\u001b[0m\u001b[1;33m=\u001b[0m\u001b[1;32mTrue\u001b[0m\u001b[1;33m)\u001b[0m\u001b[1;33m\u001b[0m\u001b[1;33m\u001b[0m\u001b[0m\n",
      "\u001b[1;31mKeyboardInterrupt\u001b[0m: Interrupted by user"
     ]
    }
   ],
   "source": [
    "import operator\n",
    "\n",
    "# Decorator function\n",
    "def person_lister(f):\n",
    "    def inner(people):\n",
    "        # Sort people based on the third element (age)\n",
    "        ls = sorted(people, key=lambda x: int(x[2]))\n",
    "        # Apply the decorated function to each person in the sorted list\n",
    "        return [f(p) for p in ls]\n",
    "    return inner\n",
    "\n",
    "# Decorated function\n",
    "@person_lister\n",
    "def name_format(person):\n",
    "    # Format the name based on gender\n",
    "    return (\"Mr. \" if person[3] == \"M\" else \"Ms. \") + person[0] + \" \" + person[1]\n",
    "\n",
    "if __name__ == '__main__':\n",
    "    # Take user input for the number of people and their details\n",
    "    people = [input().split() for i in range(int(input()))]\n",
    "    \n",
    "    # Call the decorated function name_format and print the formatted names\n",
    "    print(*name_format(people), sep='\\n')\n"
   ]
  },
  {
   "cell_type": "code",
   "execution_count": null,
   "metadata": {},
   "outputs": [],
   "source": []
  },
  {
   "cell_type": "markdown",
   "metadata": {},
   "source": [
    "# numpy"
   ]
  },
  {
   "cell_type": "markdown",
   "metadata": {},
   "source": [
    "1 - Min and Max"
   ]
  },
  {
   "cell_type": "code",
   "execution_count": 2,
   "metadata": {
    "scrolled": false
   },
   "outputs": [
    {
     "name": "stdout",
     "output_type": "stream",
     "text": [
      "4 2\n",
      "2 5\n",
      "3 7\n",
      "1 3\n",
      "4 0\n",
      "3\n"
     ]
    }
   ],
   "source": [
    "import numpy as np\n",
    "\n",
    "# Take user input for the number of rows and columns in the 2D array\n",
    "n, m = map(int, input().split())\n",
    "\n",
    "# Initialize an empty list to store rows of the array\n",
    "arr = []\n",
    "\n",
    "# Input the 2D array\n",
    "for _ in range(n):\n",
    "    row = list(map(int, input().split()))\n",
    "    arr.append(row)\n",
    "\n",
    "# Convert the list of lists to a NumPy array\n",
    "array = np.array(arr)\n",
    "\n",
    "# Find the minimum values along each row\n",
    "min_rows = np.min(array, axis=1)\n",
    "\n",
    "# Find the maximum value among the minimum values\n",
    "max_arr = np.max(min_rows)\n",
    "\n",
    "# Print the result\n",
    "print(max_arr)\n"
   ]
  },
  {
   "cell_type": "markdown",
   "metadata": {},
   "source": [
    "2 - mean var and std"
   ]
  },
  {
   "cell_type": "code",
   "execution_count": 5,
   "metadata": {},
   "outputs": [
    {
     "name": "stdout",
     "output_type": "stream",
     "text": [
      "2 2\n",
      "1 3\n",
      "2 4\n",
      "[2. 3.]\n",
      "[0.25 0.25]\n",
      "1.11803398875\n"
     ]
    }
   ],
   "source": [
    "import numpy as np \n",
    "\n",
    "n , m = map(int , input().split())\n",
    "\n",
    "#initialize an array \n",
    "arr = []\n",
    "\n",
    "for _ in range(n):\n",
    "    \n",
    "    row = list(map(int , input().split()))\n",
    "    arr.append(row)\n",
    "    \n",
    "array = np.array(arr)\n",
    "\n",
    "mean = np.mean(array , axis = 1)\n",
    "var = np.var(array , axis = 0 )\n",
    "std = np.std(array , axis = None)\n",
    "\n",
    "print(mean)\n",
    "print(var)\n",
    "print(f'{std:.11f}')\n"
   ]
  },
  {
   "cell_type": "markdown",
   "metadata": {},
   "source": [
    "3 - Dot and Cross"
   ]
  },
  {
   "cell_type": "code",
   "execution_count": 14,
   "metadata": {},
   "outputs": [
    {
     "name": "stdout",
     "output_type": "stream",
     "text": [
      "2\n",
      "1 2\n",
      "3 4\n",
      "1 2\n",
      "3 4\n",
      "[[ 7 10]\n",
      " [15 22]]\n"
     ]
    }
   ],
   "source": [
    "n = list(map(int , input().split()))\n",
    "n = n[0]\n",
    "A = []\n",
    "B = []\n",
    "for _ in range(n):\n",
    "    A.append(list(map(int , input().split())))\n",
    "    \n",
    "for _ in range(n):\n",
    "    B.append(list(map(int , input().split())))\n",
    "\n",
    "    \n",
    "result = np.dot(A , B)\n",
    "print(result)"
   ]
  },
  {
   "cell_type": "markdown",
   "metadata": {},
   "source": [
    "4 - Inner and Outer"
   ]
  },
  {
   "cell_type": "code",
   "execution_count": 15,
   "metadata": {},
   "outputs": [
    {
     "name": "stdout",
     "output_type": "stream",
     "text": [
      "2 2 \n",
      "1 3\n",
      "8\n",
      "[[2 6]\n",
      " [2 6]]\n"
     ]
    }
   ],
   "source": [
    "\n",
    "# Take user input for array A\n",
    "A = np.array(list(map(int, input().split())))\n",
    "\n",
    "# Take user input for array B\n",
    "B = np.array(list(map(int, input().split())))\n",
    "\n",
    "# Calculate and print the inner product of A and B\n",
    "print(np.inner(A, B))\n",
    "\n",
    "# Calculate and print the outer product of A and B\n",
    "print(np.outer(A, B))"
   ]
  },
  {
   "cell_type": "markdown",
   "metadata": {},
   "source": [
    "5 - Polynomials"
   ]
  },
  {
   "cell_type": "code",
   "execution_count": 17,
   "metadata": {},
   "outputs": [
    {
     "name": "stdout",
     "output_type": "stream",
     "text": [
      "1.1 2 3\n",
      "0\n",
      "3.0\n"
     ]
    }
   ],
   "source": [
    "# Enter your code here. Read input from STDIN. Print output to STDOUT\n",
    "import numpy as np \n",
    "\n",
    "\n",
    "\n",
    "arr = list(map(float , input().split()))\n",
    "\n",
    "x = int(input())\n",
    "\n",
    "arr = np.array(arr)\n",
    "print(np.polyval(arr , x))\n",
    "\n"
   ]
  },
  {
   "cell_type": "markdown",
   "metadata": {},
   "source": [
    "6 - determinants"
   ]
  },
  {
   "cell_type": "code",
   "execution_count": 25,
   "metadata": {},
   "outputs": [
    {
     "name": "stdout",
     "output_type": "stream",
     "text": [
      "2\n",
      "1 3\n",
      "4 5\n",
      "-7.0\n"
     ]
    }
   ],
   "source": [
    "# Enter your code here. Read input from STDIN. Print output to STDOUT\n",
    "import numpy as np \n",
    "\n",
    "n = int(input())\n",
    "\n",
    "arr = [list(map(float  , input().split())) for i in range(n)]\n",
    "\n",
    "arr = np.array(arr)\n",
    "\n",
    "print(round(np.linalg.det(arr) , 2))\n"
   ]
  },
  {
   "cell_type": "markdown",
   "metadata": {},
   "source": [
    "8 - Transpose and Flatten"
   ]
  },
  {
   "cell_type": "code",
   "execution_count": 26,
   "metadata": {},
   "outputs": [
    {
     "name": "stdout",
     "output_type": "stream",
     "text": [
      "2 2\n",
      "1 3\n",
      "4 5\n",
      "[[1 4]\n",
      " [3 5]]\n",
      "[1 3 4 5]\n"
     ]
    }
   ],
   "source": [
    "import numpy as np\n",
    "\n",
    "# Take user input for the number of rows (N) and columns (M) in the array\n",
    "N, M = map(int, input().split())\n",
    "\n",
    "# Initialize an empty list to store the rows of the array\n",
    "l = []\n",
    "\n",
    "# Input the 2D array\n",
    "for _ in range(N):\n",
    "    l.append(list(map(int, input().split())))\n",
    "\n",
    "# Convert the list of lists to a NumPy array\n",
    "arr = np.array(l)\n",
    "\n",
    "# Print the transpose of the array\n",
    "print(np.transpose(arr))\n",
    "\n",
    "# Print the flattened version of the array\n",
    "print(arr.flatten())\n"
   ]
  },
  {
   "cell_type": "markdown",
   "metadata": {},
   "source": [
    "9 - Concatenate"
   ]
  },
  {
   "cell_type": "code",
   "execution_count": null,
   "metadata": {},
   "outputs": [],
   "source": [
    "# Enter your code here. Read input from STDIN. Print output to STDOUT\n",
    "#this code written with the help of chatgp\n",
    "\n",
    "import numpy as np\n",
    "\n",
    "# Read the input values\n",
    "n, m, p = map(int, input().split())\n",
    "\n",
    "# Initialize empty arrays\n",
    "arr1 = np.empty((0, p), dtype=int)\n",
    "arr2 = np.empty((0, p), dtype=int)\n",
    "\n",
    "# Read the first array\n",
    "for _ in range(n):\n",
    "    row = np.array(list(map(int, input().split())))\n",
    "    arr1 = np.vstack((arr1, row))\n",
    "\n",
    "# Read the second array\n",
    "for _ in range(m):\n",
    "    row = np.array(list(map(int, input().split())))\n",
    "    arr2 = np.vstack((arr2, row))\n",
    "\n",
    "# Concatenate the arrays along axis 0 (rows)\n",
    "result = np.concatenate((arr1, arr2), axis=0)\n",
    "\n",
    "# Print the concatenated array\n",
    "print(result)"
   ]
  },
  {
   "cell_type": "markdown",
   "metadata": {},
   "source": [
    "10 -Zeros and Ones"
   ]
  },
  {
   "cell_type": "code",
   "execution_count": null,
   "metadata": {},
   "outputs": [],
   "source": [
    "import numpy as np\n",
    "shape  =  tuple(map(int , input().split()))\n",
    "\n",
    "A = np.ones(shape , dtype = int)\n",
    "\n",
    "B = np.zeros(shape , dtype = int)\n",
    "        \n",
    "\n",
    "print(B)\n",
    "print(A)\n",
    "        "
   ]
  },
  {
   "cell_type": "markdown",
   "metadata": {},
   "source": [
    "11 - Eye and identity"
   ]
  },
  {
   "cell_type": "code",
   "execution_count": 35,
   "metadata": {},
   "outputs": [
    {
     "name": "stdout",
     "output_type": "stream",
     "text": [
      "3 3 \n",
      "[[1. 0. 0.]\n",
      " [0. 1. 0.]\n",
      " [0. 0. 1.]]\n"
     ]
    }
   ],
   "source": [
    "# Enter your code here. Read input from STDIN. Print output to STDOUT\n",
    "import numpy as  np \n",
    "\n",
    "np.set_printoptions(legacy = '1.13')\n",
    "\n",
    "\n",
    "N , m = map(int , input().split())\n",
    "\n",
    "\n",
    "\n",
    "arr = np.eye(N , m, k = 0)\n",
    "\n",
    "print(arr)"
   ]
  },
  {
   "cell_type": "markdown",
   "metadata": {},
   "source": [
    "12 - array mathematics"
   ]
  },
  {
   "cell_type": "code",
   "execution_count": null,
   "metadata": {},
   "outputs": [],
   "source": [
    "# Enter your code here. Read input from STDIN. Print output to STDOUT \n",
    "import numpy as np\n",
    "\n",
    "# Read the input values\n",
    "n, m = map(int, input().split())\n",
    "\n",
    "# Initialize arrays\n",
    "arr1 = np.array([list(map(int, input().split())) for _ in range(n)])\n",
    "arr2 = np.array([list(map(int, input().split())) for _ in range(n)])\n",
    "\n",
    "# Perform operations\n",
    "addition_result = np.add(arr1, arr2)\n",
    "subtraction_result = np.subtract(arr1, arr2)\n",
    "multiplication_result = np.multiply(arr1, arr2)\n",
    "division_result = np.floor_divide(arr1, arr2)\n",
    "modulus_result = np.mod(arr1, arr2)\n",
    "power_result = np.power(arr1, arr2)\n",
    "\n",
    "# Print the results\n",
    "print(addition_result)\n",
    "print(subtraction_result)\n",
    "print(multiplication_result)\n",
    "print(division_result)\n",
    "print(modulus_result)\n",
    "print(power_result)"
   ]
  },
  {
   "cell_type": "markdown",
   "metadata": {},
   "source": [
    "13- floor , ceil , rint "
   ]
  },
  {
   "cell_type": "code",
   "execution_count": null,
   "metadata": {},
   "outputs": [],
   "source": [
    "# Enter your code here. Read input from STDIN. Print output to STDOUT\n",
    "import numpy as np\n",
    "np.set_printoptions(legacy = '1.13')\n",
    "\n",
    "A = np.array(list(map(float , input().split())))\n",
    "\n",
    "\n",
    "print(np.floor(A))\n",
    "print(np.ceil(A))\n",
    "print(np.rint(A))\n"
   ]
  },
  {
   "cell_type": "markdown",
   "metadata": {},
   "source": [
    "14 - Sum and Prod"
   ]
  },
  {
   "cell_type": "code",
   "execution_count": null,
   "metadata": {},
   "outputs": [],
   "source": [
    "# Enter younp.r code here. Read input from STDIN. Print output to STDOUT\n",
    "import numpy as np \n",
    "N , M = map(int , input().split())\n",
    "\n",
    "\n",
    "\n",
    "arr = np.array([list(map(int , input().split())) for _ in range(N)])\n",
    "\n",
    "\n",
    "sum1 = np.sum(arr , axis = 0 )\n",
    "\n",
    "print(np.prod(sum1 , axis = None))\n",
    "\n"
   ]
  },
  {
   "cell_type": "markdown",
   "metadata": {},
   "source": [
    "15 - mean, var , std"
   ]
  },
  {
   "cell_type": "code",
   "execution_count": null,
   "metadata": {},
   "outputs": [],
   "source": [
    "import numpy\n",
    "N, M = map(int, input().split())\n",
    "a = numpy.array([list(map(int, input().split())) for _ in range(N)])\n",
    "\n",
    "print(numpy.mean(a, axis = 1))\n",
    "print(numpy.var(a, axis = 0))\n",
    "print(numpy.std(a))"
   ]
  },
  {
   "cell_type": "markdown",
   "metadata": {},
   "source": [
    "# Regex"
   ]
  },
  {
   "cell_type": "markdown",
   "metadata": {},
   "source": [
    "1 - Detect Floating Point Number"
   ]
  },
  {
   "cell_type": "code",
   "execution_count": 2,
   "metadata": {},
   "outputs": [],
   "source": [
    "import re"
   ]
  },
  {
   "cell_type": "code",
   "execution_count": 16,
   "metadata": {
    "scrolled": true
   },
   "outputs": [
    {
     "name": "stdout",
     "output_type": "stream",
     "text": [
      "4\n",
      "fdsf\n",
      "fsd\n",
      "3.3\n",
      "0.434\n",
      "False\n",
      "False\n",
      "True\n",
      "True\n"
     ]
    }
   ],
   "source": [
    "\n",
    "\n",
    "regex = '^[+-]?(\\d+\\.\\d+|\\.\\d+|\\d+)$'      #can be start with + or - follow with digit one or more follow by a . and digit as follows\n",
    "\n",
    "n = int(input())\n",
    "\n",
    "l = []\n",
    "\n",
    "for i in range(n):\n",
    "    l.append(input())\n",
    "    \n",
    "    \n",
    "for i in l:\n",
    "    print(bool(re.search(regex, i)) and bool(i.count('.') == 1))   #the number of . should be 1\n"
   ]
  },
  {
   "cell_type": "markdown",
   "metadata": {},
   "source": [
    "2 - Re.split()"
   ]
  },
  {
   "cell_type": "code",
   "execution_count": 17,
   "metadata": {},
   "outputs": [
    {
     "name": "stdout",
     "output_type": "stream",
     "text": [
      "100.000.0,000\n",
      "100\n",
      "000\n",
      "0\n",
      "000\n"
     ]
    }
   ],
   "source": [
    "regex_pattern = r\"[.,]\"\t# Do not delete 'r'.\n",
    "\n",
    "\n",
    "print(\"\\n\".join(re.split(regex_pattern, input())))"
   ]
  },
  {
   "cell_type": "markdown",
   "metadata": {},
   "source": [
    "3 -  group , groups and groupdict"
   ]
  },
  {
   "cell_type": "code",
   "execution_count": 50,
   "metadata": {},
   "outputs": [
    {
     "name": "stdout",
     "output_type": "stream",
     "text": [
      "Hackerrank\n",
      "r\n"
     ]
    }
   ],
   "source": [
    "\n",
    "pattern = re.compile(r'([A-Za-z0-9])\\1+')\n",
    "\n",
    "inp = input()\n",
    "matches = pattern.findall(inp)\n",
    "\n",
    "\n",
    "if len(matches) > 0:\n",
    "    print(matches[0])\n",
    "    \n",
    "else:\n",
    "    print(-1)"
   ]
  },
  {
   "cell_type": "markdown",
   "metadata": {},
   "source": [
    "4 - Re.findall() & Re.finditer()"
   ]
  },
  {
   "cell_type": "code",
   "execution_count": 53,
   "metadata": {},
   "outputs": [
    {
     "name": "stdout",
     "output_type": "stream",
     "text": [
      "ldskfslk\n",
      "-1\n"
     ]
    }
   ],
   "source": [
    "\n",
    "#The provided code uses a regular expression to find sequences of consecutive vowels (of length 2 or more) \n",
    "#that are surrounded by non-vowel characters. Here's a breakdown of the \n",
    "\n",
    "pattern = re.compile(r'(?<=[^oaeuiAIEOU])([oaeuiAIUEO]{2,})(?=[^oaeuiAIEOU])')\n",
    "\n",
    "inp = input()\n",
    "\n",
    "matches = pattern.findall(inp)\n",
    "if len(matches) > 0:\n",
    "    for i in matches:\n",
    "        print(i)\n",
    "else:\n",
    "    print(-1)"
   ]
  },
  {
   "cell_type": "markdown",
   "metadata": {},
   "source": [
    "5 -  Re.start() & Re.end()"
   ]
  },
  {
   "cell_type": "code",
   "execution_count": 88,
   "metadata": {},
   "outputs": [
    {
     "name": "stdout",
     "output_type": "stream",
     "text": [
      "aaadaa\n",
      "aa\n",
      "(0, 1)\n",
      "(1, 2)\n",
      "(4, 5)\n"
     ]
    }
   ],
   "source": [
    "#written with the help of chatGPT\n",
    "import re\n",
    "\n",
    "# Take user input for the main string\n",
    "main_string = input(\"Enter the main string: \")\n",
    "\n",
    "# Take user input for the substring to search for\n",
    "substring = input(\"Enter the substring to find: \")\n",
    "\n",
    "# Construct a regular expression pattern with a positive lookahead for the substring\n",
    "pattern = re.compile(r'(?=(' + re.escape(substring) + '))')\n",
    "\n",
    "# Find all matches in the main string using the defined pattern\n",
    "matches = list(pattern.finditer(main_string))\n",
    "\n",
    "# Check if there are any matches\n",
    "if not matches:\n",
    "    # If no matches are found, print (-1, -1)\n",
    "    print((-1, -1))\n",
    "\n",
    "# Iterate through each match and print the starting and ending indices\n",
    "for match in matches:\n",
    "    print((match.start(1), match.end(1)-1))\n"
   ]
  },
  {
   "cell_type": "markdown",
   "metadata": {},
   "source": [
    "6 - Regex Substitution"
   ]
  },
  {
   "cell_type": "code",
   "execution_count": null,
   "metadata": {},
   "outputs": [],
   "source": [
    "import re\n",
    "\n",
    "number = int(input())\n",
    "\n",
    "# Custom replacement function\n",
    "def find(match):\n",
    "    if match.group(0) == \"&&\":\n",
    "        return 'and'\n",
    "    else:\n",
    "        return 'or'\n",
    "\n",
    "# Iterate for each line\n",
    "for _ in range(number):\n",
    "    # Take user input for a line\n",
    "    line = input()\n",
    "\n",
    "    # Use re.sub() to replace \"&&\" and \"||\" with \"and\" and \"or\"\n",
    "    modified_line = re.sub(r'(?<= )(&&|\\|\\|)(?= )', find, line)\n",
    "\n",
    "    # Print the modified line\n",
    "    print(modified_line)\n"
   ]
  },
  {
   "cell_type": "markdown",
   "metadata": {},
   "source": [
    "7 - Validating Roman Numerals"
   ]
  },
  {
   "cell_type": "code",
   "execution_count": null,
   "metadata": {},
   "outputs": [],
   "source": [
    "#written with the help of chatGPT\n",
    "\n",
    "import re\n",
    "\n",
    "# Define the regular expression pattern for Roman numerals\n",
    "regex_pattern = r\"^M{0,3}(CM|CD|D?C{0,3})(XC|XL|L?X{0,3})(IX|IV|V?I{0,3})$\"\n",
    "\n",
    "# Take user input for a Roman numeral\n",
    "input_string = input()\n",
    "\n",
    "# Use re.match() to check if the input string matches the pattern\n",
    "match_result = re.match(regex_pattern, input_string)\n",
    "\n",
    "# Convert the match result to a boolean and print it\n",
    "print(str(bool(match_result)))\n"
   ]
  },
  {
   "cell_type": "markdown",
   "metadata": {},
   "source": [
    "8 - Validating phone numbers"
   ]
  },
  {
   "cell_type": "code",
   "execution_count": 182,
   "metadata": {},
   "outputs": [],
   "source": [
    "import re"
   ]
  },
  {
   "cell_type": "code",
   "execution_count": 192,
   "metadata": {},
   "outputs": [
    {
     "name": "stdout",
     "output_type": "stream",
     "text": [
      "2\n",
      "9587456281\n",
      "YES\n",
      "1252478965\n",
      "NO\n"
     ]
    }
   ],
   "source": [
    "import re\n",
    "regex = '^[89]\\d{9}$'            #start with 8 or 9 follow with 9 digit and end \n",
    "\n",
    "n = int(input())        #the numbeer of phone number need to be validated\n",
    "\n",
    "\n",
    "\n",
    "\n",
    "for i in range(n):\n",
    "    \n",
    "    string =  input()         #get the phone number\n",
    "    \n",
    "    a = bool(re.match(regex , string))        #check the validation \n",
    "\n",
    "    if a:\n",
    "        print('YES')                          #yes if true phone number else No\n",
    "    else:\n",
    "        print('NO')\n"
   ]
  },
  {
   "cell_type": "markdown",
   "metadata": {},
   "source": [
    "9 - Validating and Parsing Email Addresses"
   ]
  },
  {
   "cell_type": "code",
   "execution_count": 194,
   "metadata": {},
   "outputs": [
    {
     "name": "stdout",
     "output_type": "stream",
     "text": [
      "2\n",
      "sdfksd <dexter@hotmail.com>\n",
      "sdfksd <<dexter@hotmail.com>>\n",
      "fsdfsd <virus!@variable.:p>\n"
     ]
    }
   ],
   "source": [
    "import re\n",
    "\n",
    "def is_valid_email(email):\n",
    "    # Define the regular expression pattern for a valid email\n",
    "    pattern = r'^\\<[a-zA-Z][a-zA-Z0-9._-]*@[a-zA-Z]+\\.[a-zA-Z]{1,3}\\>$'\n",
    "    # Check if the email matches the pattern\n",
    "    return re.match(pattern, email) is not None\n",
    "\n",
    "if __name__ == \"__main__\":\n",
    "    # Take user input for the number of pairs\n",
    "    n = int(input())\n",
    "\n",
    "    # Iterate for each pair\n",
    "    for _ in range(n):\n",
    "        # Take user input for name and email\n",
    "        name, email = input().split()\n",
    "\n",
    "        # Check if the email is valid using the is_valid_email function\n",
    "        if is_valid_email(email):\n",
    "            # Print the name and email if the email is valid\n",
    "            print(f'{name} {email}')\n"
   ]
  },
  {
   "cell_type": "markdown",
   "metadata": {},
   "source": [
    "10 - Hex Color Code"
   ]
  },
  {
   "cell_type": "code",
   "execution_count": null,
   "metadata": {},
   "outputs": [],
   "source": [
    "import re\n",
    "\n",
    "def extract_hex_color_codes(css_code):\n",
    "    # Regular expression to find HEX color codes\n",
    "    pattern = r'#(?:[0-9a-fA-F]{3}){1,2}\\b'\n",
    "    return re.findall(pattern, css_code)\n",
    "\n",
    "if __name__ == \"__main__\":\n",
    "    n = int(input())\n",
    "    css_lines = [input() for _ in range(n)]\n",
    "    \n",
    "    for line in css_lines:\n",
    "        \n",
    "        if len(line) > 10:  #skip the selectors\n",
    "            \n",
    "            # Extract HEX color codes from each line\n",
    "            hex_color_codes = extract_hex_color_codes(line)\n",
    "        \n",
    "        # Print the valid HEX color codes\n",
    "            for color_code in hex_color_codes:\n",
    "                print(color_code)\n",
    "\n",
    "\n",
    "\n",
    "\n"
   ]
  },
  {
   "cell_type": "markdown",
   "metadata": {},
   "source": [
    "11 - HTML Parser - Part 1"
   ]
  },
  {
   "cell_type": "code",
   "execution_count": null,
   "metadata": {},
   "outputs": [],
   "source": [
    "# this code write with the help of chatgpt\n",
    "from html.parser import HTMLParser\n",
    "\n",
    "class MyHTMLParser(HTMLParser):\n",
    "    def handle_starttag(self, tag, attrs):\n",
    "        print(f\"Start : {tag}\")\n",
    "        self.print_attrs(attrs)\n",
    "\n",
    "    def handle_endtag(self, tag):\n",
    "        print(f\"End   : {tag}\")\n",
    "\n",
    "    def handle_startendtag(self, tag, attrs):\n",
    "        print(f\"Empty : {tag}\")\n",
    "        self.print_attrs(attrs)\n",
    "\n",
    "    def print_attrs(self, attrs):\n",
    "        for attr in attrs:\n",
    "            print(f\"-> {attr[0]} > {attr[1] if attr[1] else 'None'}\")\n",
    "\n",
    "if __name__ == \"__main__\":\n",
    "    n = int(input())\n",
    "    html_lines = [input() for _ in range(n)]\n",
    "\n",
    "    html_code = '\\n'.join(html_lines)\n",
    "    parser = MyHTMLParser()\n",
    "    parser.feed(html_code)"
   ]
  },
  {
   "cell_type": "markdown",
   "metadata": {},
   "source": [
    "12 - HTML Parser - Part 2"
   ]
  },
  {
   "cell_type": "code",
   "execution_count": null,
   "metadata": {},
   "outputs": [],
   "source": [
    "# Enter your code here. Read input from STDIN. Print output to STDOUT\n",
    "from html.parser import HTMLParser\n",
    "\n",
    "class MyHTMLParser(HTMLParser):\n",
    "    def handle_starttag(self, tag, attrs):\n",
    "        print(f\"Start : {tag}\")\n",
    "        self.print_attrs(attrs)\n",
    "\n",
    "    def handle_endtag(self, tag):\n",
    "        print(f\"End   : {tag}\")\n",
    "\n",
    "    def handle_startendtag(self, tag, attrs):\n",
    "        print(f\"Empty : {tag}\")\n",
    "        self.print_attrs(attrs)\n",
    "\n",
    "    def print_attrs(self, attrs):\n",
    "        for attr in attrs:\n",
    "            print(f\"-> {attr[0]} > {attr[1] if attr[1] else 'None'}\")\n",
    "\n",
    "if __name__ == \"__main__\":\n",
    "    n = int(input())\n",
    "    html_lines = [input() for _ in range(n)]\n",
    "\n",
    "    html_code = '\\n'.join(html_lines)\n",
    "    parser = MyHTMLParser()\n",
    "    parser.feed(html_code)\n"
   ]
  },
  {
   "cell_type": "markdown",
   "metadata": {},
   "source": [
    "13 - Detect HTML Tags, Attributes and Attribute Values"
   ]
  },
  {
   "cell_type": "code",
   "execution_count": 197,
   "metadata": {
    "scrolled": true
   },
   "outputs": [
    {
     "name": "stdout",
     "output_type": "stream",
     "text": [
      "9\n",
      "<head>\n",
      "<title>HTML</title>\n",
      "</head>\n",
      "<object type=\"application/x-flash\" \n",
      " data=\"your-file.swf\" \n",
      " width=\"0\" height=\"0\">\n",
      "<!-- <param name=\"movie\" value=\"your-file.swf\" /> -->\n",
      "<param name=\"quality\" value=\"high\"/>\n",
      "</object>\n",
      "head\n",
      "title\n",
      "title\n",
      "head\n",
      "object\n",
      "-> type > application/x-flash\n",
      "-> data > your-file.swf\n",
      "-> width > 0\n",
      "-> height > 0\n",
      "param\n",
      "-> name > quality\n",
      "-> value > high\n",
      "param\n",
      "object\n"
     ]
    }
   ],
   "source": [
    "from html.parser import HTMLParser\n",
    "\n",
    "class MyHTMLParser(HTMLParser):\n",
    "    def handle_starttag(self, tag, attrs):\n",
    "        print(f\"{tag}\")\n",
    "        self.print_attrs(attrs)\n",
    "\n",
    "   \n",
    "    \n",
    "\n",
    "    def print_attrs(self, attrs):\n",
    "        for attr in attrs:\n",
    "            print(f\"-> {attr[0]} > {attr[1] if attr[1] else 'None'}\")\n",
    "\n",
    "if __name__ == \"__main__\":\n",
    "    n = int(input())\n",
    "    html_lines = [input() for _ in range(n)]\n",
    "\n",
    "    html_code = '\\n'.join(html_lines)\n",
    "    parser = MyHTMLParser()\n",
    "    parser.feed(html_code)"
   ]
  },
  {
   "cell_type": "markdown",
   "metadata": {},
   "source": [
    "14 - Validating UID"
   ]
  },
  {
   "cell_type": "code",
   "execution_count": 204,
   "metadata": {},
   "outputs": [
    {
     "name": "stdout",
     "output_type": "stream",
     "text": [
      "2\n",
      "B1CD10235444\n",
      "Invalid\n",
      "B1CDEF2354\n",
      "Valid\n"
     ]
    }
   ],
   "source": [
    "\n",
    "def check_uid(UID):\n",
    "        \n",
    "    if len(UID) == 10 and  UID.isalnum() and len(set(UID)) == len(UID):        # check len UID == 10 and check all of the chr is alphanumeric \n",
    "                                                                            # and check UID does not have duplicate value\n",
    "        \n",
    "        uppercase_count = sum(c.isupper() for c in UID)\n",
    "        \n",
    "        if uppercase_count >= 2:                                 #check UID at least has two upper case letter\n",
    "            \n",
    "            digit_count = sum(c.isdigit() for c in UID)\n",
    "            \n",
    "            if digit_count >= 3:                                 #check UID at least has three digits\n",
    "                \n",
    "                return True\n",
    "    else:\n",
    "        return False\n",
    "    \n",
    "            \n",
    "               \n",
    "\n",
    "n  = int(input())                  #num of UID\n",
    "\n",
    "\n",
    "for i in range(n):\n",
    "    \n",
    "    UID = input()\n",
    "    result = check_uid(UID)               #give Uid to the function\n",
    "    \n",
    "    if result:\n",
    "        print('Valid')\n",
    "    else:\n",
    "        print('Invalid')"
   ]
  },
  {
   "cell_type": "markdown",
   "metadata": {},
   "source": [
    "15 - Validating Credit Card Numbers"
   ]
  },
  {
   "cell_type": "code",
   "execution_count": null,
   "metadata": {},
   "outputs": [],
   "source": [
    "import re\n",
    "\n",
    "def is_valid_credit_card(card_number):\n",
    "    # Define the regular expression pattern for a valid credit card number\n",
    "    pattern = r'^([456]\\d{3}-?\\d{4}-?\\d{4}-?\\d{4}|[456]\\d{15})$'\n",
    "    consecutive_digits_pattern = r'(\\d)\\1{3,}'  # Pattern to detect consecutive repeating digits\n",
    "\n",
    "    # Check if the card number matches the pattern\n",
    "    if re.match(pattern, card_number):\n",
    "        # Remove non-digit characters\n",
    "        digits_only = re.sub(r'[^0-9]', '', card_number)\n",
    "        # Check if there are no consecutive repeating digits\n",
    "        if not re.search(consecutive_digits_pattern, digits_only):\n",
    "            return 'Valid'\n",
    "    \n",
    "    return 'Invalid'\n",
    "\n",
    "# Input handling\n",
    "n = int(input())\n",
    "credit_cards = [input().strip() for _ in range(n)]\n",
    "\n",
    "# Validation and output\n",
    "for card in credit_cards:\n",
    "    print(is_valid_credit_card(card))\n",
    "\n"
   ]
  },
  {
   "cell_type": "markdown",
   "metadata": {},
   "source": [
    "16 - Validating Postal Codes"
   ]
  },
  {
   "cell_type": "code",
   "execution_count": null,
   "metadata": {},
   "outputs": [],
   "source": [
    "import re\n",
    "\n",
    "# Define the regular expression pattern for an integer in a specific range\n",
    "regex_integer_in_range = r'^[1-9][0-9]{5}$'\n",
    "\n",
    "# Define the regular expression pattern for an alternating repetitive digit pair\n",
    "regex_alternating_repetitive_digit_pair = r'(\\d)(?=\\d\\1)'\n",
    "\n",
    "# Take user input for the string P\n",
    "P = input()\n",
    "\n",
    "# Check if P satisfies both conditions using re.match and re.findall\n",
    "# Print True if both conditions are met, otherwise print False\n",
    "print(bool(re.match(regex_integer_in_range, P)) and len(re.findall(regex_alternating_repetitive_digit_pair, P)) < 2)\n"
   ]
  }
 ],
 "metadata": {
  "kernelspec": {
   "display_name": "Python 3",
   "language": "python",
   "name": "python3"
  },
  "language_info": {
   "codemirror_mode": {
    "name": "ipython",
    "version": 3
   },
   "file_extension": ".py",
   "mimetype": "text/x-python",
   "name": "python",
   "nbconvert_exporter": "python",
   "pygments_lexer": "ipython3",
   "version": "3.8.5"
  }
 },
 "nbformat": 4,
 "nbformat_minor": 4
}
