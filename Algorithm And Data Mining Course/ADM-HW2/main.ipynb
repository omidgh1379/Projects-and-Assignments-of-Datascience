{
 "cells": [
  {
   "cell_type": "markdown",
   "metadata": {},
   "source": [
    "# Import  libraries"
   ]
  },
  {
   "cell_type": "code",
   "execution_count": null,
   "metadata": {},
   "outputs": [],
   "source": [
    "import pandas as pd\n",
    "import matplotlib.pyplot as plt\n",
    "import numpy as np\n",
    "import seaborn as sns\n",
    "import zipfile\n",
    "import json\n",
    "import warnings\n",
    "warnings.filterwarnings(\"ignore\")\n",
    "from datetime import datetime\n",
    "from datetime import timedelta\n",
    "from scipy.stats import pearsonr\n",
    "from scipy import stats\n",
    "import time\n",
    "!pip install vaex\n",
    "import vaex\n"
   ]
  },
  {
   "cell_type": "code",
   "execution_count": 2,
   "metadata": {},
   "outputs": [],
   "source": [
    "zip_path = r'C:\\Users\\USER\\Desktop\\Courses-Sapienza\\ADM ( algorithm method and datamining )\\note and homework\\assigment2\\archive.zip'\n",
    "json_path1 = 'books.json/books.json'\n",
    "json_path2 = 'authors.json/authors.json'\n",
    "\n",
    "json_path3 = 'list.json/list.json'"
   ]
  },
  {
   "cell_type": "markdown",
   "metadata": {},
   "source": [
    "# reading data from a Zip file"
   ]
  },
  {
   "cell_type": "code",
   "execution_count": 3,
   "metadata": {},
   "outputs": [],
   "source": [
    "\n",
    "l = []\n",
    "\n",
    "with zipfile.ZipFile(zip_path, 'r') as zip_ref:   \n",
    "    with zip_ref.open(json_path2, 'r') as file:\n",
    "        for line in file:\n",
    "            # Process each line (which represents a JSON object)\n",
    "            data = json.loads(line)\n",
    "            l.append(data)\n",
    "            \n",
    "            if len(l) > 100000:\n",
    "                break\n",
    "\n",
    "# Create DataFrame from the entire list of JSON data\n",
    "df_author = pd.DataFrame(l)\n"
   ]
  },
  {
   "cell_type": "code",
   "execution_count": 145,
   "metadata": {},
   "outputs": [],
   "source": [
    "\n",
    "l = []\n",
    "\n",
    "with zipfile.ZipFile(zip_path, 'r') as zip_ref:   \n",
    "    with zip_ref.open(json_path1, 'r') as file:\n",
    "        for line in file:\n",
    "            # Process each line (which represents a JSON object)\n",
    "            data = json.loads(line)\n",
    "            l.append(data)\n",
    "            \n",
    "            if len(l) > 100000:\n",
    "                break\n",
    "\n",
    "# Create DataFrame from the entire list of JSON data\n",
    "df_book = pd.DataFrame(l)"
   ]
  },
  {
   "cell_type": "markdown",
   "metadata": {},
   "source": [
    "# 1 -[RQ1]"
   ]
  },
  {
   "cell_type": "code",
   "execution_count": 8,
   "metadata": {},
   "outputs": [
    {
     "data": {
      "text/html": [
       "<div>\n",
       "<style scoped>\n",
       "    .dataframe tbody tr th:only-of-type {\n",
       "        vertical-align: middle;\n",
       "    }\n",
       "\n",
       "    .dataframe tbody tr th {\n",
       "        vertical-align: top;\n",
       "    }\n",
       "\n",
       "    .dataframe thead th {\n",
       "        text-align: right;\n",
       "    }\n",
       "</style>\n",
       "<table border=\"1\" class=\"dataframe\">\n",
       "  <thead>\n",
       "    <tr style=\"text-align: right;\">\n",
       "      <th></th>\n",
       "      <th>id</th>\n",
       "      <th>title</th>\n",
       "      <th>authors</th>\n",
       "      <th>author_name</th>\n",
       "      <th>author_id</th>\n",
       "      <th>work_id</th>\n",
       "      <th>isbn</th>\n",
       "      <th>isbn13</th>\n",
       "      <th>asin</th>\n",
       "      <th>language</th>\n",
       "      <th>...</th>\n",
       "      <th>format</th>\n",
       "      <th>edition_information</th>\n",
       "      <th>image_url</th>\n",
       "      <th>publisher</th>\n",
       "      <th>num_pages</th>\n",
       "      <th>series_id</th>\n",
       "      <th>series_name</th>\n",
       "      <th>series_position</th>\n",
       "      <th>shelves</th>\n",
       "      <th>description</th>\n",
       "    </tr>\n",
       "  </thead>\n",
       "  <tbody>\n",
       "    <tr>\n",
       "      <th>0</th>\n",
       "      <td>2</td>\n",
       "      <td>Harry Potter and the Order of the Phoenix (Har...</td>\n",
       "      <td>[{'id': '1077326', 'name': 'J.K. Rowling', 'ro...</td>\n",
       "      <td>J.K. Rowling</td>\n",
       "      <td>1077326</td>\n",
       "      <td>2809203</td>\n",
       "      <td>0439358078</td>\n",
       "      <td>9780439358071</td>\n",
       "      <td></td>\n",
       "      <td>eng</td>\n",
       "      <td>...</td>\n",
       "      <td>Paperback</td>\n",
       "      <td>US Edition</td>\n",
       "      <td>https://i.gr-assets.com/images/S/compressed.ph...</td>\n",
       "      <td>Scholastic Inc.</td>\n",
       "      <td>870</td>\n",
       "      <td>45175</td>\n",
       "      <td>Harry Potter</td>\n",
       "      <td>5</td>\n",
       "      <td>[{'name': 'to-read', 'count': 324191}, {'name'...</td>\n",
       "      <td>There is a door at the end of a silent corrido...</td>\n",
       "    </tr>\n",
       "    <tr>\n",
       "      <th>1</th>\n",
       "      <td>3</td>\n",
       "      <td>Harry Potter and the Sorcerer's Stone (Harry P...</td>\n",
       "      <td>[{'id': '1077326', 'name': 'J.K. Rowling', 'ro...</td>\n",
       "      <td>J.K. Rowling</td>\n",
       "      <td>1077326</td>\n",
       "      <td>4640799</td>\n",
       "      <td></td>\n",
       "      <td></td>\n",
       "      <td></td>\n",
       "      <td>eng</td>\n",
       "      <td>...</td>\n",
       "      <td>Hardcover</td>\n",
       "      <td>Library Edition</td>\n",
       "      <td>https://i.gr-assets.com/images/S/compressed.ph...</td>\n",
       "      <td>Scholastic Inc</td>\n",
       "      <td>309</td>\n",
       "      <td>45175</td>\n",
       "      <td>Harry Potter</td>\n",
       "      <td>1</td>\n",
       "      <td>[{'name': 'fantasy', 'count': 63540}, {'name':...</td>\n",
       "      <td>Harry Potter's life is miserable. His parents ...</td>\n",
       "    </tr>\n",
       "    <tr>\n",
       "      <th>2</th>\n",
       "      <td>4</td>\n",
       "      <td>Harry Potter and the Chamber of Secrets (Harry...</td>\n",
       "      <td>NaN</td>\n",
       "      <td>J.K. Rowling</td>\n",
       "      <td>1077326</td>\n",
       "      <td>6231171</td>\n",
       "      <td>0439554896</td>\n",
       "      <td>9780439554893</td>\n",
       "      <td></td>\n",
       "      <td>eng</td>\n",
       "      <td>...</td>\n",
       "      <td>Hardcover</td>\n",
       "      <td></td>\n",
       "      <td>https://i.gr-assets.com/images/S/compressed.ph...</td>\n",
       "      <td>Scholastic</td>\n",
       "      <td>352</td>\n",
       "      <td>45175</td>\n",
       "      <td>Harry Potter</td>\n",
       "      <td>2</td>\n",
       "      <td>[{'name': 'to-read', 'count': 282341}, {'name'...</td>\n",
       "      <td>The Dursleys were so mean and hideous that sum...</td>\n",
       "    </tr>\n",
       "    <tr>\n",
       "      <th>3</th>\n",
       "      <td>5</td>\n",
       "      <td>Harry Potter and the Prisoner of Azkaban (Harr...</td>\n",
       "      <td>[{'id': '1077326', 'name': 'J.K. Rowling', 'ro...</td>\n",
       "      <td>J.K. Rowling</td>\n",
       "      <td>1077326</td>\n",
       "      <td>2402163</td>\n",
       "      <td>043965548X</td>\n",
       "      <td>9780439655484</td>\n",
       "      <td></td>\n",
       "      <td>eng</td>\n",
       "      <td>...</td>\n",
       "      <td>Mass Market Paperback</td>\n",
       "      <td></td>\n",
       "      <td>https://i.gr-assets.com/images/S/compressed.ph...</td>\n",
       "      <td>Scholastic Inc.</td>\n",
       "      <td>435</td>\n",
       "      <td>45175</td>\n",
       "      <td>Harry Potter</td>\n",
       "      <td>3</td>\n",
       "      <td>[{'name': 'to-read', 'count': 292815}, {'name'...</td>\n",
       "      <td>For twelve long years, the dread fortress of A...</td>\n",
       "    </tr>\n",
       "    <tr>\n",
       "      <th>4</th>\n",
       "      <td>6</td>\n",
       "      <td>Harry Potter and the Goblet of Fire (Harry Pot...</td>\n",
       "      <td>[{'id': '1077326', 'name': 'J.K. Rowling', 'ro...</td>\n",
       "      <td>J.K. Rowling</td>\n",
       "      <td>1077326</td>\n",
       "      <td>3046572</td>\n",
       "      <td></td>\n",
       "      <td></td>\n",
       "      <td></td>\n",
       "      <td>eng</td>\n",
       "      <td>...</td>\n",
       "      <td>Paperback</td>\n",
       "      <td>First Scholastic Trade Paperback Edition</td>\n",
       "      <td>https://i.gr-assets.com/images/S/compressed.ph...</td>\n",
       "      <td>Scholastic</td>\n",
       "      <td>734</td>\n",
       "      <td>45175</td>\n",
       "      <td>Harry Potter</td>\n",
       "      <td>4</td>\n",
       "      <td>[{'name': 'to-read', 'count': 287086}, {'name'...</td>\n",
       "      <td>Harry Potter is midway through his training as...</td>\n",
       "    </tr>\n",
       "  </tbody>\n",
       "</table>\n",
       "<p>5 rows × 26 columns</p>\n",
       "</div>"
      ],
      "text/plain": [
       "  id                                              title  \\\n",
       "0  2  Harry Potter and the Order of the Phoenix (Har...   \n",
       "1  3  Harry Potter and the Sorcerer's Stone (Harry P...   \n",
       "2  4  Harry Potter and the Chamber of Secrets (Harry...   \n",
       "3  5  Harry Potter and the Prisoner of Azkaban (Harr...   \n",
       "4  6  Harry Potter and the Goblet of Fire (Harry Pot...   \n",
       "\n",
       "                                             authors   author_name author_id  \\\n",
       "0  [{'id': '1077326', 'name': 'J.K. Rowling', 'ro...  J.K. Rowling   1077326   \n",
       "1  [{'id': '1077326', 'name': 'J.K. Rowling', 'ro...  J.K. Rowling   1077326   \n",
       "2                                                NaN  J.K. Rowling   1077326   \n",
       "3  [{'id': '1077326', 'name': 'J.K. Rowling', 'ro...  J.K. Rowling   1077326   \n",
       "4  [{'id': '1077326', 'name': 'J.K. Rowling', 'ro...  J.K. Rowling   1077326   \n",
       "\n",
       "   work_id        isbn         isbn13 asin language  ...  \\\n",
       "0  2809203  0439358078  9780439358071           eng  ...   \n",
       "1  4640799                                      eng  ...   \n",
       "2  6231171  0439554896  9780439554893           eng  ...   \n",
       "3  2402163  043965548X  9780439655484           eng  ...   \n",
       "4  3046572                                      eng  ...   \n",
       "\n",
       "                  format                       edition_information  \\\n",
       "0              Paperback                                US Edition   \n",
       "1              Hardcover                           Library Edition   \n",
       "2              Hardcover                                             \n",
       "3  Mass Market Paperback                                             \n",
       "4              Paperback  First Scholastic Trade Paperback Edition   \n",
       "\n",
       "                                           image_url        publisher  \\\n",
       "0  https://i.gr-assets.com/images/S/compressed.ph...  Scholastic Inc.   \n",
       "1  https://i.gr-assets.com/images/S/compressed.ph...   Scholastic Inc   \n",
       "2  https://i.gr-assets.com/images/S/compressed.ph...       Scholastic   \n",
       "3  https://i.gr-assets.com/images/S/compressed.ph...  Scholastic Inc.   \n",
       "4  https://i.gr-assets.com/images/S/compressed.ph...       Scholastic   \n",
       "\n",
       "  num_pages series_id   series_name series_position  \\\n",
       "0       870     45175  Harry Potter               5   \n",
       "1       309     45175  Harry Potter               1   \n",
       "2       352     45175  Harry Potter               2   \n",
       "3       435     45175  Harry Potter               3   \n",
       "4       734     45175  Harry Potter               4   \n",
       "\n",
       "                                             shelves  \\\n",
       "0  [{'name': 'to-read', 'count': 324191}, {'name'...   \n",
       "1  [{'name': 'fantasy', 'count': 63540}, {'name':...   \n",
       "2  [{'name': 'to-read', 'count': 282341}, {'name'...   \n",
       "3  [{'name': 'to-read', 'count': 292815}, {'name'...   \n",
       "4  [{'name': 'to-read', 'count': 287086}, {'name'...   \n",
       "\n",
       "                                         description  \n",
       "0  There is a door at the end of a silent corrido...  \n",
       "1  Harry Potter's life is miserable. His parents ...  \n",
       "2  The Dursleys were so mean and hideous that sum...  \n",
       "3  For twelve long years, the dread fortress of A...  \n",
       "4  Harry Potter is midway through his training as...  \n",
       "\n",
       "[5 rows x 26 columns]"
      ]
     },
     "execution_count": 8,
     "metadata": {},
     "output_type": "execute_result"
    }
   ],
   "source": [
    "df_book.head()"
   ]
  },
  {
   "cell_type": "code",
   "execution_count": 9,
   "metadata": {
    "scrolled": true
   },
   "outputs": [
    {
     "data": {
      "text/plain": [
       "Index(['id', 'title', 'authors', 'author_name', 'author_id', 'work_id', 'isbn',\n",
       "       'isbn13', 'asin', 'language', 'average_rating', 'rating_dist',\n",
       "       'ratings_count', 'text_reviews_count', 'publication_date',\n",
       "       'original_publication_date', 'format', 'edition_information',\n",
       "       'image_url', 'publisher', 'num_pages', 'series_id', 'series_name',\n",
       "       'series_position', 'shelves', 'description'],\n",
       "      dtype='object')"
      ]
     },
     "execution_count": 9,
     "metadata": {},
     "output_type": "execute_result"
    }
   ],
   "source": [
    "df_book.columns\n"
   ]
  },
  {
   "cell_type": "code",
   "execution_count": 10,
   "metadata": {
    "scrolled": true
   },
   "outputs": [
    {
     "data": {
      "text/plain": [
       "Index(['ratings_count', 'average_rating', 'text_reviews_count', 'work_ids',\n",
       "       'book_ids', 'works_count', 'id', 'name', 'gender', 'image_url', 'about',\n",
       "       'fans_count'],\n",
       "      dtype='object')"
      ]
     },
     "execution_count": 10,
     "metadata": {},
     "output_type": "execute_result"
    }
   ],
   "source": [
    "df_author.columns"
   ]
  },
  {
   "cell_type": "markdown",
   "metadata": {},
   "source": [
    "# Rating dist of Authors"
   ]
  },
  {
   "cell_type": "code",
   "execution_count": 11,
   "metadata": {
    "scrolled": true
   },
   "outputs": [
    {
     "data": {
      "image/png": "[encoded data removed]",
      "text/plain": [
       "<Figure size 432x288 with 1 Axes>"
      ]
     },
     "metadata": {
      "needs_background": "light"
     },
     "output_type": "display_data"
    }
   ],
   "source": [
    "plt.hist(df_author['ratings_count'], bins=20)\n",
    "plt.title('Distribution of Ratings Count')\n",
    "plt.xlabel('Ratings Count')\n",
    "plt.ylabel('Frequency')\n",
    "plt.show()"
   ]
  },
  {
   "cell_type": "markdown",
   "metadata": {},
   "source": [
    "# average rating box_plot Authors"
   ]
  },
  {
   "cell_type": "code",
   "execution_count": 12,
   "metadata": {
    "scrolled": false
   },
   "outputs": [
    {
     "data": {
      "image/png": "[encoded data removed]",
      "text/plain": [
       "<Figure size 432x288 with 1 Axes>"
      ]
     },
     "metadata": {
      "needs_background": "light"
     },
     "output_type": "display_data"
    }
   ],
   "source": [
    "plt.boxplot(df_author['average_rating'])\n",
    "plt.title('Boxplot of Average Rating')\n",
    "plt.ylabel('Average Rating')\n",
    "plt.show()\n"
   ]
  },
  {
   "cell_type": "markdown",
   "metadata": {},
   "source": [
    "# Text Review by gender"
   ]
  },
  {
   "cell_type": "code",
   "execution_count": 13,
   "metadata": {},
   "outputs": [
    {
     "data": {
      "image/png": "[encoded data removed]",
      "text/plain": [
       "<Figure size 576x432 with 1 Axes>"
      ]
     },
     "metadata": {
      "needs_background": "light"
     },
     "output_type": "display_data"
    }
   ],
   "source": [
    "\n",
    "plt.figure(figsize=(8, 6))\n",
    "sns.barplot(x='gender', y='text_reviews_count', data=df_author)\n",
    "plt.title('Text Reviews Count by Gender')\n",
    "plt.xlabel('Gender')\n",
    "plt.ylabel('Text Reviews Count')\n",
    "plt.show()"
   ]
  },
  {
   "cell_type": "markdown",
   "metadata": {},
   "source": [
    "# Number of Fans of each author by Gender "
   ]
  },
  {
   "cell_type": "code",
   "execution_count": 14,
   "metadata": {
    "scrolled": true
   },
   "outputs": [
    {
     "data": {
      "image/png": "[encoded data removed]",
      "text/plain": [
       "<Figure size 576x432 with 1 Axes>"
      ]
     },
     "metadata": {
      "needs_background": "light"
     },
     "output_type": "display_data"
    }
   ],
   "source": [
    "\n",
    "plt.figure(figsize=(8, 6))\n",
    "sns.barplot(x='gender', y='fans_count', data=df_author)\n",
    "plt.title('Text Reviews Count by Gender')\n",
    "plt.xlabel('Gender')\n",
    "plt.ylabel('Text Reviews Count')\n",
    "plt.show()"
   ]
  },
  {
   "cell_type": "markdown",
   "metadata": {},
   "source": [
    "# Relationship Between textreview count and rating count"
   ]
  },
  {
   "cell_type": "code",
   "execution_count": 15,
   "metadata": {},
   "outputs": [
    {
     "data": {
      "image/png": "[encoded data removed]",
      "text/plain": [
       "<Figure size 720x720 with 1 Axes>"
      ]
     },
     "metadata": {
      "needs_background": "light"
     },
     "output_type": "display_data"
    }
   ],
   "source": [
    "plt.figure(figsize = (10, 10))\n",
    "\n",
    "plt.scatter(df_author['ratings_count'], df_author['text_reviews_count'])\n",
    "plt.title('Ratings Count vs. Text Reviews Count' , fontdict = {'size' : 20})\n",
    "plt.xlabel('Ratings Count' , fontdict = {'size' : 15})\n",
    "plt.ylabel('Text Reviews Count' , fontdict = {'size' : 15})\n",
    "plt.show()"
   ]
  },
  {
   "cell_type": "markdown",
   "metadata": {},
   "source": [
    "# Hist of number of books published by one authors"
   ]
  },
  {
   "cell_type": "code",
   "execution_count": 16,
   "metadata": {},
   "outputs": [
    {
     "data": {
      "image/png": "[encoded data removed]",
      "text/plain": [
       "<Figure size 1440x432 with 1 Axes>"
      ]
     },
     "metadata": {
      "needs_background": "light"
     },
     "output_type": "display_data"
    }
   ],
   "source": [
    "plt.figure(figsize=(20, 6))\n",
    "work_counts = df_author['works_count'].value_counts().reset_index()\n",
    "work_counts.columns = ['Work Count', 'Frequency']\n",
    "sns.barplot(x='Work Count', y='Frequency', data=work_counts)\n",
    "plt.title('Bar Plot of Work Counts')\n",
    "plt.xlabel('Work Count')\n",
    "plt.ylabel('Frequency')\n",
    "plt.show()"
   ]
  },
  {
   "cell_type": "markdown",
   "metadata": {},
   "source": [
    "# working with book data"
   ]
  },
  {
   "cell_type": "code",
   "execution_count": 17,
   "metadata": {
    "scrolled": true
   },
   "outputs": [
    {
     "data": {
      "text/html": [
       "<div>\n",
       "<style scoped>\n",
       "    .dataframe tbody tr th:only-of-type {\n",
       "        vertical-align: middle;\n",
       "    }\n",
       "\n",
       "    .dataframe tbody tr th {\n",
       "        vertical-align: top;\n",
       "    }\n",
       "\n",
       "    .dataframe thead th {\n",
       "        text-align: right;\n",
       "    }\n",
       "</style>\n",
       "<table border=\"1\" class=\"dataframe\">\n",
       "  <thead>\n",
       "    <tr style=\"text-align: right;\">\n",
       "      <th></th>\n",
       "      <th>average_rating</th>\n",
       "      <th>ratings_count</th>\n",
       "      <th>text_reviews_count</th>\n",
       "    </tr>\n",
       "  </thead>\n",
       "  <tbody>\n",
       "    <tr>\n",
       "      <th>count</th>\n",
       "      <td>101.000000</td>\n",
       "      <td>1.010000e+02</td>\n",
       "      <td>101.000000</td>\n",
       "    </tr>\n",
       "    <tr>\n",
       "      <th>mean</th>\n",
       "      <td>4.037723</td>\n",
       "      <td>3.207753e+05</td>\n",
       "      <td>6378.861386</td>\n",
       "    </tr>\n",
       "    <tr>\n",
       "      <th>std</th>\n",
       "      <td>0.374585</td>\n",
       "      <td>9.522260e+05</td>\n",
       "      <td>16178.948973</td>\n",
       "    </tr>\n",
       "    <tr>\n",
       "      <th>min</th>\n",
       "      <td>2.850000</td>\n",
       "      <td>4.000000e+00</td>\n",
       "      <td>0.000000</td>\n",
       "    </tr>\n",
       "    <tr>\n",
       "      <th>25%</th>\n",
       "      <td>3.800000</td>\n",
       "      <td>2.110000e+02</td>\n",
       "      <td>19.000000</td>\n",
       "    </tr>\n",
       "    <tr>\n",
       "      <th>50%</th>\n",
       "      <td>3.930000</td>\n",
       "      <td>2.826000e+03</td>\n",
       "      <td>173.000000</td>\n",
       "    </tr>\n",
       "    <tr>\n",
       "      <th>75%</th>\n",
       "      <td>4.360000</td>\n",
       "      <td>9.366300e+04</td>\n",
       "      <td>3324.000000</td>\n",
       "    </tr>\n",
       "    <tr>\n",
       "      <th>max</th>\n",
       "      <td>4.790000</td>\n",
       "      <td>7.377351e+06</td>\n",
       "      <td>116930.000000</td>\n",
       "    </tr>\n",
       "  </tbody>\n",
       "</table>\n",
       "</div>"
      ],
      "text/plain": [
       "       average_rating  ratings_count  text_reviews_count\n",
       "count      101.000000   1.010000e+02          101.000000\n",
       "mean         4.037723   3.207753e+05         6378.861386\n",
       "std          0.374585   9.522260e+05        16178.948973\n",
       "min          2.850000   4.000000e+00            0.000000\n",
       "25%          3.800000   2.110000e+02           19.000000\n",
       "50%          3.930000   2.826000e+03          173.000000\n",
       "75%          4.360000   9.366300e+04         3324.000000\n",
       "max          4.790000   7.377351e+06       116930.000000"
      ]
     },
     "execution_count": 17,
     "metadata": {},
     "output_type": "execute_result"
    }
   ],
   "source": [
    "df_book.describe()"
   ]
  },
  {
   "cell_type": "code",
   "execution_count": 18,
   "metadata": {},
   "outputs": [
    {
     "data": {
      "text/plain": [
       "Index(['id', 'title', 'authors', 'author_name', 'author_id', 'work_id', 'isbn',\n",
       "       'isbn13', 'asin', 'language', 'average_rating', 'rating_dist',\n",
       "       'ratings_count', 'text_reviews_count', 'publication_date',\n",
       "       'original_publication_date', 'format', 'edition_information',\n",
       "       'image_url', 'publisher', 'num_pages', 'series_id', 'series_name',\n",
       "       'series_position', 'shelves', 'description'],\n",
       "      dtype='object')"
      ]
     },
     "execution_count": 18,
     "metadata": {},
     "output_type": "execute_result"
    }
   ],
   "source": [
    "df_book.columns"
   ]
  },
  {
   "cell_type": "code",
   "execution_count": 19,
   "metadata": {},
   "outputs": [
    {
     "data": {
      "text/plain": [
       "id                            object\n",
       "title                         object\n",
       "authors                       object\n",
       "author_name                   object\n",
       "author_id                     object\n",
       "work_id                       object\n",
       "isbn                          object\n",
       "isbn13                        object\n",
       "asin                          object\n",
       "language                      object\n",
       "average_rating               float64\n",
       "rating_dist                   object\n",
       "ratings_count                  int64\n",
       "text_reviews_count             int64\n",
       "publication_date              object\n",
       "original_publication_date     object\n",
       "format                        object\n",
       "edition_information           object\n",
       "image_url                     object\n",
       "publisher                     object\n",
       "num_pages                     object\n",
       "series_id                     object\n",
       "series_name                   object\n",
       "series_position               object\n",
       "shelves                       object\n",
       "description                   object\n",
       "dtype: object"
      ]
     },
     "execution_count": 19,
     "metadata": {},
     "output_type": "execute_result"
    }
   ],
   "source": [
    "df_book.dtypes"
   ]
  },
  {
   "cell_type": "markdown",
   "metadata": {},
   "source": [
    "### Avg rating box plot with different language"
   ]
  },
  {
   "cell_type": "code",
   "execution_count": 20,
   "metadata": {
    "scrolled": true
   },
   "outputs": [
    {
     "data": {
      "image/png": "[encoded data removed]",
      "text/plain": [
       "<Figure size 720x432 with 1 Axes>"
      ]
     },
     "metadata": {
      "needs_background": "light"
     },
     "output_type": "display_data"
    }
   ],
   "source": [
    "plt.figure(figsize=(10, 6))\n",
    "sns.boxplot(x='language', y='average_rating', data=df_book)\n",
    "plt.title('Average Rating Distribution by Language')\n",
    "plt.xlabel('Language')\n",
    "plt.ylabel('Average Rating')\n",
    "plt.show()"
   ]
  },
  {
   "cell_type": "markdown",
   "metadata": {},
   "source": [
    "### number of pages for each format in a barplot"
   ]
  },
  {
   "cell_type": "code",
   "execution_count": 21,
   "metadata": {},
   "outputs": [
    {
     "data": {
      "image/png": "[encoded data removed]",
      "text/plain": [
       "<Figure size 1080x720 with 1 Axes>"
      ]
     },
     "metadata": {
      "needs_background": "light"
     },
     "output_type": "display_data"
    }
   ],
   "source": [
    "# Convert 'num_pages' to numeric, setting errors='coerce' to convert non-convertible values to NaN\n",
    "df_book['num_pages'] = pd.to_numeric(df_book['num_pages'], errors='coerce')\n",
    "\n",
    "# Replace NaN values with a default value (e.g., 0)\n",
    "df_book['num_pages'].fillna(0, inplace=True)\n",
    "\n",
    "# Convert the column to integer\n",
    "df_book['num_pages'] = df_book['num_pages'].astype(int)\n",
    "\n",
    "\n",
    "plt.figure(figsize = (15, 10))\n",
    "sns.barplot(x='format', y='num_pages', data=df_book)\n",
    "plt.title('Number of Pages by Format')\n",
    "plt.xlabel('Format')\n",
    "plt.ylabel('Number of Pages')\n",
    "plt.show()"
   ]
  },
  {
   "cell_type": "markdown",
   "metadata": {},
   "source": [
    "### Number of Books Published yeach year"
   ]
  },
  {
   "cell_type": "code",
   "execution_count": 22,
   "metadata": {
    "scrolled": true
   },
   "outputs": [
    {
     "data": {
      "image/png": "[encoded data removed]",
      "text/plain": [
       "<Figure size 720x432 with 1 Axes>"
      ]
     },
     "metadata": {
      "needs_background": "light"
     },
     "output_type": "display_data"
    }
   ],
   "source": [
    "df_book['publication_year'] = pd.to_datetime(df_book['publication_date']).dt.year\n",
    "\n",
    "plt.figure(figsize=(10, 6))\n",
    "\n",
    "df_book['publication_year'].value_counts().sort_index().plot(kind='bar')\n",
    "\n",
    "plt.title('Number of Books Published per Year')\n",
    "plt.xlabel('Year')\n",
    "plt.ylabel('Number of Books')\n",
    "plt.show()"
   ]
  },
  {
   "cell_type": "markdown",
   "metadata": {},
   "source": [
    "### average rating in each year"
   ]
  },
  {
   "cell_type": "code",
   "execution_count": 23,
   "metadata": {
    "scrolled": true
   },
   "outputs": [
    {
     "data": {
      "image/png": "[encoded data removed]",
      "text/plain": [
       "<Figure size 720x432 with 1 Axes>"
      ]
     },
     "metadata": {
      "needs_background": "light"
     },
     "output_type": "display_data"
    }
   ],
   "source": [
    "\n",
    "# Convert 'publication_date' to datetime if it's not already in datetime format\n",
    "df_book['publication_date'] = pd.to_datetime(df_book['publication_date'])\n",
    "\n",
    "# Extract the year from 'publication_date' and create a new column 'publication_year'\n",
    "df_book['publication_year'] = df_book['publication_date'].dt.year\n",
    "\n",
    "# Group by 'publication_year' and calculate the mean of 'average_rating' for each year\n",
    "avg_rating_by_year = df_book.groupby('publication_year')['average_rating'].mean().reset_index()\n",
    "\n",
    "# Sort the data by publication year (optional but can be helpful for a clearer visualization)\n",
    "avg_rating_by_year = avg_rating_by_year.sort_values(by='publication_year')\n",
    "\n",
    "# Visualization - Line plot of average ratings by publication year\n",
    "plt.figure(figsize=(10, 6))\n",
    "plt.plot(avg_rating_by_year['publication_year'], avg_rating_by_year['average_rating'], marker='o')\n",
    "plt.title('Average Ratings by Publication Year')\n",
    "plt.xlabel('Publication Year')\n",
    "plt.ylabel('Average Rating')\n",
    "plt.xticks(avg_rating_by_year['publication_year'], rotation=45)  # Rotate x-labels for better readability\n",
    "plt.grid(True)\n",
    "plt.show()\n"
   ]
  },
  {
   "cell_type": "markdown",
   "metadata": {},
   "source": [
    "### Average Number of Ages by different years"
   ]
  },
  {
   "cell_type": "code",
   "execution_count": 24,
   "metadata": {},
   "outputs": [
    {
     "data": {
      "image/png": "[encoded data removed]",
      "text/plain": [
       "<Figure size 720x432 with 1 Axes>"
      ]
     },
     "metadata": {
      "needs_background": "light"
     },
     "output_type": "display_data"
    }
   ],
   "source": [
    "\n",
    "\n",
    "# Convert 'publication_date' to datetime if it's not already in datetime format\n",
    "df_book['publication_date'] = pd.to_datetime(df_book['publication_date'])\n",
    "\n",
    "# Extract the year from 'publication_date' and create a new column 'publication_year'\n",
    "df_book['publication_year'] = df_book['publication_date'].dt.year\n",
    "\n",
    "# Group by 'publication_year' and calculate the mean of 'num_pages' for each year\n",
    "avg_pages_by_year = df_book.groupby('publication_year')['num_pages'].mean().reset_index()\n",
    "\n",
    "# Sort the data by publication year (optional but can be helpful for a clearer visualization)\n",
    "avg_pages_by_year = avg_pages_by_year.sort_values(by='publication_year')\n",
    "\n",
    "# Visualization - Line plot of average number of pages by publication year\n",
    "plt.figure(figsize=(10, 6))\n",
    "plt.plot(avg_pages_by_year['publication_year'], avg_pages_by_year['num_pages'], marker='o', color='orange')\n",
    "plt.title('Average Number of Pages by Publication Year')\n",
    "plt.xlabel('Publication Year')\n",
    "plt.ylabel('Average Number of Pages')\n",
    "plt.xticks(avg_pages_by_year['publication_year'], rotation=45)  # Rotate x-labels for better readability\n",
    "plt.grid(True)\n",
    "plt.show()\n"
   ]
  },
  {
   "cell_type": "markdown",
   "metadata": {},
   "source": [
    "# 2 -  [RQ2] "
   ]
  },
  {
   "cell_type": "markdown",
   "metadata": {},
   "source": [
    "## 2.1 - Plot the number of books for each author in descending order."
   ]
  },
  {
   "cell_type": "code",
   "execution_count": 25,
   "metadata": {
    "scrolled": false
   },
   "outputs": [
    {
     "data": {
      "text/plain": [
       "Text(0, 0.5, 'Numb of books')"
      ]
     },
     "execution_count": 25,
     "metadata": {},
     "output_type": "execute_result"
    },
    {
     "data": {
      "image/png": "[encoded data removed]",
      "text/plain": [
       "<Figure size 1080x504 with 1 Axes>"
      ]
     },
     "metadata": {
      "needs_background": "light"
     },
     "output_type": "display_data"
    }
   ],
   "source": [
    "plt.figure(figsize =(15,7))\n",
    "\n",
    "authors = df_author[['name' , 'works_count']]\n",
    "\n",
    "authors = authors.sort_values(by = 'works_count' , ascending = False )\n",
    "\n",
    "authors = authors.iloc[:8 , :]\n",
    "plt.bar(x = authors['name'] , height = authors['works_count'])\n",
    "\n",
    "plt.xlabel('Authors')\n",
    "plt.title('Number of Books of writers')\n",
    "plt.ylabel('Numb of books')"
   ]
  },
  {
   "cell_type": "markdown",
   "metadata": {},
   "source": [
    "## 2.2 - Which book has the highest number of reviews?"
   ]
  },
  {
   "cell_type": "code",
   "execution_count": 26,
   "metadata": {},
   "outputs": [
    {
     "data": {
      "text/plain": [
       "\"Harry Potter and the Sorcerer's Stone (Harry Potter, #1)\""
      ]
     },
     "execution_count": 26,
     "metadata": {},
     "output_type": "execute_result"
    }
   ],
   "source": [
    "max_reviews_index = df_book['text_reviews_count'].idxmax()\n",
    "book_with_highest_reviews = df_book.loc[max_reviews_index]\n",
    "\n",
    "book_with_highest_reviews['title']"
   ]
  },
  {
   "cell_type": "markdown",
   "metadata": {},
   "source": [
    "## 2.3 - Which are the top ten and ten worst books concerning the average score?"
   ]
  },
  {
   "cell_type": "code",
   "execution_count": 27,
   "metadata": {
    "scrolled": true
   },
   "outputs": [
    {
     "data": {
      "text/html": [
       "<div>\n",
       "<style scoped>\n",
       "    .dataframe tbody tr th:only-of-type {\n",
       "        vertical-align: middle;\n",
       "    }\n",
       "\n",
       "    .dataframe tbody tr th {\n",
       "        vertical-align: top;\n",
       "    }\n",
       "\n",
       "    .dataframe thead th {\n",
       "        text-align: right;\n",
       "    }\n",
       "</style>\n",
       "<table border=\"1\" class=\"dataframe\">\n",
       "  <thead>\n",
       "    <tr style=\"text-align: right;\">\n",
       "      <th></th>\n",
       "      <th>title</th>\n",
       "      <th>average_rating</th>\n",
       "    </tr>\n",
       "  </thead>\n",
       "  <tbody>\n",
       "    <tr>\n",
       "      <th>56</th>\n",
       "      <td>The Birthdays</td>\n",
       "      <td>2.85</td>\n",
       "    </tr>\n",
       "    <tr>\n",
       "      <th>21</th>\n",
       "      <td>Getting Results with Curriculum Mapping</td>\n",
       "      <td>3.24</td>\n",
       "    </tr>\n",
       "    <tr>\n",
       "      <th>51</th>\n",
       "      <td>Ruby Quickly: Ruby and Rails for the Real World</td>\n",
       "      <td>3.40</td>\n",
       "    </tr>\n",
       "    <tr>\n",
       "      <th>7</th>\n",
       "      <td>Bill Bryson's African Diary</td>\n",
       "      <td>3.45</td>\n",
       "    </tr>\n",
       "    <tr>\n",
       "      <th>13</th>\n",
       "      <td>Chasing Jordan</td>\n",
       "      <td>3.45</td>\n",
       "    </tr>\n",
       "    <tr>\n",
       "      <th>33</th>\n",
       "      <td>Hatchet Jobs: Writings on Contemporary Fiction</td>\n",
       "      <td>3.48</td>\n",
       "    </tr>\n",
       "    <tr>\n",
       "      <th>82</th>\n",
       "      <td>The Secrets of Frank Herbert's Dune</td>\n",
       "      <td>3.57</td>\n",
       "    </tr>\n",
       "    <tr>\n",
       "      <th>44</th>\n",
       "      <td>Love Your Handwriting (Creating Keepsakes)</td>\n",
       "      <td>3.58</td>\n",
       "    </tr>\n",
       "    <tr>\n",
       "      <th>52</th>\n",
       "      <td>Seven-Year Seduction</td>\n",
       "      <td>3.60</td>\n",
       "    </tr>\n",
       "    <tr>\n",
       "      <th>86</th>\n",
       "      <td>The Woodsman and His Hatchet: Eighty Years on ...</td>\n",
       "      <td>3.60</td>\n",
       "    </tr>\n",
       "  </tbody>\n",
       "</table>\n",
       "</div>"
      ],
      "text/plain": [
       "                                                title  average_rating\n",
       "56                                      The Birthdays            2.85\n",
       "21            Getting Results with Curriculum Mapping            3.24\n",
       "51    Ruby Quickly: Ruby and Rails for the Real World            3.40\n",
       "7                         Bill Bryson's African Diary            3.45\n",
       "13                                     Chasing Jordan            3.45\n",
       "33     Hatchet Jobs: Writings on Contemporary Fiction            3.48\n",
       "82                The Secrets of Frank Herbert's Dune            3.57\n",
       "44         Love Your Handwriting (Creating Keepsakes)            3.58\n",
       "52                               Seven-Year Seduction            3.60\n",
       "86  The Woodsman and His Hatchet: Eighty Years on ...            3.60"
      ]
     },
     "execution_count": 27,
     "metadata": {},
     "output_type": "execute_result"
    }
   ],
   "source": [
    "df_book.groupby('title')['average_rating'].mean().reset_index().sort_values(by = 'average_rating' ).head(10)"
   ]
  },
  {
   "cell_type": "code",
   "execution_count": 28,
   "metadata": {
    "scrolled": true
   },
   "outputs": [
    {
     "data": {
      "text/html": [
       "<div>\n",
       "<style scoped>\n",
       "    .dataframe tbody tr th:only-of-type {\n",
       "        vertical-align: middle;\n",
       "    }\n",
       "\n",
       "    .dataframe tbody tr th {\n",
       "        vertical-align: top;\n",
       "    }\n",
       "\n",
       "    .dataframe thead th {\n",
       "        text-align: right;\n",
       "    }\n",
       "</style>\n",
       "<table border=\"1\" class=\"dataframe\">\n",
       "  <thead>\n",
       "    <tr style=\"text-align: right;\">\n",
       "      <th></th>\n",
       "      <th>title</th>\n",
       "      <th>average_rating</th>\n",
       "    </tr>\n",
       "  </thead>\n",
       "  <tbody>\n",
       "    <tr>\n",
       "      <th>25</th>\n",
       "      <td>Harry Potter Boxed Set, Books 1-5 (Harry Potte...</td>\n",
       "      <td>4.790000</td>\n",
       "    </tr>\n",
       "    <tr>\n",
       "      <th>63</th>\n",
       "      <td>The Harry Potter Collection (Harry Potter, #1-6)</td>\n",
       "      <td>4.730000</td>\n",
       "    </tr>\n",
       "    <tr>\n",
       "      <th>26</th>\n",
       "      <td>Harry Potter Collection (Harry Potter, #1-6)</td>\n",
       "      <td>4.730000</td>\n",
       "    </tr>\n",
       "    <tr>\n",
       "      <th>42</th>\n",
       "      <td>J.R.R. Tolkien 4-Book Boxed Set: The Hobbit an...</td>\n",
       "      <td>4.600000</td>\n",
       "    </tr>\n",
       "    <tr>\n",
       "      <th>72</th>\n",
       "      <td>The Lord of the Rings</td>\n",
       "      <td>4.586667</td>\n",
       "    </tr>\n",
       "    <tr>\n",
       "      <th>76</th>\n",
       "      <td>The Lord of the Rings: Weapons and Warfare</td>\n",
       "      <td>4.580000</td>\n",
       "    </tr>\n",
       "    <tr>\n",
       "      <th>30</th>\n",
       "      <td>Harry Potter and the Prisoner of Azkaban (Harr...</td>\n",
       "      <td>4.570000</td>\n",
       "    </tr>\n",
       "    <tr>\n",
       "      <th>28</th>\n",
       "      <td>Harry Potter and the Goblet of Fire (Harry Pot...</td>\n",
       "      <td>4.560000</td>\n",
       "    </tr>\n",
       "    <tr>\n",
       "      <th>75</th>\n",
       "      <td>The Lord of the Rings: Complete Visual Companion</td>\n",
       "      <td>4.510000</td>\n",
       "    </tr>\n",
       "    <tr>\n",
       "      <th>74</th>\n",
       "      <td>The Lord of the Rings Box Set</td>\n",
       "      <td>4.500000</td>\n",
       "    </tr>\n",
       "  </tbody>\n",
       "</table>\n",
       "</div>"
      ],
      "text/plain": [
       "                                                title  average_rating\n",
       "25  Harry Potter Boxed Set, Books 1-5 (Harry Potte...        4.790000\n",
       "63   The Harry Potter Collection (Harry Potter, #1-6)        4.730000\n",
       "26       Harry Potter Collection (Harry Potter, #1-6)        4.730000\n",
       "42  J.R.R. Tolkien 4-Book Boxed Set: The Hobbit an...        4.600000\n",
       "72                              The Lord of the Rings        4.586667\n",
       "76         The Lord of the Rings: Weapons and Warfare        4.580000\n",
       "30  Harry Potter and the Prisoner of Azkaban (Harr...        4.570000\n",
       "28  Harry Potter and the Goblet of Fire (Harry Pot...        4.560000\n",
       "75   The Lord of the Rings: Complete Visual Companion        4.510000\n",
       "74                      The Lord of the Rings Box Set        4.500000"
      ]
     },
     "execution_count": 28,
     "metadata": {},
     "output_type": "execute_result"
    }
   ],
   "source": [
    "df_book.groupby('title')['average_rating'].mean().reset_index().sort_values(by = 'average_rating' , ascending = False).head(10)"
   ]
  },
  {
   "cell_type": "markdown",
   "metadata": {},
   "source": [
    "## 2.4 - Explore the different languages in the book’s dataset, providing a proper chart summarizing how these languages are distributed throughout our virtual library."
   ]
  },
  {
   "cell_type": "code",
   "execution_count": 29,
   "metadata": {
    "scrolled": true
   },
   "outputs": [
    {
     "data": {
      "image/png": "[encoded data removed]",
      "text/plain": [
       "<Figure size 720x432 with 1 Axes>"
      ]
     },
     "metadata": {
      "needs_background": "light"
     },
     "output_type": "display_data"
    }
   ],
   "source": [
    "# Count the occurrences of each language\n",
    "language_counts = df_book['language'].value_counts()\n",
    "\n",
    "# Plotting the distribution of languages\n",
    "plt.figure(figsize=(10, 6))\n",
    "language_counts.plot(kind='bar')\n",
    "plt.title('Distribution of Languages in the Virtual Library')\n",
    "plt.xlabel('Language')\n",
    "plt.ylabel('Number of Books')\n",
    "plt.xticks(rotation=45)  # Rotate x-labels for better readability\n",
    "plt.show()"
   ]
  },
  {
   "cell_type": "markdown",
   "metadata": {},
   "source": [
    "## 2.5 - How many books have more than 250 pages?"
   ]
  },
  {
   "cell_type": "code",
   "execution_count": 30,
   "metadata": {},
   "outputs": [
    {
     "name": "stdout",
     "output_type": "stream",
     "text": [
      "The number of books that have more than 250 pages is :  50\n"
     ]
    }
   ],
   "source": [
    "len1 = len(list(df_book[df_book['num_pages'] > 250 ]['title'].unique()))\n",
    "\n",
    "print('The number of books that have more than 250 pages is : ' , len1)"
   ]
  },
  {
   "cell_type": "markdown",
   "metadata": {},
   "source": [
    "## 2.6 - Plot the distribution of the fans count for the 50 most prolific authors (the ones who have written more books)"
   ]
  },
  {
   "cell_type": "code",
   "execution_count": 31,
   "metadata": {},
   "outputs": [],
   "source": [
    "fans_dist = df_author.groupby(['name' , 'fans_count'])['works_count'].sum().reset_index().sort_values(by = 'works_count' , ascending = False).head(50)"
   ]
  },
  {
   "cell_type": "code",
   "execution_count": 32,
   "metadata": {
    "scrolled": false
   },
   "outputs": [
    {
     "data": {
      "text/plain": [
       "<Figure size 720x432 with 0 Axes>"
      ]
     },
     "metadata": {},
     "output_type": "display_data"
    },
    {
     "data": {
      "image/png": "[encoded data removed]",
      "text/plain": [
       "<Figure size 432x288 with 1 Axes>"
      ]
     },
     "metadata": {
      "needs_background": "light"
     },
     "output_type": "display_data"
    }
   ],
   "source": [
    "_ = plt.figure(figsize=(10, 6))\n",
    "\n",
    "fans_dist[['fans_count']].plot(kind = 'hist', bins = 10)\n",
    "\n",
    "plt.title('Distribution of Fans Count for the 50 Most Prolific Authors')\n",
    "plt.xlabel('Fans Count')\n",
    "_ =plt.ylabel('Frequency')\n"
   ]
  },
  {
   "cell_type": "markdown",
   "metadata": {},
   "source": [
    "# [RQ3] "
   ]
  },
  {
   "cell_type": "markdown",
   "metadata": {},
   "source": [
    "Write a function that takes as input a year and returns as output the following information:\n",
    "\n",
    "* The number of books published that year.\n",
    "\n",
    "* The total number of pages written that year.\n",
    "\n",
    "* The most prolific month of that year.\n",
    "\n",
    "* The longest book written that year."
   ]
  },
  {
   "cell_type": "code",
   "execution_count": 33,
   "metadata": {},
   "outputs": [],
   "source": [
    "def cal_inf(year):\n",
    "    #1\n",
    "    data = df_book.groupby('publication_year')['title'].count()\n",
    "    num_of_books = data[year]\n",
    "    #----------------------------------\n",
    "    \n",
    "    #2\n",
    "    \n",
    "    data1 = df_book.groupby('publication_year')['num_pages'].sum()\n",
    "    total_page = data1[year]\n",
    "    \n",
    "    #----------------------------------\n",
    "    \n",
    "    #3\n",
    "    df_book['publication_date'] = df_book['publication_date'].astype(str)\n",
    "    book_data_year = df_book[df_book['publication_date'].str.startswith(str(year))]\n",
    "    \n",
    "    book_data_year['month'] = pd.to_datetime(book_data_year['publication_date']).dt.month_name()\n",
    "    \n",
    "    month_counts = book_data_year['month'].value_counts()\n",
    "    \n",
    "    most_prolific_month = month_counts.idxmax()\n",
    "    \n",
    "    #---------------------------------------------------\n",
    "    #4\n",
    "    \n",
    "    df_book['publication_date'] = df_book['publication_date'].astype(str)\n",
    "    book_data_year = df_book[df_book['publication_date'].str.startswith(str(year))]\n",
    "    \n",
    "    longest_book = book_data_year.groupby('title')['num_pages'].max()\n",
    "    longest = pd.DataFrame(longest_book).sort_values(by = 'num_pages'  , ascending = False).reset_index()['title'][0]\n",
    "    \n",
    "     \n",
    "    result = pd.DataFrame({\n",
    "        'Year': year,\n",
    "        'Num_of_books': [num_of_books],\n",
    "        'Total_pages': total_page,\n",
    "        'Most_prolific_month': most_prolific_month,\n",
    "        'Longest_book_title': [longest]})\n",
    "    \n",
    "    #print('num of books is : ' , num_of_books )\n",
    "    #print('total pages is : ' ,total_page) \n",
    "    #print('most profilic month is :', most_prolific_month)\n",
    "    #print('longest book is :',longest)\n",
    "    \n",
    "    return result\n",
    "    \n",
    "    "
   ]
  },
  {
   "cell_type": "markdown",
   "metadata": {},
   "source": [
    "# The code implemented by ChatGPT"
   ]
  },
  {
   "cell_type": "code",
   "execution_count": 39,
   "metadata": {},
   "outputs": [
    {
     "name": "stdout",
     "output_type": "stream",
     "text": [
      "{'Year': 2005, 'Num_of_books': 16, 'Total_pages': 8584, 'Most_prolific_month': 'November', 'Longest_book_title': 'Harry Potter Collection (Harry Potter, #1-6)'}\n"
     ]
    }
   ],
   "source": [
    "import pandas as pd\n",
    "\n",
    "def books_info_by_year(year, df_book):\n",
    "    # Filtering books for the given year\n",
    "    books_year = df_book[df_book['publication_date'].astype(str).str.startswith(str(year))]\n",
    "\n",
    "    # Number of books published in that year\n",
    "    num_books = books_year.shape[0]\n",
    "\n",
    "    # Total number of pages written that year\n",
    "    total_pages = books_year['num_pages'].sum()\n",
    "\n",
    "    # Extracting the month from publication date\n",
    "    books_year.loc[:,'publication_date'] = pd.to_datetime(books_year.loc[:,'publication_date'])\n",
    "    books_year.loc[:,'month'] = books_year.loc[:,'publication_date'].dt.month_name()\n",
    "    \n",
    "    # Most prolific month\n",
    "    most_prolific_month = books_year['month'].value_counts().idxmax()\n",
    "\n",
    "    # Longest book written in that year\n",
    "    longest_book = books_year.loc[books_year['num_pages'].idxmax(), 'title']\n",
    "\n",
    "    return {\n",
    "        'Year': year,\n",
    "        'Num_of_books': num_books,\n",
    "        'Total_pages': total_pages,\n",
    "        'Most_prolific_month': most_prolific_month,\n",
    "        'Longest_book_title': longest_book\n",
    "    }\n",
    "\n",
    "# Example usage:\n",
    "# Replace 'df' with the name of your book dataset\n",
    "result_2022 = books_info_by_year(2005, df_book)\n",
    "print(result_2022)\n"
   ]
  },
  {
   "cell_type": "markdown",
   "metadata": {},
   "source": [
    "##### Use this function to build your data frame: the primary key will be a year, and the required information will be the attributes within the row. Finally, show the head and the tail of this new data frame considering the first ten years registered and the last ten years."
   ]
  },
  {
   "cell_type": "code",
   "execution_count": 35,
   "metadata": {
    "scrolled": true
   },
   "outputs": [
    {
     "name": "stderr",
     "output_type": "stream",
     "text": [
      "<ipython-input-33-328694d51230>:18: SettingWithCopyWarning: \n",
      "A value is trying to be set on a copy of a slice from a DataFrame.\n",
      "Try using .loc[row_indexer,col_indexer] = value instead\n",
      "\n",
      "See the caveats in the documentation: https://pandas.pydata.org/pandas-docs/stable/user_guide/indexing.html#returning-a-view-versus-a-copy\n",
      "  book_data_year['month'] = pd.to_datetime(book_data_year['publication_date']).dt.month_name()\n"
     ]
    },
    {
     "data": {
      "text/html": [
       "<div>\n",
       "<style scoped>\n",
       "    .dataframe tbody tr th:only-of-type {\n",
       "        vertical-align: middle;\n",
       "    }\n",
       "\n",
       "    .dataframe tbody tr th {\n",
       "        vertical-align: top;\n",
       "    }\n",
       "\n",
       "    .dataframe thead th {\n",
       "        text-align: right;\n",
       "    }\n",
       "</style>\n",
       "<table border=\"1\" class=\"dataframe\">\n",
       "  <thead>\n",
       "    <tr style=\"text-align: right;\">\n",
       "      <th></th>\n",
       "      <th>Year</th>\n",
       "      <th>Num_of_books</th>\n",
       "      <th>Total_pages</th>\n",
       "      <th>Most_prolific_month</th>\n",
       "      <th>Longest_book_title</th>\n",
       "    </tr>\n",
       "  </thead>\n",
       "  <tbody>\n",
       "    <tr>\n",
       "      <th>0</th>\n",
       "      <td>1982</td>\n",
       "      <td>1</td>\n",
       "      <td>416</td>\n",
       "      <td>June</td>\n",
       "      <td>The John McPhee Reader (John McPhee Reader, #1)</td>\n",
       "    </tr>\n",
       "    <tr>\n",
       "      <th>1</th>\n",
       "      <td>1984</td>\n",
       "      <td>1</td>\n",
       "      <td>480</td>\n",
       "      <td>April</td>\n",
       "      <td>Heretics of Dune (Dune Chronicles, #5)</td>\n",
       "    </tr>\n",
       "    <tr>\n",
       "      <th>2</th>\n",
       "      <td>1986</td>\n",
       "      <td>1</td>\n",
       "      <td>128</td>\n",
       "      <td>April</td>\n",
       "      <td>Heirs of General Practice</td>\n",
       "    </tr>\n",
       "    <tr>\n",
       "      <th>3</th>\n",
       "      <td>1987</td>\n",
       "      <td>4</td>\n",
       "      <td>1398</td>\n",
       "      <td>July</td>\n",
       "      <td>Chapterhouse: Dune (Dune #6)</td>\n",
       "    </tr>\n",
       "    <tr>\n",
       "      <th>4</th>\n",
       "      <td>1990</td>\n",
       "      <td>3</td>\n",
       "      <td>956</td>\n",
       "      <td>August</td>\n",
       "      <td>The Changeling (Daughters of England, #15)</td>\n",
       "    </tr>\n",
       "    <tr>\n",
       "      <th>5</th>\n",
       "      <td>1991</td>\n",
       "      <td>3</td>\n",
       "      <td>967</td>\n",
       "      <td>July</td>\n",
       "      <td>Coming Into the Country</td>\n",
       "    </tr>\n",
       "    <tr>\n",
       "      <th>6</th>\n",
       "      <td>1993</td>\n",
       "      <td>1</td>\n",
       "      <td>254</td>\n",
       "      <td>March</td>\n",
       "      <td>Neither Here nor There: Travels in Europe</td>\n",
       "    </tr>\n",
       "    <tr>\n",
       "      <th>7</th>\n",
       "      <td>1994</td>\n",
       "      <td>3</td>\n",
       "      <td>496</td>\n",
       "      <td>April</td>\n",
       "      <td>Giving Good Weight</td>\n",
       "    </tr>\n",
       "    <tr>\n",
       "      <th>8</th>\n",
       "      <td>1995</td>\n",
       "      <td>1</td>\n",
       "      <td>0</td>\n",
       "      <td>July</td>\n",
       "      <td>The Bucaneers</td>\n",
       "    </tr>\n",
       "    <tr>\n",
       "      <th>9</th>\n",
       "      <td>1996</td>\n",
       "      <td>5</td>\n",
       "      <td>1358</td>\n",
       "      <td>February</td>\n",
       "      <td>The Ultimate Hitchhiker's Guide (Hitchhiker's ...</td>\n",
       "    </tr>\n",
       "    <tr>\n",
       "      <th>10</th>\n",
       "      <td>1997</td>\n",
       "      <td>2</td>\n",
       "      <td>432</td>\n",
       "      <td>January</td>\n",
       "      <td>Notes from a Small Island</td>\n",
       "    </tr>\n",
       "    <tr>\n",
       "      <th>11</th>\n",
       "      <td>1999</td>\n",
       "      <td>1</td>\n",
       "      <td>720</td>\n",
       "      <td>January</td>\n",
       "      <td>Annals of the Former World</td>\n",
       "    </tr>\n",
       "    <tr>\n",
       "      <th>12</th>\n",
       "      <td>2000</td>\n",
       "      <td>4</td>\n",
       "      <td>970</td>\n",
       "      <td>June</td>\n",
       "      <td>I'm a Stranger Here Myself: Notes on Returning...</td>\n",
       "    </tr>\n",
       "    <tr>\n",
       "      <th>13</th>\n",
       "      <td>2001</td>\n",
       "      <td>3</td>\n",
       "      <td>1702</td>\n",
       "      <td>September</td>\n",
       "      <td>The Lord of the Rings Box Set</td>\n",
       "    </tr>\n",
       "    <tr>\n",
       "      <th>14</th>\n",
       "      <td>2002</td>\n",
       "      <td>6</td>\n",
       "      <td>3253</td>\n",
       "      <td>September</td>\n",
       "      <td>The Lord of the Rings (The Lord of the Rings, ...</td>\n",
       "    </tr>\n",
       "    <tr>\n",
       "      <th>15</th>\n",
       "      <td>2003</td>\n",
       "      <td>11</td>\n",
       "      <td>3074</td>\n",
       "      <td>November</td>\n",
       "      <td>What to Expect the First Year (What to Expect)</td>\n",
       "    </tr>\n",
       "    <tr>\n",
       "      <th>16</th>\n",
       "      <td>2004</td>\n",
       "      <td>15</td>\n",
       "      <td>8271</td>\n",
       "      <td>September</td>\n",
       "      <td>Harry Potter Boxed Set, Books 1-5 (Harry Potte...</td>\n",
       "    </tr>\n",
       "    <tr>\n",
       "      <th>17</th>\n",
       "      <td>2005</td>\n",
       "      <td>16</td>\n",
       "      <td>8584</td>\n",
       "      <td>November</td>\n",
       "      <td>Harry Potter Collection (Harry Potter, #1-6)</td>\n",
       "    </tr>\n",
       "    <tr>\n",
       "      <th>18</th>\n",
       "      <td>2006</td>\n",
       "      <td>12</td>\n",
       "      <td>2462</td>\n",
       "      <td>August</td>\n",
       "      <td>The Road to Dune</td>\n",
       "    </tr>\n",
       "    <tr>\n",
       "      <th>19</th>\n",
       "      <td>2007</td>\n",
       "      <td>1</td>\n",
       "      <td>288</td>\n",
       "      <td>February</td>\n",
       "      <td>Shadows in the Starlight (Changeling Detective...</td>\n",
       "    </tr>\n",
       "    <tr>\n",
       "      <th>20</th>\n",
       "      <td>2012</td>\n",
       "      <td>1</td>\n",
       "      <td>1728</td>\n",
       "      <td>September</td>\n",
       "      <td>J.R.R. Tolkien 4-Book Boxed Set: The Hobbit an...</td>\n",
       "    </tr>\n",
       "  </tbody>\n",
       "</table>\n",
       "</div>"
      ],
      "text/plain": [
       "    Year Num_of_books Total_pages Most_prolific_month  \\\n",
       "0   1982            1         416                June   \n",
       "1   1984            1         480               April   \n",
       "2   1986            1         128               April   \n",
       "3   1987            4        1398                July   \n",
       "4   1990            3         956              August   \n",
       "5   1991            3         967                July   \n",
       "6   1993            1         254               March   \n",
       "7   1994            3         496               April   \n",
       "8   1995            1           0                July   \n",
       "9   1996            5        1358            February   \n",
       "10  1997            2         432             January   \n",
       "11  1999            1         720             January   \n",
       "12  2000            4         970                June   \n",
       "13  2001            3        1702           September   \n",
       "14  2002            6        3253           September   \n",
       "15  2003           11        3074            November   \n",
       "16  2004           15        8271           September   \n",
       "17  2005           16        8584            November   \n",
       "18  2006           12        2462              August   \n",
       "19  2007            1         288            February   \n",
       "20  2012            1        1728           September   \n",
       "\n",
       "                                   Longest_book_title  \n",
       "0     The John McPhee Reader (John McPhee Reader, #1)  \n",
       "1              Heretics of Dune (Dune Chronicles, #5)  \n",
       "2                           Heirs of General Practice  \n",
       "3                        Chapterhouse: Dune (Dune #6)  \n",
       "4          The Changeling (Daughters of England, #15)  \n",
       "5                             Coming Into the Country  \n",
       "6           Neither Here nor There: Travels in Europe  \n",
       "7                                  Giving Good Weight  \n",
       "8                                       The Bucaneers  \n",
       "9   The Ultimate Hitchhiker's Guide (Hitchhiker's ...  \n",
       "10                          Notes from a Small Island  \n",
       "11                         Annals of the Former World  \n",
       "12  I'm a Stranger Here Myself: Notes on Returning...  \n",
       "13                      The Lord of the Rings Box Set  \n",
       "14  The Lord of the Rings (The Lord of the Rings, ...  \n",
       "15     What to Expect the First Year (What to Expect)  \n",
       "16  Harry Potter Boxed Set, Books 1-5 (Harry Potte...  \n",
       "17       Harry Potter Collection (Harry Potter, #1-6)  \n",
       "18                                   The Road to Dune  \n",
       "19  Shadows in the Starlight (Changeling Detective...  \n",
       "20  J.R.R. Tolkien 4-Book Boxed Set: The Hobbit an...  "
      ]
     },
     "execution_count": 35,
     "metadata": {},
     "output_type": "execute_result"
    }
   ],
   "source": [
    "import pandas as pd\n",
    "\n",
    "# List of years\n",
    "years_list = [i for i in range(1979 , 2015 , 1)]  # Replace these years with the years you want to analyze\n",
    "\n",
    "# Create an empty DataFrame to store the results\n",
    "results_df = pd.DataFrame(columns=['Year', 'Num_of_books', 'Total_pages', 'Most_prolific_month', 'Longest_book_title'])\n",
    "\n",
    "# Iterate over the list of years and call the function for each year\n",
    "for year in years_list:\n",
    "    \n",
    "    try:\n",
    "        result = cal_inf(year)\n",
    "        results_df = results_df.append(result, ignore_index=True)\n",
    "        \n",
    "    except:\n",
    "        pass\n",
    "\n",
    "# Display the generated DataFrame\n",
    "results_df\n",
    "\n",
    "    "
   ]
  },
  {
   "cell_type": "markdown",
   "metadata": {},
   "source": [
    "#  [RQ4] "
   ]
  },
  {
   "cell_type": "markdown",
   "metadata": {},
   "source": [
    "#### 4-1 You should be sure there are no eponymous (different authors who have precisely the same name) in the author's dataset. Is it true?"
   ]
  },
  {
   "cell_type": "code",
   "execution_count": null,
   "metadata": {},
   "outputs": [],
   "source": [
    "* You should be sure there are no eponymous (different authors who have precisely the same name) in the author's dataset. Is it true"
   ]
  },
  {
   "cell_type": "code",
   "execution_count": 41,
   "metadata": {},
   "outputs": [
    {
     "data": {
      "text/html": [
       "<div>\n",
       "<style scoped>\n",
       "    .dataframe tbody tr th:only-of-type {\n",
       "        vertical-align: middle;\n",
       "    }\n",
       "\n",
       "    .dataframe tbody tr th {\n",
       "        vertical-align: top;\n",
       "    }\n",
       "\n",
       "    .dataframe thead th {\n",
       "        text-align: right;\n",
       "    }\n",
       "</style>\n",
       "<table border=\"1\" class=\"dataframe\">\n",
       "  <thead>\n",
       "    <tr style=\"text-align: right;\">\n",
       "      <th></th>\n",
       "      <th>ratings_count</th>\n",
       "      <th>average_rating</th>\n",
       "      <th>text_reviews_count</th>\n",
       "      <th>work_ids</th>\n",
       "      <th>book_ids</th>\n",
       "      <th>works_count</th>\n",
       "      <th>id</th>\n",
       "      <th>name</th>\n",
       "      <th>gender</th>\n",
       "      <th>image_url</th>\n",
       "      <th>about</th>\n",
       "      <th>fans_count</th>\n",
       "    </tr>\n",
       "  </thead>\n",
       "  <tbody>\n",
       "  </tbody>\n",
       "</table>\n",
       "</div>"
      ],
      "text/plain": [
       "Empty DataFrame\n",
       "Columns: [ratings_count, average_rating, text_reviews_count, work_ids, book_ids, works_count, id, name, gender, image_url, about, fans_count]\n",
       "Index: []"
      ]
     },
     "execution_count": 41,
     "metadata": {},
     "output_type": "execute_result"
    }
   ],
   "source": [
    "# Identify eponymous authors\n",
    "eponymous_authors = df_author[df_author.duplicated('name', keep=False)]\n",
    "\n",
    "# Display the eponymous authors\n",
    "eponymous_authors\n"
   ]
  },
  {
   "cell_type": "markdown",
   "metadata": {},
   "source": [
    "#### 4-2 Write a function that, given a list of author_id, outputs a dictionary where each author_id is a key, and the related value is a list with the names of all the books the author has written."
   ]
  },
  {
   "cell_type": "code",
   "execution_count": 50,
   "metadata": {},
   "outputs": [
    {
     "data": {
      "text/plain": [
       "{1077326: ['Harry Potter and the Order of the Phoenix (Harry Potter, #5)',\n",
       "  \"Harry Potter and the Sorcerer's Stone (Harry Potter, #1)\",\n",
       "  'Harry Potter and the Chamber of Secrets (Harry Potter, #2)',\n",
       "  'Harry Potter and the Prisoner of Azkaban (Harry Potter, #3)',\n",
       "  'Harry Potter and the Goblet of Fire (Harry Potter, #4)',\n",
       "  'The Harry Potter Collection (Harry Potter, #1-6)',\n",
       "  'Harry Potter Boxed Set, Books 1-5 (Harry Potter, #1-5)',\n",
       "  'Harry Potter Collection (Harry Potter, #1-6)'],\n",
       " 58: ['God Emperor of Dune (Dune Chronicles, #4)',\n",
       "  'Dune (Dune Chronicles, #1)',\n",
       "  'Chapterhouse: Dune (Dune #6)',\n",
       "  'Dune Messiah (Dune #2)',\n",
       "  'Heretics of Dune (Dune Chronicles, #5)',\n",
       "  'The Road to Dune']}"
      ]
     },
     "execution_count": 50,
     "metadata": {},
     "output_type": "execute_result"
    }
   ],
   "source": [
    "def get_books_by_author(list_of_author_ids):\n",
    "    books_by_author = {}\n",
    "    \n",
    "    \n",
    "    df_book['author_id'] = df_book['author_id'].astype(int) #did this to input integer author id insted of string type\n",
    "    for author_id in list_of_author_ids:\n",
    "        \n",
    "        # Filter books for a specific author_id\n",
    "        author_books = df_book[df_book['author_id'] == author_id]['title'].tolist()\n",
    "        \n",
    "        # Store book names related to the author_id\n",
    "        books_by_author[author_id] = author_books\n",
    "    \n",
    "    return books_by_author\n",
    "\n",
    "\n",
    "get_books_by_author([1077326 , 58])"
   ]
  },
  {
   "cell_type": "markdown",
   "metadata": {},
   "source": [
    "#### 4-3 What is the longest book title among the books of the top 20 authors regarding their average rating? Is it the longest book title overall?"
   ]
  },
  {
   "cell_type": "code",
   "execution_count": 114,
   "metadata": {
    "scrolled": false
   },
   "outputs": [],
   "source": [
    "best_authors = df_author.sort_values(by = 'average_rating' , ascending = False).head(20)\n",
    "\n",
    "list_to_store_len_book = []\n",
    "\n",
    "for id1 in list(best_authors.id.values):\n",
    "    id1 = int(id1)\n",
    "    \n",
    "    title = df_book[df_book['author_id'] == id1]['title'].tolist()\n",
    "    \n",
    "    if len(title) != 0:\n",
    "        for book_name in title:\n",
    "            #print(book_name,len(book_name) , id1)\n",
    "            list_to_store_len_book.append([book_name , len(book_name) , id1])\n",
    "            \n",
    "final = sorted(list_to_store_len_book , key =  lambda x : x[1] , reverse = True)\n",
    "\n",
    "    "
   ]
  },
  {
   "cell_type": "code",
   "execution_count": 125,
   "metadata": {},
   "outputs": [
    {
     "name": "stdout",
     "output_type": "stream",
     "text": [
      "The longest book name among the to top authors is : \n",
      "  The Ultimate Hitchhiker's Guide: Five Complete Novels and One Story (Hitchhiker's Guide to the Galaxy, #1-5)\n",
      "\n",
      "the len of the title is :  108\n"
     ]
    }
   ],
   "source": [
    "final = sorted(list_to_store_len_book , key =  lambda x : x[1] , reverse = True)\n",
    "\n",
    "print('The longest book name among the to top authors is : \\n ' , final[0][0] )\n",
    "print()\n",
    "print('the len of the title is : ' , final[0][1])"
   ]
  },
  {
   "cell_type": "markdown",
   "metadata": {},
   "source": [
    "### Is it the longest book title overall?"
   ]
  },
  {
   "cell_type": "code",
   "execution_count": 138,
   "metadata": {},
   "outputs": [
    {
     "name": "stdout",
     "output_type": "stream",
     "text": [
      "longest book title among top 20 authors is the same with longest book title overal\n"
     ]
    }
   ],
   "source": [
    "title_len = [(i , len(i)) for i in df_book['title'].tolist() ]\n",
    "\n",
    "longest_book_title = sorted(title_len , key = lambda x : x[1] , reverse = True)[0][0]\n",
    "\n",
    "if longest_book_title == final[0][0]:\n",
    "    print(\"longest book title among top 20 authors is the same with longest book title overal\")\n",
    "    \n",
    "else:\n",
    "    print('they are different from each other')"
   ]
  },
  {
   "cell_type": "markdown",
   "metadata": {},
   "source": [
    "#### 4.4 - What is the shortest overall book title in the dataset? If you find something strange, provide a comment on what happened and an alternative answer."
   ]
  },
  {
   "cell_type": "code",
   "execution_count": 159,
   "metadata": {},
   "outputs": [
    {
     "data": {
      "text/plain": [
       "('a', 1)"
      ]
     },
     "execution_count": 159,
     "metadata": {},
     "output_type": "execute_result"
    }
   ],
   "source": [
    "title_len = [(book , len(book)) for book in df_book['title'].tolist() ]\n",
    "\n",
    "shortest_book_title = sorted(title_len , key = lambda x : x[1] , reverse = False)\n",
    "\n",
    "\n",
    "\"\"\"\n",
    "it might be because the dataset might contain empty or null book titles. In such cases,\n",
    "the title with the minimum length might represent an empty or non-informative entry.\n",
    "An alternative approach to handle this issue would be to clean the dataset, removing or\n",
    "replacing any null or empty values in the 'title' column, and then reattempting the process \n",
    "to find the shortest book title. This cleaning step could involve removing rows\n",
    "with missing titles or replacing the empty titles with a placeholder to distinguish them from legitimate book titles.\n",
    "\"\"\"\n",
    "shortest_book_title[0]"
   ]
  },
  {
   "cell_type": "code",
   "execution_count": 105,
   "id": "2397f25e-ac7c-4972-b288-45e095c8f3d3",
   "metadata": {
    "tags": []
   },
   "outputs": [
    {
     "data": {
      "text/html": [
       "<div>\n",
       "<style scoped>\n",
       "    .dataframe tbody tr th:only-of-type {\n",
       "        vertical-align: middle;\n",
       "    }\n",
       "\n",
       "    .dataframe tbody tr th {\n",
       "        vertical-align: top;\n",
       "    }\n",
       "\n",
       "    .dataframe thead th {\n",
       "        text-align: right;\n",
       "    }\n",
       "</style>\n",
       "<table border=\"1\" class=\"dataframe\">\n",
       "  <thead>\n",
       "    <tr style=\"text-align: right;\">\n",
       "      <th></th>\n",
       "      <th>ratings_count</th>\n",
       "      <th>average_rating</th>\n",
       "      <th>text_reviews_count</th>\n",
       "      <th>work_ids</th>\n",
       "      <th>book_ids</th>\n",
       "      <th>works_count</th>\n",
       "      <th>id</th>\n",
       "      <th>name</th>\n",
       "      <th>gender</th>\n",
       "      <th>image_url</th>\n",
       "      <th>about</th>\n",
       "      <th>fans_count</th>\n",
       "    </tr>\n",
       "  </thead>\n",
       "  <tbody>\n",
       "    <tr>\n",
       "      <th>0</th>\n",
       "      <td>2862064</td>\n",
       "      <td>4.19</td>\n",
       "      <td>62681</td>\n",
       "      <td>[3078186, 135328, 1877624, 74123, 3078120, 104...</td>\n",
       "      <td>[386162, 13, 8695, 8694, 6091075, 365, 569429,...</td>\n",
       "      <td>106</td>\n",
       "      <td>4</td>\n",
       "      <td>Douglas Adams</td>\n",
       "      <td>male</td>\n",
       "      <td>https://images.gr-assets.com/authors/159137433...</td>\n",
       "      <td>Douglas Noël Adams was an English author, comi...</td>\n",
       "      <td>19826</td>\n",
       "    </tr>\n",
       "    <tr>\n",
       "      <th>1</th>\n",
       "      <td>1417316</td>\n",
       "      <td>4.02</td>\n",
       "      <td>84176</td>\n",
       "      <td>[613469, 2305997, 940892, 2611786, 7800569, 31...</td>\n",
       "      <td>[9791, 21, 28, 24, 7507825, 27, 10538, 25, 26,...</td>\n",
       "      <td>75</td>\n",
       "      <td>7</td>\n",
       "      <td>Bill Bryson</td>\n",
       "      <td>male</td>\n",
       "      <td>https://images.gr-assets.com/authors/157859752...</td>\n",
       "      <td>William McGuire \"Bill\" Bryson, OBE, FRS was bo...</td>\n",
       "      <td>16144</td>\n",
       "    </tr>\n",
       "    <tr>\n",
       "      <th>2</th>\n",
       "      <td>56159</td>\n",
       "      <td>4.53</td>\n",
       "      <td>352</td>\n",
       "      <td>[17150, 808427, 20487307, 90550, 25460625, 171...</td>\n",
       "      <td>[349254, 15222, 14833682, 15221, 18126815, 152...</td>\n",
       "      <td>14</td>\n",
       "      <td>10</td>\n",
       "      <td>Jude Fisher</td>\n",
       "      <td>female</td>\n",
       "      <td>https://images.gr-assets.com/authors/141145711...</td>\n",
       "      <td>Jude Fisher is the pseudonym for &lt;a href=\"http...</td>\n",
       "      <td>60</td>\n",
       "    </tr>\n",
       "    <tr>\n",
       "      <th>3</th>\n",
       "      <td>3302</td>\n",
       "      <td>3.79</td>\n",
       "      <td>480</td>\n",
       "      <td>[4417, 14300808, 14780, 3796968, 44703121, 103...</td>\n",
       "      <td>[40, 9416484, 12482, 3753106, 26889789, 104764...</td>\n",
       "      <td>45</td>\n",
       "      <td>12</td>\n",
       "      <td>James Hamilton-Paterson</td>\n",
       "      <td>male</td>\n",
       "      <td>https://images.gr-assets.com/authors/127051738...</td>\n",
       "      <td>James Hamilton-Paterson's work has been transl...</td>\n",
       "      <td>72</td>\n",
       "    </tr>\n",
       "    <tr>\n",
       "      <th>4</th>\n",
       "      <td>7979</td>\n",
       "      <td>3.60</td>\n",
       "      <td>772</td>\n",
       "      <td>[13330815, 19109351, 42306244, 72694240, 26291...</td>\n",
       "      <td>[8466327, 15739968, 22756778, 51026133, 260451...</td>\n",
       "      <td>61</td>\n",
       "      <td>14</td>\n",
       "      <td>Mark Watson</td>\n",
       "      <td>male</td>\n",
       "      <td>https://images.gr-assets.com/authors/133175379...</td>\n",
       "      <td>Mark Andrew Watson (born 13 February 1980) is ...</td>\n",
       "      <td>179</td>\n",
       "    </tr>\n",
       "  </tbody>\n",
       "</table>\n",
       "</div>"
      ],
      "text/plain": [
       "   ratings_count  average_rating  text_reviews_count  \\\n",
       "0        2862064            4.19               62681   \n",
       "1        1417316            4.02               84176   \n",
       "2          56159            4.53                 352   \n",
       "3           3302            3.79                 480   \n",
       "4           7979            3.60                 772   \n",
       "\n",
       "                                            work_ids  \\\n",
       "0  [3078186, 135328, 1877624, 74123, 3078120, 104...   \n",
       "1  [613469, 2305997, 940892, 2611786, 7800569, 31...   \n",
       "2  [17150, 808427, 20487307, 90550, 25460625, 171...   \n",
       "3  [4417, 14300808, 14780, 3796968, 44703121, 103...   \n",
       "4  [13330815, 19109351, 42306244, 72694240, 26291...   \n",
       "\n",
       "                                            book_ids  works_count  id  \\\n",
       "0  [386162, 13, 8695, 8694, 6091075, 365, 569429,...          106   4   \n",
       "1  [9791, 21, 28, 24, 7507825, 27, 10538, 25, 26,...           75   7   \n",
       "2  [349254, 15222, 14833682, 15221, 18126815, 152...           14  10   \n",
       "3  [40, 9416484, 12482, 3753106, 26889789, 104764...           45  12   \n",
       "4  [8466327, 15739968, 22756778, 51026133, 260451...           61  14   \n",
       "\n",
       "                      name  gender  \\\n",
       "0            Douglas Adams    male   \n",
       "1              Bill Bryson    male   \n",
       "2              Jude Fisher  female   \n",
       "3  James Hamilton-Paterson    male   \n",
       "4              Mark Watson    male   \n",
       "\n",
       "                                           image_url  \\\n",
       "0  https://images.gr-assets.com/authors/159137433...   \n",
       "1  https://images.gr-assets.com/authors/157859752...   \n",
       "2  https://images.gr-assets.com/authors/141145711...   \n",
       "3  https://images.gr-assets.com/authors/127051738...   \n",
       "4  https://images.gr-assets.com/authors/133175379...   \n",
       "\n",
       "                                               about  fans_count  \n",
       "0  Douglas Noël Adams was an English author, comi...       19826  \n",
       "1  William McGuire \"Bill\" Bryson, OBE, FRS was bo...       16144  \n",
       "2  Jude Fisher is the pseudonym for <a href=\"http...          60  \n",
       "3  James Hamilton-Paterson's work has been transl...          72  \n",
       "4  Mark Andrew Watson (born 13 February 1980) is ...         179  "
      ]
     },
     "execution_count": 105,
     "metadata": {},
     "output_type": "execute_result"
    }
   ],
   "source": [
    "df_authors = pd.read_json('/home/ec2-user/lighter_authors.json', lines=True)\n",
    "df_authors.head()"
   ]
  },
  {
   "cell_type": "code",
   "execution_count": 106,
   "id": "38cf1724-f45c-4f18-85b4-209e4eb6ac75",
   "metadata": {
    "tags": []
   },
   "outputs": [
    {
     "name": "stdout",
     "output_type": "stream",
     "text": [
      "<class 'pandas.core.frame.DataFrame'>\n",
      "RangeIndex: 351767 entries, 0 to 351766\n",
      "Data columns (total 12 columns):\n",
      " #   Column              Non-Null Count   Dtype  \n",
      "---  ------              --------------   -----  \n",
      " 0   ratings_count       351767 non-null  int64  \n",
      " 1   average_rating      351767 non-null  float64\n",
      " 2   text_reviews_count  351767 non-null  int64  \n",
      " 3   work_ids            351767 non-null  object \n",
      " 4   book_ids            351767 non-null  object \n",
      " 5   works_count         351767 non-null  int64  \n",
      " 6   id                  351767 non-null  int64  \n",
      " 7   name                351767 non-null  object \n",
      " 8   gender              351767 non-null  object \n",
      " 9   image_url           351767 non-null  object \n",
      " 10  about               351767 non-null  object \n",
      " 11  fans_count          351767 non-null  int64  \n",
      "dtypes: float64(1), int64(5), object(6)\n",
      "memory usage: 32.2+ MB\n"
     ]
    }
   ],
   "source": [
    "df_authors.info()"
   ]
  },
  {
   "cell_type": "code",
   "execution_count": 107,
   "id": "fe33ecb1-f6a3-47ac-a4b3-755cd9922a30",
   "metadata": {
    "tags": []
   },
   "outputs": [
    {
     "data": {
      "text/html": [
       "<div>\n",
       "<style scoped>\n",
       "    .dataframe tbody tr th:only-of-type {\n",
       "        vertical-align: middle;\n",
       "    }\n",
       "\n",
       "    .dataframe tbody tr th {\n",
       "        vertical-align: top;\n",
       "    }\n",
       "\n",
       "    .dataframe thead th {\n",
       "        text-align: right;\n",
       "    }\n",
       "</style>\n",
       "<table border=\"1\" class=\"dataframe\">\n",
       "  <thead>\n",
       "    <tr style=\"text-align: right;\">\n",
       "      <th></th>\n",
       "      <th>id</th>\n",
       "      <th>title</th>\n",
       "      <th>authors</th>\n",
       "      <th>author_name</th>\n",
       "      <th>author_id</th>\n",
       "      <th>work_id</th>\n",
       "      <th>isbn</th>\n",
       "      <th>isbn13</th>\n",
       "      <th>asin</th>\n",
       "      <th>language</th>\n",
       "      <th>...</th>\n",
       "      <th>format</th>\n",
       "      <th>edition_information</th>\n",
       "      <th>image_url</th>\n",
       "      <th>publisher</th>\n",
       "      <th>num_pages</th>\n",
       "      <th>series_id</th>\n",
       "      <th>series_name</th>\n",
       "      <th>series_position</th>\n",
       "      <th>shelves</th>\n",
       "      <th>description</th>\n",
       "    </tr>\n",
       "  </thead>\n",
       "  <tbody>\n",
       "    <tr>\n",
       "      <th>0</th>\n",
       "      <td>2</td>\n",
       "      <td>Harry Potter and the Order of the Phoenix (Har...</td>\n",
       "      <td>[{'id': '1077326', 'name': 'J.K. Rowling', 'ro...</td>\n",
       "      <td>J.K. Rowling</td>\n",
       "      <td>1077326</td>\n",
       "      <td>2809203</td>\n",
       "      <td>0439358078</td>\n",
       "      <td>9780439358071</td>\n",
       "      <td></td>\n",
       "      <td>eng</td>\n",
       "      <td>...</td>\n",
       "      <td>Paperback</td>\n",
       "      <td>US Edition</td>\n",
       "      <td>https://i.gr-assets.com/images/S/compressed.ph...</td>\n",
       "      <td>Scholastic Inc.</td>\n",
       "      <td>870</td>\n",
       "      <td>45175</td>\n",
       "      <td>Harry Potter</td>\n",
       "      <td>5</td>\n",
       "      <td>[{'name': 'to-read', 'count': 324191}, {'name'...</td>\n",
       "      <td>There is a door at the end of a silent corrido...</td>\n",
       "    </tr>\n",
       "    <tr>\n",
       "      <th>1</th>\n",
       "      <td>3</td>\n",
       "      <td>Harry Potter and the Sorcerer's Stone (Harry P...</td>\n",
       "      <td>[{'id': '1077326', 'name': 'J.K. Rowling', 'ro...</td>\n",
       "      <td>J.K. Rowling</td>\n",
       "      <td>1077326</td>\n",
       "      <td>4640799</td>\n",
       "      <td></td>\n",
       "      <td></td>\n",
       "      <td></td>\n",
       "      <td>eng</td>\n",
       "      <td>...</td>\n",
       "      <td>Hardcover</td>\n",
       "      <td>Library Edition</td>\n",
       "      <td>https://i.gr-assets.com/images/S/compressed.ph...</td>\n",
       "      <td>Scholastic Inc</td>\n",
       "      <td>309</td>\n",
       "      <td>45175</td>\n",
       "      <td>Harry Potter</td>\n",
       "      <td>1</td>\n",
       "      <td>[{'name': 'fantasy', 'count': 63540}, {'name':...</td>\n",
       "      <td>Harry Potter's life is miserable. His parents ...</td>\n",
       "    </tr>\n",
       "    <tr>\n",
       "      <th>2</th>\n",
       "      <td>4</td>\n",
       "      <td>Harry Potter and the Chamber of Secrets (Harry...</td>\n",
       "      <td>None</td>\n",
       "      <td>J.K. Rowling</td>\n",
       "      <td>1077326</td>\n",
       "      <td>6231171</td>\n",
       "      <td>0439554896</td>\n",
       "      <td>9780439554893</td>\n",
       "      <td></td>\n",
       "      <td>eng</td>\n",
       "      <td>...</td>\n",
       "      <td>Hardcover</td>\n",
       "      <td></td>\n",
       "      <td>https://i.gr-assets.com/images/S/compressed.ph...</td>\n",
       "      <td>Scholastic</td>\n",
       "      <td>352</td>\n",
       "      <td>45175</td>\n",
       "      <td>Harry Potter</td>\n",
       "      <td>2</td>\n",
       "      <td>[{'name': 'to-read', 'count': 282341}, {'name'...</td>\n",
       "      <td>The Dursleys were so mean and hideous that sum...</td>\n",
       "    </tr>\n",
       "    <tr>\n",
       "      <th>3</th>\n",
       "      <td>5</td>\n",
       "      <td>Harry Potter and the Prisoner of Azkaban (Harr...</td>\n",
       "      <td>[{'id': '1077326', 'name': 'J.K. Rowling', 'ro...</td>\n",
       "      <td>J.K. Rowling</td>\n",
       "      <td>1077326</td>\n",
       "      <td>2402163</td>\n",
       "      <td>043965548X</td>\n",
       "      <td>9780439655484</td>\n",
       "      <td></td>\n",
       "      <td>eng</td>\n",
       "      <td>...</td>\n",
       "      <td>Mass Market Paperback</td>\n",
       "      <td></td>\n",
       "      <td>https://i.gr-assets.com/images/S/compressed.ph...</td>\n",
       "      <td>Scholastic Inc.</td>\n",
       "      <td>435</td>\n",
       "      <td>45175</td>\n",
       "      <td>Harry Potter</td>\n",
       "      <td>3</td>\n",
       "      <td>[{'name': 'to-read', 'count': 292815}, {'name'...</td>\n",
       "      <td>For twelve long years, the dread fortress of A...</td>\n",
       "    </tr>\n",
       "    <tr>\n",
       "      <th>4</th>\n",
       "      <td>6</td>\n",
       "      <td>Harry Potter and the Goblet of Fire (Harry Pot...</td>\n",
       "      <td>[{'id': '1077326', 'name': 'J.K. Rowling', 'ro...</td>\n",
       "      <td>J.K. Rowling</td>\n",
       "      <td>1077326</td>\n",
       "      <td>3046572</td>\n",
       "      <td></td>\n",
       "      <td></td>\n",
       "      <td></td>\n",
       "      <td>eng</td>\n",
       "      <td>...</td>\n",
       "      <td>Paperback</td>\n",
       "      <td>First Scholastic Trade Paperback Edition</td>\n",
       "      <td>https://i.gr-assets.com/images/S/compressed.ph...</td>\n",
       "      <td>Scholastic</td>\n",
       "      <td>734</td>\n",
       "      <td>45175</td>\n",
       "      <td>Harry Potter</td>\n",
       "      <td>4</td>\n",
       "      <td>[{'name': 'to-read', 'count': 287086}, {'name'...</td>\n",
       "      <td>Harry Potter is midway through his training as...</td>\n",
       "    </tr>\n",
       "  </tbody>\n",
       "</table>\n",
       "<p>5 rows × 26 columns</p>\n",
       "</div>"
      ],
      "text/plain": [
       "   id                                              title  \\\n",
       "0   2  Harry Potter and the Order of the Phoenix (Har...   \n",
       "1   3  Harry Potter and the Sorcerer's Stone (Harry P...   \n",
       "2   4  Harry Potter and the Chamber of Secrets (Harry...   \n",
       "3   5  Harry Potter and the Prisoner of Azkaban (Harr...   \n",
       "4   6  Harry Potter and the Goblet of Fire (Harry Pot...   \n",
       "\n",
       "                                             authors   author_name  author_id  \\\n",
       "0  [{'id': '1077326', 'name': 'J.K. Rowling', 'ro...  J.K. Rowling    1077326   \n",
       "1  [{'id': '1077326', 'name': 'J.K. Rowling', 'ro...  J.K. Rowling    1077326   \n",
       "2                                               None  J.K. Rowling    1077326   \n",
       "3  [{'id': '1077326', 'name': 'J.K. Rowling', 'ro...  J.K. Rowling    1077326   \n",
       "4  [{'id': '1077326', 'name': 'J.K. Rowling', 'ro...  J.K. Rowling    1077326   \n",
       "\n",
       "   work_id        isbn         isbn13 asin language  ...  \\\n",
       "0  2809203  0439358078  9780439358071           eng  ...   \n",
       "1  4640799                                      eng  ...   \n",
       "2  6231171  0439554896  9780439554893           eng  ...   \n",
       "3  2402163  043965548X  9780439655484           eng  ...   \n",
       "4  3046572                                      eng  ...   \n",
       "\n",
       "                  format                       edition_information  \\\n",
       "0              Paperback                                US Edition   \n",
       "1              Hardcover                           Library Edition   \n",
       "2              Hardcover                                             \n",
       "3  Mass Market Paperback                                             \n",
       "4              Paperback  First Scholastic Trade Paperback Edition   \n",
       "\n",
       "                                           image_url        publisher  \\\n",
       "0  https://i.gr-assets.com/images/S/compressed.ph...  Scholastic Inc.   \n",
       "1  https://i.gr-assets.com/images/S/compressed.ph...   Scholastic Inc   \n",
       "2  https://i.gr-assets.com/images/S/compressed.ph...       Scholastic   \n",
       "3  https://i.gr-assets.com/images/S/compressed.ph...  Scholastic Inc.   \n",
       "4  https://i.gr-assets.com/images/S/compressed.ph...       Scholastic   \n",
       "\n",
       "  num_pages series_id   series_name series_position  \\\n",
       "0       870     45175  Harry Potter               5   \n",
       "1       309     45175  Harry Potter               1   \n",
       "2       352     45175  Harry Potter               2   \n",
       "3       435     45175  Harry Potter               3   \n",
       "4       734     45175  Harry Potter               4   \n",
       "\n",
       "                                             shelves  \\\n",
       "0  [{'name': 'to-read', 'count': 324191}, {'name'...   \n",
       "1  [{'name': 'fantasy', 'count': 63540}, {'name':...   \n",
       "2  [{'name': 'to-read', 'count': 282341}, {'name'...   \n",
       "3  [{'name': 'to-read', 'count': 292815}, {'name'...   \n",
       "4  [{'name': 'to-read', 'count': 287086}, {'name'...   \n",
       "\n",
       "                                         description  \n",
       "0  There is a door at the end of a silent corrido...  \n",
       "1  Harry Potter's life is miserable. His parents ...  \n",
       "2  The Dursleys were so mean and hideous that sum...  \n",
       "3  For twelve long years, the dread fortress of A...  \n",
       "4  Harry Potter is midway through his training as...  \n",
       "\n",
       "[5 rows x 26 columns]"
      ]
     },
     "execution_count": 107,
     "metadata": {},
     "output_type": "execute_result"
    }
   ],
   "source": [
    "df_books = pd.read_json('/home/ec2-user/lighter_books.json', lines=True, nrows=100000)\n",
    "df_books.head()"
   ]
  },
  {
   "cell_type": "code",
   "execution_count": 108,
   "id": "09ab8603-2d77-41fa-b70b-db0717275b32",
   "metadata": {
    "tags": []
   },
   "outputs": [
    {
     "name": "stdout",
     "output_type": "stream",
     "text": [
      "<class 'pandas.core.frame.DataFrame'>\n",
      "RangeIndex: 99984 entries, 0 to 99983\n",
      "Data columns (total 26 columns):\n",
      " #   Column                     Non-Null Count  Dtype  \n",
      "---  ------                     --------------  -----  \n",
      " 0   id                         99984 non-null  int64  \n",
      " 1   title                      99984 non-null  object \n",
      " 2   authors                    34259 non-null  object \n",
      " 3   author_name                99984 non-null  object \n",
      " 4   author_id                  99984 non-null  int64  \n",
      " 5   work_id                    99984 non-null  int64  \n",
      " 6   isbn                       99984 non-null  object \n",
      " 7   isbn13                     99984 non-null  object \n",
      " 8   asin                       99984 non-null  object \n",
      " 9   language                   99984 non-null  object \n",
      " 10  average_rating             99984 non-null  float64\n",
      " 11  rating_dist                99984 non-null  object \n",
      " 12  ratings_count              99984 non-null  int64  \n",
      " 13  text_reviews_count         99984 non-null  int64  \n",
      " 14  publication_date           99984 non-null  object \n",
      " 15  original_publication_date  99984 non-null  object \n",
      " 16  format                     99984 non-null  object \n",
      " 17  edition_information        99984 non-null  object \n",
      " 18  image_url                  99984 non-null  object \n",
      " 19  publisher                  99984 non-null  object \n",
      " 20  num_pages                  99984 non-null  object \n",
      " 21  series_id                  99984 non-null  object \n",
      " 22  series_name                99984 non-null  object \n",
      " 23  series_position            99984 non-null  object \n",
      " 24  shelves                    99984 non-null  object \n",
      " 25  description                99984 non-null  object \n",
      "dtypes: float64(1), int64(5), object(20)\n",
      "memory usage: 19.8+ MB\n"
     ]
    }
   ],
   "source": [
    "df_books.info()"
   ]
  },
  {
   "cell_type": "markdown",
   "id": "c02384e2-823e-4a20-952d-1efdb0553004",
   "metadata": {
    "jp-MarkdownHeadingCollapsed": true,
    "tags": []
   },
   "source": [
    "# 5 - [RQ5] "
   ]
  },
  {
   "cell_type": "markdown",
   "id": "41c57d45-c1c4-41ec-9f66-ebab7ebb08f2",
   "metadata": {
    "tags": []
   },
   "source": [
    "**RQ5_1**"
   ]
  },
  {
   "cell_type": "markdown",
   "id": "bf7db8c0-8708-4143-9fe3-2c1d12989d63",
   "metadata": {},
   "source": [
    "Plot the top 10 most influential authors regarding their fan count and number of books.(First, look the fan count and if it is equal look # of books and sort.) )"
   ]
  },
  {
   "cell_type": "code",
   "execution_count": 109,
   "id": "cc734036-d153-4212-b8db-c5fef34d1300",
   "metadata": {
    "tags": []
   },
   "outputs": [
    {
     "name": "stdout",
     "output_type": "stream",
     "text": [
      "                       name  fans_count  works_count\n",
      "1017           Stephen King      766035         1762\n",
      "169374        Veronica Roth      455358           57\n",
      "6397            Bill  Gates      446876           12\n",
      "205870       Colleen Hoover      356633           57\n",
      "4537           Rick Riordan      339346          172\n",
      "1161        James Patterson      317040          747\n",
      "100166           John Green      282537           57\n",
      "3818    Neil deGrasse Tyson      277850           52\n",
      "27110       Cassandra Clare      238560          203\n",
      "32358          Mindy Kaling      234647           16\n"
     ]
    }
   ],
   "source": [
    "top_10_authors= df_authors.nlargest(10, 'fans_count')[['name', 'fans_count', 'works_count']]\n",
    "print(top_10_authors)"
   ]
  },
  {
   "cell_type": "markdown",
   "id": "a13bdaab-4371-477f-9ccf-eb30a205810c",
   "metadata": {},
   "source": [
    "Plotting"
   ]
  },
  {
   "cell_type": "code",
   "execution_count": 111,
   "id": "d5fd2e55-d2ae-4784-8db0-764bec3d0a14",
   "metadata": {
    "tags": []
   },
   "outputs": [
    {
     "data": {
      "image/png": "[encoded data removed]",
      "text/plain": [
       "<Figure size 1000x600 with 1 Axes>"
      ]
     },
     "metadata": {},
     "output_type": "display_data"
    },
    {
     "data": {
      "image/png": "[encoded data removed]",
      "text/plain": [
       "<Figure size 1000x600 with 1 Axes>"
      ]
     },
     "metadata": {},
     "output_type": "display_data"
    }
   ],
   "source": [
    "# Plotting according to their fan count \n",
    "\n",
    "top_10_authors_fans = df_authors.nlargest(10, 'fans_count')\n",
    "sns.set(style=\"whitegrid\")\n",
    "\n",
    "plt.figure(figsize=(10, 6))\n",
    "plot = sns.barplot(x='name', y='fans_count', data=top_10_authors_fans, palette=\"rocket\")\n",
    "plot.set_title('Top 10 Most Influential Authors by Fan Count')\n",
    "plot.set(xlabel='Authors', ylabel='Fan Count')\n",
    "plot.set_xticklabels(plot.get_xticklabels(), rotation=40, horizontalalignment='right')\n",
    "plt.show()\n",
    "\n",
    "# Plotting according to their # of books\n",
    "\n",
    "top_10_authors_books = df_authors.nlargest(10, 'fans_count')\n",
    "\n",
    "plt.figure(figsize=(10, 6))\n",
    "plot = sns.barplot(x='name', y='works_count', data=top_10_authors_books, palette='viridis')\n",
    "plot.set_title('Top 10 Most Influential Authors by Number of Books')\n",
    "plot.set(xlabel='Authors', ylabel='Number of Books')\n",
    "plot.set_xticklabels(plot.get_xticklabels(), rotation=45, horizontalalignment='right')\n",
    "plt.show()"
   ]
  },
  {
   "cell_type": "markdown",
   "id": "540cec72-3aab-40b1-9b32-c1771ed1fac0",
   "metadata": {},
   "source": [
    "According to graphs which are show the top 10 authors by fan count and by number of books most influential author is Stephen King."
   ]
  },
  {
   "cell_type": "markdown",
   "id": "f9d5eb11-6c12-4eae-ab66-b0e6eeabdc36",
   "metadata": {},
   "source": [
    "**RQ5_2**"
   ]
  },
  {
   "cell_type": "markdown",
   "id": "058870a7-0e86-4d15-a26f-5fb7bb4899b2",
   "metadata": {},
   "source": [
    "Have they published any series of books? "
   ]
  },
  {
   "cell_type": "code",
   "execution_count": 115,
   "id": "0448d0e7-7d9b-4590-a5c3-6cd142af0221",
   "metadata": {
    "tags": []
   },
   "outputs": [
    {
     "name": "stdout",
     "output_type": "stream",
     "text": [
      "Authors among the top 10 who have published a series:\n",
      "                       name\n",
      "1017           Stephen King\n",
      "6397            Bill  Gates\n",
      "4537           Rick Riordan\n",
      "1161        James Patterson\n",
      "100166           John Green\n",
      "3818    Neil deGrasse Tyson\n"
     ]
    }
   ],
   "source": [
    "top_10_authors = df_authors.nlargest(10, ['fans_count', 'works_count'])\n",
    "books_in_series = df_books[(df_books['author_id'].isin(top_10_authors['id'])) & (df_books['series_name'].notnull())]\n",
    "authors_with_series = books_in_series['author_id'].unique()\n",
    "top_authors_with_series = top_10_authors[top_10_authors['id'].isin(authors_with_series)]\n",
    "\n",
    "print(\"Authors among the top 10 who have published a series:\")\n",
    "print(top_authors_with_series[['name']])\n"
   ]
  },
  {
   "cell_type": "markdown",
   "id": "fe4a6178-602b-488d-95c3-89f257e4624c",
   "metadata": {
    "tags": []
   },
   "source": [
    "If any, extract the longest series name among these authors."
   ]
  },
  {
   "cell_type": "code",
   "execution_count": 116,
   "id": "f1f2fb48-1399-494f-bd89-cdbe58902fc1",
   "metadata": {
    "tags": []
   },
   "outputs": [
    {
     "name": "stdout",
     "output_type": "stream",
     "text": [
      "The author with the longest series name among the top 10 is: Rick Riordan\n",
      "The longest series name is: 'Percy Jackson and the Olympians'\n"
     ]
    }
   ],
   "source": [
    "longest_series_row = books_in_series.loc[books_in_series['series_name'].str.len().idxmax()]\n",
    "\n",
    "author_name = df_authors[df_authors['id'] == longest_series_row['author_id']]['name'].values[0]\n",
    "longest_series_name = longest_series_row['series_name']\n",
    "\n",
    "print(f\"The author with the longest series name among the top 10 is: {author_name}\")\n",
    "print(f\"The longest series name is: '{longest_series_name}'\")\n"
   ]
  },
  {
   "cell_type": "markdown",
   "id": "f60567eb-48f1-4676-a922-3bbcb875f434",
   "metadata": {},
   "source": [
    "How many of these authors have been published in different formats? "
   ]
  },
  {
   "cell_type": "code",
   "execution_count": 117,
   "id": "1edf101f-8c7c-4ca9-91c2-5ba9828ee236",
   "metadata": {
    "tags": []
   },
   "outputs": [
    {
     "name": "stdout",
     "output_type": "stream",
     "text": [
      "Authors who have published series in different formats:\n",
      "Stephen King\n",
      "James Patterson\n",
      "Neil deGrasse Tyson\n",
      "Rick Riordan\n",
      "Bill  Gates\n",
      "John Green\n",
      "\n",
      "6 authors have published series in different formats seen in the above.\n"
     ]
    }
   ],
   "source": [
    "# Count authors and get author names in the top 10 who have published in different formats\n",
    "authors_diff_formats = books_in_series.groupby(['author_id', 'series_name'])['format'].nunique().reset_index()\n",
    "count_authors_diff_formats = authors_diff_formats['author_id'].nunique()\n",
    "author_names = df_authors[df_authors['id'].isin(authors_diff_formats['author_id'])]['name'].tolist()\n",
    "\n",
    "print(\"Authors who have published series in different formats:\")\n",
    "for author in author_names:\n",
    "    print(author)    \n",
    "print()\n",
    "print(f\"{count_authors_diff_formats} authors have published series in different formats seen in the above.\")"
   ]
  },
  {
   "cell_type": "markdown",
   "id": "7c55dec0-ad47-4692-be60-859ef7f1c697",
   "metadata": {},
   "source": [
    "Provide a meaningful chart on the distribution of the formats and comment on it."
   ]
  },
  {
   "cell_type": "code",
   "execution_count": 123,
   "id": "5a112e2e-7ed5-48f9-b8f0-1a642d60557c",
   "metadata": {
    "tags": []
   },
   "outputs": [
    {
     "data": {
      "image/png": "[encoded data removed]",
      "text/plain": [
       "<Figure size 1400x600 with 2 Axes>"
      ]
     },
     "metadata": {},
     "output_type": "display_data"
    }
   ],
   "source": [
    "# Filter authors' format types\n",
    "authors_format_counts = books_in_series.groupby('author_id')['format'].value_counts().unstack().fillna(0)\n",
    "\n",
    "# Get author names from their IDs\n",
    "author_names = df_authors.set_index('id')['name']\n",
    "\n",
    "# Replace author IDs with their names\n",
    "authors_format_counts = authors_format_counts.rename(index=author_names)\n",
    "\n",
    "# Calculate the total number of each format\n",
    "totals = authors_format_counts.sum()\n",
    "\n",
    "plt.figure(figsize=(14, 6))\n",
    "sns.heatmap(authors_format_counts, cmap='mako', annot=True, fmt='g')\n",
    "\n",
    "for i, (col, total) in enumerate(totals.items()):\n",
    "    plt.text(i + 0.5, -0.6, f\"({int(total)})\", ha='center', va='center', rotation=40, fontsize=8, color='black')\n",
    "\n",
    "plt.title('Format Types of Authors Who Published Series in Different Formats')\n",
    "plt.xlabel('Format Types')\n",
    "plt.ylabel('Author Names')\n",
    "plt.show()"
   ]
  },
  {
   "cell_type": "markdown",
   "id": "73f582f2-83f6-4ef8-9320-ad9f4506f310",
   "metadata": {},
   "source": [
    "From the graph, among the top 10 authors which have series (totally 6 authors) have published at least 1 series in paperback format. At the same time, according to the total number of each format, we can say that \"leather bound\", \"boxed set\", \"rstica bolsillo\", and \"[large print]\" are the types of format in which the least number of series (in fact, it was not used by 5 of these 6 authors) was produced.\n"
   ]
  },
  {
   "cell_type": "markdown",
   "id": "783fa581-bffc-4621-ac44-1e348f0d761b",
   "metadata": {},
   "source": [
    "Provide information about the general response from readers (number of fans, average rating, number of reviews, etc.), divide the authors by gender, and comment about anything eventually related to “structural bias.”"
   ]
  },
  {
   "cell_type": "code",
   "execution_count": 124,
   "id": "a0757188-b93a-4b1f-be87-67710bcb2a95",
   "metadata": {
    "tags": []
   },
   "outputs": [
    {
     "data": {
      "image/png": "[encoded data removed]",
      "text/plain": [
       "<Figure size 1400x500 with 3 Axes>"
      ]
     },
     "metadata": {},
     "output_type": "display_data"
    }
   ],
   "source": [
    "fig, axes = plt.subplots(1, 3, figsize=(14, 5))\n",
    "colors = [\"hotpink\", \"dodgerblue\"]  # Colors for Female and Male respectively\n",
    "\n",
    "# Plotting Number of Fans by Gender\n",
    "sns.barplot(x=['Female', 'Male'], y=[top_10_authors[top_10_authors['gender'] == 'female']['fans_count'].mean(), top_10_authors[top_10_authors['gender'] == 'male']['fans_count'].mean()], palette=colors, ax=axes[0])\n",
    "axes[0].set_title('Number of Fans by Gender')\n",
    "\n",
    "# Plotting Average Rating by Gender\n",
    "sns.barplot(x=['Female', 'Male'], y=[top_10_authors[top_10_authors['gender'] == 'female']['average_rating'].mean(), top_10_authors[top_10_authors['gender'] == 'male']['average_rating'].mean()], palette=colors, ax=axes[1])\n",
    "axes[1].set_title('Average Rating by Gender')\n",
    "\n",
    "# Plotting Number of Reviews by Gender\n",
    "sns.barplot(x=['Female', 'Male'], y=[top_10_authors[top_10_authors['gender'] == 'female']['text_reviews_count'].mean(), top_10_authors[top_10_authors['gender'] == 'male']['text_reviews_count'].mean()], palette=colors, ax=axes[2])\n",
    "axes[2].set_title('Number of Reviews by Gender')\n",
    "\n",
    "plt.tight_layout()\n",
    "plt.show()\n"
   ]
  },
  {
   "cell_type": "markdown",
   "id": "1c1a513a-d698-4b86-8d0c-ab5b4d9a5cb3",
   "metadata": {},
   "source": [
    "According to first graph which shows the number of fans by gender, male authors have more fan. This might indicate that male authors, on average, have a larger or more engaged fan   base compared to female authors. According to second graph which shows the average rating by gender, female authors have slightly higher average rating than male authors. \n",
    "\n",
    "According to last graph which shows the number of reviews by gender, male authors have more number of reviews. This may suggest that the works of male authors receive a higher volume of reviews, indicating potentially greater visibility or reader engagement"
   ]
  },
  {
   "cell_type": "markdown",
   "id": "b88d7cfd-9581-44c3-b658-c98f173c42f6",
   "metadata": {
    "jp-MarkdownHeadingCollapsed": true,
    "tags": []
   },
   "source": [
    "# 6 - [RQ6]"
   ]
  },
  {
   "cell_type": "markdown",
   "id": "9cc46649-a9fa-420f-b523-6187abf621a6",
   "metadata": {
    "tags": []
   },
   "source": [
    "**RQ6_1**"
   ]
  },
  {
   "cell_type": "markdown",
   "id": "e6317682-e347-424f-a267-2d1dae09d81b",
   "metadata": {},
   "source": [
    "Provide the average time gap between two subsequent publications for a series of books and those not belonging to a series."
   ]
  },
  {
   "cell_type": "markdown",
   "id": "0480e888-033b-45a9-acaf-6cbf89435f4f",
   "metadata": {
    "tags": []
   },
   "source": [
    "number for series of books"
   ]
  },
  {
   "cell_type": "code",
   "execution_count": 126,
   "id": "29da3117-a77e-4c6d-a0e6-aa7b57d06881",
   "metadata": {
    "tags": []
   },
   "outputs": [
    {
     "name": "stdout",
     "output_type": "stream",
     "text": [
      "\n",
      "Series IDs for author Stephen King (ID 3389):\n",
      "['40750' '' '167219' '217778' '49631' '69946' '49348' '117014' '178265'\n",
      " '50388' '231695' '203066' '97757']\n",
      "\n",
      "Series IDs for author Bill  Gates (ID 23470):\n",
      "['']\n",
      "\n",
      "Series IDs for author Rick Riordan (ID 15872):\n",
      "['40736' '41197' '']\n",
      "\n",
      "Series IDs for author James Patterson (ID 3780):\n",
      "['' '40543' '51312' '40469' '43579' '90613' '202859' '56397' '40445']\n",
      "\n",
      "Series IDs for author John Green (ID 1406384):\n",
      "['']\n",
      "\n",
      "Series IDs for author Neil deGrasse Tyson (ID 12855):\n",
      "['' '303246']\n"
     ]
    }
   ],
   "source": [
    "for author_id in top_10_authors['id']:\n",
    "    series_books_author = df_books[(df_books['series_name'].notnull()) & (df_books['author_id'] == author_id)]\n",
    "\n",
    "    if not series_books_author.empty:\n",
    "        unique_series = series_books_author['series_id'].unique()\n",
    "        author_name = df_authors[df_authors['id'] == author_id]['name'].iloc[0]\n",
    "        \n",
    "        print(f\"\\nSeries IDs for author {author_name} (ID {author_id}):\")\n",
    "        print(unique_series)"
   ]
  },
  {
   "cell_type": "markdown",
   "id": "891cc2a8-e0bd-4e08-8e1b-c68c8a6494b7",
   "metadata": {
    "tags": []
   },
   "source": [
    "From this output, I can say that data missing for 2 authors. Since they do not have a series_id, I will not be able to calculate the average time period on them. \n",
    "So I decided to continue by removing these authors from the list for this question. I think there is a missing data in the data set. So, i removed blank series ids."
   ]
  },
  {
   "cell_type": "code",
   "execution_count": 128,
   "id": "a393eac7-479c-4d9c-9c92-6f90e7fad6d8",
   "metadata": {
    "tags": []
   },
   "outputs": [
    {
     "name": "stdout",
     "output_type": "stream",
     "text": [
      "\n",
      "Series for author Stephen King (ID 3389):\n",
      "\n",
      "Series ID: 40750, Series Name: The Dark Tower\n",
      "Books in Series:\n",
      "Work ID: 46575, Original Publication Date: 1982-06-01\n",
      "Work ID: 2113248, Original Publication Date: 1987-05-01\n",
      "Work ID: 1810634, Original Publication Date: 1991-08-01\n",
      "Work ID: 980612, Original Publication Date: 1991-10-01\n",
      "Work ID: 750558, Original Publication Date: 1997-11-04\n",
      "Work ID: 6309704, Original Publication Date: 2002-01-01\n",
      "Work ID: 2754911, Original Publication Date: 2003-11-04\n",
      "Work ID: 1178083, Original Publication Date: 2004-06-08\n",
      "Work ID: 6309701, Original Publication Date: 2004-09-21\n",
      "Series ID: 167219, Series Name: The Stand (split volumes)\n",
      "Books in Series:\n",
      "Work ID: 6292643, Original Publication Date: 1978-01-01\n",
      "Work ID: 26537904, Original Publication Date: 1978-01-01\n",
      "Series ID: 217778, Series Name: Skeleton Crew\n",
      "Books in Series:\n",
      "Work ID: 59181, Original Publication Date: 1980-01-01\n",
      "Work ID: 57525683, Original Publication Date: 1985-06-21\n",
      "Work ID: 17840304, Original Publication Date: 1985-06-21\n",
      "Work ID: 24346316, Original Publication Date: 1985-06-21\n",
      "Series ID: 49631, Series Name: The Talisman\n",
      "Books in Series:\n",
      "Work ID: 3324421, Original Publication Date: 1984-11-08\n",
      "Work ID: 1738813, Original Publication Date: 2001-09-15\n",
      "Work ID: 93620, Original Publication Date: 2002-10-29\n",
      "Series ID: 69946, Series Name: The Green Mile\n",
      "Books in Series:\n",
      "Work ID: 9813320, Original Publication Date: 1996-03-28\n",
      "Work ID: 9813429, Original Publication Date: 1996-04-25\n",
      "Work ID: 9813531, Original Publication Date: 1996-05-30\n",
      "Work ID: 9813490, Original Publication Date: 1996-06-27\n",
      "Work ID: 9813455, Original Publication Date: 1996-07-25\n",
      "Work ID: 15599, Original Publication Date: 1996-08-29\n",
      "Work ID: 9813536, Original Publication Date: 1996-08-29\n",
      "Series ID: 49348, Series Name: The Secretary of Dreams\n",
      "Books in Series:\n",
      "Work ID: 14002, Original Publication Date: 2006-10-30\n",
      "Series ID: 117014, Series Name: The Shining\n",
      "Books in Series:\n",
      "Work ID: 849585, Original Publication Date: 1977-01-28\n",
      "Series ID: 178265, Series Name: Different Seasons\n",
      "Books in Series:\n",
      "Work ID: 15259183, Original Publication Date: 1982-08-27\n",
      "Work ID: 26625848, Original Publication Date: 1982-08-27\n",
      "Series ID: 50388, Series Name: Nightmares & Dreamscapes\n",
      "Books in Series:\n",
      "Work ID: 15258955, Original Publication Date: 1993-09-29\n",
      "Work ID: 20435134, Original Publication Date: 1993-09-29\n",
      "Series ID: 231695, Series Name: Pesadillas y alucinaciones\n",
      "Books in Series:\n",
      "Series ID: 203066, Series Name: It (2 volumes)\n",
      "Books in Series:\n",
      "Work ID: 73672545, Original Publication Date: 1986-09-01\n",
      "Work ID: 40780851, Original Publication Date: 1986-09-15\n",
      "Series ID: 97757, Series Name: It (3 volumes)\n",
      "Books in Series:\n",
      "Work ID: 44454376, Original Publication Date: 1986-09-15\n",
      "\n",
      "Series for author Rick Riordan (ID 15872):\n",
      "\n",
      "Series ID: 40736, Series Name: Percy Jackson and the Olympians\n",
      "Books in Series:\n",
      "Work ID: 3346751, Original Publication Date: 2005-06-28\n",
      "Work ID: 43554, Original Publication Date: 2006-04-01\n",
      "Work ID: 2936530, Original Publication Date: 2007-01-01\n",
      "Series ID: 41197, Series Name: Tres Navarre\n",
      "Books in Series:\n",
      "Work ID: 109044, Original Publication Date: 1997-06-02\n",
      "Work ID: 109045, Original Publication Date: 1998-05-04\n",
      "Work ID: 109052, Original Publication Date: 2000-01-01\n",
      "Work ID: 109048, Original Publication Date: 2001-01-01\n",
      "Work ID: 1853758, Original Publication Date: 2004-01-01\n",
      "Work ID: 109047, Original Publication Date: 2005-01-01\n",
      "Work ID: 109050, Original Publication Date: 2007-01-01\n",
      "\n",
      "Series for author James Patterson (ID 3780):\n",
      "\n",
      "Series ID: 40543, Series Name: Alex Cross\n",
      "Books in Series:\n",
      "Work ID: 3373984, Original Publication Date: 1993-02-01\n",
      "Work ID: 881425, Original Publication Date: 1995-01-11\n",
      "Work ID: 3236117, Original Publication Date: 1996-09-28\n",
      "Work ID: 2983256, Original Publication Date: 1997-11-05\n",
      "Work ID: 2471943, Original Publication Date: 1999-10-19\n",
      "Work ID: 22566, Original Publication Date: 2000-11-20\n",
      "Work ID: 1827952, Original Publication Date: 2001-11-19\n",
      "Work ID: 1831604, Original Publication Date: 2002-11-18\n",
      "Work ID: 1877371, Original Publication Date: 2003-10-13\n",
      "Work ID: 3236105, Original Publication Date: 2004-11-08\n",
      "Work ID: 3267280, Original Publication Date: 2005-11-14\n",
      "Work ID: 3295810, Original Publication Date: 2006-11-13\n",
      "Series ID: 51312, Series Name: Michael Bennett\n",
      "Books in Series:\n",
      "Work ID: 1384747, Original Publication Date: 2007-02-06\n",
      "Series ID: 40469, Series Name: Women's Murder Club\n",
      "Books in Series:\n",
      "Work ID: 1711194, Original Publication Date: 2001-03-05\n",
      "Work ID: 1835674, Original Publication Date: 2002-03-04\n",
      "Work ID: 2549051, Original Publication Date: 2004-02-26\n",
      "Work ID: 15334, Original Publication Date: 2005-05-02\n",
      "Work ID: 3132603, Original Publication Date: 2006-02-13\n",
      "Work ID: 15302, Original Publication Date: 2007-05-08\n",
      "Series ID: 43579, Series Name: Maximum Ride\n",
      "Books in Series:\n",
      "Work ID: 1829521, Original Publication Date: 2005-04-01\n",
      "Work ID: 880271, Original Publication Date: 2006-05-23\n",
      "Work ID: 940067, Original Publication Date: 2007-05-29\n",
      "Series ID: 90613, Series Name: Honeymoon\n",
      "Books in Series:\n",
      "Work ID: 2172512, Original Publication Date: 2005-02-14\n",
      "Series ID: 202859, Series Name: Travis McKinley\n",
      "Books in Series:\n",
      "Work ID: 33727, Original Publication Date: 1996-11-12\n",
      "Series ID: 56397, Series Name: When the Wind Blows\n",
      "Books in Series:\n",
      "Work ID: 22599, Original Publication Date: 1998-10-28\n",
      "Work ID: 106431, Original Publication Date: 2003-06-09\n",
      "Series ID: 40445, Series Name: Scot Harvath\n",
      "Books in Series:\n",
      "Work ID: 33724, Original Publication Date: 2006-06-01\n",
      "\n",
      "Series for author Neil deGrasse Tyson (ID 12855):\n",
      "\n",
      "Series ID: 303246, Series Name: Merlin\n",
      "Books in Series:\n",
      "Work ID: 23563, Original Publication Date: 1989-01-01\n",
      "Work ID: 23562, Original Publication Date: 1998-01-01\n"
     ]
    }
   ],
   "source": [
    "for author_id in top_10_authors['id']:\n",
    "    series_books_author = df_books[(df_books['series_name'].notnull()) & (df_books['author_id'] == author_id)]\n",
    "    series_with_id = series_books_author[(series_books_author['series_id'].notnull()) & (series_books_author['series_id'] != '')]\n",
    "\n",
    "    if not series_with_id.empty:\n",
    "        author_name = df_authors.loc[df_authors['id'] == author_id, 'name'].iloc[0]\n",
    "        print(f\"\\nSeries for author {author_name} (ID {author_id}):\")\n",
    "        print()\n",
    "\n",
    "        unique_series = series_with_id['series_id'].unique()\n",
    "        unique_series_names = series_with_id['series_name'].unique()\n",
    "\n",
    "        for series_id, series_name in zip(unique_series, unique_series_names):\n",
    "            print(f\"Series ID: {series_id}, Series Name: {series_name}\")\n",
    "            books_in_series = series_with_id[series_with_id['series_id'] == series_id]\n",
    "            books_in_series = books_in_series.drop_duplicates(subset='work_id')  # Remove duplicate work_ids\n",
    "            books_in_series = books_in_series.sort_values('original_publication_date')  # Sort by publication date\n",
    "            books_in_series = books_in_series.dropna(subset=['original_publication_date'])  # Drop rows with NaT dates\n",
    "\n",
    "            print(f\"Books in Series:\")\n",
    "\n",
    "            for index, row in books_in_series.iterrows():\n",
    "                work_id = row['work_id']\n",
    "                original_publication_date = row['original_publication_date']\n",
    "\n",
    "                try:\n",
    "                    formatted_date = pd.to_datetime(original_publication_date).strftime('%Y-%m-%d')  # Format date\n",
    "                    print(f\"Work ID: {work_id}, Original Publication Date: {formatted_date}\")\n",
    "                except (ValueError, TypeError):\n",
    "                    continue  # Skip rows with NaT values"
   ]
  },
  {
   "cell_type": "markdown",
   "id": "12045ccc-4f81-4b69-99d5-5cc3a4ab272c",
   "metadata": {},
   "source": [
    "I removed the duplicate work_id values with the same publication date under the same series_id:"
   ]
  },
  {
   "cell_type": "code",
   "execution_count": 135,
   "id": "336bcbb8-2f96-4736-9881-c974d4288602",
   "metadata": {
    "tags": []
   },
   "outputs": [
    {
     "name": "stdout",
     "output_type": "stream",
     "text": [
      "\n",
      "Series for author Stephen King (ID 3389):\n",
      "\n",
      "Series ID: 40750, Series Name: The Dark Tower\n",
      "Books in Series:\n",
      "Work ID: 2754911, Original Publication Date: 2003-11-04\n",
      "Work ID: 6309701, Original Publication Date: 2004-09-21\n",
      "Work ID: 6309704, Original Publication Date: 2002-01-01\n",
      "Work ID: 1178083, Original Publication Date: 2004-06-08\n",
      "Work ID: 2113248, Original Publication Date: 1987-05-01\n",
      "Work ID: 1810634, Original Publication Date: 1991-08-01\n",
      "Work ID: 750558, Original Publication Date: 1997-11-04\n",
      "Work ID: 46575, Original Publication Date: 1982-06-01\n",
      "Work ID: 980612, Original Publication Date: 1991-10-01\n",
      "Series ID: 167219, Series Name: The Stand (split volumes)\n",
      "Books in Series:\n",
      "Work ID: 6292643, Original Publication Date: 1978-01-01\n",
      "Series ID: 217778, Series Name: Skeleton Crew\n",
      "Books in Series:\n",
      "Work ID: 59181, Original Publication Date: 1980-01-01\n",
      "Work ID: 57525683, Original Publication Date: 1985-06-21\n",
      "Series ID: 49631, Series Name: The Talisman\n",
      "Books in Series:\n",
      "Work ID: 1738813, Original Publication Date: 2001-09-15\n",
      "Work ID: 3324421, Original Publication Date: 1984-11-08\n",
      "Work ID: 93620, Original Publication Date: 2002-10-29\n",
      "Series ID: 69946, Series Name: The Green Mile\n",
      "Books in Series:\n",
      "Work ID: 15599, Original Publication Date: 1996-08-29\n",
      "Work ID: 15599, Original Publication Date: 1997-05-05\n",
      "Work ID: 9813455, Original Publication Date: 1996-07-25\n",
      "Work ID: 9813490, Original Publication Date: 1996-06-27\n",
      "Work ID: 9813429, Original Publication Date: 1996-04-25\n",
      "Work ID: 9813531, Original Publication Date: 1996-05-30\n",
      "Work ID: 9813320, Original Publication Date: 1996-03-28\n",
      "Series ID: 49348, Series Name: The Secretary of Dreams\n",
      "Books in Series:\n",
      "Work ID: 14002, Original Publication Date: 2006-10-30\n",
      "Series ID: 117014, Series Name: The Shining\n",
      "Books in Series:\n",
      "Work ID: 849585, Original Publication Date: 1977-01-28\n",
      "Series ID: 178265, Series Name: Different Seasons\n",
      "Books in Series:\n",
      "Work ID: 15259183, Original Publication Date: 1982-08-27\n",
      "Series ID: 50388, Series Name: Nightmares & Dreamscapes\n",
      "Books in Series:\n",
      "Work ID: 15258955, Original Publication Date: 1993-09-29\n",
      "Series ID: 231695, Series Name: Pesadillas y alucinaciones\n",
      "Books in Series:\n",
      "Series ID: 203066, Series Name: It (2 volumes)\n",
      "Books in Series:\n",
      "Work ID: 40780851, Original Publication Date: 1986-09-15\n",
      "Work ID: 73672545, Original Publication Date: 1986-09-01\n",
      "Series ID: 97757, Series Name: It (3 volumes)\n",
      "Books in Series:\n",
      "Work ID: 44454376, Original Publication Date: 1986-09-15\n",
      "\n",
      "Series for author Rick Riordan (ID 15872):\n",
      "\n",
      "Series ID: 40736, Series Name: Percy Jackson and the Olympians\n",
      "Books in Series:\n",
      "Work ID: 2936530, Original Publication Date: 2007-01-01\n",
      "Work ID: 43554, Original Publication Date: 2006-04-01\n",
      "Work ID: 3346751, Original Publication Date: 2005-06-28\n",
      "Series ID: 41197, Series Name: Tres Navarre\n",
      "Books in Series:\n",
      "Work ID: 109044, Original Publication Date: 1997-06-02\n",
      "Work ID: 109045, Original Publication Date: 1998-05-04\n",
      "Work ID: 109052, Original Publication Date: 2000-01-01\n",
      "Work ID: 109047, Original Publication Date: 2005-01-01\n",
      "Work ID: 109048, Original Publication Date: 2001-01-01\n",
      "Work ID: 1853758, Original Publication Date: 2004-01-01\n",
      "Work ID: 109050, Original Publication Date: 2007-01-01\n",
      "\n",
      "Series for author James Patterson (ID 3780):\n",
      "\n",
      "Series ID: 40543, Series Name: Alex Cross\n",
      "Books in Series:\n",
      "Work ID: 1877371, Original Publication Date: 2003-10-13\n",
      "Work ID: 3295810, Original Publication Date: 2006-11-13\n",
      "Work ID: 1827952, Original Publication Date: 2001-11-19\n",
      "Work ID: 3236117, Original Publication Date: 1996-09-28\n",
      "Work ID: 2983256, Original Publication Date: 1997-11-05\n",
      "Work ID: 2471943, Original Publication Date: 1999-10-19\n",
      "Work ID: 22566, Original Publication Date: 2000-11-20\n",
      "Work ID: 3373984, Original Publication Date: 1993-02-01\n",
      "Work ID: 881425, Original Publication Date: 1995-01-11\n",
      "Work ID: 1831604, Original Publication Date: 2002-11-18\n",
      "Work ID: 3236105, Original Publication Date: 2004-11-08\n",
      "Work ID: 3267280, Original Publication Date: 2005-11-14\n",
      "Series ID: 51312, Series Name: Michael Bennett\n",
      "Books in Series:\n",
      "Work ID: 1384747, Original Publication Date: 2007-02-06\n",
      "Series ID: 40469, Series Name: Women's Murder Club\n",
      "Books in Series:\n",
      "Work ID: 15302, Original Publication Date: 2007-05-08\n",
      "Work ID: 2549051, Original Publication Date: 2004-02-26\n",
      "Work ID: 1835674, Original Publication Date: 2002-03-04\n",
      "Work ID: 1711194, Original Publication Date: 2001-03-05\n",
      "Work ID: 3132603, Original Publication Date: 2006-02-13\n",
      "Work ID: 15334, Original Publication Date: 2005-05-02\n",
      "Series ID: 43579, Series Name: Maximum Ride\n",
      "Books in Series:\n",
      "Work ID: 880271, Original Publication Date: 2006-05-23\n",
      "Work ID: 1829521, Original Publication Date: 2005-04-01\n",
      "Work ID: 940067, Original Publication Date: 2007-05-29\n",
      "Series ID: 90613, Series Name: Honeymoon\n",
      "Books in Series:\n",
      "Work ID: 2172512, Original Publication Date: 2005-02-14\n",
      "Series ID: 202859, Series Name: Travis McKinley\n",
      "Books in Series:\n",
      "Work ID: 33727, Original Publication Date: 1996-11-12\n",
      "Series ID: 56397, Series Name: When the Wind Blows\n",
      "Books in Series:\n",
      "Work ID: 22599, Original Publication Date: 1998-10-28\n",
      "Work ID: 106431, Original Publication Date: 2003-06-09\n",
      "Series ID: 40445, Series Name: Scot Harvath\n",
      "Books in Series:\n",
      "Work ID: 33724, Original Publication Date: 2006-06-01\n",
      "\n",
      "Series for author Neil deGrasse Tyson (ID 12855):\n",
      "\n",
      "Series ID: 303246, Series Name: Merlin\n",
      "Books in Series:\n",
      "Work ID: 23562, Original Publication Date: 1998-01-01\n",
      "Work ID: 23563, Original Publication Date: 1989-01-01\n"
     ]
    }
   ],
   "source": [
    "for author_id in top_10_authors['id']:\n",
    "    series_books_author = df_books[(df_books['series_name'].notnull()) & (df_books['author_id'] == author_id)]\n",
    "    series_with_id = series_books_author[(series_books_author['series_id'].notnull()) & (series_books_author['series_id'] != '')]\n",
    "\n",
    "    if not series_with_id.empty:\n",
    "        author_name = df_authors.loc[df_authors['id'] == author_id, 'name'].iloc[0]\n",
    "        print(f\"\\nSeries for author {author_name} (ID {author_id}):\")\n",
    "        print()\n",
    "\n",
    "        unique_series = series_with_id['series_id'].unique()\n",
    "        unique_series_names = series_with_id['series_name'].unique()\n",
    "\n",
    "        for series_id, series_name in zip(unique_series, unique_series_names):\n",
    "            print(f\"Series ID: {series_id}, Series Name: {series_name}\")\n",
    "            books_in_series = series_with_id[series_with_id['series_id'] == series_id]\n",
    "            books_in_series = books_in_series.drop_duplicates(subset=['series_id', 'original_publication_date'])  # Remove duplicates with the same series_id and original_publication_date\n",
    "            books_in_series = books_in_series.dropna(subset=['original_publication_date'])  # Drop rows with NaT dates\n",
    "\n",
    "            print(f\"Books in Series:\")\n",
    "\n",
    "            for index, row in books_in_series.iterrows():\n",
    "                work_id = row['work_id']\n",
    "                original_publication_date = row['original_publication_date']\n",
    "\n",
    "                try:\n",
    "                    formatted_date = pd.to_datetime(original_publication_date).strftime('%Y-%m-%d')  # Format date\n",
    "                    print(f\"Work ID: {work_id}, Original Publication Date: {formatted_date}\")\n",
    "                except (ValueError, TypeError):\n",
    "                    continue  # Skip rows with NaT values\n"
   ]
  },
  {
   "cell_type": "markdown",
   "id": "895156cb-a327-4a0f-a536-5be7ebf6c331",
   "metadata": {},
   "source": [
    "Average of the average time gap between subsequent publications for each author detailed version:"
   ]
  },
  {
   "cell_type": "code",
   "execution_count": 140,
   "id": "8d5e7ed2-bccd-4d7b-a92e-bddb9e98c92d",
   "metadata": {
    "tags": []
   },
   "outputs": [
    {
     "name": "stdout",
     "output_type": "stream",
     "text": [
      "\n",
      "Series for author Stephen King (ID 3389):\n",
      "\n",
      "Series ID: 40750, Series Name: The Dark Tower\n",
      "Books in Series:\n",
      "Average Time Gap between Subsequent Publications for Series 'The Dark Tower': 1018.50 days\n",
      "Series ID: 167219, Series Name: The Stand (split volumes)\n",
      "Books in Series:\n",
      "Skipping calculation as there is only one book in the series\n",
      "Series ID: 217778, Series Name: Skeleton Crew\n",
      "Books in Series:\n",
      "Average Time Gap between Subsequent Publications for Series 'Skeleton Crew': 1998.00 days\n",
      "Series ID: 49631, Series Name: The Talisman\n",
      "Books in Series:\n",
      "Average Time Gap between Subsequent Publications for Series 'The Talisman': 3282.00 days\n",
      "Series ID: 69946, Series Name: The Green Mile\n",
      "Books in Series:\n",
      "Average Time Gap between Subsequent Publications for Series 'The Green Mile': 67.17 days\n",
      "Series ID: 49348, Series Name: The Secretary of Dreams\n",
      "Books in Series:\n",
      "Skipping calculation as there is only one book in the series\n",
      "Series ID: 117014, Series Name: The Shining\n",
      "Books in Series:\n",
      "Skipping calculation as there is only one book in the series\n",
      "Series ID: 178265, Series Name: Different Seasons\n",
      "Books in Series:\n",
      "Skipping calculation as there is only one book in the series\n",
      "Series ID: 50388, Series Name: Nightmares & Dreamscapes\n",
      "Books in Series:\n",
      "Skipping calculation as there is only one book in the series\n",
      "Series ID: 231695, Series Name: Pesadillas y alucinaciones\n",
      "Books in Series:\n",
      "Skipping calculation as there is only one book in the series\n",
      "Series ID: 203066, Series Name: It (2 volumes)\n",
      "Books in Series:\n",
      "Average Time Gap between Subsequent Publications for Series 'It (2 volumes)': 14.00 days\n",
      "Series ID: 97757, Series Name: It (3 volumes)\n",
      "Books in Series:\n",
      "Skipping calculation as there is only one book in the series\n",
      "\n",
      "Series for author Rick Riordan (ID 15872):\n",
      "\n",
      "Series ID: 40736, Series Name: Percy Jackson and the Olympians\n",
      "Books in Series:\n",
      "Average Time Gap between Subsequent Publications for Series 'Percy Jackson and the Olympians': 276.00 days\n",
      "Series ID: 41197, Series Name: Tres Navarre\n",
      "Books in Series:\n",
      "Average Time Gap between Subsequent Publications for Series 'Tres Navarre': 583.33 days\n",
      "\n",
      "Series for author James Patterson (ID 3780):\n",
      "\n",
      "Series ID: 40543, Series Name: Alex Cross\n",
      "Books in Series:\n",
      "Average Time Gap between Subsequent Publications for Series 'Alex Cross': 457.55 days\n",
      "Series ID: 51312, Series Name: Michael Bennett\n",
      "Books in Series:\n",
      "Skipping calculation as there is only one book in the series\n",
      "Series ID: 40469, Series Name: Women's Murder Club\n",
      "Books in Series:\n",
      "Average Time Gap between Subsequent Publications for Series 'Women's Murder Club': 451.00 days\n",
      "Series ID: 43579, Series Name: Maximum Ride\n",
      "Books in Series:\n",
      "Average Time Gap between Subsequent Publications for Series 'Maximum Ride': 394.00 days\n",
      "Series ID: 90613, Series Name: Honeymoon\n",
      "Books in Series:\n",
      "Skipping calculation as there is only one book in the series\n",
      "Series ID: 202859, Series Name: Travis McKinley\n",
      "Books in Series:\n",
      "Skipping calculation as there is only one book in the series\n",
      "Series ID: 56397, Series Name: When the Wind Blows\n",
      "Books in Series:\n",
      "Average Time Gap between Subsequent Publications for Series 'When the Wind Blows': 1685.00 days\n",
      "Series ID: 40445, Series Name: Scot Harvath\n",
      "Books in Series:\n",
      "Skipping calculation as there is only one book in the series\n",
      "\n",
      "Series for author Neil deGrasse Tyson (ID 12855):\n",
      "\n",
      "Series ID: 303246, Series Name: Merlin\n",
      "Books in Series:\n",
      "Average Time Gap between Subsequent Publications for Series 'Merlin': 3287.00 days\n"
     ]
    }
   ],
   "source": [
    "for author_id in top_10_authors['id']:\n",
    "    series_books_author = df_books[(df_books['series_name'].notnull()) & (df_books['author_id'] == author_id)]\n",
    "    series_with_id = series_books_author[(series_books_author['series_id'].notnull()) & (series_books_author['series_id'] != '')]\n",
    "\n",
    "    if not series_with_id.empty:\n",
    "        author_name = df_authors.loc[df_authors['id'] == author_id, 'name'].iloc[0]\n",
    "        print(f\"\\nSeries for author {author_name} (ID {author_id}):\")\n",
    "        print()\n",
    "\n",
    "        unique_series = series_with_id['series_id'].unique()\n",
    "        unique_series_names = series_with_id['series_name'].unique()\n",
    "\n",
    "        for series_id, series_name in zip(unique_series, unique_series_names):\n",
    "            print(f\"Series ID: {series_id}, Series Name: {series_name}\")\n",
    "            books_in_series = series_with_id[series_with_id['series_id'] == series_id]\n",
    "            books_in_series = books_in_series.drop_duplicates(subset=['series_id', 'original_publication_date'])  # Remove duplicates with the same series_id and original_publication_date\n",
    "            books_in_series = books_in_series.sort_values('original_publication_date')  # Sort by publication date\n",
    "            books_in_series = books_in_series.dropna(subset=['original_publication_date'])  # Drop rows with NaT dates\n",
    "\n",
    "            print(f\"Books in Series:\")\n",
    "\n",
    "            if len(books_in_series) > 1:  \n",
    "                time_diffs = []\n",
    "\n",
    "                for index, row in books_in_series.iterrows():\n",
    "                    original_publication_date = row['original_publication_date']\n",
    "\n",
    "                    try:\n",
    "                        date = pd.to_datetime(original_publication_date)\n",
    "                        time_diffs.append(date)  \n",
    "\n",
    "                    except (ValueError, TypeError):\n",
    "                        continue  \n",
    "                        \n",
    "                time_gaps = [j - i for i, j in zip(time_diffs[:-1], time_diffs[1:])]\n",
    "                total_seconds = sum([td.total_seconds() for td in time_gaps])\n",
    "                average_gap = total_seconds / len(time_gaps) if len(time_gaps) > 0 else 0\n",
    "                average_gap_days = average_gap / (60 * 60 * 24)\n",
    "\n",
    "                print(f\"Average Time Gap between Subsequent Publications for Series '{series_name}': {average_gap_days:.2f} days\")\n",
    "            else:\n",
    "                print(\"Skipping calculation as there is only one book in the series\")\n"
   ]
  },
  {
   "cell_type": "markdown",
   "id": "73560e01-1434-4d57-b41d-ef66ab73864d",
   "metadata": {},
   "source": [
    "Average of the average time gap between subsequent publications for each author:"
   ]
  },
  {
   "cell_type": "code",
   "execution_count": 136,
   "id": "1034ac10-8934-4749-94f5-c9cd1d8cde62",
   "metadata": {
    "tags": []
   },
   "outputs": [
    {
     "name": "stdout",
     "output_type": "stream",
     "text": [
      "Author: Stephen King, Average Time Gap: 1275.93 days\n",
      "Author: Rick Riordan, Average Time Gap: 429.67 days\n",
      "Author: James Patterson, Average Time Gap: 746.89 days\n",
      "Author: Neil deGrasse Tyson, Average Time Gap: 3287.00 days\n"
     ]
    }
   ],
   "source": [
    "author_averages = {}  # Dictionary to store averages for each author\n",
    "\n",
    "for author_id in top_10_authors['id']:\n",
    "    series_books_author = df_books[(df_books['series_name'].notnull()) & (df_books['author_id'] == author_id)]\n",
    "    series_with_id = series_books_author[(series_books_author['series_id'].notnull()) & (series_books_author['series_id'] != '')]\n",
    "\n",
    "    if not series_with_id.empty:\n",
    "        unique_series = series_with_id['series_id'].unique()\n",
    "        author_name = df_authors.loc[df_authors['id'] == author_id, 'name'].iloc[0]\n",
    "        \n",
    "        average_time_gaps = []  # List to store average time gaps for each series\n",
    "\n",
    "        for series_id in unique_series:\n",
    "            books_in_series = series_with_id[series_with_id['series_id'] == series_id]\n",
    "            books_in_series = books_in_series.drop_duplicates(subset=['series_id', 'original_publication_date'])\n",
    "            books_in_series = books_in_series.sort_values('original_publication_date')\n",
    "            books_in_series = books_in_series.dropna(subset=['original_publication_date'])\n",
    "\n",
    "            if len(books_in_series) > 1:\n",
    "                time_diffs = []\n",
    "                for index, row in books_in_series.iterrows():\n",
    "                    original_publication_date = row['original_publication_date']\n",
    "                    try:\n",
    "                        date = pd.to_datetime(original_publication_date)\n",
    "                        time_diffs.append(date)\n",
    "                    except (ValueError, TypeError):\n",
    "                        continue\n",
    "\n",
    "                time_gaps = [j - i for i, j in zip(time_diffs[:-1], time_diffs[1:])]\n",
    "                total_seconds = sum([td.total_seconds() for td in time_gaps])\n",
    "                average_gap = total_seconds / len(time_gaps) if len(time_gaps) > 0 else 0\n",
    "                average_gap_days = average_gap / (60 * 60 * 24)\n",
    "                average_time_gaps.append(average_gap_days)\n",
    "\n",
    "        # Calculate the average of the average time gaps for the author\n",
    "        author_averages[author_name] = sum(average_time_gaps) / len(average_time_gaps) if len(average_time_gaps) > 0 else 0\n",
    "\n",
    "# Print the average time gaps for each author\n",
    "for author, avg_time_gap in author_averages.items():\n",
    "    print(f\"Author: {author}, Average Time Gap: {avg_time_gap:.2f} days\")\n"
   ]
  },
  {
   "cell_type": "markdown",
   "id": "5d849d85-a284-4b15-b25a-34494a0d5351",
   "metadata": {},
   "source": [
    "Overall Average Time Gap for all authors:"
   ]
  },
  {
   "cell_type": "code",
   "execution_count": 137,
   "id": "d2b6dae8-f3c1-42b2-ba51-7e3afac14240",
   "metadata": {
    "tags": []
   },
   "outputs": [
    {
     "name": "stdout",
     "output_type": "stream",
     "text": [
      "Average time gap between two subsequent publications for a series of books': 1434.87 days\n"
     ]
    }
   ],
   "source": [
    "average_time_gaps = [1275.93, 429.67, 746.89, 3287.00]\n",
    "\n",
    "# Calculate the average time gap\n",
    "overall_average_time_gap = sum(average_time_gaps) / len(average_time_gaps) if average_time_gaps else 0\n",
    "\n",
    "print(f\"Average time gap between two subsequent publications for a series of books': {overall_average_time_gap:.2f} days\")\n"
   ]
  },
  {
   "cell_type": "markdown",
   "id": "e93a28e7-3e9a-4b9d-9148-9a3179d10ef7",
   "metadata": {},
   "source": [
    "for books not belonging to a series:"
   ]
  },
  {
   "cell_type": "code",
   "execution_count": 138,
   "id": "c3b8076f-e5e9-489c-817d-730e1ef32b70",
   "metadata": {
    "tags": []
   },
   "outputs": [
    {
     "name": "stdout",
     "output_type": "stream",
     "text": [
      "\n",
      "Books not belonging to a series for author Stephen King (ID 3389):\n",
      "        work_id original_publication_date\n",
      "3408    3083085                1987-02-02\n",
      "3416    1742269                1978-10-03\n",
      "3425   40802405                1975-10-17\n",
      "3426    3048937                1975-10-17\n",
      "3428   68840649                          \n",
      "...         ...                       ...\n",
      "88527  57587151                          \n",
      "88570    150214                   1992-05\n",
      "88587  17841275                      1985\n",
      "88647    150294                1986-06-30\n",
      "88650    150296                   1987-12\n",
      "\n",
      "[91 rows x 2 columns]\n",
      "\n",
      "Books not belonging to a series for author Bill  Gates (ID 23470):\n",
      "       work_id original_publication_date\n",
      "26016      314                1999-03-01\n",
      "26019  1479853                1995-11-21\n",
      "\n",
      "Books not belonging to a series for author Rick Riordan (ID 15872):\n",
      "       work_id original_publication_date\n",
      "66841   109051                2003-01-01\n",
      "\n",
      "Books not belonging to a series for author James Patterson (ID 3780):\n",
      "        work_id original_publication_date\n",
      "3535    3035972                1980-05-01\n",
      "3942    3373979                2006-05-01\n",
      "4671     141228                      2001\n",
      "4682      22576                2002-06-10\n",
      "8435    2513160                2006-07-31\n",
      "8438    1872234                2007-07-02\n",
      "8439    1814838                2007-09-10\n",
      "8443    2513089                1977-10-12\n",
      "8446   11190073                1989-01-28\n",
      "8451    2908808                1986-06-05\n",
      "8454     430455                      1976\n",
      "8458      15324                1995-12-28\n",
      "8462    2513115                2003-03-03\n",
      "8463     540195                1979-04-27\n",
      "8469      15335                2004-10-04\n",
      "8470    3164888                      2001\n",
      "13922    260314                2005-07-11\n",
      "21670    260313                      2002\n",
      "\n",
      "Books not belonging to a series for author John Green (ID 1406384):\n",
      "       work_id original_publication_date\n",
      "30972    48658                2006-09-21\n",
      "59515   919292                2005-03-03\n",
      "\n",
      "Books not belonging to a series for author Neil deGrasse Tyson (ID 12855):\n",
      "       work_id original_publication_date\n",
      "14778    23561                2004-09-28\n",
      "14781  1204936                2006-11-01\n",
      "70487   115950                      2000\n"
     ]
    }
   ],
   "source": [
    "for author_id in top_10_authors['id']:\n",
    "    series_books_author = df_books[(df_books['series_name'].notnull()) & (df_books['author_id'] == author_id)]\n",
    "\n",
    "    if not series_books_author.empty:\n",
    "        books_not_in_series = series_books_author[(series_books_author['series_id'].isnull()) | (series_books_author['series_id'] == '')]\n",
    "        if not books_not_in_series.empty:\n",
    "            author_name = df_authors[df_authors['id'] == author_id]['name'].iloc[0]\n",
    "            print(f\"\\nBooks not belonging to a series for author {author_name} (ID {author_id}):\")\n",
    "            unique_books = books_not_in_series.drop_duplicates('work_id')[['work_id', 'original_publication_date']]\n",
    "            print(unique_books)\n"
   ]
  },
  {
   "cell_type": "code",
   "execution_count": 141,
   "id": "9494d3c4-e5f8-4181-9bda-989b46aa81d5",
   "metadata": {},
   "outputs": [
    {
     "name": "stdout",
     "output_type": "stream",
     "text": [
      "\n",
      "Calculating average time gap for books not in a series for author Stephen King (ID 3389):\n",
      "Average Time Gap between Subsequent Publications for Books Not Belonging to a Series: 303.60 days\n",
      "\n",
      "Calculating average time gap for books not in a series for author Bill  Gates (ID 23470):\n",
      "Average Time Gap between Subsequent Publications for Books Not Belonging to a Series: 1196.00 days\n",
      "\n",
      "Calculating average time gap for books not in a series for author James Patterson (ID 3780):\n",
      "Average Time Gap between Subsequent Publications for Books Not Belonging to a Series: 840.38 days\n",
      "\n",
      "Calculating average time gap for books not in a series for author John Green (ID 1406384):\n",
      "Average Time Gap between Subsequent Publications for Books Not Belonging to a Series: 567.00 days\n",
      "\n",
      "Calculating average time gap for books not in a series for author Neil deGrasse Tyson (ID 12855):\n",
      "Average Time Gap between Subsequent Publications for Books Not Belonging to a Series: 764.00 days\n"
     ]
    }
   ],
   "source": [
    "for author_id in top_10_authors['id']:\n",
    "    series_books_author = df_books[(df_books['series_name'].notnull()) & (df_books['author_id'] == author_id)]\n",
    "    books_not_in_series = series_books_author[(series_books_author['series_id'].isnull()) | (series_books_author['series_id'] == '')]\n",
    "    books_not_in_series = books_not_in_series.drop_duplicates(subset=['work_id', 'original_publication_date'])\n",
    "\n",
    "    if not books_not_in_series.empty and len(books_not_in_series) > 1: #I exclude authors with only one book\n",
    "        author_name = df_authors[df_authors['id'] == author_id]['name'].iloc[0]\n",
    "        print(f\"\\nCalculating average time gap for books not in a series for author {author_name} (ID {author_id}):\")\n",
    "\n",
    "        books_not_in_series['original_publication_date'] = pd.to_datetime(books_not_in_series['original_publication_date'], errors='coerce')\n",
    "        books_not_in_series = books_not_in_series.sort_values('original_publication_date')\n",
    "\n",
    "        time_diffs = books_not_in_series['original_publication_date'].diff().dropna()\n",
    "        time_diffs_days = time_diffs.dt.days\n",
    "        average_gap_days = time_diffs_days.mean()\n",
    "\n",
    "        print(f\"Average Time Gap between Subsequent Publications for Books Not Belonging to a Series: {average_gap_days:.2f} days\")\n",
    "\n",
    "        author_averages[author_name] = average_gap_days\n"
   ]
  },
  {
   "cell_type": "code",
   "execution_count": 139,
   "id": "7c97a255-f72d-4578-9c13-574a57e12594",
   "metadata": {
    "tags": []
   },
   "outputs": [
    {
     "name": "stdout",
     "output_type": "stream",
     "text": [
      "Average Time Gap between Subsequent Publications for Books Not Belonging to a Series': 734.20 days\n"
     ]
    }
   ],
   "source": [
    "average_gap_values = [303.60, 1196.00, 840.38, 567.00, 764.00] \n",
    "overall_average_gap = sum(average_gap_values) / len(average_gap_values) if average_gap_values else 0\n",
    "print(f\"Average Time Gap between Subsequent Publications for Books Not Belonging to a Series': {overall_average_gap:.2f} days\")\n"
   ]
  },
  {
   "cell_type": "markdown",
   "id": "a475b2f4-9268-4c8a-b936-945aa41c1b76",
   "metadata": {},
   "source": [
    "In this question, I would expect the average time interval between books in the series to be shorter as an output. But after reading the data, I saw that this expectation was not correct.\n",
    "The average time interval between two successive publications of a book series is greater than the average time interval between subsequent publications of books not belonging to the series."
   ]
  },
  {
   "cell_type": "markdown",
   "id": "77327766-3cab-4210-9b7e-77e57e3ee604",
   "metadata": {},
   "source": [
    "**RQ6_2**"
   ]
  },
  {
   "cell_type": "markdown",
   "id": "94098166-c8d1-4d30-a8ab-e3def4bbcfbc",
   "metadata": {},
   "source": [
    "For each of the authors, give a convenient plot showing how many books has the given author published UP TO a given year. Are these authors contemporary with each other? Can you notice a range of years where their production rate was higher?"
   ]
  },
  {
   "cell_type": "code",
   "execution_count": 25,
   "id": "c60c2e71-d6d7-4378-911b-516a79ca44d2",
   "metadata": {
    "tags": []
   },
   "outputs": [
    {
     "name": "stdout",
     "output_type": "stream",
     "text": [
      "Index(['ratings_count', 'average_rating', 'text_reviews_count', 'work_ids',\n",
      "       'book_ids', 'works_count', 'id', 'name', 'gender', 'image_url', 'about',\n",
      "       'fans_count'],\n",
      "      dtype='object')\n"
     ]
    }
   ],
   "source": [
    "print(top_10_authors.columns)"
   ]
  },
  {
   "cell_type": "code",
   "execution_count": 142,
   "id": "87b577cf-10de-49f9-8c19-497bd89d9f0e",
   "metadata": {},
   "outputs": [
    {
     "data": {
      "image/png": "[encoded data removed]",
      "text/plain": [
       "<Figure size 1200x600 with 1 Axes>"
      ]
     },
     "metadata": {},
     "output_type": "display_data"
    }
   ],
   "source": [
    "plt.figure(figsize=(12, 6))\n",
    "\n",
    "for author_id in top_10_authors['id']:\n",
    "    series_books_author = df_books[(df_books['series_name'].notnull()) & (df_books['author_id'] == author_id)]\n",
    "\n",
    "    if not series_books_author.empty:\n",
    "        books_not_in_series = series_books_author[(series_books_author['series_id'].isnull()) | (series_books_author['series_id'] == '')]\n",
    "        if not books_not_in_series.empty:\n",
    "            author_name = df_authors[df_authors['id'] == author_id]['name'].iloc[0]\n",
    "            unique_books = books_not_in_series.drop_duplicates('work_id')[['work_id', 'original_publication_date']]\n",
    "\n",
    "            unique_books['original_publication_date'] = pd.to_datetime(unique_books['original_publication_date'], errors='coerce')\n",
    "\n",
    "            # Filter years between 1975 and 2010\n",
    "            unique_books = unique_books[unique_books['original_publication_date'].dt.year.between(1975, 2010)]\n",
    "\n",
    "            # Group by year and count the number of books\n",
    "            unique_books['Year'] = unique_books['original_publication_date'].dt.year\n",
    "            books_by_year = unique_books.groupby('Year').size()\n",
    "\n",
    "            sns.set_palette(\"rocket\")\n",
    "\n",
    "            plt.bar(books_by_year.index, books_by_year.values, label=f'{author_name} (ID {author_id})')\n",
    "\n",
    "plt.title('Books Published by Top Authors Per Year')\n",
    "plt.xlabel('Year')\n",
    "plt.ylabel('Number of Books Published')\n",
    "plt.xticks(range(1975, 2011), rotation=90) \n",
    "plt.legend(loc='upper left', bbox_to_anchor=(1, 1), ncol=1)\n",
    "plt.tight_layout()\n",
    "plt.show()\n"
   ]
  },
  {
   "cell_type": "markdown",
   "id": "a58d8560-10b9-4bd0-9165-1087108e467d",
   "metadata": {},
   "source": [
    "It can be seen from the graph that the total number of books published in 1986 -1987 was the highest. We can also say that Stephen King is the most dominant author on the graph. We can also conclude that, in general, the authors were contemporary with each other. The reason I generalize is that although some authors publish books within certain years, although their production rates vary, some authors - such as Neil deGrasse Tyson - only publish books within a limited range of years.\n",
    "Therefore, by looking at the graph, we can say that the authors are generally contemporary with each other."
   ]
  },
  {
   "cell_type": "markdown",
   "id": "98fa0137-7099-498b-ad92-bdedf03ce172",
   "metadata": {
    "tags": []
   },
   "source": [
    "# 7 - [RQ7]"
   ]
  },
  {
   "cell_type": "markdown",
   "id": "d2bd03ba-714d-4e19-8704-13969635e1e0",
   "metadata": {},
   "source": [
    "**RQ7_1**"
   ]
  },
  {
   "cell_type": "markdown",
   "id": "27ad7a88-34ea-4371-9f2d-f3ebfeed1698",
   "metadata": {},
   "source": [
    "Estimate the probability that a book has over 30% of the ratings above 4."
   ]
  },
  {
   "cell_type": "code",
   "execution_count": 143,
   "id": "5ae169e8-2406-4d53-a5db-15fc9e44b0cc",
   "metadata": {
    "tags": []
   },
   "outputs": [
    {
     "data": {
      "text/html": [
       "<div>\n",
       "<style scoped>\n",
       "    .dataframe tbody tr th:only-of-type {\n",
       "        vertical-align: middle;\n",
       "    }\n",
       "\n",
       "    .dataframe tbody tr th {\n",
       "        vertical-align: top;\n",
       "    }\n",
       "\n",
       "    .dataframe thead th {\n",
       "        text-align: right;\n",
       "    }\n",
       "</style>\n",
       "<table border=\"1\" class=\"dataframe\">\n",
       "  <thead>\n",
       "    <tr style=\"text-align: right;\">\n",
       "      <th></th>\n",
       "      <th>title</th>\n",
       "      <th>work_id</th>\n",
       "      <th>num_pages</th>\n",
       "      <th>author_name</th>\n",
       "      <th>rating_dist</th>\n",
       "      <th>average_rating</th>\n",
       "    </tr>\n",
       "  </thead>\n",
       "  <tbody>\n",
       "    <tr>\n",
       "      <th>0</th>\n",
       "      <td>Harry Potter and the Order of the Phoenix (Har...</td>\n",
       "      <td>2809203</td>\n",
       "      <td>870</td>\n",
       "      <td>J.K. Rowling</td>\n",
       "      <td>5:1674064|4:664833|3:231195|2:41699|1:16215|to...</td>\n",
       "      <td>4.50</td>\n",
       "    </tr>\n",
       "    <tr>\n",
       "      <th>1</th>\n",
       "      <td>Harry Potter and the Sorcerer's Stone (Harry P...</td>\n",
       "      <td>4640799</td>\n",
       "      <td>309</td>\n",
       "      <td>J.K. Rowling</td>\n",
       "      <td>5:4801606|4:1681521|3:623286|2:145898|1:125040...</td>\n",
       "      <td>4.48</td>\n",
       "    </tr>\n",
       "    <tr>\n",
       "      <th>2</th>\n",
       "      <td>Harry Potter and the Chamber of Secrets (Harry...</td>\n",
       "      <td>6231171</td>\n",
       "      <td>352</td>\n",
       "      <td>J.K. Rowling</td>\n",
       "      <td>5:1690166|4:781011|3:313727|2:54687|1:15453|to...</td>\n",
       "      <td>4.43</td>\n",
       "    </tr>\n",
       "    <tr>\n",
       "      <th>3</th>\n",
       "      <td>Harry Potter and the Prisoner of Azkaban (Harr...</td>\n",
       "      <td>2402163</td>\n",
       "      <td>435</td>\n",
       "      <td>J.K. Rowling</td>\n",
       "      <td>5:1994597|4:696545|3:212678|2:28915|1:13959|to...</td>\n",
       "      <td>4.57</td>\n",
       "    </tr>\n",
       "    <tr>\n",
       "      <th>4</th>\n",
       "      <td>Harry Potter and the Goblet of Fire (Harry Pot...</td>\n",
       "      <td>3046572</td>\n",
       "      <td>734</td>\n",
       "      <td>J.K. Rowling</td>\n",
       "      <td>5:1808039|4:663849|3:193604|2:27759|1:12425|to...</td>\n",
       "      <td>4.56</td>\n",
       "    </tr>\n",
       "    <tr>\n",
       "      <th>...</th>\n",
       "      <td>...</td>\n",
       "      <td>...</td>\n",
       "      <td>...</td>\n",
       "      <td>...</td>\n",
       "      <td>...</td>\n",
       "      <td>...</td>\n",
       "    </tr>\n",
       "    <tr>\n",
       "      <th>99979</th>\n",
       "      <td>Total Workday Control Using Microsoft Outlook</td>\n",
       "      <td>13731267</td>\n",
       "      <td>289</td>\n",
       "      <td>Michael Linenberger</td>\n",
       "      <td>5:235|4:231|3:103|2:38|1:11|total:618</td>\n",
       "      <td>4.04</td>\n",
       "    </tr>\n",
       "    <tr>\n",
       "      <th>99980</th>\n",
       "      <td>Desata Tu Poder Ilimitado!</td>\n",
       "      <td>20409653</td>\n",
       "      <td>450</td>\n",
       "      <td>Anthony Robbins</td>\n",
       "      <td>5:37|4:12|3:12|2:3|1:1|total:65</td>\n",
       "      <td>4.25</td>\n",
       "    </tr>\n",
       "    <tr>\n",
       "      <th>99981</th>\n",
       "      <td>Poder Sin Limites: La Nueva Ciencia del Desarr...</td>\n",
       "      <td>165637</td>\n",
       "      <td>393</td>\n",
       "      <td>Anthony Robbins</td>\n",
       "      <td>5:15180|4:8706|3:4314|2:1116|1:575|total:29891</td>\n",
       "      <td>4.23</td>\n",
       "    </tr>\n",
       "    <tr>\n",
       "      <th>99982</th>\n",
       "      <td>Introduction To Anthony Robbins Personal Power II</td>\n",
       "      <td>79231</td>\n",
       "      <td>4</td>\n",
       "      <td>Anthony Robbins</td>\n",
       "      <td>5:382|4:147|3:66|2:14|1:13|total:622</td>\n",
       "      <td>4.40</td>\n",
       "    </tr>\n",
       "    <tr>\n",
       "      <th>99983</th>\n",
       "      <td>Controle su destino/ Awaken the Giant Within</td>\n",
       "      <td>1899199</td>\n",
       "      <td>718</td>\n",
       "      <td>Anthony Robbins</td>\n",
       "      <td>5:26682|4:17134|3:9295|2:2502|1:1211|total:56824</td>\n",
       "      <td>4.15</td>\n",
       "    </tr>\n",
       "  </tbody>\n",
       "</table>\n",
       "<p>99984 rows × 6 columns</p>\n",
       "</div>"
      ],
      "text/plain": [
       "                                                   title   work_id num_pages  \\\n",
       "0      Harry Potter and the Order of the Phoenix (Har...   2809203       870   \n",
       "1      Harry Potter and the Sorcerer's Stone (Harry P...   4640799       309   \n",
       "2      Harry Potter and the Chamber of Secrets (Harry...   6231171       352   \n",
       "3      Harry Potter and the Prisoner of Azkaban (Harr...   2402163       435   \n",
       "4      Harry Potter and the Goblet of Fire (Harry Pot...   3046572       734   \n",
       "...                                                  ...       ...       ...   \n",
       "99979      Total Workday Control Using Microsoft Outlook  13731267       289   \n",
       "99980                         Desata Tu Poder Ilimitado!  20409653       450   \n",
       "99981  Poder Sin Limites: La Nueva Ciencia del Desarr...    165637       393   \n",
       "99982  Introduction To Anthony Robbins Personal Power II     79231         4   \n",
       "99983       Controle su destino/ Awaken the Giant Within   1899199       718   \n",
       "\n",
       "               author_name                                        rating_dist  \\\n",
       "0             J.K. Rowling  5:1674064|4:664833|3:231195|2:41699|1:16215|to...   \n",
       "1             J.K. Rowling  5:4801606|4:1681521|3:623286|2:145898|1:125040...   \n",
       "2             J.K. Rowling  5:1690166|4:781011|3:313727|2:54687|1:15453|to...   \n",
       "3             J.K. Rowling  5:1994597|4:696545|3:212678|2:28915|1:13959|to...   \n",
       "4             J.K. Rowling  5:1808039|4:663849|3:193604|2:27759|1:12425|to...   \n",
       "...                    ...                                                ...   \n",
       "99979  Michael Linenberger              5:235|4:231|3:103|2:38|1:11|total:618   \n",
       "99980      Anthony Robbins                    5:37|4:12|3:12|2:3|1:1|total:65   \n",
       "99981      Anthony Robbins     5:15180|4:8706|3:4314|2:1116|1:575|total:29891   \n",
       "99982      Anthony Robbins               5:382|4:147|3:66|2:14|1:13|total:622   \n",
       "99983      Anthony Robbins   5:26682|4:17134|3:9295|2:2502|1:1211|total:56824   \n",
       "\n",
       "       average_rating  \n",
       "0                4.50  \n",
       "1                4.48  \n",
       "2                4.43  \n",
       "3                4.57  \n",
       "4                4.56  \n",
       "...               ...  \n",
       "99979            4.04  \n",
       "99980            4.25  \n",
       "99981            4.23  \n",
       "99982            4.40  \n",
       "99983            4.15  \n",
       "\n",
       "[99984 rows x 6 columns]"
      ]
     },
     "execution_count": 143,
     "metadata": {},
     "output_type": "execute_result"
    }
   ],
   "source": [
    "columns = ['title', 'work_id', 'num_pages', 'author_name', 'rating_dist', 'average_rating']\n",
    "df_books[columns]"
   ]
  },
  {
   "cell_type": "code",
   "execution_count": 144,
   "id": "81b726a3-e64e-401f-bb26-4ee644793b0f",
   "metadata": {
    "tags": []
   },
   "outputs": [],
   "source": [
    "def extract_data(cell):\n",
    "    extracted_data = {}\n",
    "    pairs = cell.split('|')\n",
    "    for pair in pairs:\n",
    "        key, value = pair.split(':')\n",
    "        extracted_data[key] = value\n",
    "    return pd.Series(extracted_data)\n",
    "\n",
    "df_ratings = pd.DataFrame()\n",
    "df_ratings = df_books[\"rating_dist\"].apply(extract_data)\n",
    "df_ratings = pd.concat([df_books, df_ratings], axis=1)\n"
   ]
  },
  {
   "cell_type": "code",
   "execution_count": 147,
   "id": "6a85b75d-d2f9-4964-9485-450c5c66ead6",
   "metadata": {
    "tags": []
   },
   "outputs": [
    {
     "data": {
      "text/plain": [
       "0        0.889989\n",
       "1        0.878788\n",
       "2        0.865548\n",
       "3        0.913275\n",
       "4        0.913593\n",
       "           ...   \n",
       "99979    0.754045\n",
       "99980    0.753846\n",
       "99981    0.799103\n",
       "99982    0.850482\n",
       "99983    0.771083\n",
       "Length: 97661, dtype: float64"
      ]
     },
     "execution_count": 147,
     "metadata": {},
     "output_type": "execute_result"
    }
   ],
   "source": [
    "columns_to_convert = [\"5\", \"4\", \"3\", \"2\", \"1\", \"total\"]\n",
    "\n",
    "for col in columns_to_convert:\n",
    "    df_ratings[col] = pd.to_numeric(df_ratings[col], errors=\"coerce\").astype(int)\n",
    "    \n",
    "ratio = (df_ratings[\"5\"] + df_ratings[\"4\"])/df_ratings[\"total\"]\n",
    "ratio = ratio.dropna()\n",
    "ratio"
   ]
  },
  {
   "cell_type": "code",
   "execution_count": 152,
   "id": "b4ee8bdc-d768-480a-8ba0-649fcfc0fe9d",
   "metadata": {
    "tags": []
   },
   "outputs": [
    {
     "name": "stdout",
     "output_type": "stream",
     "text": [
      "Proportion of 4-Star or Higher Ratings: 0.33468032583005314\n"
     ]
    }
   ],
   "source": [
    "rating_dist_series = df_books[\"rating_dist\"]\n",
    "\n",
    "def prop_4_or_higher(rating_distribution):\n",
    "    ratings = rating_distribution.split('|')\n",
    "    total_ratings = 0\n",
    "    four_or_higher_ratings = 0\n",
    "\n",
    "    for rating in ratings:\n",
    "        key, value = rating.split(':')\n",
    "        if key == 'total':\n",
    "            continue \n",
    "        key = int(key)\n",
    "        value = int(value)\n",
    "        total_ratings += value\n",
    "        if key > 4:\n",
    "            four_or_higher_ratings += value\n",
    "\n",
    "    if total_ratings == 0:\n",
    "        return 0.0 \n",
    "    proportion_4_or_higher = four_or_higher_ratings / total_ratings\n",
    "    return proportion_4_or_higher\n",
    "\n",
    "df_books['proportion_4_or_higher'] = rating_dist_series.apply(prop_4_or_higher)\n",
    "proportion_4_or_higher = df_books['proportion_4_or_higher'].mean()\n",
    "\n",
    "print(\"Proportion of 4-Star or Higher Ratings:\", proportion_4_or_higher)\n"
   ]
  },
  {
   "cell_type": "code",
   "execution_count": 151,
   "id": "4eb890a7-894b-4719-adbd-990419186fdc",
   "metadata": {
    "tags": []
   },
   "outputs": [
    {
     "name": "stdout",
     "output_type": "stream",
     "text": [
      "Estimated Probability of books having over 30% ratings above 4: 0.5710613698191711\n"
     ]
    }
   ],
   "source": [
    "books_above_30_percent = df_books[df_books['proportion_4_or_higher'] > 0.3]\n",
    "probability_above_30_percent = len(books_above_30_percent) / len(df_books)\n",
    "\n",
    "print(\"Estimated Probability of books having over 30% ratings above 4:\", probability_above_30_percent)\n"
   ]
  },
  {
   "cell_type": "markdown",
   "id": "f5792f3d-1441-4a36-a5d0-39e49155879a",
   "metadata": {},
   "source": [
    "**RQ7_2**"
   ]
  },
  {
   "cell_type": "markdown",
   "id": "521b6a25-758f-4638-8597-14eb628068f4",
   "metadata": {},
   "source": [
    "Estimate the probability that an author publishes a new book within two years from its last work."
   ]
  },
  {
   "cell_type": "code",
   "execution_count": 153,
   "id": "f387dc9e-a95d-40b5-b52c-ed7b4c8887b0",
   "metadata": {
    "tags": []
   },
   "outputs": [
    {
     "name": "stdout",
     "output_type": "stream",
     "text": [
      "Estimated Probability: 0.17965447528027936\n"
     ]
    }
   ],
   "source": [
    "grouped = df_books.groupby(['author_name', 'author_id'])\n",
    "total_authors = 0\n",
    "new_book = 0\n",
    "\n",
    "for (author_name, author_id), books in grouped:\n",
    "    books = books.sort_values(by='original_publication_date')\n",
    "    books['original_publication_date'] = pd.to_datetime(books['original_publication_date'], format=\"%Y\", errors='coerce')\n",
    "\n",
    "    for i in range(1, len(books)):\n",
    "        time_difference = books.iloc[i]['original_publication_date'] - books.iloc[i-1]['original_publication_date']\n",
    "        if not pd.isna(time_difference) and time_difference <= pd.Timedelta(days=730):\n",
    "            new_book += 1\n",
    "            break\n",
    "    total_authors += 1\n",
    "\n",
    "probability = new_book / total_authors\n",
    "print(\"Estimated Probability:\", probability)\n"
   ]
  },
  {
   "cell_type": "markdown",
   "id": "cbe47780-0830-4b59-bc10-dd53d0298313",
   "metadata": {
    "tags": []
   },
   "source": [
    "**RQ7_3**"
   ]
  },
  {
   "cell_type": "markdown",
   "id": "1d1e0c17-d122-4fa8-9c5a-02d389b069ea",
   "metadata": {},
   "source": [
    "In the file list.json, you will find a peculiar list named \"The Worst Books of All Time.\" Estimate the probability of a book being included in this list, knowing it has more than 700 pages."
   ]
  },
  {
   "cell_type": "code",
   "execution_count": 154,
   "id": "bb739f15-50c6-4b52-bd32-28993bdf311b",
   "metadata": {
    "tags": []
   },
   "outputs": [],
   "source": [
    "df_worst = pd.read_json(\"worst.json\", lines=True)"
   ]
  },
  {
   "cell_type": "markdown",
   "id": "a813d2b1-f893-46bb-9ae3-93329d8d5cde",
   "metadata": {},
   "source": [
    "Filtering just related title which is \"The Worst Books of All Time\""
   ]
  },
  {
   "cell_type": "code",
   "execution_count": 155,
   "id": "ff3ae43f-529f-4a95-90b7-e6d7bae7cf49",
   "metadata": {
    "tags": []
   },
   "outputs": [
    {
     "data": {
      "text/html": [
       "<div>\n",
       "<style scoped>\n",
       "    .dataframe tbody tr th:only-of-type {\n",
       "        vertical-align: middle;\n",
       "    }\n",
       "\n",
       "    .dataframe tbody tr th {\n",
       "        vertical-align: top;\n",
       "    }\n",
       "\n",
       "    .dataframe thead th {\n",
       "        text-align: right;\n",
       "    }\n",
       "</style>\n",
       "<table border=\"1\" class=\"dataframe\">\n",
       "  <thead>\n",
       "    <tr style=\"text-align: right;\">\n",
       "      <th></th>\n",
       "      <th>id</th>\n",
       "      <th>title</th>\n",
       "      <th>description</th>\n",
       "      <th>description_html</th>\n",
       "      <th>num_pages</th>\n",
       "      <th>num_books</th>\n",
       "      <th>num_voters</th>\n",
       "      <th>created_date</th>\n",
       "      <th>tags</th>\n",
       "      <th>num_likes</th>\n",
       "      <th>created_by</th>\n",
       "      <th>num_comments</th>\n",
       "      <th>books</th>\n",
       "    </tr>\n",
       "  </thead>\n",
       "  <tbody>\n",
       "    <tr>\n",
       "      <th>0</th>\n",
       "      <td>2</td>\n",
       "      <td>The Worst Books of All Time</td>\n",
       "      <td>What do you think are the worst books ever wri...</td>\n",
       "      <td>\\n      What do you think are the worst books ...</td>\n",
       "      <td>74</td>\n",
       "      <td>7395</td>\n",
       "      <td>18260</td>\n",
       "      <td>May 20th, 2008</td>\n",
       "      <td>[abominable, abomination, awful, bad, disgusti...</td>\n",
       "      <td>175</td>\n",
       "      <td>{'name': 'Michael Economy', 'id': '73'}</td>\n",
       "      <td>2570</td>\n",
       "      <td>[{'book_id': '41865', 'title': 'Twilight', 'au...</td>\n",
       "    </tr>\n",
       "  </tbody>\n",
       "</table>\n",
       "</div>"
      ],
      "text/plain": [
       "   id                        title  \\\n",
       "0   2  The Worst Books of All Time   \n",
       "\n",
       "                                         description  \\\n",
       "0  What do you think are the worst books ever wri...   \n",
       "\n",
       "                                    description_html  num_pages  num_books  \\\n",
       "0  \\n      What do you think are the worst books ...         74       7395   \n",
       "\n",
       "   num_voters    created_date  \\\n",
       "0       18260  May 20th, 2008   \n",
       "\n",
       "                                                tags  num_likes  \\\n",
       "0  [abominable, abomination, awful, bad, disgusti...        175   \n",
       "\n",
       "                                created_by  num_comments  \\\n",
       "0  {'name': 'Michael Economy', 'id': '73'}          2570   \n",
       "\n",
       "                                               books  \n",
       "0  [{'book_id': '41865', 'title': 'Twilight', 'au...  "
      ]
     },
     "execution_count": 155,
     "metadata": {},
     "output_type": "execute_result"
    }
   ],
   "source": [
    "worst_title = df_worst[df_worst['title'] == 'The Worst Books of All Time']\n",
    "worst_title.head()"
   ]
  },
  {
   "cell_type": "markdown",
   "id": "c3a92bba-fc2f-4a3c-82f7-16f9f671149f",
   "metadata": {},
   "source": [
    "Extending the \"books\" dataset"
   ]
  },
  {
   "cell_type": "code",
   "execution_count": 156,
   "id": "0d968c58-3a7d-47f0-bb90-1408e7bad610",
   "metadata": {},
   "outputs": [
    {
     "data": {
      "text/html": [
       "<div>\n",
       "<style scoped>\n",
       "    .dataframe tbody tr th:only-of-type {\n",
       "        vertical-align: middle;\n",
       "    }\n",
       "\n",
       "    .dataframe tbody tr th {\n",
       "        vertical-align: top;\n",
       "    }\n",
       "\n",
       "    .dataframe thead th {\n",
       "        text-align: right;\n",
       "    }\n",
       "</style>\n",
       "<table border=\"1\" class=\"dataframe\">\n",
       "  <thead>\n",
       "    <tr style=\"text-align: right;\">\n",
       "      <th></th>\n",
       "      <th>book_id</th>\n",
       "      <th>title</th>\n",
       "      <th>author_id</th>\n",
       "      <th>author</th>\n",
       "      <th>position</th>\n",
       "    </tr>\n",
       "  </thead>\n",
       "  <tbody>\n",
       "    <tr>\n",
       "      <th>0</th>\n",
       "      <td>41865</td>\n",
       "      <td>Twilight</td>\n",
       "      <td>941441</td>\n",
       "      <td>Stephenie Meyer</td>\n",
       "      <td>{'ranking': 1, 'score': 527144, 'votes': 5303}</td>\n",
       "    </tr>\n",
       "    <tr>\n",
       "      <th>1</th>\n",
       "      <td>1162543</td>\n",
       "      <td>Breaking Dawn</td>\n",
       "      <td>941441</td>\n",
       "      <td>Stephenie Meyer</td>\n",
       "      <td>{'ranking': 2, 'score': 400813, 'votes': 4061}</td>\n",
       "    </tr>\n",
       "    <tr>\n",
       "      <th>2</th>\n",
       "      <td>49041</td>\n",
       "      <td>New Moon</td>\n",
       "      <td>941441</td>\n",
       "      <td>Stephenie Meyer</td>\n",
       "      <td>{'ranking': 3, 'score': 356742, 'votes': 3648}</td>\n",
       "    </tr>\n",
       "    <tr>\n",
       "      <th>3</th>\n",
       "      <td>428263</td>\n",
       "      <td>Eclipse</td>\n",
       "      <td>941441</td>\n",
       "      <td>Stephenie Meyer</td>\n",
       "      <td>{'ranking': 4, 'score': 323657, 'votes': 3338}</td>\n",
       "    </tr>\n",
       "    <tr>\n",
       "      <th>4</th>\n",
       "      <td>10818853</td>\n",
       "      <td>Fifty Shades of Grey</td>\n",
       "      <td>4725841</td>\n",
       "      <td>E.L. James</td>\n",
       "      <td>{'ranking': 5, 'score': 231106, 'votes': 2356}</td>\n",
       "    </tr>\n",
       "    <tr>\n",
       "      <th>...</th>\n",
       "      <td>...</td>\n",
       "      <td>...</td>\n",
       "      <td>...</td>\n",
       "      <td>...</td>\n",
       "      <td>...</td>\n",
       "    </tr>\n",
       "    <tr>\n",
       "      <th>7388</th>\n",
       "      <td>30317417</td>\n",
       "      <td>Most Dangerous Place</td>\n",
       "      <td>27572</td>\n",
       "      <td>James Grippando</td>\n",
       "      <td>{'ranking': 7389, 'score': 2, 'votes': 1}</td>\n",
       "    </tr>\n",
       "    <tr>\n",
       "      <th>7389</th>\n",
       "      <td>40139233</td>\n",
       "      <td>Sacred Duty: A Soldier's Tour at Arlington Nat...</td>\n",
       "      <td>7742817</td>\n",
       "      <td>Tom Cotton</td>\n",
       "      <td>{'ranking': 7390, 'score': 2, 'votes': 1}</td>\n",
       "    </tr>\n",
       "    <tr>\n",
       "      <th>7390</th>\n",
       "      <td>176392</td>\n",
       "      <td>Who Stole Feminism? How Women Have Betrayed Women</td>\n",
       "      <td>393</td>\n",
       "      <td>Christina Hoff Sommers</td>\n",
       "      <td>{'ranking': 7391, 'score': 1, 'votes': 1}</td>\n",
       "    </tr>\n",
       "    <tr>\n",
       "      <th>7391</th>\n",
       "      <td>1318015</td>\n",
       "      <td>Woulda, Coulda, Shoulda: Overcoming Regrets, M...</td>\n",
       "      <td>48336</td>\n",
       "      <td>Arthur Freeman</td>\n",
       "      <td>{'ranking': 7392, 'score': 1, 'votes': 1}</td>\n",
       "    </tr>\n",
       "    <tr>\n",
       "      <th>7392</th>\n",
       "      <td>45880352</td>\n",
       "      <td>COTTON - ON THE RECORD: A Collection of Senato...</td>\n",
       "      <td>17626436</td>\n",
       "      <td>Liberty Press</td>\n",
       "      <td>{'ranking': 7393, 'score': 1, 'votes': 1}</td>\n",
       "    </tr>\n",
       "  </tbody>\n",
       "</table>\n",
       "<p>7393 rows × 5 columns</p>\n",
       "</div>"
      ],
      "text/plain": [
       "       book_id                                              title author_id  \\\n",
       "0        41865                                           Twilight    941441   \n",
       "1      1162543                                      Breaking Dawn    941441   \n",
       "2        49041                                           New Moon    941441   \n",
       "3       428263                                            Eclipse    941441   \n",
       "4     10818853                               Fifty Shades of Grey   4725841   \n",
       "...        ...                                                ...       ...   \n",
       "7388  30317417                               Most Dangerous Place     27572   \n",
       "7389  40139233  Sacred Duty: A Soldier's Tour at Arlington Nat...   7742817   \n",
       "7390    176392  Who Stole Feminism? How Women Have Betrayed Women       393   \n",
       "7391   1318015  Woulda, Coulda, Shoulda: Overcoming Regrets, M...     48336   \n",
       "7392  45880352  COTTON - ON THE RECORD: A Collection of Senato...  17626436   \n",
       "\n",
       "                      author                                        position  \n",
       "0            Stephenie Meyer  {'ranking': 1, 'score': 527144, 'votes': 5303}  \n",
       "1            Stephenie Meyer  {'ranking': 2, 'score': 400813, 'votes': 4061}  \n",
       "2            Stephenie Meyer  {'ranking': 3, 'score': 356742, 'votes': 3648}  \n",
       "3            Stephenie Meyer  {'ranking': 4, 'score': 323657, 'votes': 3338}  \n",
       "4                 E.L. James  {'ranking': 5, 'score': 231106, 'votes': 2356}  \n",
       "...                      ...                                             ...  \n",
       "7388         James Grippando       {'ranking': 7389, 'score': 2, 'votes': 1}  \n",
       "7389              Tom Cotton       {'ranking': 7390, 'score': 2, 'votes': 1}  \n",
       "7390  Christina Hoff Sommers       {'ranking': 7391, 'score': 1, 'votes': 1}  \n",
       "7391          Arthur Freeman       {'ranking': 7392, 'score': 1, 'votes': 1}  \n",
       "7392           Liberty Press       {'ranking': 7393, 'score': 1, 'votes': 1}  \n",
       "\n",
       "[7393 rows x 5 columns]"
      ]
     },
     "execution_count": 156,
     "metadata": {},
     "output_type": "execute_result"
    }
   ],
   "source": [
    "original_data = list(df_worst[\"books\"])\n",
    "\n",
    "restructured_data = {entry['book_id']: {key: entry[key] for key in entry if key != 'book_id'} for entry in original_data[0]}\n",
    "\n",
    "worst_books_df = pd.DataFrame.from_dict(restructured_data, orient='index').reset_index().rename(columns={'index': 'book_id'})\n",
    "worst_books_df\n"
   ]
  },
  {
   "cell_type": "markdown",
   "id": "6e4e864b-afd4-4781-b1aa-1cbbb0918f84",
   "metadata": {},
   "source": [
    "Filter books with more than 700 pages"
   ]
  },
  {
   "cell_type": "code",
   "execution_count": 157,
   "id": "a473ffb0-7900-4336-8094-063e9c8fc1ac",
   "metadata": {
    "tags": []
   },
   "outputs": [
    {
     "data": {
      "text/html": [
       "<div>\n",
       "<style scoped>\n",
       "    .dataframe tbody tr th:only-of-type {\n",
       "        vertical-align: middle;\n",
       "    }\n",
       "\n",
       "    .dataframe tbody tr th {\n",
       "        vertical-align: top;\n",
       "    }\n",
       "\n",
       "    .dataframe thead th {\n",
       "        text-align: right;\n",
       "    }\n",
       "</style>\n",
       "<table border=\"1\" class=\"dataframe\">\n",
       "  <thead>\n",
       "    <tr style=\"text-align: right;\">\n",
       "      <th></th>\n",
       "      <th>id</th>\n",
       "      <th>title</th>\n",
       "      <th>authors</th>\n",
       "      <th>author_name</th>\n",
       "      <th>author_id</th>\n",
       "      <th>work_id</th>\n",
       "      <th>isbn</th>\n",
       "      <th>isbn13</th>\n",
       "      <th>asin</th>\n",
       "      <th>language</th>\n",
       "      <th>...</th>\n",
       "      <th>edition_information</th>\n",
       "      <th>image_url</th>\n",
       "      <th>publisher</th>\n",
       "      <th>num_pages</th>\n",
       "      <th>series_id</th>\n",
       "      <th>series_name</th>\n",
       "      <th>series_position</th>\n",
       "      <th>shelves</th>\n",
       "      <th>description</th>\n",
       "      <th>proportion_4_or_higher</th>\n",
       "    </tr>\n",
       "  </thead>\n",
       "  <tbody>\n",
       "    <tr>\n",
       "      <th>0</th>\n",
       "      <td>2</td>\n",
       "      <td>Harry Potter and the Order of the Phoenix (Har...</td>\n",
       "      <td>[{'id': '1077326', 'name': 'J.K. Rowling', 'ro...</td>\n",
       "      <td>J.K. Rowling</td>\n",
       "      <td>1077326</td>\n",
       "      <td>2809203</td>\n",
       "      <td>0439358078</td>\n",
       "      <td>9780439358071</td>\n",
       "      <td></td>\n",
       "      <td>eng</td>\n",
       "      <td>...</td>\n",
       "      <td>US Edition</td>\n",
       "      <td>https://i.gr-assets.com/images/S/compressed.ph...</td>\n",
       "      <td>Scholastic Inc.</td>\n",
       "      <td>870.0</td>\n",
       "      <td>45175</td>\n",
       "      <td>Harry Potter</td>\n",
       "      <td>5</td>\n",
       "      <td>[{'name': 'to-read', 'count': 324191}, {'name'...</td>\n",
       "      <td>There is a door at the end of a silent corrido...</td>\n",
       "      <td>0.637009</td>\n",
       "    </tr>\n",
       "    <tr>\n",
       "      <th>4</th>\n",
       "      <td>6</td>\n",
       "      <td>Harry Potter and the Goblet of Fire (Harry Pot...</td>\n",
       "      <td>[{'id': '1077326', 'name': 'J.K. Rowling', 'ro...</td>\n",
       "      <td>J.K. Rowling</td>\n",
       "      <td>1077326</td>\n",
       "      <td>3046572</td>\n",
       "      <td></td>\n",
       "      <td></td>\n",
       "      <td></td>\n",
       "      <td>eng</td>\n",
       "      <td>...</td>\n",
       "      <td>First Scholastic Trade Paperback Edition</td>\n",
       "      <td>https://i.gr-assets.com/images/S/compressed.ph...</td>\n",
       "      <td>Scholastic</td>\n",
       "      <td>734.0</td>\n",
       "      <td>45175</td>\n",
       "      <td>Harry Potter</td>\n",
       "      <td>4</td>\n",
       "      <td>[{'name': 'to-read', 'count': 287086}, {'name'...</td>\n",
       "      <td>Harry Potter is midway through his training as...</td>\n",
       "      <td>0.668239</td>\n",
       "    </tr>\n",
       "    <tr>\n",
       "      <th>6</th>\n",
       "      <td>8</td>\n",
       "      <td>Harry Potter Boxed Set, Books 1-5 (Harry Potte...</td>\n",
       "      <td>[{'id': '1077326', 'name': 'J.K. Rowling', 'ro...</td>\n",
       "      <td>J.K. Rowling</td>\n",
       "      <td>1077326</td>\n",
       "      <td>21457576</td>\n",
       "      <td>0439682584</td>\n",
       "      <td>9780439682589</td>\n",
       "      <td></td>\n",
       "      <td>eng</td>\n",
       "      <td>...</td>\n",
       "      <td></td>\n",
       "      <td>https://s.gr-assets.com/assets/nophoto/book/11...</td>\n",
       "      <td>Scholastic</td>\n",
       "      <td>2690.0</td>\n",
       "      <td></td>\n",
       "      <td></td>\n",
       "      <td></td>\n",
       "      <td>[{'name': 'to-read', 'count': 7030}, {'name': ...</td>\n",
       "      <td>Box Set containing Harry Potter and the Sorcer...</td>\n",
       "      <td>0.852923</td>\n",
       "    </tr>\n",
       "    <tr>\n",
       "      <th>7</th>\n",
       "      <td>10</td>\n",
       "      <td>Harry Potter Collection (Harry Potter, #1-6)</td>\n",
       "      <td>None</td>\n",
       "      <td>J.K. Rowling</td>\n",
       "      <td>1077326</td>\n",
       "      <td>21457570</td>\n",
       "      <td>0439827604</td>\n",
       "      <td>9780439827607</td>\n",
       "      <td></td>\n",
       "      <td>eng</td>\n",
       "      <td>...</td>\n",
       "      <td>Box Set</td>\n",
       "      <td>https://i.gr-assets.com/images/S/compressed.ph...</td>\n",
       "      <td>Scholastic</td>\n",
       "      <td>3342.0</td>\n",
       "      <td>45175</td>\n",
       "      <td>Harry Potter</td>\n",
       "      <td>1-6</td>\n",
       "      <td>[{'name': 'to-read', 'count': 5809}, {'name': ...</td>\n",
       "      <td>Six years of magic, adventure, and mystery mak...</td>\n",
       "      <td>0.804797</td>\n",
       "    </tr>\n",
       "    <tr>\n",
       "      <th>9</th>\n",
       "      <td>12</td>\n",
       "      <td>The Ultimate Hitchhiker's Guide: Five Complete...</td>\n",
       "      <td>None</td>\n",
       "      <td>Douglas Adams</td>\n",
       "      <td>4</td>\n",
       "      <td>135328</td>\n",
       "      <td>0517226952</td>\n",
       "      <td>9780517226957</td>\n",
       "      <td></td>\n",
       "      <td>eng</td>\n",
       "      <td>...</td>\n",
       "      <td></td>\n",
       "      <td>https://i.gr-assets.com/images/S/compressed.ph...</td>\n",
       "      <td>Gramercy Books</td>\n",
       "      <td>815.0</td>\n",
       "      <td>40957</td>\n",
       "      <td>The Hitchhiker's Guide to the Galaxy</td>\n",
       "      <td>0.5-5</td>\n",
       "      <td>[{'name': 'to-read', 'count': 128191}, {'name'...</td>\n",
       "      <td>At last in paperback in one complete volume, h...</td>\n",
       "      <td>0.570375</td>\n",
       "    </tr>\n",
       "    <tr>\n",
       "      <th>...</th>\n",
       "      <td>...</td>\n",
       "      <td>...</td>\n",
       "      <td>...</td>\n",
       "      <td>...</td>\n",
       "      <td>...</td>\n",
       "      <td>...</td>\n",
       "      <td>...</td>\n",
       "      <td>...</td>\n",
       "      <td>...</td>\n",
       "      <td>...</td>\n",
       "      <td>...</td>\n",
       "      <td>...</td>\n",
       "      <td>...</td>\n",
       "      <td>...</td>\n",
       "      <td>...</td>\n",
       "      <td>...</td>\n",
       "      <td>...</td>\n",
       "      <td>...</td>\n",
       "      <td>...</td>\n",
       "      <td>...</td>\n",
       "      <td>...</td>\n",
       "    </tr>\n",
       "    <tr>\n",
       "      <th>99787</th>\n",
       "      <td>179598</td>\n",
       "      <td>The Collected Poems of Thomas Merton</td>\n",
       "      <td>None</td>\n",
       "      <td>Thomas Merton</td>\n",
       "      <td>1711</td>\n",
       "      <td>173515</td>\n",
       "      <td>0811207692</td>\n",
       "      <td>9780811207690</td>\n",
       "      <td></td>\n",
       "      <td></td>\n",
       "      <td>...</td>\n",
       "      <td></td>\n",
       "      <td>https://s.gr-assets.com/assets/nophoto/book/11...</td>\n",
       "      <td>New Directions</td>\n",
       "      <td>1056.0</td>\n",
       "      <td></td>\n",
       "      <td></td>\n",
       "      <td></td>\n",
       "      <td>[{'name': 'to-read', 'count': 267}, {'name': '...</td>\n",
       "      <td>In 1944, New Directions brought out Thomas Mer...</td>\n",
       "      <td>0.433121</td>\n",
       "    </tr>\n",
       "    <tr>\n",
       "      <th>99835</th>\n",
       "      <td>179708</td>\n",
       "      <td>Rasputin: The Last Word</td>\n",
       "      <td>[{'id': '8522960', 'name': 'Edvard Radzinsky',...</td>\n",
       "      <td>Edvard Radzinsky</td>\n",
       "      <td>8522960</td>\n",
       "      <td>6186417</td>\n",
       "      <td>0753810808</td>\n",
       "      <td>9780753810804</td>\n",
       "      <td></td>\n",
       "      <td>eng</td>\n",
       "      <td>...</td>\n",
       "      <td></td>\n",
       "      <td>https://s.gr-assets.com/assets/nophoto/book/11...</td>\n",
       "      <td>Phoenix Paperbacks</td>\n",
       "      <td>728.0</td>\n",
       "      <td></td>\n",
       "      <td></td>\n",
       "      <td></td>\n",
       "      <td>[{'name': 'to-read', 'count': 2060}, {'name': ...</td>\n",
       "      <td>Based upon long-lost contemporary documents, t...</td>\n",
       "      <td>0.270862</td>\n",
       "    </tr>\n",
       "    <tr>\n",
       "      <th>99955</th>\n",
       "      <td>180068</td>\n",
       "      <td>The History of Foreign Investment in the Unite...</td>\n",
       "      <td>None</td>\n",
       "      <td>Mira Wilkins</td>\n",
       "      <td>104945</td>\n",
       "      <td>173980</td>\n",
       "      <td>0674396669</td>\n",
       "      <td>9780674396661</td>\n",
       "      <td></td>\n",
       "      <td></td>\n",
       "      <td>...</td>\n",
       "      <td></td>\n",
       "      <td>https://s.gr-assets.com/assets/nophoto/book/11...</td>\n",
       "      <td>Harvard University Press</td>\n",
       "      <td>992.0</td>\n",
       "      <td>179584</td>\n",
       "      <td>The History of Foreign Investment in the Unite...</td>\n",
       "      <td>1</td>\n",
       "      <td>[{'name': 'to-read', 'count': 5}]</td>\n",
       "      <td>From the colonial era to 1914, America was a d...</td>\n",
       "      <td>0.000000</td>\n",
       "    </tr>\n",
       "    <tr>\n",
       "      <th>99956</th>\n",
       "      <td>180069</td>\n",
       "      <td>The History of Foreign Investment in the Unite...</td>\n",
       "      <td>None</td>\n",
       "      <td>Mira Wilkins</td>\n",
       "      <td>104945</td>\n",
       "      <td>173981</td>\n",
       "      <td>0674013085</td>\n",
       "      <td>9780674013087</td>\n",
       "      <td></td>\n",
       "      <td></td>\n",
       "      <td>...</td>\n",
       "      <td></td>\n",
       "      <td>https://s.gr-assets.com/assets/nophoto/book/11...</td>\n",
       "      <td>Harvard University Press</td>\n",
       "      <td>1008.0</td>\n",
       "      <td>179584</td>\n",
       "      <td>The History of Foreign Investment in the Unite...</td>\n",
       "      <td>2</td>\n",
       "      <td>[{'name': 'to-read', 'count': 7}]</td>\n",
       "      <td>Mira Wilkins, the foremost authority on foreig...</td>\n",
       "      <td>1.000000</td>\n",
       "    </tr>\n",
       "    <tr>\n",
       "      <th>99983</th>\n",
       "      <td>180140</td>\n",
       "      <td>Controle su destino/ Awaken the Giant Within</td>\n",
       "      <td>None</td>\n",
       "      <td>Anthony Robbins</td>\n",
       "      <td>5627</td>\n",
       "      <td>1899199</td>\n",
       "      <td>849793878X</td>\n",
       "      <td>9788497938785</td>\n",
       "      <td></td>\n",
       "      <td></td>\n",
       "      <td>...</td>\n",
       "      <td></td>\n",
       "      <td>https://i.gr-assets.com/images/S/compressed.ph...</td>\n",
       "      <td></td>\n",
       "      <td>718.0</td>\n",
       "      <td></td>\n",
       "      <td></td>\n",
       "      <td></td>\n",
       "      <td>[{'name': 'to-read', 'count': 72331}, {'name':...</td>\n",
       "      <td>Wake up and take control of your life! From th...</td>\n",
       "      <td>0.469555</td>\n",
       "    </tr>\n",
       "  </tbody>\n",
       "</table>\n",
       "<p>3273 rows × 27 columns</p>\n",
       "</div>"
      ],
      "text/plain": [
       "           id                                              title  \\\n",
       "0           2  Harry Potter and the Order of the Phoenix (Har...   \n",
       "4           6  Harry Potter and the Goblet of Fire (Harry Pot...   \n",
       "6           8  Harry Potter Boxed Set, Books 1-5 (Harry Potte...   \n",
       "7          10       Harry Potter Collection (Harry Potter, #1-6)   \n",
       "9          12  The Ultimate Hitchhiker's Guide: Five Complete...   \n",
       "...       ...                                                ...   \n",
       "99787  179598               The Collected Poems of Thomas Merton   \n",
       "99835  179708                            Rasputin: The Last Word   \n",
       "99955  180068  The History of Foreign Investment in the Unite...   \n",
       "99956  180069  The History of Foreign Investment in the Unite...   \n",
       "99983  180140       Controle su destino/ Awaken the Giant Within   \n",
       "\n",
       "                                                 authors       author_name  \\\n",
       "0      [{'id': '1077326', 'name': 'J.K. Rowling', 'ro...      J.K. Rowling   \n",
       "4      [{'id': '1077326', 'name': 'J.K. Rowling', 'ro...      J.K. Rowling   \n",
       "6      [{'id': '1077326', 'name': 'J.K. Rowling', 'ro...      J.K. Rowling   \n",
       "7                                                   None      J.K. Rowling   \n",
       "9                                                   None     Douglas Adams   \n",
       "...                                                  ...               ...   \n",
       "99787                                               None     Thomas Merton   \n",
       "99835  [{'id': '8522960', 'name': 'Edvard Radzinsky',...  Edvard Radzinsky   \n",
       "99955                                               None      Mira Wilkins   \n",
       "99956                                               None      Mira Wilkins   \n",
       "99983                                               None   Anthony Robbins   \n",
       "\n",
       "       author_id   work_id        isbn         isbn13 asin language  ...  \\\n",
       "0        1077326   2809203  0439358078  9780439358071           eng  ...   \n",
       "4        1077326   3046572                                      eng  ...   \n",
       "6        1077326  21457576  0439682584  9780439682589           eng  ...   \n",
       "7        1077326  21457570  0439827604  9780439827607           eng  ...   \n",
       "9              4    135328  0517226952  9780517226957           eng  ...   \n",
       "...          ...       ...         ...            ...  ...      ...  ...   \n",
       "99787       1711    173515  0811207692  9780811207690                ...   \n",
       "99835    8522960   6186417  0753810808  9780753810804           eng  ...   \n",
       "99955     104945    173980  0674396669  9780674396661                ...   \n",
       "99956     104945    173981  0674013085  9780674013087                ...   \n",
       "99983       5627   1899199  849793878X  9788497938785                ...   \n",
       "\n",
       "                            edition_information  \\\n",
       "0                                    US Edition   \n",
       "4      First Scholastic Trade Paperback Edition   \n",
       "6                                                 \n",
       "7                                       Box Set   \n",
       "9                                                 \n",
       "...                                         ...   \n",
       "99787                                             \n",
       "99835                                             \n",
       "99955                                             \n",
       "99956                                             \n",
       "99983                                             \n",
       "\n",
       "                                               image_url  \\\n",
       "0      https://i.gr-assets.com/images/S/compressed.ph...   \n",
       "4      https://i.gr-assets.com/images/S/compressed.ph...   \n",
       "6      https://s.gr-assets.com/assets/nophoto/book/11...   \n",
       "7      https://i.gr-assets.com/images/S/compressed.ph...   \n",
       "9      https://i.gr-assets.com/images/S/compressed.ph...   \n",
       "...                                                  ...   \n",
       "99787  https://s.gr-assets.com/assets/nophoto/book/11...   \n",
       "99835  https://s.gr-assets.com/assets/nophoto/book/11...   \n",
       "99955  https://s.gr-assets.com/assets/nophoto/book/11...   \n",
       "99956  https://s.gr-assets.com/assets/nophoto/book/11...   \n",
       "99983  https://i.gr-assets.com/images/S/compressed.ph...   \n",
       "\n",
       "                      publisher  num_pages series_id  \\\n",
       "0               Scholastic Inc.      870.0     45175   \n",
       "4                    Scholastic      734.0     45175   \n",
       "6                    Scholastic     2690.0             \n",
       "7                    Scholastic     3342.0     45175   \n",
       "9                Gramercy Books      815.0     40957   \n",
       "...                         ...        ...       ...   \n",
       "99787            New Directions     1056.0             \n",
       "99835        Phoenix Paperbacks      728.0             \n",
       "99955  Harvard University Press      992.0    179584   \n",
       "99956  Harvard University Press     1008.0    179584   \n",
       "99983                                718.0             \n",
       "\n",
       "                                             series_name series_position  \\\n",
       "0                                           Harry Potter               5   \n",
       "4                                           Harry Potter               4   \n",
       "6                                                                          \n",
       "7                                           Harry Potter             1-6   \n",
       "9                   The Hitchhiker's Guide to the Galaxy           0.5-5   \n",
       "...                                                  ...             ...   \n",
       "99787                                                                      \n",
       "99835                                                                      \n",
       "99955  The History of Foreign Investment in the Unite...               1   \n",
       "99956  The History of Foreign Investment in the Unite...               2   \n",
       "99983                                                                      \n",
       "\n",
       "                                                 shelves  \\\n",
       "0      [{'name': 'to-read', 'count': 324191}, {'name'...   \n",
       "4      [{'name': 'to-read', 'count': 287086}, {'name'...   \n",
       "6      [{'name': 'to-read', 'count': 7030}, {'name': ...   \n",
       "7      [{'name': 'to-read', 'count': 5809}, {'name': ...   \n",
       "9      [{'name': 'to-read', 'count': 128191}, {'name'...   \n",
       "...                                                  ...   \n",
       "99787  [{'name': 'to-read', 'count': 267}, {'name': '...   \n",
       "99835  [{'name': 'to-read', 'count': 2060}, {'name': ...   \n",
       "99955                  [{'name': 'to-read', 'count': 5}]   \n",
       "99956                  [{'name': 'to-read', 'count': 7}]   \n",
       "99983  [{'name': 'to-read', 'count': 72331}, {'name':...   \n",
       "\n",
       "                                             description  \\\n",
       "0      There is a door at the end of a silent corrido...   \n",
       "4      Harry Potter is midway through his training as...   \n",
       "6      Box Set containing Harry Potter and the Sorcer...   \n",
       "7      Six years of magic, adventure, and mystery mak...   \n",
       "9      At last in paperback in one complete volume, h...   \n",
       "...                                                  ...   \n",
       "99787  In 1944, New Directions brought out Thomas Mer...   \n",
       "99835  Based upon long-lost contemporary documents, t...   \n",
       "99955  From the colonial era to 1914, America was a d...   \n",
       "99956  Mira Wilkins, the foremost authority on foreig...   \n",
       "99983  Wake up and take control of your life! From th...   \n",
       "\n",
       "      proportion_4_or_higher  \n",
       "0                   0.637009  \n",
       "4                   0.668239  \n",
       "6                   0.852923  \n",
       "7                   0.804797  \n",
       "9                   0.570375  \n",
       "...                      ...  \n",
       "99787               0.433121  \n",
       "99835               0.270862  \n",
       "99955               0.000000  \n",
       "99956               1.000000  \n",
       "99983               0.469555  \n",
       "\n",
       "[3273 rows x 27 columns]"
      ]
     },
     "execution_count": 157,
     "metadata": {},
     "output_type": "execute_result"
    }
   ],
   "source": [
    "df_books['num_pages'] = pd.to_numeric(df_books['num_pages'], errors='coerce')\n",
    "\n",
    "more_than_700 = df_books[df_books['num_pages'] > 700]\n",
    "more_than_700"
   ]
  },
  {
   "cell_type": "code",
   "execution_count": 161,
   "id": "d14bcb78-5414-4a15-9dc7-3a49c2193aa1",
   "metadata": {
    "tags": []
   },
   "outputs": [
    {
     "name": "stdout",
     "output_type": "stream",
     "text": [
      "The probability of a book being included in the 'worst_books_df' list, given it has more than 700 pages is: 0.03758020164986251\n"
     ]
    }
   ],
   "source": [
    "worst_books_df['book_id'] = worst_books_df['book_id'].astype('int64')\n",
    "more_than_700['id'] = more_than_700['id'].astype('int64')\n",
    "merged_df = worst_books_df.merge(more_than_700, left_on='book_id', right_on='id', how='inner')\n",
    "\n",
    "probability = len(merged_df) / len(more_than_700)\n",
    "print(\"The probability of a book being included in the 'worst_books_df' list, given it has more than 700 pages is:\", probability)\n"
   ]
  },
  {
   "cell_type": "markdown",
   "id": "bd25fe64-2e91-4fbf-ad78-a0d41fec80ee",
   "metadata": {},
   "source": [
    "**RQ7_4**"
   ]
  },
  {
   "cell_type": "markdown",
   "id": "2cd15999-a6d1-4652-a94c-f13bd45b6302",
   "metadata": {},
   "source": [
    "Are the events X=’Being Included in The Worst Books of All Time list’ and Y=’Having more than 700 pages’ independent? Explain how you have obtained your answer."
   ]
  },
  {
   "cell_type": "code",
   "execution_count": 162,
   "id": "f442ad6c-f072-4d58-b900-aab3df01585f",
   "metadata": {},
   "outputs": [
    {
     "name": "stdout",
     "output_type": "stream",
     "text": [
      "<class 'pandas.core.frame.DataFrame'>\n",
      "RangeIndex: 2089 entries, 0 to 2088\n",
      "Data columns (total 32 columns):\n",
      " #   Column                     Non-Null Count  Dtype  \n",
      "---  ------                     --------------  -----  \n",
      " 0   book_id                    2089 non-null   int64  \n",
      " 1   title_x                    2089 non-null   object \n",
      " 2   author_id_x                2089 non-null   object \n",
      " 3   author                     2089 non-null   object \n",
      " 4   position                   2089 non-null   object \n",
      " 5   id                         2089 non-null   int64  \n",
      " 6   title_y                    2089 non-null   object \n",
      " 7   authors                    506 non-null    object \n",
      " 8   author_name                2089 non-null   object \n",
      " 9   author_id_y                2089 non-null   int64  \n",
      " 10  work_id                    2089 non-null   int64  \n",
      " 11  isbn                       2089 non-null   object \n",
      " 12  isbn13                     2089 non-null   object \n",
      " 13  asin                       2089 non-null   object \n",
      " 14  language                   2089 non-null   object \n",
      " 15  average_rating             2089 non-null   float64\n",
      " 16  rating_dist                2089 non-null   object \n",
      " 17  ratings_count              2089 non-null   int64  \n",
      " 18  text_reviews_count         2089 non-null   int64  \n",
      " 19  publication_date           2089 non-null   object \n",
      " 20  original_publication_date  2089 non-null   object \n",
      " 21  format                     2089 non-null   object \n",
      " 22  edition_information        2089 non-null   object \n",
      " 23  image_url                  2089 non-null   object \n",
      " 24  publisher                  2089 non-null   object \n",
      " 25  num_pages                  2010 non-null   float64\n",
      " 26  series_id                  2089 non-null   object \n",
      " 27  series_name                2089 non-null   object \n",
      " 28  series_position            2089 non-null   object \n",
      " 29  shelves                    2089 non-null   object \n",
      " 30  description                2089 non-null   object \n",
      " 31  proportion_4_or_higher     2089 non-null   float64\n",
      "dtypes: float64(3), int64(6), object(23)\n",
      "memory usage: 522.4+ KB\n"
     ]
    }
   ],
   "source": [
    "in_the_worst = pd.merge(worst_books_df, df_books, left_on='book_id', right_on='id', how='inner')\n",
    "in_the_worst.info()"
   ]
  },
  {
   "cell_type": "code",
   "execution_count": 160,
   "id": "888c5108-a6a2-4ad3-8f26-ae41c4b06a9e",
   "metadata": {
    "tags": []
   },
   "outputs": [
    {
     "name": "stdout",
     "output_type": "stream",
     "text": [
      "They are not independent\n"
     ]
    }
   ],
   "source": [
    "prob_x = len(in_the_worst) / len(df_books)\n",
    "prob_y = len(more_than_700) / len(df_books)\n",
    "\n",
    "if (prob_x * prob_y == prob_x_and_y):\n",
    "    print(\"They are independent\")\n",
    "else:\n",
    "    print(\"They are not independent\")"
   ]
  },
  {
   "cell_type": "markdown",
   "id": "55ae5af4-6ca8-452e-9be2-afd879bdc541",
   "metadata": {},
   "source": [
    "The analysis suggests a connection between a book's inclusion in the \"Worst Books of All Time\" list and the book having more than 700 pages. This relationship indicates that a book's length exceeding 700 pages might influence its likelihood of being regarded as one of the worst books."
   ]
  },
  {
   "cell_type": "markdown",
   "id": "ce197c30",
   "metadata": {},
   "source": [
    "#  8 - [RQ8]"
   ]
  },
  {
   "cell_type": "code",
   "execution_count": 2,
   "id": "552ab4b6",
   "metadata": {},
   "outputs": [],
   "source": [
    "data = []\n",
    "\n",
    "colonne_interessate =  ['id', 'language', 'average_rating','ratings_count','num_pages','author_id']\n",
    "\n",
    "with open('lighter_books.json', 'r') as file:\n",
    "    for line in file:\n",
    "        line = line.strip()\n",
    "        \n",
    "        if line:\n",
    "            try:\n",
    "                json_data = json.loads(line)\n",
    "                \n",
    "                data_row = {colonna: json_data.get(colonna) for colonna in colonne_interessate}\n",
    "                \n",
    "                data.append(data_row)\n",
    "            except json.JSONDecodeError as e:\n",
    "                print(f\"Errore di decodifica JSON: {e}\")\n",
    "\n",
    "df = pd.DataFrame(data)"
   ]
  },
  {
   "cell_type": "code",
   "execution_count": 3,
   "id": "37df8576",
   "metadata": {},
   "outputs": [
    {
     "name": "stdout",
     "output_type": "stream",
     "text": [
      "<class 'pandas.core.frame.DataFrame'>\n",
      "RangeIndex: 7027431 entries, 0 to 7027430\n",
      "Data columns (total 6 columns):\n",
      " #   Column          Dtype  \n",
      "---  ------          -----  \n",
      " 0   id              int64  \n",
      " 1   language        object \n",
      " 2   average_rating  float64\n",
      " 3   ratings_count   int64  \n",
      " 4   num_pages       object \n",
      " 5   author_id       int64  \n",
      "dtypes: float64(1), int64(3), object(2)\n",
      "memory usage: 321.7+ MB\n"
     ]
    }
   ],
   "source": [
    "df.info()"
   ]
  },
  {
   "cell_type": "markdown",
   "id": "e473977c",
   "metadata": {},
   "source": [
    "## 8.1"
   ]
  },
  {
   "cell_type": "markdown",
   "id": "336837f7",
   "metadata": {},
   "source": [
    "## Can you demonstrate that readers usually rate the longest books as the worst?\n"
   ]
  },
  {
   "cell_type": "markdown",
   "id": "1150e841",
   "metadata": {},
   "source": [
    "* ###  We start by ordering the dataset decreasingly by the average rating and we remove the null values"
   ]
  },
  {
   "cell_type": "code",
   "execution_count": 4,
   "id": "72dc1466",
   "metadata": {},
   "outputs": [],
   "source": [
    "df_by_rating = df.sort_values(by='average_rating', ascending=False)"
   ]
  },
  {
   "cell_type": "code",
   "execution_count": 5,
   "id": "02f70fea",
   "metadata": {},
   "outputs": [],
   "source": [
    "df_by_rating = df_by_rating.replace('', np.nan)"
   ]
  },
  {
   "cell_type": "code",
   "execution_count": 6,
   "id": "b7f459d2",
   "metadata": {},
   "outputs": [],
   "source": [
    "df_by_rating = df_by_rating.dropna(subset=['num_pages', 'average_rating'])"
   ]
  },
  {
   "cell_type": "markdown",
   "id": "97a41f20",
   "metadata": {},
   "source": [
    "* ### we see if we can find negative correlation between the two variables"
   ]
  },
  {
   "cell_type": "code",
   "execution_count": 7,
   "id": "c3233bb0",
   "metadata": {},
   "outputs": [
    {
     "data": {
      "text/plain": [
       "0.00033796874316387523"
      ]
     },
     "execution_count": 7,
     "metadata": {},
     "output_type": "execute_result"
    }
   ],
   "source": [
    "correlation = df_by_rating['average_rating'].corr(df_by_rating['num_pages'])\n",
    "correlation"
   ]
  },
  {
   "cell_type": "code",
   "execution_count": 8,
   "id": "6a697f43",
   "metadata": {},
   "outputs": [],
   "source": [
    "# statistic test to evaluate the correlation\n",
    "\n",
    "correlation, p_value = pearsonr(df_by_rating['average_rating'], df_by_rating['num_pages'])\n"
   ]
  },
  {
   "cell_type": "code",
   "execution_count": 9,
   "id": "ecbda6e6",
   "metadata": {},
   "outputs": [
    {
     "data": {
      "text/plain": [
       "(0.0003379687431638812, 0.5014722757179794)"
      ]
     },
     "execution_count": 9,
     "metadata": {},
     "output_type": "execute_result"
    }
   ],
   "source": [
    "correlation,p_value               #NO correlation"
   ]
  },
  {
   "cell_type": "markdown",
   "id": "85b4bbc0",
   "metadata": {},
   "source": [
    "* ### We can se no correlation between the variables"
   ]
  },
  {
   "cell_type": "markdown",
   "id": "cb1076bf",
   "metadata": {},
   "source": [
    "* ### We try now to see grafically the relation between the average rating and the number of pages"
   ]
  },
  {
   "cell_type": "code",
   "execution_count": 10,
   "id": "5b4bdf65",
   "metadata": {},
   "outputs": [
    {
     "data": {
      "image/png": "[encoded data removed]",
      "text/plain": [
       "<Figure size 432x288 with 1 Axes>"
      ]
     },
     "metadata": {
      "needs_background": "light"
     },
     "output_type": "display_data"
    }
   ],
   "source": [
    "\n",
    "x = df_by_rating['average_rating']\n",
    "y = df_by_rating['num_pages']\n",
    "\n",
    "\n",
    "slope, intercept = np.polyfit(x, y, 1)\n",
    "\n",
    "x_regression = np.array([min(x), max(x)])\n",
    "\n",
    "y_regression = slope * x_regression + intercept\n",
    "\n",
    "plt.scatter(x, y, label='Data')\n",
    "\n",
    "plt.plot(x_regression, y_regression, color='red', label='regression')\n",
    "\n",
    "plt.xlabel('average_rating')\n",
    "plt.ylabel('num_pages')\n",
    "plt.legend()\n",
    "plt.ylim(0, 50000)\n",
    "plt.show()\n",
    "\n"
   ]
  },
  {
   "cell_type": "markdown",
   "id": "ed3fbf3f",
   "metadata": {},
   "source": [
    "* ### As we can see in the graph there is no evidence to say that longest books are rated the worst. In the image are pictured only the books with less than 50000 pages to make it more clear"
   ]
  },
  {
   "cell_type": "markdown",
   "id": "9a9b8889",
   "metadata": {},
   "source": [
    "* ### Now we divide our data in sections each one of increasing pages, to graphically see if the average ratings are different "
   ]
  },
  {
   "cell_type": "code",
   "execution_count": 11,
   "id": "cbc3d744",
   "metadata": {},
   "outputs": [],
   "source": [
    "# we order  the dataset by number of pages\n",
    "df_by_pages = df_by_rating.sort_values(by='num_pages', ascending=False)"
   ]
  },
  {
   "cell_type": "code",
   "execution_count": 12,
   "id": "a1705a63",
   "metadata": {},
   "outputs": [],
   "source": [
    "\n",
    "# we create groups of pages \n",
    "df_by_pages['gruppi'] = pd.cut(df_by_pages['num_pages'], [-0.001,50,100,200,300,400,500,1000,2000,5000,20000,100000,2147483647])\n",
    "\n"
   ]
  },
  {
   "cell_type": "code",
   "execution_count": 13,
   "id": "6b875548",
   "metadata": {},
   "outputs": [
    {
     "data": {
      "text/plain": [
       "gruppi\n",
       "(-0.001, 50.0]              413525\n",
       "(50.0, 100.0]               328841\n",
       "(100.0, 200.0]              927076\n",
       "(200.0, 300.0]              935097\n",
       "(300.0, 400.0]              717750\n",
       "(400.0, 500.0]              304077\n",
       "(500.0, 1000.0]             289119\n",
       "(1000.0, 2000.0]             33446\n",
       "(2000.0, 5000.0]              5818\n",
       "(5000.0, 20000.0]              779\n",
       "(20000.0, 100000.0]             53\n",
       "(100000.0, 2147483647.0]        15\n",
       "Name: average_rating, dtype: int64"
      ]
     },
     "execution_count": 13,
     "metadata": {},
     "output_type": "execute_result"
    }
   ],
   "source": [
    "df_by_pages.groupby('gruppi',observed=True)['average_rating'].count()"
   ]
  },
  {
   "cell_type": "markdown",
   "id": "38d5bfe4",
   "metadata": {},
   "source": [
    "* ### We plot our data. In the image we can see the different ratings for each group. We can observe that the values are different in every section, but we cannot say that books with more pages are rated the worst"
   ]
  },
  {
   "cell_type": "code",
   "execution_count": 14,
   "id": "3bd78b9d",
   "metadata": {},
   "outputs": [
    {
     "data": {
      "text/plain": [
       "Text(0.5, 1.0, 'Average rating for different classes of number of pages')"
      ]
     },
     "execution_count": 14,
     "metadata": {},
     "output_type": "execute_result"
    },
    {
     "data": {
      "image/png": "[encoded data removed]",
      "text/plain": [
       "<Figure size 432x288 with 1 Axes>"
      ]
     },
     "metadata": {
      "needs_background": "light"
     },
     "output_type": "display_data"
    }
   ],
   "source": [
    "plt.plot(list(df_by_pages.groupby('gruppi',observed=True)['average_rating'].mean()))\n",
    "df_by_pages.groupby('gruppi',observed=True)['average_rating'].mean().plot(kind='bar', alpha=0.5)\n",
    "plt.xlabel('groups by mumber of pages')\n",
    "plt.ylabel('average rating')\n",
    "plt.title('Average rating for different classes of number of pages')"
   ]
  },
  {
   "cell_type": "markdown",
   "id": "6567de2f",
   "metadata": {},
   "source": [
    "### We can conclude saying that no, readers usually don't rate the longest books as the worst"
   ]
  },
  {
   "cell_type": "markdown",
   "id": "ea054647",
   "metadata": {},
   "source": [
    "# 8.2"
   ]
  },
  {
   "cell_type": "markdown",
   "id": "f5459b75",
   "metadata": {},
   "source": [
    "## Compare the average rate distribution for English and non-English books with a proper statistical procedure. What can you conclude about those two groups?"
   ]
  },
  {
   "cell_type": "markdown",
   "id": "1df92bae",
   "metadata": {},
   "source": [
    "* ### We start by dropping the null values in the column 'language', then we create two datasets, one containing the books written in english and the other one with all the other languages"
   ]
  },
  {
   "cell_type": "code",
   "execution_count": 15,
   "id": "13893e59",
   "metadata": {},
   "outputs": [],
   "source": [
    "df_by_lang=df_by_rating.dropna(subset=['language'])"
   ]
  },
  {
   "cell_type": "code",
   "execution_count": 16,
   "id": "c9876f30",
   "metadata": {},
   "outputs": [],
   "source": [
    "\n",
    "condizione = (df_by_lang['language'] == 'eng') | (df_by_lang['language'] == 'en') | (df_by_lang['language'] == 'en-CA') | (df_by_lang['language'] == 'en-GB') | (df_by_lang['language'] == 'en-US') | (df_by_lang['language'] == 'enm')\n",
    "\n",
    "en_df = df_by_lang[condizione]\n",
    "\n",
    "rest_df = df_by_lang[~condizione]"
   ]
  },
  {
   "cell_type": "markdown",
   "id": "8386e26a",
   "metadata": {},
   "source": [
    "* ### We analize the distribution of the average rate in the two sub-groups, an we can see that the average rating§ of the english books is higher than the one of all the other languages"
   ]
  },
  {
   "cell_type": "code",
   "execution_count": 17,
   "id": "77747ab7",
   "metadata": {},
   "outputs": [
    {
     "data": {
      "text/plain": [
       "count    926145.000000\n",
       "mean          3.753400\n",
       "std           0.864977\n",
       "min           0.000000\n",
       "25%           3.640000\n",
       "50%           3.900000\n",
       "75%           4.130000\n",
       "max           5.000000\n",
       "Name: average_rating, dtype: float64"
      ]
     },
     "execution_count": 17,
     "metadata": {},
     "output_type": "execute_result"
    }
   ],
   "source": [
    "en_df['average_rating'].describe()"
   ]
  },
  {
   "cell_type": "code",
   "execution_count": 18,
   "id": "fbabb551",
   "metadata": {},
   "outputs": [
    {
     "data": {
      "text/plain": [
       "count    890692.000000\n",
       "mean          3.707270\n",
       "std           0.837818\n",
       "min           0.000000\n",
       "25%           3.580000\n",
       "50%           3.870000\n",
       "75%           4.100000\n",
       "max           5.000000\n",
       "Name: average_rating, dtype: float64"
      ]
     },
     "execution_count": 18,
     "metadata": {},
     "output_type": "execute_result"
    }
   ],
   "source": [
    "rest_df['average_rating'].describe()"
   ]
  },
  {
   "cell_type": "markdown",
   "id": "e8813126",
   "metadata": {},
   "source": [
    "* ### To see if this difference is tatistically relevant, we use the t test of Student, a test specifically designed to determine if there is a statistically significant difference between the means of two independently related groups."
   ]
  },
  {
   "cell_type": "code",
   "execution_count": 19,
   "id": "ef4ceb87",
   "metadata": {},
   "outputs": [
    {
     "data": {
      "text/plain": [
       "(36.49265759237476, 1.8512478445143414e-291)"
      ]
     },
     "execution_count": 19,
     "metadata": {},
     "output_type": "execute_result"
    }
   ],
   "source": [
    "stat, p_value = stats.ttest_ind(en_df['average_rating'], rest_df['average_rating'])\n",
    "stat, p_value"
   ]
  },
  {
   "cell_type": "markdown",
   "id": "680648a8",
   "metadata": {},
   "source": [
    "* ### As we can see from the results of the test, since the statistic is approximately 36.5 and the p-value is small enough, we can affirm that on average the books written in english receive a HIGHER rating"
   ]
  },
  {
   "cell_type": "markdown",
   "id": "5eb4535e",
   "metadata": {},
   "source": [
    "# 8.3"
   ]
  },
  {
   "cell_type": "markdown",
   "id": "1fef1439",
   "metadata": {},
   "source": [
    "## About the two groups in the previous question, extract helpful statistics like mode, mean, median, and quartiles, explaining their role in a box plot.\n"
   ]
  },
  {
   "cell_type": "markdown",
   "id": "318d8f05",
   "metadata": {},
   "source": [
    "* ### We start by extracting the useful statistical informations from each one of the sub groups, then we plot the two boxplots"
   ]
  },
  {
   "cell_type": "code",
   "execution_count": 20,
   "id": "3cd7e6b7",
   "metadata": {},
   "outputs": [
    {
     "data": {
      "text/plain": [
       "count    926145.000000\n",
       "mean          3.753400\n",
       "std           0.864977\n",
       "min           0.000000\n",
       "25%           3.640000\n",
       "50%           3.900000\n",
       "75%           4.130000\n",
       "max           5.000000\n",
       "Name: average_rating, dtype: float64"
      ]
     },
     "execution_count": 20,
     "metadata": {},
     "output_type": "execute_result"
    }
   ],
   "source": [
    "en_df['average_rating'].describe()"
   ]
  },
  {
   "cell_type": "code",
   "execution_count": 21,
   "id": "17acba8a",
   "metadata": {},
   "outputs": [
    {
     "data": {
      "text/plain": [
       "0    4.0\n",
       "Name: average_rating, dtype: float64"
      ]
     },
     "execution_count": 21,
     "metadata": {},
     "output_type": "execute_result"
    }
   ],
   "source": [
    "en_df['average_rating'].mode()"
   ]
  },
  {
   "cell_type": "code",
   "execution_count": 22,
   "id": "12f2213f",
   "metadata": {},
   "outputs": [
    {
     "data": {
      "text/plain": [
       "count    890692.000000\n",
       "mean          3.707270\n",
       "std           0.837818\n",
       "min           0.000000\n",
       "25%           3.580000\n",
       "50%           3.870000\n",
       "75%           4.100000\n",
       "max           5.000000\n",
       "Name: average_rating, dtype: float64"
      ]
     },
     "execution_count": 22,
     "metadata": {},
     "output_type": "execute_result"
    }
   ],
   "source": [
    "rest_df['average_rating'].describe()"
   ]
  },
  {
   "cell_type": "code",
   "execution_count": 23,
   "id": "7c9b68ba",
   "metadata": {},
   "outputs": [
    {
     "data": {
      "text/plain": [
       "0    4.0\n",
       "Name: average_rating, dtype: float64"
      ]
     },
     "execution_count": 23,
     "metadata": {},
     "output_type": "execute_result"
    }
   ],
   "source": [
    "rest_df['average_rating'].mode()"
   ]
  },
  {
   "cell_type": "markdown",
   "id": "9fdfd7e1",
   "metadata": {},
   "source": [
    "* ### We start by saying all the main statistics, so mean, quartiles and std, are higher in the english books, except foe the mode, the min and the max that are equal"
   ]
  },
  {
   "cell_type": "code",
   "execution_count": 24,
   "id": "f4f7591c",
   "metadata": {},
   "outputs": [
    {
     "data": {
      "image/png": "[encoded data removed]",
      "text/plain": [
       "<Figure size 1152x576 with 2 Axes>"
      ]
     },
     "metadata": {
      "needs_background": "light"
     },
     "output_type": "display_data"
    }
   ],
   "source": [
    "fig, ax = plt.subplots(1, 2, figsize=(16, 8))\n",
    "\n",
    "\n",
    "ax[0].boxplot(en_df['average_rating'])\n",
    "ax[0].set_title('Boxplot of english books')\n",
    "ax[0].set_ylabel('Valori')\n",
    "\n",
    "ax[1].boxplot(rest_df['average_rating'])\n",
    "ax[1].set_title('Boxplot of international books')\n",
    "ax[1].set_ylabel('')\n",
    "\n",
    "ax[0].grid(axis='y')\n",
    "ax[1].grid(axis='y')\n",
    "plt.show()\n",
    "\n"
   ]
  },
  {
   "cell_type": "markdown",
   "id": "3d03ea93",
   "metadata": {},
   "source": [
    "* ### The two boxplots are pretty similar to each other, we can see that the values are generally ligthly shifted up for the english books. We can see that in both cases there is a large number of outliers, that represent low ratings, and that the distributions are not symmetric, they are shifted towards high values. The inter-quantile range is small compared to the whole distribution in both cases"
   ]
  },
  {
   "cell_type": "markdown",
   "id": "889b147a",
   "metadata": {},
   "source": [
    "# 8.4"
   ]
  },
  {
   "cell_type": "markdown",
   "id": "81af6061",
   "metadata": {},
   "source": [
    "## It seems reasonable to assume that authors with more fans should have more reviews, but maybe their fans are a bit lazy. Confirm or reject this with a convenient statistical test or a predictive model."
   ]
  },
  {
   "cell_type": "markdown",
   "id": "c5f9452d",
   "metadata": {},
   "source": [
    "* ### Now we work on the authors dataset, so we load it and we sort it by the number of fans\n"
   ]
  },
  {
   "cell_type": "code",
   "execution_count": 25,
   "id": "e18f2b79",
   "metadata": {},
   "outputs": [],
   "source": [
    "df2 = pd.read_json('lighter_authors.json',lines=True)\n",
    "df2=df2.sort_values(by='fans_count', ascending=False)"
   ]
  },
  {
   "cell_type": "code",
   "execution_count": 26,
   "id": "702eaefd",
   "metadata": {},
   "outputs": [],
   "source": [
    "df2=df2[df2['fans_count']!=0]"
   ]
  },
  {
   "cell_type": "code",
   "execution_count": 27,
   "id": "94cfa2e4",
   "metadata": {},
   "outputs": [],
   "source": [
    "df2['average_n_reviews']=df2['text_reviews_count']/df2['fans_count']"
   ]
  },
  {
   "cell_type": "code",
   "execution_count": 28,
   "id": "e92c6983",
   "metadata": {},
   "outputs": [],
   "source": [
    "df2_by_active_fans=df2.sort_values(by='fans_count', ascending=False)"
   ]
  },
  {
   "cell_type": "code",
   "execution_count": 29,
   "id": "65326ab4",
   "metadata": {},
   "outputs": [
    {
     "data": {
      "text/plain": [
       "count    269440.000000\n",
       "mean        145.719756\n",
       "std        3039.679345\n",
       "min         -33.000000\n",
       "25%           2.000000\n",
       "50%           8.000000\n",
       "75%          32.000000\n",
       "max      766035.000000\n",
       "Name: fans_count, dtype: float64"
      ]
     },
     "execution_count": 29,
     "metadata": {},
     "output_type": "execute_result"
    }
   ],
   "source": [
    "df2_by_active_fans['fans_count'].describe()"
   ]
  },
  {
   "cell_type": "code",
   "execution_count": 30,
   "id": "3f3e81d1",
   "metadata": {},
   "outputs": [
    {
     "data": {
      "text/plain": [
       "1719.609999999986"
      ]
     },
     "execution_count": 30,
     "metadata": {},
     "output_type": "execute_result"
    }
   ],
   "source": [
    "np.percentile(df2_by_active_fans['fans_count'], 99)"
   ]
  },
  {
   "cell_type": "markdown",
   "id": "fa5cc6b6",
   "metadata": {},
   "source": [
    "* ### We created a new dataset based on the number of fans, and we created the variable 'average_n_reviews', that shows how many reviews on average a fan of a writer makes. We notice that 99% of the authors has less than 1719 fans. \n",
    "* ### Based on this information, we run a t student test on two subgroups of the dataset, based on the number of fans; in the first case we will consider 'famous' the authors with more than 1000 fans, in the second the ones with more than 3000"
   ]
  },
  {
   "cell_type": "code",
   "execution_count": 31,
   "id": "122467da",
   "metadata": {},
   "outputs": [],
   "source": [
    "famous_df=df2_by_active_fans[df2_by_active_fans['fans_count']>1000]"
   ]
  },
  {
   "cell_type": "code",
   "execution_count": 32,
   "id": "0320efb2",
   "metadata": {},
   "outputs": [],
   "source": [
    "not_famous=df2_by_active_fans[df2_by_active_fans['fans_count']<=1000]"
   ]
  },
  {
   "cell_type": "code",
   "execution_count": 33,
   "id": "e721314f",
   "metadata": {},
   "outputs": [
    {
     "data": {
      "text/plain": [
       "6.353238147580907"
      ]
     },
     "execution_count": 33,
     "metadata": {},
     "output_type": "execute_result"
    }
   ],
   "source": [
    "df2_by_active_fans['average_n_reviews'].mean()"
   ]
  },
  {
   "cell_type": "code",
   "execution_count": 34,
   "id": "f599c91e",
   "metadata": {},
   "outputs": [
    {
     "data": {
      "text/plain": [
       "3.480560352197373"
      ]
     },
     "execution_count": 34,
     "metadata": {},
     "output_type": "execute_result"
    }
   ],
   "source": [
    "famous_df['average_n_reviews'].mean()"
   ]
  },
  {
   "cell_type": "code",
   "execution_count": 35,
   "id": "8238749c",
   "metadata": {},
   "outputs": [
    {
     "data": {
      "text/plain": [
       "6.403630293805559"
      ]
     },
     "execution_count": 35,
     "metadata": {},
     "output_type": "execute_result"
    }
   ],
   "source": [
    "not_famous['average_n_reviews'].mean()"
   ]
  },
  {
   "cell_type": "markdown",
   "id": "8faa6d72",
   "metadata": {},
   "source": [
    "* ### We see that the group of famous writers has less 'active fans'. Let's see if it is statistically significative"
   ]
  },
  {
   "cell_type": "code",
   "execution_count": 36,
   "id": "50de3338",
   "metadata": {},
   "outputs": [
    {
     "data": {
      "text/plain": [
       "(-5.641568349684449, 1.686764001970476e-08)"
      ]
     },
     "execution_count": 36,
     "metadata": {},
     "output_type": "execute_result"
    }
   ],
   "source": [
    "stat, p_value = stats.ttest_ind(famous_df['average_n_reviews'], not_famous['average_n_reviews'])\n",
    "stat, p_value"
   ]
  },
  {
   "cell_type": "markdown",
   "id": "03ef48a6",
   "metadata": {},
   "source": [
    "* ### We run now the experiment on even more famous writers:"
   ]
  },
  {
   "cell_type": "code",
   "execution_count": 37,
   "id": "05344219",
   "metadata": {},
   "outputs": [],
   "source": [
    "famous_df=df2_by_active_fans[df2_by_active_fans['fans_count']>3000]"
   ]
  },
  {
   "cell_type": "code",
   "execution_count": 38,
   "id": "a02dacc8",
   "metadata": {},
   "outputs": [],
   "source": [
    "not_famous=df2_by_active_fans[df2_by_active_fans['fans_count']<=3000]"
   ]
  },
  {
   "cell_type": "code",
   "execution_count": 39,
   "id": "70902bd1",
   "metadata": {},
   "outputs": [
    {
     "data": {
      "text/plain": [
       "3.1856676297297843"
      ]
     },
     "execution_count": 39,
     "metadata": {},
     "output_type": "execute_result"
    }
   ],
   "source": [
    "famous_df['average_n_reviews'].mean()"
   ]
  },
  {
   "cell_type": "code",
   "execution_count": 40,
   "id": "b9b12b8b",
   "metadata": {},
   "outputs": [
    {
     "data": {
      "text/plain": [
       "6.371886705637269"
      ]
     },
     "execution_count": 40,
     "metadata": {},
     "output_type": "execute_result"
    }
   ],
   "source": [
    "not_famous['average_n_reviews'].mean()"
   ]
  },
  {
   "cell_type": "code",
   "execution_count": 41,
   "id": "0f01063b",
   "metadata": {},
   "outputs": [
    {
     "data": {
      "text/plain": [
       "(-3.6036745202196068, 0.00031380639449895013)"
      ]
     },
     "execution_count": 41,
     "metadata": {},
     "output_type": "execute_result"
    }
   ],
   "source": [
    "stat, p_value = stats.ttest_ind(famous_df['average_n_reviews'], not_famous['average_n_reviews'])\n",
    "stat, p_value"
   ]
  },
  {
   "cell_type": "markdown",
   "id": "b7ccfe26",
   "metadata": {},
   "source": [
    "* ### Conclusion: in both tests we can see that on average the authors with less fans receive more reviews for fan than famous authors, and the more the fans increase, the more this happens. This difference is statistically relevant so we can say that yes, the fans of the famous authors are on average 'lazier'."
   ]
  },
  {
   "cell_type": "markdown",
   "id": "a9766639",
   "metadata": {},
   "source": [
    "# 8.5"
   ]
  },
  {
   "cell_type": "markdown",
   "id": "29895bd1",
   "metadata": {},
   "source": [
    "## Provide a short survey about helpful statistical tests in data analysis and mining: focus on hypothesis design and the difference between parametric and nonparametric tests, explaining the reasons behind the choice of one of these two tests."
   ]
  },
  {
   "cell_type": "markdown",
   "id": "a8847837",
   "metadata": {},
   "source": [
    "### In data analysis and data mining tests are used to test hypotesys and take decisions. Test are divided in Parametric Tests and non-parametric tests."
   ]
  },
  {
   "cell_type": "markdown",
   "id": "d9382e94",
   "metadata": {},
   "source": [
    "* ### The assumptions for parametric tests are normality and homoscedasticity of the data distribution. They are used to compare means and  the goal is to quantify the magnitude of differences. Examples of parametric tests are:\n"
   ]
  },
  {
   "cell_type": "markdown",
   "id": "8ceea802",
   "metadata": {},
   "source": [
    "* t-test of Student, which we used in the previous exercises, used to compare the means of two independent groups.\n",
    "* Anova test, used to ompare the means of more than two groups.\n",
    "* Linear Regression, used to model and test the relationship between dependent and independent variables."
   ]
  },
  {
   "cell_type": "markdown",
   "id": "27c0e5ca",
   "metadata": {},
   "source": [
    "* ### Non-parametric tests do not rely on specific assumptions about data distribution, and they are appropriate If data is non-normally distributed or for non-continuous data. They are used when you want to test for the existence of differences, but not the magnitude of it.  Examples of non-parametric tests are:"
   ]
  },
  {
   "cell_type": "markdown",
   "id": "9c3a5a49",
   "metadata": {},
   "source": [
    "* Chi-Square Test, Used for testing the association between categorical variables.\n",
    "* Kendall's Tau test and Spearman rank correlation test, used to evaluate the bon parametric correlation between two ordinate or continuous variables.\n",
    "* Friedman test, used to look for significative differencies between more than two independent groups."
   ]
  },
  {
   "cell_type": "markdown",
   "id": "f7cecdfb",
   "metadata": {},
   "source": [
    "# BONUS POINTS"
   ]
  },
  {
   "cell_type": "markdown",
   "id": "97cb638a",
   "metadata": {},
   "source": [
    "# 1.1"
   ]
  },
  {
   "cell_type": "markdown",
   "id": "c4a7b082",
   "metadata": {},
   "source": [
    "## Select one alternative library to Pandas (i.e., Dask, Polar, Vaex, Datatable, etc.), upload authors.json dataset, and filter authors with at least 100 reviews. Do the same using Pandas and compare performance in terms of milliseconds."
   ]
  },
  {
   "cell_type": "markdown",
   "id": "c2d08b40",
   "metadata": {},
   "source": [
    "### We start by uploading and evaluate the operation of the pandas dataframe"
   ]
  },
  {
   "cell_type": "code",
   "execution_count": 2,
   "id": "b0a0914b",
   "metadata": {},
   "outputs": [],
   "source": [
    "# pandas dataframe\n",
    "pd_df = pd.read_json('lighter_authors.json', lines = True)"
   ]
  },
  {
   "cell_type": "code",
   "execution_count": 4,
   "id": "ab9167ad",
   "metadata": {},
   "outputs": [
    {
     "name": "stdout",
     "output_type": "stream",
     "text": [
      "Time: 11947.75 milliseconds\n"
     ]
    }
   ],
   "source": [
    "start_time = time.time()\n",
    "\n",
    "pd_df = pd.read_json('lighter_authors.json', lines = True)\n",
    "\n",
    "pd_ex=pd_df[pd_df['ratings_count']>=100]\n",
    "\n",
    "end_time = time.time()\n",
    "\n",
    "mils = (end_time - start_time) * 1000\n",
    "\n",
    "print(f\"Time: {mils:.2f} milliseconds\")"
   ]
  },
  {
   "cell_type": "markdown",
   "id": "38665b8f",
   "metadata": {},
   "source": [
    "### Now we evaluate only the filtering operation"
   ]
  },
  {
   "cell_type": "code",
   "execution_count": 3,
   "id": "f55bb432",
   "metadata": {},
   "outputs": [
    {
     "name": "stdout",
     "output_type": "stream",
     "text": [
      "Time: 33.28 milliseconds\n"
     ]
    }
   ],
   "source": [
    "start_time = time.time()\n",
    "\n",
    "pd_ex=pd_df[pd_df['ratings_count']>=100]\n",
    "\n",
    "end_time = time.time()\n",
    "\n",
    "mils = (end_time - start_time) * 1000\n",
    "\n",
    "print(f\"Time: {mils:.2f} milliseconds\")"
   ]
  },
  {
   "cell_type": "markdown",
   "id": "469c0405",
   "metadata": {},
   "source": [
    "### We now operate with the Vaex dataset, in the same order"
   ]
  },
  {
   "cell_type": "code",
   "execution_count": 5,
   "id": "1b5a38e4",
   "metadata": {},
   "outputs": [
    {
     "name": "stdout",
     "output_type": "stream",
     "text": [
      "Time: 10470.78 milliseconds\n"
     ]
    }
   ],
   "source": [
    "start_time = time.time()\n",
    "\n",
    "file_path = 'lighter_authors.json'\n",
    "\n",
    "vaex_df = vaex.from_json(file_path, lines = True)\n",
    "\n",
    "vaex_df_ex=vaex_df[vaex_df['ratings_count'] >= 100]\n",
    "\n",
    "end_time = time.time()\n",
    "\n",
    "mils = (end_time - start_time) * 1000\n",
    "\n",
    "print(f\"Time: {mils:.2f} milliseconds\")"
   ]
  },
  {
   "cell_type": "code",
   "execution_count": 6,
   "id": "a1655919",
   "metadata": {},
   "outputs": [
    {
     "name": "stdout",
     "output_type": "stream",
     "text": [
      "Time: 0.00 milliseconds\n"
     ]
    }
   ],
   "source": [
    "start_time = time.time()\n",
    "\n",
    "vaex_df_ex=vaex_df[vaex_df['ratings_count'] >= 100]\n",
    "\n",
    "end_time = time.time()\n",
    "\n",
    "mils = (end_time - start_time) * 1000\n",
    "\n",
    "print(f\"Time: {mils:.2f} milliseconds\")"
   ]
  },
  {
   "cell_type": "markdown",
   "id": "ec854291",
   "metadata": {},
   "source": [
    "### As we can see, the Vaex library is faster than Pandas both in uploading the dataframe and in filtering operations"
   ]
  },
  {
   "cell_type": "markdown",
   "id": "6079cca6",
   "metadata": {},
   "source": [
    "# 1.2"
   ]
  },
  {
   "cell_type": "markdown",
   "id": "b5188e6f",
   "metadata": {},
   "source": [
    "## Select one alternative library to Pandas (i.e., Dask, Polar, Vaex, Datatable, etc.), upload books.json, and join them with authors.json based on author_id. How many books don’t have a match for the author?"
   ]
  },
  {
   "cell_type": "code",
   "execution_count": 7,
   "id": "e7f5a59b",
   "metadata": {},
   "outputs": [],
   "source": [
    "import pandas as pd\n",
    "import json\n",
    "\n",
    "\n",
    "\n",
    "# Inizializza una lista vuota per contenere i dati delle colonne desiderate\n",
    "data = []\n",
    "\n",
    "# Specifica le colonne di interesse\n",
    "colonne_interessate =  ['id', 'language', 'average_rating','ratings_count','num_pages','author_id']\n",
    "\n",
    "# Apri il file JSON in modalità lettura\n",
    "with open('lighter_books.json', 'r') as file:\n",
    "    for line in file:\n",
    "        # Rimuovi spazi bianchi e a capo\n",
    "        line = line.strip()\n",
    "        \n",
    "        # Verifica se la riga contiene dati JSON prima di tentare la decodifica\n",
    "        if line:\n",
    "            try:\n",
    "                json_data = json.loads(line)\n",
    "                \n",
    "                # Estrai solo le colonne di interesse\n",
    "                data_row = {colonna: json_data.get(colonna) for colonna in colonne_interessate}\n",
    "                \n",
    "                data.append(data_row)\n",
    "            except json.JSONDecodeError as e:\n",
    "                print(f\"Errore di decodifica JSON: {e}\")\n",
    "\n",
    "# Crea un DataFrame da data\n",
    "df = pd.DataFrame(data)\n"
   ]
  },
  {
   "cell_type": "code",
   "execution_count": 8,
   "id": "03a404c8",
   "metadata": {},
   "outputs": [
    {
     "data": {
      "text/html": [
       "<div>\n",
       "<style scoped>\n",
       "    .dataframe tbody tr th:only-of-type {\n",
       "        vertical-align: middle;\n",
       "    }\n",
       "\n",
       "    .dataframe tbody tr th {\n",
       "        vertical-align: top;\n",
       "    }\n",
       "\n",
       "    .dataframe thead th {\n",
       "        text-align: right;\n",
       "    }\n",
       "</style>\n",
       "<table border=\"1\" class=\"dataframe\">\n",
       "  <thead>\n",
       "    <tr style=\"text-align: right;\">\n",
       "      <th></th>\n",
       "      <th>id</th>\n",
       "      <th>language</th>\n",
       "      <th>average_rating</th>\n",
       "      <th>ratings_count</th>\n",
       "      <th>num_pages</th>\n",
       "      <th>author_id</th>\n",
       "    </tr>\n",
       "  </thead>\n",
       "  <tbody>\n",
       "    <tr>\n",
       "      <th>0</th>\n",
       "      <td>2</td>\n",
       "      <td>eng</td>\n",
       "      <td>4.50</td>\n",
       "      <td>2628006</td>\n",
       "      <td>870</td>\n",
       "      <td>1077326</td>\n",
       "    </tr>\n",
       "    <tr>\n",
       "      <th>1</th>\n",
       "      <td>3</td>\n",
       "      <td>eng</td>\n",
       "      <td>4.48</td>\n",
       "      <td>7377351</td>\n",
       "      <td>309</td>\n",
       "      <td>1077326</td>\n",
       "    </tr>\n",
       "  </tbody>\n",
       "</table>\n",
       "</div>"
      ],
      "text/plain": [
       "   id language  average_rating  ratings_count num_pages  author_id\n",
       "0   2      eng            4.50        2628006       870    1077326\n",
       "1   3      eng            4.48        7377351       309    1077326"
      ]
     },
     "execution_count": 8,
     "metadata": {},
     "output_type": "execute_result"
    }
   ],
   "source": [
    "df.head(2)"
   ]
  },
  {
   "cell_type": "code",
   "execution_count": 9,
   "id": "feb334f3",
   "metadata": {},
   "outputs": [
    {
     "data": {
      "text/html": [
       "<table>\n",
       "<thead>\n",
       "<tr><th>#                            </th><th style=\"text-align: right;\">  ratings_count</th><th style=\"text-align: right;\">  average_rating</th><th style=\"text-align: right;\">  text_reviews_count</th><th>work_ids                                           </th><th>book_ids                                           </th><th style=\"text-align: right;\">  works_count</th><th style=\"text-align: right;\">  id</th><th>name         </th><th>gender  </th><th>image_url                                          </th><th>about                                              </th><th style=\"text-align: right;\">  fans_count</th></tr>\n",
       "</thead>\n",
       "<tbody>\n",
       "<tr><td><i style='opacity: 0.6'>0</i></td><td style=\"text-align: right;\">        2862064</td><td style=\"text-align: right;\">            4.19</td><td style=\"text-align: right;\">               62681</td><td>&quot;[&#x27;3078186&#x27;, &#x27;135328&#x27;, &#x27;1877624&#x27;, &#x27;74123&#x27;, &#x27;3078...</td><td>&quot;[&#x27;386162&#x27;, &#x27;13&#x27;, &#x27;8695&#x27;, &#x27;8694&#x27;, &#x27;6091075&#x27;, &#x27;36...</td><td style=\"text-align: right;\">          106</td><td style=\"text-align: right;\">   4</td><td>Douglas Adams</td><td>male    </td><td>&#x27;https://images.gr-assets.com/authors/1591374335...</td><td>&#x27;Douglas Noël Adams was an English author, comic...</td><td style=\"text-align: right;\">       19826</td></tr>\n",
       "<tr><td><i style='opacity: 0.6'>1</i></td><td style=\"text-align: right;\">        1417316</td><td style=\"text-align: right;\">            4.02</td><td style=\"text-align: right;\">               84176</td><td>&quot;[&#x27;613469&#x27;, &#x27;2305997&#x27;, &#x27;940892&#x27;, &#x27;2611786&#x27;, &#x27;780...</td><td>&quot;[&#x27;9791&#x27;, &#x27;21&#x27;, &#x27;28&#x27;, &#x27;24&#x27;, &#x27;7507825&#x27;, &#x27;27&#x27;, &#x27;10...</td><td style=\"text-align: right;\">           75</td><td style=\"text-align: right;\">   7</td><td>Bill Bryson  </td><td>male    </td><td>&#x27;https://images.gr-assets.com/authors/1578597522...</td><td>&#x27;William McGuire &quot;Bill&quot; Bryson, OBE, FRS was bor...</td><td style=\"text-align: right;\">       16144</td></tr>\n",
       "</tbody>\n",
       "</table>"
      ],
      "text/plain": [
       "  #    ratings_count    average_rating    text_reviews_count  work_ids                                             book_ids                                               works_count    id  name           gender    image_url                                            about                                                  fans_count\n",
       "  0          2862064              4.19                 62681  \"['3078186', '135328', '1877624', '74123', '3078...  \"['386162', '13', '8695', '8694', '6091075', '36...            106     4  Douglas Adams  male      'https://images.gr-assets.com/authors/1591374335...  'Douglas Noël Adams was an English author, comic...         19826\n",
       "  1          1417316              4.02                 84176  \"['613469', '2305997', '940892', '2611786', '780...  \"['9791', '21', '28', '24', '7507825', '27', '10...             75     7  Bill Bryson    male      'https://images.gr-assets.com/authors/1578597522...  'William McGuire \"Bill\" Bryson, OBE, FRS was bor...         16144"
      ]
     },
     "execution_count": 9,
     "metadata": {},
     "output_type": "execute_result"
    }
   ],
   "source": [
    "vaex_df.head(2)"
   ]
  },
  {
   "cell_type": "code",
   "execution_count": 10,
   "id": "ca8ad1da",
   "metadata": {},
   "outputs": [],
   "source": [
    "books_vaex = vaex.from_pandas(pd.DataFrame(df))"
   ]
  },
  {
   "cell_type": "code",
   "execution_count": 11,
   "id": "dc67e371",
   "metadata": {},
   "outputs": [
    {
     "data": {
      "text/plain": [
       "7027431"
      ]
     },
     "execution_count": 11,
     "metadata": {},
     "output_type": "execute_result"
    }
   ],
   "source": [
    "len(books_vaex)"
   ]
  },
  {
   "cell_type": "code",
   "execution_count": 12,
   "id": "dbca8ad9",
   "metadata": {},
   "outputs": [],
   "source": [
    "df_join = books_vaex.join(vaex_df, left_on='author_id', right_on='id', how='inner', lprefix='book_')\n"
   ]
  },
  {
   "cell_type": "code",
   "execution_count": 13,
   "id": "234ea7ae",
   "metadata": {},
   "outputs": [
    {
     "data": {
      "text/plain": [
       "7027431"
      ]
     },
     "execution_count": 13,
     "metadata": {},
     "output_type": "execute_result"
    }
   ],
   "source": [
    "df_join.length()"
   ]
  },
  {
   "cell_type": "markdown",
   "metadata": {},
   "source": [
    "* ### all books have a match"
   ]
  },
  {
   "cell_type": "markdown",
   "id": "8a3c596f",
   "metadata": {},
   "source": [
    "# 2"
   ]
  },
  {
   "cell_type": "markdown",
   "id": "441a04ac",
   "metadata": {},
   "source": [
    "## Every book should have a field named description, and any author should have a field named description. Choose one of the two and perform a text-mining analysis:\n",
    "\n",
    "* ### If you choose to text-mine books.json ’ descriptions, try to find a way to group books in genres using whatever procedure you want, highlighting words that are triggers for these choices.\n",
    "\n",
    "* ### If you choose to text-mine authors.json’ about-field, try to find a way to group authors in genres using whatever procedure you want, highlighting words that are triggers for these choices.\n",
    "\n",
    "* ### If you feel comfortable and did both tasks, analyze the matching of the two procedures. You grouped books and authors in genres. Do these two procedures show correspondence?"
   ]
  },
  {
   "cell_type": "code",
   "execution_count": 15,
   "id": "64f65269",
   "metadata": {},
   "outputs": [],
   "source": [
    "from gensim import corpora, models\n",
    "import re\n",
    "from bs4 import BeautifulSoup\n",
    "import nltk\n",
    "from nltk.corpus import stopwords\n",
    "from nltk.tokenize import word_tokenize"
   ]
  },
  {
   "cell_type": "markdown",
   "id": "28e3f3d0",
   "metadata": {},
   "source": [
    "* ### We decide to try to analyze the descriptions of the authors; \n",
    "* The following part of the code regards the cleaning, tokenization and removal of stop words of the descriptions"
   ]
  },
  {
   "cell_type": "code",
   "execution_count": 16,
   "id": "9328a01d",
   "metadata": {},
   "outputs": [
    {
     "name": "stderr",
     "output_type": "stream",
     "text": [
      "C:\\Users\\lappo\\anaconda3\\lib\\site-packages\\bs4\\__init__.py:435: MarkupResemblesLocatorWarning: The input looks more like a filename than markup. You may want to open this file and pass the filehandle into Beautiful Soup.\n",
      "  warnings.warn(\n"
     ]
    },
    {
     "data": {
      "text/plain": [
       "'delia sherman born a fantasy writer editor her novel porcelain dove won mythopoeic fantasy award she born tokyo brought up new york city she earned a phd renaissance studies at brown university taught at boston north eastern universities she novels through a brazen mirror porcelain dove a mythopoeic award winner changeling sherman co founded interstitial arts foundation dedicated promoting art that crosses genre borders she lives new york city her wife sometime collaborator ellen kushner'"
      ]
     },
     "execution_count": 16,
     "metadata": {},
     "output_type": "execute_result"
    }
   ],
   "source": [
    "clean=[]   # we create an empty list that will contain the cleaned descriptions of the authors\n",
    "for description in pd_df['about']:\n",
    "    soup = BeautifulSoup(description, 'html.parser')\n",
    "    cleaned_description = soup.get_text()\n",
    "    \n",
    "    #cleaning\n",
    "    cleaned_description = re.sub(r'[^A-Za-z*\"]+', ' ', cleaned_description)\n",
    "    cleaned_description = re.sub(r'\\b\\d+\\b', ' ', cleaned_description)\n",
    "    cleaned_description = cleaned_description.lower()\n",
    "    cleaned_description = cleaned_description.replace('*', ' ')\n",
    "    cleaned_description = cleaned_description.replace('\"', ' ')\n",
    "\n",
    "    # tokenization\n",
    "    tokens = nltk.word_tokenize(cleaned_description)\n",
    "\n",
    "    # removal of stopwords\n",
    "    stop_words = set([\"and\", \"the\", \"in\", \"of\", \"an\", \"is\", \"as\", \"to\", \"he\", \"was\", \"by\", \"with\", \"this\",'librarian','database','note','goodreads','author','name','mupltiple','there', 'are','more','than','one'])\n",
    "    tokens = [word for word in tokens if word not in stop_words]\n",
    "    \n",
    "    # adding to the list of descriptions\n",
    "    cleaned_description = \" \".join(tokens)\n",
    "    clean.append(cleaned_description)\n",
    "clean[10] "
   ]
  },
  {
   "cell_type": "markdown",
   "id": "cea963a7",
   "metadata": {},
   "source": [
    "* ### We create a new column of the datset containg the cleaned descriptions:"
   ]
  },
  {
   "cell_type": "code",
   "execution_count": 21,
   "id": "55f02b2f",
   "metadata": {},
   "outputs": [],
   "source": [
    "pd_df['clean'] = clean"
   ]
  },
  {
   "cell_type": "code",
   "execution_count": 22,
   "id": "77e60763",
   "metadata": {},
   "outputs": [
    {
     "data": {
      "text/plain": [
       "0         douglas no l adams english comic radio dramati...\n",
       "1         william mcguire bill bryson obe frs born des m...\n",
       "2         jude fisher pseudonym for jane johnson who pub...\n",
       "3         james hamilton paterson s work has been transl...\n",
       "4         mark andrew watson born february english stand...\n",
       "                                ...                        \n",
       "351762    lyon gamernickname sotto cui si nasconde ettor...\n",
       "351763           brian born lived a little has not yet died\n",
       "351764    nicholas baer visiting assistant professor cin...\n",
       "351765    james ross a physician winemaker artist chef n...\n",
       "351766                   founder kiss girl clothing company\n",
       "Name: clean, Length: 351767, dtype: object"
      ]
     },
     "execution_count": 22,
     "metadata": {},
     "output_type": "execute_result"
    }
   ],
   "source": [
    "pd_df['clean']"
   ]
  },
  {
   "cell_type": "markdown",
   "id": "c217e8ca",
   "metadata": {},
   "source": [
    "* ### We arbitrary define 5 literary genres. We know there are many more, but we start with these as an experiment (for the generation of the key words of the genres it was used a generative language mode, ChatGPT, with some of them added by hand)"
   ]
  },
  {
   "cell_type": "code",
   "execution_count": 23,
   "id": "a02d2718",
   "metadata": {},
   "outputs": [],
   "source": [
    "genres = {\n",
    "    \"Adventure\": [\"exploration\", \"sea\", \"boat\", \"ship\", \"discovery\", \"journey\", \"danger\", \"courage\", \"treasure\", \"pirates\", \"shipwreck\",\"explorer\"],\n",
    "    \"Thriller\": [\"suspense\", \"death\", \"mystery\", \"police\", \"detective\", \"intense\", \"tension\", \"cliffhanger\", \"pacing\", \"twist\"],\n",
    "    \"Comedy\": [\"sketch\", \"laugh\", \"happiness\", \"humor\", \"fun\", \"happy\", \"funny\", \"laughter\", \"comical\", \"wit\", \"satire\", \"absurdity\"\"irony\", \"punchline\", \"parody\"],\n",
    "    \"Poetry\": [\"verse\", \"rhyme\", \"metaphor\", \"stanzas\", \"poet\", \"lyric\", \"rhythmic\", \"expression\", \"imagery\", \"language\", \"emotions\", \"beauty\", \"sonnet\", \"haiku\", \"ode\", \"literary\", \"prose\", \"poetic\", \"elegy\", \"verse form\", \"musicality\", \"lyrical\"],\n",
    "    \"Instruction\": ['school',\"guide\", \"teach\", \"learn\", \"knowledge\", \"manual\", \"tutorial\", \"educational\", \"informative\", \"how-to\", \"step-by-step\", \"instructive\", \"tips\", \"training\", \"skills\", \"expertise\", \"inform\", \"educate\", \"lesson\", \"directions\", \"knowledge sharing\", \"tutorial\"],\n",
    "    \"Romance\": [\"love\", \"passion\", \"relationships\", \"heartfelt\", \"romantic tension\", \"emotional connection\", \"soulmates\", \"bittersweet\", \"love story\", \"chemistry\", \"embrace\", \"heartwarming\", \"courtship\", \"affection\", \"intimacy\", \"lovers\", \"love interest\", \"heartfelt emotions\"]\n",
    "    \n",
    "}"
   ]
  },
  {
   "cell_type": "markdown",
   "metadata": {},
   "source": [
    "* ### We create a dictionary that counts the genres, initialized to 0. Then we iterate over every line in the dataset, we check if any of the keywords of each genre is in the text od the description, and for each one of them we add 1 to the counter of genres for description. \n",
    "* ### At the end, for each description, we count which of the genres has the higher count and we add that genre in a new column of the dataset next to the description."
   ]
  },
  {
   "cell_type": "code",
   "execution_count": 24,
   "id": "6312f9bc",
   "metadata": {},
   "outputs": [],
   "source": [
    "\n",
    "# Initialize a dictionary to keep track of genre counts for each description\n",
    "genre_counts = {genre: 0 for genre in genres}\n",
    "\n",
    "# Assign the genre to each description based on key word matches\n",
    "for index, row in pd_df.iterrows():\n",
    "    description = row['clean'].lower()\n",
    "    for genre, keywords in genres.items():\n",
    "        for keyword in keywords:\n",
    "            if keyword in description:\n",
    "                genre_counts[genre] += 1\n",
    "\n",
    "    # Find the genre with the highest count\n",
    "    assigned_genre = max(genre_counts, key=lambda k: genre_counts[k])\n",
    "    pd_df.at[index, 'assigned_genre'] = assigned_genre"
   ]
  },
  {
   "cell_type": "code",
   "execution_count": 32,
   "metadata": {},
   "outputs": [
    {
     "data": {
      "text/plain": [
       "0    Adventure\n",
       "1    Adventure\n",
       "2    Adventure\n",
       "3       Poetry\n",
       "4       Poetry\n",
       "5       Poetry\n",
       "6       Poetry\n",
       "7       Poetry\n",
       "8       Poetry\n",
       "9       Poetry\n",
       "Name: assigned_genre, dtype: object"
      ]
     },
     "execution_count": 32,
     "metadata": {},
     "output_type": "execute_result"
    }
   ],
   "source": [
    "pd_df['assigned_genre'].head(10)"
   ]
  },
  {
   "cell_type": "code",
   "execution_count": 25,
   "id": "04cfd588",
   "metadata": {},
   "outputs": [
    {
     "data": {
      "text/plain": [
       "assigned_genre\n",
       "Adventure          64\n",
       "Instruction    351479\n",
       "Poetry            224\n",
       "Name: assigned_genre, dtype: int64"
      ]
     },
     "execution_count": 25,
     "metadata": {},
     "output_type": "execute_result"
    }
   ],
   "source": [
    "pd_df.groupby('assigned_genre',observed=True)['assigned_genre'].count()"
   ]
  },
  {
   "cell_type": "markdown",
   "metadata": {},
   "source": [
    "* ### As we can see from the results we were able to assign a genre to each author, but the results are not convincing. We tried to change the key words of the generes but a few words can change complitely the results. Probablly it should be made a training of a model that learns how to distinguish the descriptions based on pre-assigned genres, but we do not dispose them."
   ]
  },
  {
   "cell_type": "markdown",
   "metadata": {},
   "source": [
    "# Algorithmic Question (AQ)"
   ]
  },
  {
   "cell_type": "code",
   "execution_count": null,
   "metadata": {},
   "outputs": [],
   "source": [
    "import cProfile      #for understanding the time complexity of the algorithm"
   ]
  },
  {
   "cell_type": "code",
   "execution_count": null,
   "metadata": {},
   "outputs": [],
   "source": [
    "\n",
    "def pop_up_algorithm():\n",
    "    \n",
    "\n",
    "        n = int(input())  \n",
    "        total_dict=dict()\n",
    "        left_index=-1\n",
    "        right_index=0\n",
    "        for _ in range(n):\n",
    "            aw=input().split()\n",
    "            if aw[0] == 'L':               # if user input L\n",
    "                total_dict[aw[1]]=left_index\n",
    "                left_index-=1\n",
    "            if aw[0] == 'R':              # if user input R\n",
    "                total_dict[aw[1]]=right_index\n",
    "                right_index+=1\n",
    "            if aw[0] == '?':            #find minimum pop up from left or right to reach number\n",
    "                print(min(right_index-total_dict[aw[1]]-1,total_dict[aw[1]]-left_index-1))\n",
    "\n",
    "\n",
    "\n",
    "\n"
   ]
  },
  {
   "cell_type": "code",
   "execution_count": 18,
   "metadata": {
    "scrolled": true
   },
   "outputs": [
    {
     "name": "stdout",
     "output_type": "stream",
     "text": [
      "         2547875 function calls (2547873 primitive calls) in 8367.601 seconds\n",
      "\n",
      "   Ordered by: standard name\n",
      "\n",
      "   ncalls  tottime  percall  cumtime  percall filename:lineno(function)\n",
      "        2    0.000    0.000    0.000    0.000 <frozen importlib._bootstrap>:1017(_handle_fromlist)\n",
      "        1    0.000    0.000 8367.600 8367.600 <ipython-input-12-e08887cc43cf>:1(pop_up_algorithm)\n",
      "        1    0.000    0.000 8367.600 8367.600 <string>:1(<module>)\n",
      "        4    0.000    0.000    0.000    0.000 __init__.py:183(dumps)\n",
      "        4    0.000    0.000    0.000    0.000 abc.py:96(__instancecheck__)\n",
      "        1    0.000    0.000    0.000    0.000 cp1252.py:11(encode)\n",
      "        4    0.000    0.000    0.000    0.000 encoder.py:104(__init__)\n",
      "        4    0.000    0.000    0.000    0.000 encoder.py:182(encode)\n",
      "        4    0.000    0.000    0.000    0.000 encoder.py:204(iterencode)\n",
      "        1    0.000    0.000    0.000    0.000 error.py:100(__init__)\n",
      "        1    0.000    0.000    0.000    0.000 error.py:26(__init__)\n",
      "        1    0.000    0.000    0.000    0.000 hmac.py:111(_current)\n",
      "        1    0.000    0.000    0.000    0.000 hmac.py:130(hexdigest)\n",
      "        4    0.000    0.000    0.000    0.000 hmac.py:94(update)\n",
      "        1    0.000    0.000    0.000    0.000 hmac.py:98(copy)\n",
      "        4    0.000    0.000    0.000    0.000 iostream.py:197(schedule)\n",
      "        2    0.000    0.000    0.001    0.001 iostream.py:337(flush)\n",
      "        4    0.000    0.000    0.000    0.000 iostream.py:93(_event_pipe)\n",
      "        4    0.000    0.000    0.000    0.000 jsonapi.py:31(dumps)\n",
      "      3/1    0.000    0.000    0.000    0.000 jsonutil.py:109(json_clean)\n",
      "        2    0.000    0.000    0.000    0.000 jsonutil.py:31(_ensure_tzinfo)\n",
      "        2    0.000    0.000    0.000    0.000 jsonutil.py:84(date_default)\n",
      "        1    0.000    0.000 8367.600 8367.600 kernelbase.py:849(raw_input)\n",
      "        1    7.573    7.573 8367.600 8367.600 kernelbase.py:866(_input_request)\n",
      "   424596 8356.010    0.020 8356.382    0.020 poll.py:106(select)\n",
      "        1    0.000    0.000    0.000    0.000 py3compat.py:188(iteritems)\n",
      "        1    0.000    0.000    0.000    0.000 py3compat.py:19(encode)\n",
      "        1    0.000    0.000    0.001    0.001 session.py:148(utcnow)\n",
      "        1    0.000    0.000    0.001    0.001 session.py:217(msg_header)\n",
      "        1    0.000    0.000    0.000    0.000 session.py:223(extract_header)\n",
      "        1    0.000    0.000    0.000    0.000 session.py:511(msg_id)\n",
      "        1    0.000    0.000    0.001    0.001 session.py:564(msg_header)\n",
      "        1    0.000    0.000    0.001    0.001 session.py:567(msg)\n",
      "        1    0.000    0.000    0.000    0.000 session.py:586(sign)\n",
      "        1    0.000    0.000    0.000    0.000 session.py:601(serialize)\n",
      "        1    0.000    0.000    0.001    0.001 session.py:660(send)\n",
      "        1    0.000    0.000    0.000    0.000 session.py:742(<listcomp>)\n",
      "        4    0.000    0.000    0.000    0.000 session.py:81(<lambda>)\n",
      "       11    0.000    0.000    0.000    0.000 socket.py:357(send)\n",
      "        1    0.000    0.000    0.000    0.000 socket.py:418(send_multipart)\n",
      "        1    0.000    0.000    0.000    0.000 socket.py:465(recv_multipart)\n",
      "        6    0.000    0.000    0.000    0.000 threading.py:1017(_wait_for_tstate_lock)\n",
      "        6    0.000    0.000    0.000    0.000 threading.py:1071(is_alive)\n",
      "        2    0.000    0.000    0.000    0.000 threading.py:222(__init__)\n",
      "        2    0.000    0.000    0.000    0.000 threading.py:246(__enter__)\n",
      "        2    0.000    0.000    0.000    0.000 threading.py:249(__exit__)\n",
      "        2    0.000    0.000    0.000    0.000 threading.py:255(_release_save)\n",
      "        2    0.000    0.000    0.000    0.000 threading.py:258(_acquire_restore)\n",
      "        2    0.000    0.000    0.000    0.000 threading.py:261(_is_owned)\n",
      "        2    0.000    0.000    0.001    0.000 threading.py:270(wait)\n",
      "        2    0.000    0.000    0.000    0.000 threading.py:505(__init__)\n",
      "        6    0.000    0.000    0.000    0.000 threading.py:513(is_set)\n",
      "        2    0.000    0.000    0.001    0.000 threading.py:540(wait)\n",
      "   849213    1.515    0.000    1.515    0.000 traitlets.py:533(get)\n",
      "   849213    2.129    0.000    3.644    0.000 traitlets.py:564(__get__)\n",
      "        1    0.000    0.000    0.000    0.000 {built-in method __new__ of type object at 0x00007FFF31A0B810}\n",
      "        4    0.000    0.000    0.000    0.000 {built-in method _abc._abc_instancecheck}\n",
      "        1    0.000    0.000    0.000    0.000 {built-in method _codecs.charmap_encode}\n",
      "        2    0.000    0.000    0.000    0.000 {built-in method _imp.lock_held}\n",
      "        4    0.000    0.000    0.000    0.000 {built-in method _thread.allocate_lock}\n",
      "        1    0.000    0.000 8367.601 8367.601 {built-in method builtins.exec}\n",
      "        5    0.000    0.000    0.000    0.000 {built-in method builtins.hasattr}\n",
      "       43    0.000    0.000    0.000    0.000 {built-in method builtins.isinstance}\n",
      "        1    0.000    0.000    0.000    0.000 {built-in method builtins.iter}\n",
      "        9    0.000    0.000    0.000    0.000 {built-in method builtins.len}\n",
      "        1    0.000    0.000    0.000    0.000 {built-in method builtins.locals}\n",
      "        1    0.000    0.000    0.000    0.000 {built-in method builtins.max}\n",
      "        1    0.000    0.000    0.000    0.000 {built-in method nt.getpid}\n",
      "        1    0.001    0.001    0.001    0.001 {built-in method utcnow}\n",
      "        2    0.000    0.000    0.000    0.000 {method '__enter__' of '_thread.lock' objects}\n",
      "        2    0.000    0.000    0.000    0.000 {method '__exit__' of '_thread.lock' objects}\n",
      "       14    0.001    0.000    0.001    0.000 {method 'acquire' of '_thread.lock' objects}\n",
      "        6    0.000    0.000    0.000    0.000 {method 'append' of 'collections.deque' objects}\n",
      "   424598    0.372    0.000    0.372    0.000 {method 'append' of 'list' objects}\n",
      "        3    0.000    0.000    0.000    0.000 {method 'copy' of '_hashlib.HASH' objects}\n",
      "        1    0.000    0.000    0.000    0.000 {method 'copy' of 'dict' objects}\n",
      "        1    0.000    0.000    0.000    0.000 {method 'digest' of '_hashlib.HASH' objects}\n",
      "        1    0.000    0.000    0.000    0.000 {method 'disable' of '_lsprof.Profiler' objects}\n",
      "        5    0.000    0.000    0.000    0.000 {method 'encode' of 'str' objects}\n",
      "        3    0.000    0.000    0.000    0.000 {method 'extend' of 'list' objects}\n",
      "        1    0.000    0.000    0.000    0.000 {method 'format' of 'str' objects}\n",
      "        1    0.000    0.000    0.000    0.000 {method 'get' of 'dict' objects}\n",
      "        1    0.000    0.000    0.000    0.000 {method 'hexdigest' of '_hashlib.HASH' objects}\n",
      "        2    0.000    0.000    0.000    0.000 {method 'isoformat' of 'datetime.datetime' objects}\n",
      "        1    0.000    0.000    0.000    0.000 {method 'items' of 'dict' objects}\n",
      "        4    0.000    0.000    0.000    0.000 {method 'join' of 'str' objects}\n",
      "        2    0.000    0.000    0.000    0.000 {method 'release' of '_thread.lock' objects}\n",
      "        1    0.000    0.000    0.000    0.000 {method 'replace' of 'datetime.datetime' objects}\n",
      "        2    0.000    0.000    0.000    0.000 {method 'replace' of 'str' objects}\n",
      "        5    0.000    0.000    0.000    0.000 {method 'update' of '_hashlib.HASH' objects}\n",
      "\n",
      "\n"
     ]
    },
    {
     "ename": "KeyboardInterrupt",
     "evalue": "Interrupted by user",
     "output_type": "error",
     "traceback": [
      "\u001b[1;31m---------------------------------------------------------------------------\u001b[0m",
      "\u001b[1;31mKeyboardInterrupt\u001b[0m                         Traceback (most recent call last)",
      "\u001b[1;32m<ipython-input-18-3fe976bc01c0>\u001b[0m in \u001b[0;36m<module>\u001b[1;34m\u001b[0m\n\u001b[1;32m----> 1\u001b[1;33m \u001b[0mcProfile\u001b[0m\u001b[1;33m.\u001b[0m\u001b[0mrun\u001b[0m\u001b[1;33m(\u001b[0m\u001b[1;34m'pop_up_algorithm()'\u001b[0m\u001b[1;33m)\u001b[0m\u001b[1;33m\u001b[0m\u001b[1;33m\u001b[0m\u001b[0m\n\u001b[0m",
      "\u001b[1;32m~\\anaconda3\\lib\\cProfile.py\u001b[0m in \u001b[0;36mrun\u001b[1;34m(statement, filename, sort)\u001b[0m\n\u001b[0;32m     14\u001b[0m \u001b[1;33m\u001b[0m\u001b[0m\n\u001b[0;32m     15\u001b[0m \u001b[1;32mdef\u001b[0m \u001b[0mrun\u001b[0m\u001b[1;33m(\u001b[0m\u001b[0mstatement\u001b[0m\u001b[1;33m,\u001b[0m \u001b[0mfilename\u001b[0m\u001b[1;33m=\u001b[0m\u001b[1;32mNone\u001b[0m\u001b[1;33m,\u001b[0m \u001b[0msort\u001b[0m\u001b[1;33m=\u001b[0m\u001b[1;33m-\u001b[0m\u001b[1;36m1\u001b[0m\u001b[1;33m)\u001b[0m\u001b[1;33m:\u001b[0m\u001b[1;33m\u001b[0m\u001b[1;33m\u001b[0m\u001b[0m\n\u001b[1;32m---> 16\u001b[1;33m     \u001b[1;32mreturn\u001b[0m \u001b[0m_pyprofile\u001b[0m\u001b[1;33m.\u001b[0m\u001b[0m_Utils\u001b[0m\u001b[1;33m(\u001b[0m\u001b[0mProfile\u001b[0m\u001b[1;33m)\u001b[0m\u001b[1;33m.\u001b[0m\u001b[0mrun\u001b[0m\u001b[1;33m(\u001b[0m\u001b[0mstatement\u001b[0m\u001b[1;33m,\u001b[0m \u001b[0mfilename\u001b[0m\u001b[1;33m,\u001b[0m \u001b[0msort\u001b[0m\u001b[1;33m)\u001b[0m\u001b[1;33m\u001b[0m\u001b[1;33m\u001b[0m\u001b[0m\n\u001b[0m\u001b[0;32m     17\u001b[0m \u001b[1;33m\u001b[0m\u001b[0m\n\u001b[0;32m     18\u001b[0m \u001b[1;32mdef\u001b[0m \u001b[0mrunctx\u001b[0m\u001b[1;33m(\u001b[0m\u001b[0mstatement\u001b[0m\u001b[1;33m,\u001b[0m \u001b[0mglobals\u001b[0m\u001b[1;33m,\u001b[0m \u001b[0mlocals\u001b[0m\u001b[1;33m,\u001b[0m \u001b[0mfilename\u001b[0m\u001b[1;33m=\u001b[0m\u001b[1;32mNone\u001b[0m\u001b[1;33m,\u001b[0m \u001b[0msort\u001b[0m\u001b[1;33m=\u001b[0m\u001b[1;33m-\u001b[0m\u001b[1;36m1\u001b[0m\u001b[1;33m)\u001b[0m\u001b[1;33m:\u001b[0m\u001b[1;33m\u001b[0m\u001b[1;33m\u001b[0m\u001b[0m\n",
      "\u001b[1;32m~\\anaconda3\\lib\\profile.py\u001b[0m in \u001b[0;36mrun\u001b[1;34m(self, statement, filename, sort)\u001b[0m\n\u001b[0;32m     51\u001b[0m         \u001b[0mprof\u001b[0m \u001b[1;33m=\u001b[0m \u001b[0mself\u001b[0m\u001b[1;33m.\u001b[0m\u001b[0mprofiler\u001b[0m\u001b[1;33m(\u001b[0m\u001b[1;33m)\u001b[0m\u001b[1;33m\u001b[0m\u001b[1;33m\u001b[0m\u001b[0m\n\u001b[0;32m     52\u001b[0m         \u001b[1;32mtry\u001b[0m\u001b[1;33m:\u001b[0m\u001b[1;33m\u001b[0m\u001b[1;33m\u001b[0m\u001b[0m\n\u001b[1;32m---> 53\u001b[1;33m             \u001b[0mprof\u001b[0m\u001b[1;33m.\u001b[0m\u001b[0mrun\u001b[0m\u001b[1;33m(\u001b[0m\u001b[0mstatement\u001b[0m\u001b[1;33m)\u001b[0m\u001b[1;33m\u001b[0m\u001b[1;33m\u001b[0m\u001b[0m\n\u001b[0m\u001b[0;32m     54\u001b[0m         \u001b[1;32mexcept\u001b[0m \u001b[0mSystemExit\u001b[0m\u001b[1;33m:\u001b[0m\u001b[1;33m\u001b[0m\u001b[1;33m\u001b[0m\u001b[0m\n\u001b[0;32m     55\u001b[0m             \u001b[1;32mpass\u001b[0m\u001b[1;33m\u001b[0m\u001b[1;33m\u001b[0m\u001b[0m\n",
      "\u001b[1;32m~\\anaconda3\\lib\\cProfile.py\u001b[0m in \u001b[0;36mrun\u001b[1;34m(self, cmd)\u001b[0m\n\u001b[0;32m     93\u001b[0m         \u001b[1;32mimport\u001b[0m \u001b[0m__main__\u001b[0m\u001b[1;33m\u001b[0m\u001b[1;33m\u001b[0m\u001b[0m\n\u001b[0;32m     94\u001b[0m         \u001b[0mdict\u001b[0m \u001b[1;33m=\u001b[0m \u001b[0m__main__\u001b[0m\u001b[1;33m.\u001b[0m\u001b[0m__dict__\u001b[0m\u001b[1;33m\u001b[0m\u001b[1;33m\u001b[0m\u001b[0m\n\u001b[1;32m---> 95\u001b[1;33m         \u001b[1;32mreturn\u001b[0m \u001b[0mself\u001b[0m\u001b[1;33m.\u001b[0m\u001b[0mrunctx\u001b[0m\u001b[1;33m(\u001b[0m\u001b[0mcmd\u001b[0m\u001b[1;33m,\u001b[0m \u001b[0mdict\u001b[0m\u001b[1;33m,\u001b[0m \u001b[0mdict\u001b[0m\u001b[1;33m)\u001b[0m\u001b[1;33m\u001b[0m\u001b[1;33m\u001b[0m\u001b[0m\n\u001b[0m\u001b[0;32m     96\u001b[0m \u001b[1;33m\u001b[0m\u001b[0m\n\u001b[0;32m     97\u001b[0m     \u001b[1;32mdef\u001b[0m \u001b[0mrunctx\u001b[0m\u001b[1;33m(\u001b[0m\u001b[0mself\u001b[0m\u001b[1;33m,\u001b[0m \u001b[0mcmd\u001b[0m\u001b[1;33m,\u001b[0m \u001b[0mglobals\u001b[0m\u001b[1;33m,\u001b[0m \u001b[0mlocals\u001b[0m\u001b[1;33m)\u001b[0m\u001b[1;33m:\u001b[0m\u001b[1;33m\u001b[0m\u001b[1;33m\u001b[0m\u001b[0m\n",
      "\u001b[1;32m~\\anaconda3\\lib\\cProfile.py\u001b[0m in \u001b[0;36mrunctx\u001b[1;34m(self, cmd, globals, locals)\u001b[0m\n\u001b[0;32m     98\u001b[0m         \u001b[0mself\u001b[0m\u001b[1;33m.\u001b[0m\u001b[0menable\u001b[0m\u001b[1;33m(\u001b[0m\u001b[1;33m)\u001b[0m\u001b[1;33m\u001b[0m\u001b[1;33m\u001b[0m\u001b[0m\n\u001b[0;32m     99\u001b[0m         \u001b[1;32mtry\u001b[0m\u001b[1;33m:\u001b[0m\u001b[1;33m\u001b[0m\u001b[1;33m\u001b[0m\u001b[0m\n\u001b[1;32m--> 100\u001b[1;33m             \u001b[0mexec\u001b[0m\u001b[1;33m(\u001b[0m\u001b[0mcmd\u001b[0m\u001b[1;33m,\u001b[0m \u001b[0mglobals\u001b[0m\u001b[1;33m,\u001b[0m \u001b[0mlocals\u001b[0m\u001b[1;33m)\u001b[0m\u001b[1;33m\u001b[0m\u001b[1;33m\u001b[0m\u001b[0m\n\u001b[0m\u001b[0;32m    101\u001b[0m         \u001b[1;32mfinally\u001b[0m\u001b[1;33m:\u001b[0m\u001b[1;33m\u001b[0m\u001b[1;33m\u001b[0m\u001b[0m\n\u001b[0;32m    102\u001b[0m             \u001b[0mself\u001b[0m\u001b[1;33m.\u001b[0m\u001b[0mdisable\u001b[0m\u001b[1;33m(\u001b[0m\u001b[1;33m)\u001b[0m\u001b[1;33m\u001b[0m\u001b[1;33m\u001b[0m\u001b[0m\n",
      "\u001b[1;32m<string>\u001b[0m in \u001b[0;36m<module>\u001b[1;34m\u001b[0m\n",
      "\u001b[1;32m<ipython-input-12-e08887cc43cf>\u001b[0m in \u001b[0;36mpop_up_algorithm\u001b[1;34m()\u001b[0m\n\u001b[0;32m      2\u001b[0m \u001b[1;33m\u001b[0m\u001b[0m\n\u001b[0;32m      3\u001b[0m \u001b[1;33m\u001b[0m\u001b[0m\n\u001b[1;32m----> 4\u001b[1;33m     \u001b[0mn\u001b[0m \u001b[1;33m=\u001b[0m \u001b[0mint\u001b[0m\u001b[1;33m(\u001b[0m\u001b[0minput\u001b[0m\u001b[1;33m(\u001b[0m\u001b[1;33m)\u001b[0m\u001b[1;33m)\u001b[0m   \u001b[1;31m#The number of Instructions\u001b[0m\u001b[1;33m\u001b[0m\u001b[1;33m\u001b[0m\u001b[0m\n\u001b[0m\u001b[0;32m      5\u001b[0m \u001b[1;33m\u001b[0m\u001b[0m\n\u001b[0;32m      6\u001b[0m \u001b[1;33m\u001b[0m\u001b[0m\n",
      "\u001b[1;32m~\\anaconda3\\lib\\site-packages\\ipykernel\\kernelbase.py\u001b[0m in \u001b[0;36mraw_input\u001b[1;34m(self, prompt)\u001b[0m\n\u001b[0;32m    858\u001b[0m                 \u001b[1;34m\"raw_input was called, but this frontend does not support input requests.\"\u001b[0m\u001b[1;33m\u001b[0m\u001b[1;33m\u001b[0m\u001b[0m\n\u001b[0;32m    859\u001b[0m             )\n\u001b[1;32m--> 860\u001b[1;33m         return self._input_request(str(prompt),\n\u001b[0m\u001b[0;32m    861\u001b[0m             \u001b[0mself\u001b[0m\u001b[1;33m.\u001b[0m\u001b[0m_parent_ident\u001b[0m\u001b[1;33m,\u001b[0m\u001b[1;33m\u001b[0m\u001b[1;33m\u001b[0m\u001b[0m\n\u001b[0;32m    862\u001b[0m             \u001b[0mself\u001b[0m\u001b[1;33m.\u001b[0m\u001b[0m_parent_header\u001b[0m\u001b[1;33m,\u001b[0m\u001b[1;33m\u001b[0m\u001b[1;33m\u001b[0m\u001b[0m\n",
      "\u001b[1;32m~\\anaconda3\\lib\\site-packages\\ipykernel\\kernelbase.py\u001b[0m in \u001b[0;36m_input_request\u001b[1;34m(self, prompt, ident, parent, password)\u001b[0m\n\u001b[0;32m    902\u001b[0m             \u001b[1;32mexcept\u001b[0m \u001b[0mKeyboardInterrupt\u001b[0m\u001b[1;33m:\u001b[0m\u001b[1;33m\u001b[0m\u001b[1;33m\u001b[0m\u001b[0m\n\u001b[0;32m    903\u001b[0m                 \u001b[1;31m# re-raise KeyboardInterrupt, to truncate traceback\u001b[0m\u001b[1;33m\u001b[0m\u001b[1;33m\u001b[0m\u001b[1;33m\u001b[0m\u001b[0m\n\u001b[1;32m--> 904\u001b[1;33m                 \u001b[1;32mraise\u001b[0m \u001b[0mKeyboardInterrupt\u001b[0m\u001b[1;33m(\u001b[0m\u001b[1;34m\"Interrupted by user\"\u001b[0m\u001b[1;33m)\u001b[0m \u001b[1;32mfrom\u001b[0m \u001b[1;32mNone\u001b[0m\u001b[1;33m\u001b[0m\u001b[1;33m\u001b[0m\u001b[0m\n\u001b[0m\u001b[0;32m    905\u001b[0m             \u001b[1;32mexcept\u001b[0m \u001b[0mException\u001b[0m \u001b[1;32mas\u001b[0m \u001b[0me\u001b[0m\u001b[1;33m:\u001b[0m\u001b[1;33m\u001b[0m\u001b[1;33m\u001b[0m\u001b[0m\n\u001b[0;32m    906\u001b[0m                 \u001b[0mself\u001b[0m\u001b[1;33m.\u001b[0m\u001b[0mlog\u001b[0m\u001b[1;33m.\u001b[0m\u001b[0mwarning\u001b[0m\u001b[1;33m(\u001b[0m\u001b[1;34m\"Invalid Message:\"\u001b[0m\u001b[1;33m,\u001b[0m \u001b[0mexc_info\u001b[0m\u001b[1;33m=\u001b[0m\u001b[1;32mTrue\u001b[0m\u001b[1;33m)\u001b[0m\u001b[1;33m\u001b[0m\u001b[1;33m\u001b[0m\u001b[0m\n",
      "\u001b[1;31mKeyboardInterrupt\u001b[0m: Interrupted by user"
     ]
    }
   ],
   "source": [
    "cProfile.run('pop_up_algorithm()')"
   ]
  },
  {
   "cell_type": "markdown",
   "metadata": {},
   "source": [
    "Time Complexity:\n",
    "\n",
    "For each instruction, it needs to check whether the input is 'L', 'R', or '?', which results in a complexity of O(1) for each instruction.\n",
    "The instruction '?' requires finding the index of the given number in the list of elements, which results in an additional complexity of O(1) to search through the dictionary positions.\n",
    "\n",
    "Space Complexity:\n",
    "is also O(N) because of number of elements which we use - N and it is multiplied by 2 because we also save indices but anyway it is O(N)\n",
    "\n",
    "furthurmore, we have n iterations based on the input that we get from the user So the overall complexity of this function is O(n) where n is number of lines which had been inserted in the first input line, because we used dictionary instead of lists and in that case time complexity is reduces because getting an element from dictionary is o(1)\n"
   ]
  }
 ],
 "metadata": {
  "kernelspec": {
   "display_name": "Python 3 (ipykernel)",
   "language": "python",
   "name": "python3"
  },
  "language_info": {
   "codemirror_mode": {
    "name": "ipython",
    "version": 3
   },
   "file_extension": ".py",
   "mimetype": "text/x-python",
   "name": "python",
   "nbconvert_exporter": "python",
   "pygments_lexer": "ipython3",
   "version": "3.9.12"
  }
 },
 "nbformat": 4,
 "nbformat_minor": 4
}
